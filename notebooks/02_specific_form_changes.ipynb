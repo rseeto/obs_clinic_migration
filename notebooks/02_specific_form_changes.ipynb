{
 "cells": [
  {
   "cell_type": "markdown",
   "metadata": {},
   "source": [
    "# Table of Contents\n",
    "- [Individual Sheet Modifications](#sheet)\n",
    "\t- [Inclusion/Exclusion Criteria](#inc-excl)\n",
    "\t\t- [Inclusion/Exclusion Criteria - Preprocessing](#inc-excl-pre)\n",
    "\t\t- [Inclusion/Exclusion Criteria - Processing](#inc-excl-pro)\n",
    "\t\t- [Inclusion/Exclusion Criteria - Post-processing](#inc-excl-post)\n",
    "\t\t- [Inclusion/Exclusion Criteria - Data Verification](#inc-excl-comp)\n",
    "\t\t- [Inclusion/Exclusion Criteria - Prepare and Save](#inc-excl-save)\n",
    "\t- [Baseline Assessment: Demographics](#base-dem)\n",
    "\t\t- [Baseline Assessment: Demographics - Preprocessing](#base-dem-pre)\n",
    "\t\t- [Baseline Assessment: Demographics - Processing](#base-dem-pro)\n",
    "\t\t- [Baseline Assessment: Demographics - Post-processing](#base-dem-post)\n",
    "\t\t- [Baseline Assessment: Demographics - Data Verification](#base-dem-comp)\n",
    "\t\t- [Baseline Assessment: Demographics - Prepare and Save](#base-dem-save)\n",
    "\t- [Baseline Assessment: Current Pregnancy](#base-curr)\n",
    "\t\t- [Baseline Assessment: Current Pregnancy - Preprocessing](#base-curr-pre)\n",
    "\t\t- [Baseline Assessment: Current Pregnancy - Processing](#base-curr-pro)\n",
    "\t\t- [Baseline Assessment: Current Pregnancy - Post-processing](#base-curr-post)\n",
    "\t\t- [Baseline Assessment: Current Pregnancy - Data Verification](#base-curr-comp)\n",
    "\t\t- [Baseline Assessment: Current Pregnancy - Prepare and Save](#base-curr-save)\n",
    "\t- [Baseline Assessment: Obstetrical History](#obhx)\n",
    "\t\t- [Baseline Assessment: Obstetrical History - Preprocessing](#obhx-pre)\n",
    "\t\t- [Baseline Assessment: Obstetrical History - Processing](#obhx-pro)\n",
    "\t\t- [Baseline Assessment: Obstetrical History - Post-processing](#obhx-post)\n",
    "\t\t- [Baseline Assessment: Obstetrical History - Data Verification](#obhx-comp)\n",
    "\t\t- [Baseline Assessment: Obstetrical History - Prepare and Save](#obhx-save)\n",
    "\t- [Baseline Assessment: Pre-existing Medical Conditions](#medhx)\n",
    "\t\t- [Baseline Assessment: Pre-existing Medical Conditions - Preprocessing](#medhx-pre)\n",
    "\t\t- [Baseline Assessment: Pre-existing Medical Conditions - Processing](#medhx-pro)\n",
    "\t\t- [Baseline Assessment: Pre-existing Medical Conditions - Post-processing](#medhx-post)\n",
    "\t\t- [Baseline Assessment: Pre-existing Medical Conditions - Data Verification](#medhx-comp)\n",
    "\t\t- [Baseline Assessment: Pre-existing Medical Conditions - Prepare and Save](#medhx-save)\n",
    "\t- [Baseline Assessment: Allergies](#base-all)\n",
    "\t\t- [Baseline Assessment: Allergies - Processing](#base-all-pro)\n",
    "\t\t- [Baseline Assessment: Allergies - Data Verification](#base-all-comp)\n",
    "\t\t- [Baseline Assessment: Allergies - Prepare and Save](#base-all-save)\n",
    "\t- [Baseline Assessment: Surgical History](#surhx)\n",
    "\t\t- [Baseline Assessment: Surgical History - Preprocessing](#surhx-pre)\n",
    "\t\t- [Baseline Assessment: Surgical History - Processing](#surhx-pro)\n",
    "\t\t- [Baseline Assessment: Surgical History - Post-processing](#surhx-post)\n",
    "\t\t- [Baseline Assessment: Surgical History - Data Verification](#surhx-comp)\n",
    "\t\t- [Baseline Assessment: Surgical History - Prepare and Save](#surhx-save)\n",
    "\t- [Baseline Assessment: Medications taken since the beginning of pregnancy](#rxhx-preg)\n",
    "\t\t- [Baseline Assessment: Medications taken since the beginning of pregnancy - Processing](#rxhx-preg-pro)\n",
    "\t\t- [Baseline Assessment: Medications taken since the beginning of pregnancy - Post-processing](#rxhx-preg-post)\n",
    "\t\t- [Baseline Assessment: Medications taken since the beginning of pregnancy - Data Verification](#rxhx-preg-comp)\n",
    "\t\t- [Baseline Assessment: Medications taken since the beginning of pregnancy - Prepare and Save](#rxhx-preg-save)\n",
    "\t- [Baseline Assessment: Supplements taken since the beginning of pregnancy (1)](#supp-ant)\n",
    "\t\t- [Baseline Assessment: Supplements taken since the beginning of pregnancy (1) - Preprocessing](#supp-ant-pre)\n",
    "\t\t- [Baseline Assessment: Supplements taken since the beginning of pregnancy (1) - Processing](#supp-ant-pro)\n",
    "\t\t- [Baseline Assessment: Supplements taken since the beginning of pregnancy (1) - Post-processing](#supp-ant-post)\n",
    "\t\t- [Baseline Assessment: Supplements taken since the beginning of pregnancy (1) - Data Verification](#supp-ant-comp)\n",
    "\t\t- [Baseline Assessment: Supplements taken since the beginning of pregnancy (1) - Prepare and Save](#supp-ant-save)\n",
    "\t- [Baseline Assessment: Supplements taken since the beginning of pregnancy (2)](#supp-ant-spec)\n",
    "\t\t- [Baseline Assessment: Supplements taken since the beginning of pregnancy (2) - Processing](#supp-ant-spec-pro)\n",
    "\t\t- [Baseline Assessment: Supplements taken since the beginning of pregnancy (2) - Data Verification](#supp-ant-spec-comp)\n",
    "\t\t- [Baseline Assessment: Supplements taken since the beginning of pregnancy (2) - Prepare and Save](#supp-ant-spec-save)\n",
    "\t- [Baseline Assessment: Supplements taken since the beginning of pregnancy (3)](#supp-ant-yn)\n",
    "\t\t- [Baseline Assessment: Supplements taken since the beginning of pregnancy (3) - Processing](#supp-ant-yn-pro)\n",
    "\t\t- [Baseline Assessment: Supplements taken since the beginning of pregnancy (3) - Post-processing](#supp-ant-yn-post)\n",
    "\t\t- [Baseline Assessment: Supplements taken since the beginning of pregnancy (3) - Data Verification](#supp-ant-yn-comp)\n",
    "\t\t- [Baseline Assessment: Supplements taken since the beginning of pregnancy (3) - Prepare and Save](#supp-ant-yn-save)\n",
    "\t- [Antenatal Visits: Visit Data](#ante-visit)\n",
    "\t\t- [Antenatal Visits: Visit Data - Preprocessing](#ante-visit-pre)\n",
    "\t\t- [Antenatal Visits: Visit Data - Processing](#ante-visit-pro)\n",
    "\t\t- [Antenatal Visits: Visit Data - Data Verification](#ante-visit-comp)\n",
    "\t\t- [Antenatal Visits: Visit Data - Prepare and Save](#ante-visit-save)\n",
    "\t- [Antenatal Visits: Antenatal Health Care Provider](#ante-hcp)\n",
    "\t\t- [Antenatal Visits: Antenatal Health Care Provider - Preprocessing](#ante-hcp-pre)\n",
    "\t\t- [Antenatal Visits: Antenatal Health Care Provider - Processing](#ante-hcp-pro)\n",
    "\t\t- [Antenatal Visits: Antenatal Health Care Provider - Data Verification](#ante-hcp-comp)\n",
    "\t\t- [Antenatal Visits: Antenatal Health Care Provider - Prepare and Save](#ante-hcp-save)\n",
    "\t- [Antenatal Visits: Conditions/Abnormalities Diagnosed During Pregnancy](#ante-cond)\n",
    "\t\t- [Antenatal Visits: Conditions/Abnormalities Diagnosed During Pregnancy - Preprocessing](#ante-cond-pre)\n",
    "\t\t- [Antenatal Visits: Conditions/Abnormalities Diagnosed During Pregnancy - Processing](#ante-cond-pro)\n",
    "\t\t- [Antenatal Visits: Conditions/Abnormalities Diagnosed During Pregnancy - Post-processing](#ante-cond-post)\n",
    "\t\t- [Antenatal Visits: Conditions/Abnormalities Diagnosed During Pregnancy - Data Verification](#ante-cond-comp)\n",
    "\t\t- [Antenatal Visits: Conditions/Abnormalities Diagnosed During Pregnancy - Prepare and Save](#ante-cond-save)\n",
    "\t- [Antenatal Visits: Surgical procedures performed during pregnancy](#ante-sur)\n",
    "\t\t- [Antenatal Visits: Surgical procedures performed during pregnancy - Preprocessing](#ante-sur-pre)\n",
    "\t\t- [Antenatal Visits: Surgical procedures performed during pregnancy - Processing](#ante-sur-pro)\n",
    "\t\t- [Antenatal Visits: Surgical procedures performed during pregnancy - Post-processing](#ante-sur-post)\n",
    "\t\t- [Antenatal Visits: Surgical procedures performed during pregnancy - Data Verification](#ante-sur-comp)\n",
    "\t\t- [Antenatal Visits: Surgical procedures performed during pregnancy - Prepare and Save](#ante-sur-save)\n",
    "\t- [Antenatal Visits: Medications](#ante-meds)\n",
    "\t\t- [Antenatal Visits: Medications - Preprocessing](#ante-meds-pre)\n",
    "\t\t- [Antenatal Visits: Medications - Processing](#ante-meds-pro)\n",
    "\t\t- [Antenatal Visits: Medications - Post-processing](#ante-meds-post)\n",
    "\t\t- [Antenatal Visits: Medications - Data Verification](#ante-meds-comp)\n",
    "\t\t- [Antenatal Visits: Medications - Prepare and Save](#ante-meds-save)\n",
    "\t- [Delivery Data: Antepartum (1)](#del-ant)\n",
    "\t\t- [Delivery Data: Antepartum (1) - Preprocessing](#del-ant-pre)\n",
    "\t\t- [Delivery Data: Antepartum (1) - Processing](#del-ant-pro)\n",
    "\t\t- [Delivery Data: Antepartum (1) - Post-processing](#del-ant-post)\n",
    "\t\t- [Delivery Data: Antepartum (1) - Data Verification](#del-ant-comp)\n",
    "\t\t- [Delivery Data: Antepartum (1) - Prepare and Save](#del-ant-save)\n",
    "\t- [Delivery Data: Antepartum (2)](#del-lnd-comp)\n",
    "\t\t- [Delivery Data: Antepartum (2) - Processing](#del-lnd-comp-pro)\n",
    "\t\t- [Delivery Data: Antepartum (2) - Post-processing](#del-lnd-comp-post)\n",
    "\t\t- [Delivery Data: Antepartum (2) - Data Verification](#del-lnd-comp-comp)\n",
    "\t\t- [Delivery Data: Antepartum (2) - Prepare and Save](#del-lnd-comp-save)\n",
    "\t- [Delivery Data: Antibiotics during Labour and Delivery](#abx-labr)\n",
    "\t\t- [Delivery Data: Antibiotics during Labour and Delivery - Preprocessing](#abx-labr-pre)\n",
    "\t\t- [Delivery Data: Antibiotics during Labour and Delivery - Processing](#abx-labr-pro)\n",
    "\t\t- [Delivery Data: Antibiotics during Labour and Delivery - Data Verification](#abx-labr-comp)\n",
    "\t\t- [Delivery Data: Antibiotics during Labour and Delivery - Prepare and Save](#abx-labr-save)\n",
    "\t- [Neonatal Form: Delivery Data](#ante-temp)\n",
    "\t\t- [Neonatal Form: Delivery Data - Preprocessing](#ante-temp-pre)\n",
    "\t\t- [Neonatal Form: Delivery Data - Processing](#ante-temp-pro)\n",
    "\t\t- [Neonatal Form: Delivery Data - Post-processing](#ante-temp-post)\n",
    "\t\t- [Neonatal Form: Delivery Data - Data Verification](#ante-temp-comp)\n",
    "\t\t- [Neonatal Form: Delivery Data - Prepare and Save](#ante-temp-save)\n",
    "\t- [Neonatal Form: Cord Blood](#neo-cbg)\n",
    "\t\t- [Neonatal Form: Cord Blood - Preprocessing](#neo-cbg-pre)\n",
    "\t\t- [Neonatal Form: Cord Blood - Processing](#neo-cbg-pro)\n",
    "\t\t- [Neonatal Form: Cord Blood - Post-processing](#neo-cbg-post)\n",
    "\t\t- [Neonatal Form: Cord Blood - Data Verification](#neo-cbg-comp)\n",
    "\t\t- [Neonatal Form: Cord Blood - Prepare and Save](#neo-cbg-save)\n",
    "\t- [Neonatal Form: Neonatal Resuscitation (1)](#neo-resus-lvl)\n",
    "\t\t- [Neonatal Form: Neonatal Resuscitation (1) - Preprocessing](#neo-resus-lvl-pre)\n",
    "\t\t- [Neonatal Form: Neonatal Resuscitation (1) - Processing](#neo-resus-lvl-pro)\n",
    "\t\t- [Neonatal Form: Neonatal Resuscitation (1) - Post-processing](#neo-resus-lvl-post)\n",
    "\t\t- [Neonatal Form: Neonatal Resuscitation (1) - Data Verification](#neo-resus-lvl-comp)\n",
    "\t\t- [Neonatal Form: Neonatal Resuscitation (1) - Prepare and Save](#neo-resus-lvl-save)\n",
    "\t- [Neonatal Form: Neonatal Resuscitation (2)](#neo-resus)\n",
    "\t\t- [Neonatal Form: Neonatal Resuscitation (2) - Processing](#neo-resus-pro)\n",
    "\t\t- [Neonatal Form: Neonatal Resuscitation (2) - Post-processing](#neo-resus-post)\n",
    "\t\t- [Neonatal Form: Neonatal Resuscitation (2) - Data Verification](#neo-resus-comp)\n",
    "\t\t- [Neonatal Form: Neonatal Resuscitation (2) - Prepare and Save](#neo-resus-save)\n",
    "\t- [Neonatal Form: Neonatal Resuscitation (3)](#neo-resp)\n",
    "\t\t- [Neonatal Form: Neonatal Resuscitation (3) - Processing](#neo-resp-pro)\n",
    "\t\t- [Neonatal Form: Neonatal Resuscitation (3) - Data Verification](#neo-resp-comp)\n",
    "\t\t- [Neonatal Form: Neonatal Resuscitation (3) - Prepare and Save](#neo-resp-save)\n",
    "\t- [Neonatal Form: Labwork](#neo-lab)\n",
    "\t\t- [Neonatal Form: Labwork - Preprocessing](#neo-lab-pre)\n",
    "\t\t- [Neonatal Form: Labwork - Processing](#neo-lab-pro)\n",
    "\t\t- [Neonatal Form: Labwork - Post-processing](#neo-lab-post)\n",
    "\t\t- [Neonatal Form: Labwork - Data Verification](#neo-lab-comp)\n",
    "\t\t- [Neonatal Form: Labwork - Prepare and Save](#neo-lab-save)\n",
    "\t- [Neonatal Form: Discharge Data](#neo-dc)\n",
    "\t\t- [Neonatal Form: Discharge Data - Preprocessing](#neo-dc-pre)\n",
    "\t\t- [Neonatal Form: Discharge Data - Processing](#neo-dc-pro)\n",
    "\t\t- [Neonatal Form: Discharge Data - Post-processing](#neo-dc-post)\n",
    "\t\t- [Neonatal Form: Discharge Data - Data Verification](#neo-dc-comp)\n",
    "\t\t- [Neonatal Form: Discharge Data - Prepare and Save](#neo-dc-save)\n",
    "\t- [Neonatal Form: Anomally dx](#anom-dx)\n",
    "\t\t- [Neonatal Form: Anomally dx - Processing](#anom-dx-pro)\n",
    "\t\t- [Neonatal Form: Anomally dx - Post-processing](#anom-dx-post)\n",
    "\t\t- [Neonatal Form: Anomally dx - Data Verification](#anom-dx-comp)\n",
    "\t\t- [Neonatal Form: Anomally dx - Prepare and Save](#anom-dx-save)\n",
    "\t- [Supplemental Delivery Data: Antepartum](#supp-del-ant)\n",
    "\t\t- [Supplemental Delivery Data: Antepartum - Processing](#supp-del-ant-pro)\n",
    "\t\t- [Supplemental Delivery Data: Antepartum - Post-processing](#supp-del-ant-post)\n",
    "\t\t- [Supplemental Delivery Data: Antepartum - Data Verification](#supp-del-ant-comp)\n",
    "\t\t- [Supplemental Delivery Data: Antepartum - Prepare and Save](#supp-del-ant-save)\n",
    "\t- [Supplemental Delivery Data: Labour and Delivery](#supp-del-lnd)\n",
    "\t\t- [Supplemental Delivery Data: Labour and Delivery - Preprocessing](#supp-del-lnd-pre)\n",
    "\t\t- [Supplemental Delivery Data: Labour and Delivery - Processing](#supp-del-lnd-pro)\n",
    "\t\t- [Supplemental Delivery Data: Labour and Delivery - Post-processing](#supp-del-lnd-post)\n",
    "\t\t- [Supplemental Delivery Data: Labour and Delivery - Data Verification](#supp-del-lnd-comp)\n",
    "\t\t- [Supplemental Delivery Data: Labour and Delivery - Prepare and Save](#supp-del-lnd-save)\n",
    "\t- [Withdrawal](#withdrawal)\n",
    "\t\t- [Withdrawal - Preprocessing](#withdrawal-pre)\n",
    "\t\t- [Withdrawal - Processing](#withdrawal-pro)\n",
    "\t\t- [Withdrawal - Post-processing](#withdrawal-post)\n",
    "\t\t- [Withdrawal - Data Verification](#withdrawal-comp)\n",
    "\t\t- [Withdrawal - Prepare and Save](#withdrawal-save)\n",
    "- [Overall check for missing columns](#all-col)"
   ]
  },
  {
   "cell_type": "code",
   "execution_count": 2,
   "metadata": {},
   "outputs": [],
   "source": [
    "import obs_data_sets\n",
    "import obs_clinic_migration_preprocessing\n",
    "import obs_clinic_migration\n",
    "import pandas as pd\n",
    "import numpy as np\n",
    "import re\n",
    "\n",
    "# there is a known issue https://github.com/pandas-dev/pandas/issues/9784\n",
    "# where long strings get truncated\n",
    "pd.set_option('display.max_colwidth', None)\n",
    "# modify how dataframe looks when printed\n",
    "pd.set_option('display.max_columns', 10)"
   ]
  },
  {
   "cell_type": "markdown",
   "metadata": {},
   "source": [
    "# Individual Sheet Modifications<a name=\"sheet\"></a>\n",
    "This notebook outlines the specific steps associated with modifying Rave data into a REDCap format. For a broad overview, see the notebook `01_data_migration_overview.ipynb`."
   ]
  },
  {
   "cell_type": "markdown",
   "metadata": {},
   "source": [
    "# Inclusion/Exclusion Criteria<a name=\"inc-excl\"></a>"
   ]
  },
  {
   "cell_type": "markdown",
   "metadata": {},
   "source": [
    "\n",
    "## Inclusion/Exclusion Criteria - Preprocessing<a name=\"inc-excl-pre\"></a>"
   ]
  },
  {
   "cell_type": "code",
   "execution_count": 3,
   "metadata": {},
   "outputs": [],
   "source": [
    "# format relevant columns\n",
    "obs_data_sets.rave_clinic.loc[:, 'INFORMED_CONSENT_DT'] = pd.to_datetime(\n",
    "    obs_data_sets.rave_clinic['INFORMED_CONSENT_DT']\n",
    ").dt.strftime('%Y-%m-%d')\n",
    "# Rave captured the previous OBS IDs in separate columns while REDCap caputures \n",
    "# them in a single column\n",
    "obs_data_sets.rave_clinic['PREV_OBS_ID_COMBINED'] = (\n",
    "    obs_data_sets.rave_clinic['PREV_OBS_ID_1'].astype(str)\n",
    "    + \", \" \n",
    "    + obs_data_sets.rave_clinic['PREV_OBS_ID_2'].astype(str)\n",
    ")\n",
    "obs_data_sets.rave_clinic['PREV_OBS_ID_COMBINED'].replace(\n",
    "    ', nan','', regex=True, inplace=True\n",
    ")\n",
    "obs_data_sets.rave_clinic['PREV_OBS_ID_COMBINED'].replace(\n",
    "    'nan, nan', 'nan', regex=True, inplace=True\n",
    ")"
   ]
  },
  {
   "cell_type": "markdown",
   "metadata": {},
   "source": [
    "## Inclusion/Exclusion Criteria - Processing<a name=\"inc-excl-pro\"></a>"
   ]
  },
  {
   "cell_type": "code",
   "execution_count": 4,
   "metadata": {},
   "outputs": [],
   "source": [
    "inc_excl_dict = {\n",
    "    'INFORMED_CONSENT_DT': 'main_icf_date', \n",
    "    'INC1': 'incl_main_ga', \n",
    "    'INC2': 'incl_main_eng', \n",
    "    'INC3' : 'incl_main_age', \n",
    "    'INC4':'incl_main_icf', \n",
    "    'INC5': 'incl_main_del', \n",
    "    'INC6' : 'incl_main_ante', \n",
    "    'EXC1': 'excl_main_nvf', \n",
    "    'EXC2': 'excl_main_noif',\n",
    "    'EX3': 'excl_main_abn',\n",
    "    'ENROL_OBS_PREV_PREG_NY': 'main_prev_obs_yn',\n",
    "    'PREV_OBS_ID_COMBINED': 'main_prev_obs_id'\n",
    " }\n",
    "inc_excl = obs_clinic_migration.RedcapConv(inc_excl_dict, 0)"
   ]
  },
  {
   "cell_type": "markdown",
   "metadata": {},
   "source": [
    "## Inclusion/Exclusion Criteria - Post-processing<a name=\"inc-excl-post\"></a>"
   ]
  },
  {
   "cell_type": "code",
   "execution_count": 5,
   "metadata": {},
   "outputs": [],
   "source": [
    "inc_excl.data['incl_excl_entry_type'] = 1\n",
    "inc_excl.data['subject_id_complete'] = 2"
   ]
  },
  {
   "cell_type": "markdown",
   "metadata": {},
   "source": [
    "## Inclusion/Exclusion Criteria - Data Verification<a name=\"inc-excl-comp\"></a>"
   ]
  },
  {
   "cell_type": "code",
   "execution_count": 6,
   "metadata": {},
   "outputs": [
    {
     "data": {
      "text/html": [
       "<div>\n",
       "<style scoped>\n",
       "    .dataframe tbody tr th:only-of-type {\n",
       "        vertical-align: middle;\n",
       "    }\n",
       "\n",
       "    .dataframe tbody tr th {\n",
       "        vertical-align: top;\n",
       "    }\n",
       "\n",
       "    .dataframe thead th {\n",
       "        text-align: right;\n",
       "    }\n",
       "</style>\n",
       "<table border=\"1\" class=\"dataframe\">\n",
       "  <thead>\n",
       "    <tr style=\"text-align: right;\">\n",
       "      <th></th>\n",
       "      <th>obs_id</th>\n",
       "      <th>subject_id_complete</th>\n",
       "      <th>incl_excl_entry_type</th>\n",
       "      <th>main_icf_date</th>\n",
       "      <th>incl_main_ga</th>\n",
       "      <th>...</th>\n",
       "      <th>excl_main_noif</th>\n",
       "      <th>excl_main_abn</th>\n",
       "      <th>main_prev_obs_yn</th>\n",
       "      <th>main_prev_obs_id</th>\n",
       "      <th>Source</th>\n",
       "    </tr>\n",
       "  </thead>\n",
       "  <tbody>\n",
       "  </tbody>\n",
       "</table>\n",
       "<p>0 rows × 16 columns</p>\n",
       "</div>"
      ],
      "text/plain": [
       "Empty DataFrame\n",
       "Columns: [obs_id, subject_id_complete, incl_excl_entry_type, main_icf_date, incl_main_ga, incl_main_eng, incl_main_age, incl_main_icf, incl_main_del, incl_main_ante, excl_main_nvf, excl_main_noif, excl_main_abn, main_prev_obs_yn, main_prev_obs_id, Source]\n",
       "Index: []\n",
       "\n",
       "[0 rows x 16 columns]"
      ]
     },
     "execution_count": 6,
     "metadata": {},
     "output_type": "execute_result"
    }
   ],
   "source": [
    "inc_excl.compare_conv_dde(obs_data_sets.redcap_clinic)"
   ]
  },
  {
   "cell_type": "markdown",
   "metadata": {},
   "source": [
    "## Inclusion/Exclusion Criteria - Prepare and Save<a name=\"inc-excl-save\"></a>"
   ]
  },
  {
   "cell_type": "code",
   "execution_count": 7,
   "metadata": {},
   "outputs": [],
   "source": [
    "inc_excl.prep_imp('baseline_arm_1', 'inclusion_exclusion_criteria_complete')\n",
    "inc_excl.data.to_csv('../data/processed/inc_excl.csv', index=False)"
   ]
  },
  {
   "cell_type": "markdown",
   "metadata": {},
   "source": [
    "# Baseline Assessment: Demographics<a name=\"base-dem\"></a>"
   ]
  },
  {
   "cell_type": "markdown",
   "metadata": {},
   "source": [
    "## Baseline Assessment: Demographics - Preprocessing<a name=\"base-dem-pre\"></a>"
   ]
  },
  {
   "cell_type": "code",
   "execution_count": 8,
   "metadata": {},
   "outputs": [],
   "source": [
    "# format relevant columns\n",
    "obs_data_sets.rave_clinic.loc[:, 'BASE_ASSESS_DT'] = pd.to_datetime(\n",
    "    obs_data_sets.rave_clinic['BASE_ASSESS_DT']\n",
    ").dt.strftime('%Y-%m-%d')\n",
    "obs_data_sets.rave_clinic.loc[:, 'DOB'] = pd.to_datetime(\n",
    "    obs_data_sets.rave_clinic['DOB']\n",
    ").dt.strftime('%Y-%m-%d')\n",
    "# some columns don't have an associated 'STD' column and needed to be coded\n",
    "obs_data_sets.rave_clinic['HEIGHT_UNK'].replace(\n",
    "    {'0': 'Known', '1': 'Unknown'}, inplace=True\n",
    ")\n",
    "obs_data_sets.rave_clinic['PRE_PREG_WT_UNK'].replace(\n",
    "    {'0': 'Known', '1': 'Unknown'}, inplace=True\n",
    ")\n",
    "obs_data_sets.rave_clinic['PRE_PREGNANT_WT_STD_UN'].replace(\n",
    "    {'1': 'Metric', '2': 'Imperial'}, inplace=True\n",
    ")\n",
    "obs_data_sets.rave_clinic['HEIGHT_STD_UN'].replace(\n",
    "    {'1': 'Metric', '2': 'Imperial'}, inplace=True\n",
    ")"
   ]
  },
  {
   "cell_type": "markdown",
   "metadata": {},
   "source": [
    "## Baseline Assessment: Demographics - Processing<a name=\"base-dem-pro\"></a>"
   ]
  },
  {
   "cell_type": "code",
   "execution_count": 9,
   "metadata": {},
   "outputs": [],
   "source": [
    "base_dem_dict = {\n",
    "    'BASE_ASSESS_DT': 'base_assess_date', \n",
    "    'DOB': 'base_dem_dob', \n",
    "    'HEIGHT_UNK': 'base_dem_ht_unk',\n",
    "    'HEIGHT_STD_UN' : 'base_dem_ht_unit',\n",
    "    'HEIGHT_STD': 'base_dem_ht_met', \n",
    "    'PRE_PREG_WT_UNK' : 'base_dem_prepreg_wt_unk',\n",
    "    'PRE_PREGNANT_WT_STD_UN': 'base_dem_prepreg_wt_unit',\n",
    "    'PRE_PREGNANT_WT_STD': 'base_dem_prepreg_wt_met'\n",
    "}\n",
    "base_dem = obs_clinic_migration.RedcapConv(\n",
    "    base_dem_dict, 0, main_df=obs_data_sets.rave_clinic\n",
    ")"
   ]
  },
  {
   "cell_type": "markdown",
   "metadata": {},
   "source": [
    "## Baseline Assessment: Demographics - Post-processing<a name=\"base-dem-post\"></a>"
   ]
  },
  {
   "cell_type": "code",
   "execution_count": 10,
   "metadata": {},
   "outputs": [],
   "source": [
    "base_dem.remove_na()"
   ]
  },
  {
   "cell_type": "markdown",
   "metadata": {},
   "source": [
    "## Baseline Assessment: Demographics - Data Verification<a name=\"base-dem-comp\"></a>"
   ]
  },
  {
   "cell_type": "code",
   "execution_count": 11,
   "metadata": {},
   "outputs": [
    {
     "data": {
      "text/html": [
       "<div>\n",
       "<style scoped>\n",
       "    .dataframe tbody tr th:only-of-type {\n",
       "        vertical-align: middle;\n",
       "    }\n",
       "\n",
       "    .dataframe tbody tr th {\n",
       "        vertical-align: top;\n",
       "    }\n",
       "\n",
       "    .dataframe thead th {\n",
       "        text-align: right;\n",
       "    }\n",
       "</style>\n",
       "<table border=\"1\" class=\"dataframe\">\n",
       "  <thead>\n",
       "    <tr style=\"text-align: right;\">\n",
       "      <th></th>\n",
       "      <th>obs_id</th>\n",
       "      <th>base_assess_date</th>\n",
       "      <th>base_dem_dob</th>\n",
       "      <th>base_dem_ht_unk</th>\n",
       "      <th>base_dem_ht_unit</th>\n",
       "      <th>base_dem_ht_met</th>\n",
       "      <th>base_dem_prepreg_wt_unk</th>\n",
       "      <th>base_dem_prepreg_wt_unit</th>\n",
       "      <th>base_dem_prepreg_wt_met</th>\n",
       "      <th>Source</th>\n",
       "    </tr>\n",
       "  </thead>\n",
       "  <tbody>\n",
       "  </tbody>\n",
       "</table>\n",
       "</div>"
      ],
      "text/plain": [
       "Empty DataFrame\n",
       "Columns: [obs_id, base_assess_date, base_dem_dob, base_dem_ht_unk, base_dem_ht_unit, base_dem_ht_met, base_dem_prepreg_wt_unk, base_dem_prepreg_wt_unit, base_dem_prepreg_wt_met, Source]\n",
       "Index: []"
      ]
     },
     "execution_count": 11,
     "metadata": {},
     "output_type": "execute_result"
    }
   ],
   "source": [
    "base_dem.compare_conv_dde(obs_data_sets.redcap_clinic)"
   ]
  },
  {
   "cell_type": "markdown",
   "metadata": {},
   "source": [
    "## Baseline Assessment: Demographics - Prepare and Save<a name=\"base-dem-save\"></a>"
   ]
  },
  {
   "cell_type": "code",
   "execution_count": 12,
   "metadata": {},
   "outputs": [],
   "source": [
    "base_dem.prep_imp('baseline_assessmen_arm_1', 'baseline_assessment_complete')\n",
    "base_dem.data.to_csv('../data/processed/base_dem.csv', index=False)"
   ]
  },
  {
   "cell_type": "markdown",
   "metadata": {},
   "source": [
    "# Baseline Assessment: Current Pregnancy<a name=\"base-curr\"></a>"
   ]
  },
  {
   "cell_type": "markdown",
   "metadata": {},
   "source": [
    "## Baseline Assessment: Current Pregnancy - Preprocessing<a name=\"base-curr-pre\"></a>"
   ]
  },
  {
   "cell_type": "code",
   "execution_count": 13,
   "metadata": {},
   "outputs": [],
   "source": [
    "# format relevant columns\n",
    "obs_data_sets.rave_clinic.loc[:, 'FINAL_EDD_DT'] = pd.to_datetime(\n",
    "    obs_data_sets.rave_clinic['FINAL_EDD_DT']\n",
    ").dt.strftime('%Y-%m-%d')\n",
    "\n",
    "# create dummy columns from RAVE's 'EDD_DETERMINED' to match REDCap\n",
    "rave_edd_determined = pd.get_dummies(\n",
    "    obs_data_sets.rave_clinic['EDD_DETERMINED'], dummy_na=True\n",
    ")\n",
    "rave_edd_determined['Unknown combined'] = (\n",
    "    rave_edd_determined['Unknown'] + rave_edd_determined[np.nan]\n",
    ")\n",
    "# some columns don't have an associated 'STD' column and needed to be coded\n",
    "rave_edd_determined['Unknown combined'].replace(0, 'No', inplace=True)\n",
    "rave_edd_determined.replace({1: 'Yes', 0: np.nan}, inplace=True)\n",
    "obs_data_sets.rave_clinic = pd.concat(\n",
    "    [obs_data_sets.rave_clinic, rave_edd_determined], axis=1\n",
    ")\n",
    "# Rave data is missing an assisted unknown column; create new column based \n",
    "# on available info\n",
    "obs_data_sets.rave_clinic['ASSISTED_UNK'] = np.NaN\n",
    "obs_data_sets.rave_clinic.loc[\n",
    "    obs_data_sets.rave_clinic['MODEOFCONCEPTION'] == 'Assisted', 'ASSISTED_UNK'\n",
    "] = 'No'\n",
    "obs_data_sets.rave_clinic.loc[\n",
    "    (\n",
    "         (obs_data_sets.rave_clinic['MODEOFCONCEPTION'] == 'Assisted')\n",
    "          & (obs_data_sets.rave_clinic['INTRAUTERINE_INSEMN_NY'] == 'No')\n",
    "          & (obs_data_sets.rave_clinic[\n",
    "              'INTRAUTERIN_INSEMN_OVUL_INDUCTN_'\n",
    "              ] == 'No'\n",
    "            )\n",
    "          & (obs_data_sets.rave_clinic[\n",
    "              'OVULN_INDUCTN_NO_IVF_CLOMID_FSH_'\n",
    "              ] == 'No'\n",
    "            )\n",
    "          & (obs_data_sets.rave_clinic['INVITROFERTILIZATION'] == 'No')\n",
    "          & (obs_data_sets.rave_clinic['INTRACYTOPLASMICSPERM'] == 'No')\n",
    "          & (obs_data_sets.rave_clinic['DONORSPERM'] == 'No')\n",
    "          & (obs_data_sets.rave_clinic['DONOREGG'] == 'No')\n",
    "          & (obs_data_sets.rave_clinic['SURROGACY'] == 'No')\n",
    "     \n",
    "     ),\n",
    "    'ASSISTED_UNK'\n",
    "] = 'Yes'"
   ]
  },
  {
   "cell_type": "markdown",
   "metadata": {},
   "source": [
    "## Baseline Assessment: Current Pregnancy - Processing<a name=\"base-curr-pro\"></a>"
   ]
  },
  {
   "cell_type": "code",
   "execution_count": 14,
   "metadata": {},
   "outputs": [
    {
     "name": "stdout",
     "output_type": "stream",
     "text": [
      "Column 'base_curr_mode_conception', variable 'Unknown' has an issue.\n"
     ]
    }
   ],
   "source": [
    "base_curr_dict = {\n",
    "    'FOLICACID_PRIOR_PREG_NY': 'base_curr_folic_acid',\n",
    "    'MODEOFCONCEPTION': 'base_curr_mode_conception',\n",
    "    'INTRAUTERINE_INSEMN_NY': 'base_curr_iui_alone',\n",
    "    'INTRAUTERIN_INSEMN_OVUL_INDUCTN_': 'base_curr_iui_ovul_noivf',\n",
    "    'OVULN_INDUCTN_NO_IVF_CLOMID_FSH_': 'base_curr_ovul_ind_no_ivf',\n",
    "    'INVITROFERTILIZATION': 'base_curr_ivf',\n",
    "    'INTRACYTOPLASMICSPERM': 'base_curr_ivf_icsi',\n",
    "    'DONORSPERM': 'base_curr_donor_sperm',\n",
    "    'DONOREGG': 'base_curr_donor_egg',    \n",
    "    'SURROGACY': 'base_curr_surrogate',\n",
    "    'ASSISTED_UNK': 'base_curr_unk',\n",
    "    'Last menstrual period (LMP)': 'base_curr_edd_lmp',\n",
    "    '1st trimester ultrasound': 'base_curr_edd_1st_trim_us',\n",
    "    '2nd trimester ultrasound': 'base_curr_edd_2nd_trim_us',\n",
    "    'Assisted reproductive technology': 'base_curr_edd_reprod_tech',\n",
    "    'Obstetrical clinical estimate': 'base_curr_edd_ob_estim',\n",
    "    'Unknown combined': 'base_curr_edd_unk',\n",
    "    'FINAL_EDD_DT': 'base_curr_edd',\n",
    "    'LMP1_DT_DD': 'base_curr_lmp_day',\n",
    "    'LMP1_DT_MM': 'base_curr_lmp_month',\n",
    "    'LMP1_DT_YYYY': 'base_curr_lmp_year',\n",
    "    'GRAVIDA': 'base_curr_gravida',\n",
    "    'PARITY': 'base_curr_parity',   \n",
    "}\n",
    "base_curr = obs_clinic_migration.RedcapConv(\n",
    "    base_curr_dict, 0, main_df=obs_data_sets.rave_clinic\n",
    ")"
   ]
  },
  {
   "cell_type": "markdown",
   "metadata": {},
   "source": [
    "## Baseline Assessment: Current Pregnancy - Post-processing<a name=\"base-curr-post\"></a>"
   ]
  },
  {
   "cell_type": "code",
   "execution_count": 15,
   "metadata": {},
   "outputs": [
    {
     "name": "stdout",
     "output_type": "stream",
     "text": [
      "1    2115\n",
      "2     304\n",
      "Name: base_curr_mode_conception, dtype: int64\n"
     ]
    }
   ],
   "source": [
    "base_curr.change_str(\n",
    "    {\n",
    "        # no 'Unknown' option in REDCap\n",
    "        'base_curr_mode_conception': {'Unknown': np.NaN}\n",
    "    }\n",
    ")"
   ]
  },
  {
   "cell_type": "markdown",
   "metadata": {},
   "source": [
    "## Baseline Assessment: Current Pregnancy - Data Verification<a name=\"base-curr-comp\"></a>"
   ]
  },
  {
   "cell_type": "code",
   "execution_count": 16,
   "metadata": {},
   "outputs": [
    {
     "data": {
      "text/html": [
       "<div>\n",
       "<style scoped>\n",
       "    .dataframe tbody tr th:only-of-type {\n",
       "        vertical-align: middle;\n",
       "    }\n",
       "\n",
       "    .dataframe tbody tr th {\n",
       "        vertical-align: top;\n",
       "    }\n",
       "\n",
       "    .dataframe thead th {\n",
       "        text-align: right;\n",
       "    }\n",
       "</style>\n",
       "<table border=\"1\" class=\"dataframe\">\n",
       "  <thead>\n",
       "    <tr style=\"text-align: right;\">\n",
       "      <th></th>\n",
       "      <th>obs_id</th>\n",
       "      <th>base_curr_folic_acid</th>\n",
       "      <th>base_curr_mode_conception</th>\n",
       "      <th>base_curr_iui_alone</th>\n",
       "      <th>base_curr_iui_ovul_noivf</th>\n",
       "      <th>...</th>\n",
       "      <th>base_curr_lmp_month</th>\n",
       "      <th>base_curr_lmp_year</th>\n",
       "      <th>base_curr_gravida</th>\n",
       "      <th>base_curr_parity</th>\n",
       "      <th>Source</th>\n",
       "    </tr>\n",
       "  </thead>\n",
       "  <tbody>\n",
       "  </tbody>\n",
       "</table>\n",
       "<p>0 rows × 25 columns</p>\n",
       "</div>"
      ],
      "text/plain": [
       "Empty DataFrame\n",
       "Columns: [obs_id, base_curr_folic_acid, base_curr_mode_conception, base_curr_iui_alone, base_curr_iui_ovul_noivf, base_curr_ovul_ind_no_ivf, base_curr_ivf, base_curr_ivf_icsi, base_curr_donor_sperm, base_curr_donor_egg, base_curr_surrogate, base_curr_unk, base_curr_edd, base_curr_edd_lmp, base_curr_edd_1st_trim_us, base_curr_edd_2nd_trim_us, base_curr_edd_reprod_tech, base_curr_edd_ob_estim, base_curr_edd_unk, base_curr_lmp_day, base_curr_lmp_month, base_curr_lmp_year, base_curr_gravida, base_curr_parity, Source]\n",
       "Index: []\n",
       "\n",
       "[0 rows x 25 columns]"
      ]
     },
     "execution_count": 16,
     "metadata": {},
     "output_type": "execute_result"
    }
   ],
   "source": [
    "base_curr.compare_conv_dde(obs_data_sets.redcap_clinic)"
   ]
  },
  {
   "cell_type": "markdown",
   "metadata": {},
   "source": [
    "## Baseline Assessment: Current Pregnancy - Prepare and Save<a name=\"base-curr-save\"></a>"
   ]
  },
  {
   "cell_type": "code",
   "execution_count": 17,
   "metadata": {},
   "outputs": [],
   "source": [
    "base_curr.prep_imp('baseline_assessmen_arm_1', 'baseline_assessment_complete')\n",
    "base_curr.data.to_csv('../data/processed/base_cur.csv', index=False)"
   ]
  },
  {
   "cell_type": "markdown",
   "metadata": {},
   "source": [
    "# Baseline Assessment: Obstetrical History<a name=\"obhx\"></a>"
   ]
  },
  {
   "cell_type": "markdown",
   "metadata": {},
   "source": [
    "## Baseline Assessment: Obstetrical History - Preprocessing<a name=\"obhx-pre\"></a>"
   ]
  },
  {
   "cell_type": "code",
   "execution_count": 18,
   "metadata": {},
   "outputs": [],
   "source": [
    "for i in range(1, 13):\n",
    "    # some columns don't have an associated 'STD' column and needed to be coded \n",
    "    obs_data_sets.rave_clinic['WEIGHT_UNK1_' + str(i)].replace(\n",
    "        {'0': 'Known', '1': 'Unknown'}, inplace=True\n",
    "    )\n",
    "    \n",
    "    # in Rave, 'type of twin' is required even if answer 'Singleton' to fetus\n",
    "    obs_data_sets.rave_clinic.loc[\n",
    "        ((obs_data_sets.rave_clinic['FOETUSES_' + str(i)] != 'Twins')\n",
    "        & (obs_data_sets.rave_clinic['FOETUSES_' + str(i)].notna())), \n",
    "        'TYPEOFTWIN_' + str(i)\n",
    "    ] = np.NaN\n",
    "    \n",
    "    # Rave delivery date is in one column while REDCap has separate columns; \n",
    "    # split to corresponding columns\n",
    "    try:\n",
    "        obs_data_sets.rave_clinic[[\n",
    "            'DELIVERY_DT_DD_' + str(i), \n",
    "            'DELIVERY_DT_MM_' + str(i), \n",
    "            'DELIVERY_DT_YYYY_' + str(i)\n",
    "        ]] = obs_data_sets.rave_clinic['DELIVERY_DT_' + str(i)].str.split(\n",
    "            ' ', expand=True\n",
    "        )\n",
    "        obs_data_sets.rave_clinic['DELIVERY_DT_DD_' + str(i)].replace(\n",
    "            {'UN': 'Unknown'}, inplace=True\n",
    "        )\n",
    "        obs_data_sets.rave_clinic['DELIVERY_DT_MM_' + str(i)].replace(\n",
    "            {\n",
    "                'UNK': 'Unknown', \n",
    "                'JAN': 'January',\n",
    "                'FEB': 'February',\n",
    "                'MAR': 'March',\n",
    "                'APR': 'April',\n",
    "                'MAY': 'May',\n",
    "                'JUN': 'June',\n",
    "                'JUL': 'July',\n",
    "                'AUG': 'August',\n",
    "                'SEP': 'September',\n",
    "                'OCT': 'October',\n",
    "                'NOV': 'November',\n",
    "                'DEC': 'December'\n",
    "            }, inplace=True\n",
    "        )\n",
    "    except:\n",
    "        obs_data_sets.rave_clinic['DELIVERY_DT_DD_' + str(i)] = np.NaN\n",
    "        obs_data_sets.rave_clinic['DELIVERY_DT_MM_' + str(i)] = np.NaN\n",
    "        obs_data_sets.rave_clinic['DELIVERY_DT_YYYY_' + str(i)] = np.NaN\n",
    "    \n",
    "    # REDCap did not have a 'Not available' option, instead entered 1900 as \n",
    "    # the year; need to create 'Not available' columns accordingly\n",
    "    obs_data_sets.rave_clinic.loc[\n",
    "        obs_data_sets.rave_clinic['DELIVERY_DT_YYYY_' + str(i)] == '1900',\n",
    "        'DELIVERY_DT_YYYY_' + str(i)\n",
    "    ] = '99'\n",
    "    # remove leading zeros from day number\n",
    "    obs_data_sets.rave_clinic['DELIVERY_DT_DD_' + str(i)] = (\n",
    "        obs_data_sets.rave_clinic['DELIVERY_DT_DD_' + str(i)].str.lstrip('0')\n",
    "    )\n",
    "    obs_data_sets.rave_clinic['GESTATION_AGE_WKS_99_' + str(i)] = 'nan'\n",
    "    obs_data_sets.rave_clinic.loc[\n",
    "        obs_data_sets.rave_clinic['GESTATION_AGE_WKS_' + str(i)] == '99',\n",
    "        'GESTATION_AGE_WKS_99_' + str(i)\n",
    "    ] = 'Unknown'\n",
    "    obs_data_sets.rave_clinic.loc[\n",
    "        (\n",
    "            (obs_data_sets.rave_clinic['GESTATION_AGE_WKS_' + str(i)] != '99')\n",
    "            & (~obs_data_sets.rave_clinic[\n",
    "                'GESTATION_AGE_WKS_' + str(i)\n",
    "                ].isna()\n",
    "            )\n",
    "        ),\n",
    "        'GESTATION_AGE_WKS_99_' + str(i)\n",
    "    ] = 'Known'\n",
    "    obs_data_sets.rave_clinic.loc[\n",
    "        obs_data_sets.rave_clinic['GESTATION_AGE_WKS_' + str(i)] == '99',\n",
    "        'GESTATION_AGE_WKS_' + str(i)\n",
    "    ] = 'nan'\n",
    "\n",
    "    # RAVE representation is a checkbox where checked (1) is associated with \n",
    "    # 'Unknown' and unchecked (0) represents 'Known'\n",
    "    obs_data_sets.rave_clinic['WEIGHT_UNK1_' + str(i)].replace(\n",
    "        {'1': 'Unknown', '0': 'Known'}, inplace=True\n",
    "    )\n",
    "    \n",
    "    # Rave fetal chromosome abnormalities does not have a yes/no question\n",
    "    # create column based on available info\n",
    "    obs_data_sets.rave_clinic.loc[\n",
    "        obs_data_sets.rave_clinic['FETAL_CHROM_ABNORM_' + str(i)] == 'None', \n",
    "        'FETAL_CHROM_ABNORM_yn_' + str(i)\n",
    "    ] = 'No'\n",
    "    obs_data_sets.rave_clinic.loc[\n",
    "        (\n",
    "            (\n",
    "                obs_data_sets.rave_clinic[\n",
    "                    'FETAL_CHROM_ABNORM_' + str(i)\n",
    "                ] == 'Trisomy 13'\n",
    "            )\n",
    "            | (\n",
    "                obs_data_sets.rave_clinic[\n",
    "                    'FETAL_CHROM_ABNORM_' + str(i)\n",
    "                ] == 'Trisomy 18'\n",
    "            )\n",
    "            | (\n",
    "                obs_data_sets.rave_clinic[\n",
    "                    'FETAL_CHROM_ABNORM_' + str(i)\n",
    "                ] == 'Trisomy 21'\n",
    "            )\n",
    "            | (\n",
    "                obs_data_sets.rave_clinic[\n",
    "                    'FETAL_CHROM_ABNORM_' + str(i)\n",
    "                ] == 'Other'\n",
    "            )\n",
    "        ), 'FETAL_CHROM_ABNORM_yn_' + str(i)\n",
    "    ] = 'Yes'\n",
    "    \n",
    "    # 'None' is not an accepted answer in REDCap dictionary\n",
    "    obs_data_sets.rave_clinic.loc[\n",
    "        obs_data_sets.rave_clinic['FETAL_CHROM_ABNORM_' + str(i)] == 'None', \n",
    "        'FETAL_CHROM_ABNORM_' + str(i)\n",
    "    ] = np.NaN\n",
    "     \n",
    "    # if no answer is given for 'Complications, Other (i.e. Yes, No)', \n",
    "    # Rave still allows data to be entered into 'Other (speicfy)'\n",
    "    obs_data_sets.rave_clinic.loc[\n",
    "        (\n",
    "           (obs_data_sets.rave_clinic['SPECIFY_OTHER_' + str(i)].notna())\n",
    "        ), 'OTHER_COMPLICATION_NY_' + str(i)\n",
    "    ] = 'Yes'\n",
    "    obs_data_sets.rave_clinic.loc[\n",
    "        (\n",
    "            (\n",
    "                obs_data_sets.rave_clinic[\n",
    "                   'GESTATIONAL_HYPERTENSION_NY_' + str(i)\n",
    "                ] == 'Yes'\n",
    "            )\n",
    "            | (\n",
    "                obs_data_sets.rave_clinic[\n",
    "                    'PREECLAMPSIA_NY_' + str(i)\n",
    "                ] == 'Yes'\n",
    "            )\n",
    "            | (\n",
    "                obs_data_sets.rave_clinic[\n",
    "                    'HELLPSYNDROME_NY_' + str(i)\n",
    "                ] == 'Yes'\n",
    "            )\n",
    "            | (\n",
    "                obs_data_sets.rave_clinic[\n",
    "                    'IUGR_NY_' + str(i)\n",
    "                ] == 'Yes'\n",
    "            )\n",
    "            | (\n",
    "                obs_data_sets.rave_clinic[\n",
    "                    'PRETERMLABOUR_NY_' + str(i)\n",
    "                ] == 'Yes'\n",
    "            )\n",
    "            | (\n",
    "                obs_data_sets.rave_clinic[\n",
    "                    'GESTATN_DIABETES_NY_' + str(i)\n",
    "                ] == 'Yes'\n",
    "            )\n",
    "            | (\n",
    "                obs_data_sets.rave_clinic[\n",
    "                    'CHOLESTASIS_NY_' + str(i)\n",
    "                ] == 'Yes'\n",
    "            )\n",
    "            | (\n",
    "                obs_data_sets.rave_clinic[\n",
    "                    'PLACENTA_PREVIA_NY_' + str(i)\n",
    "                    ] == 'Yes'\n",
    "            )\n",
    "            | (\n",
    "                obs_data_sets.rave_clinic[\n",
    "                    'PLACENTAL_ABRUPTION_NY_' + str(i)\n",
    "                ] == 'Yes'\n",
    "            )\n",
    "            | (\n",
    "                obs_data_sets.rave_clinic[\n",
    "                    'FETAL_CONGENITAL_ANOM_NY_' + str(i)\n",
    "                ] == 'Yes'\n",
    "            )\n",
    "            | (\n",
    "                obs_data_sets.rave_clinic[\n",
    "                    'FETAL_CHROM_ABNORM_yn_' + str(i)\n",
    "                ] == 'Yes'\n",
    "            )\n",
    "            | (\n",
    "                obs_data_sets.rave_clinic[\n",
    "                    'OTHER_COMPLICATION_NY_' + str(i)\n",
    "                ] == 'Yes'\n",
    "            )\n",
    "        ),\n",
    "        'COMPLICATIONS_NY_' + str(i)\n",
    "    ] = 'Yes'\n",
    "    \n",
    "    # REDCap data does not force a yes/no answer if answered no to \n",
    "    # complications; reformat to remove unnecessary column values\n",
    "    for complication in [\n",
    "        'GESTATIONAL_HYPERTENSION_NY_', 'PREECLAMPSIA_NY_', \n",
    "        'HELLPSYNDROME_NY_', 'IUGR_NY_', 'PRETERMLABOUR_NY_',\n",
    "        'GESTATN_DIABETES_NY_', 'CHOLESTASIS_NY_', 'PLACENTA_PREVIA_NY_',\n",
    "        'PLACENTAL_ABRUPTION_NY_', 'FETAL_CONGENITAL_ANOM_NY_',\n",
    "        'SPECIFY_FETAL_COGEN_ANOMAL_', 'FETAL_CHROM_ABNORM_yn_', \n",
    "        'OTHER_COMPLICATION_NY_'\n",
    "    ]:\n",
    "        obs_data_sets.rave_clinic.loc[\n",
    "            obs_data_sets.rave_clinic['COMPLICATIONS_NY_' + str(i)] == 'No', \n",
    "            complication + str(i)\n",
    "        ] = np.NaN\n",
    "     \n",
    "    # 'Specify fetal congential anomaly' had a answer; however \n",
    "    # 'fetal congential anomaly' was empty\n",
    "    obs_data_sets.rave_clinic.loc[\n",
    "        obs_data_sets.rave_clinic[\n",
    "            'SPECIFY_FETAL_COGEN_ANOMAL_' + str(i)\n",
    "        ].notna(), 'FETAL_CONGENITAL_ANOM_NY_' + str(i)\n",
    "    ] = 'Yes'"
   ]
  },
  {
   "cell_type": "markdown",
   "metadata": {},
   "source": [
    "## Baseline Assessment: Obstetrical History - Processing<a name=\"obhx-pro\"></a>"
   ]
  },
  {
   "cell_type": "code",
   "execution_count": 19,
   "metadata": {},
   "outputs": [
    {
     "name": "stdout",
     "output_type": "stream",
     "text": [
      "Column 'obhx_fetusnum', variable 'Singleton' has an issue.\n",
      "Column 'obhx_fetusnum', variable 'Twins' has an issue.\n",
      "Column 'obhx_fetusnum', variable 'Triplets' has an issue.\n",
      "Column 'obhx_pregoutcome', variable 'Miscarriage (< 13 weeks)' has an issue.\n",
      "Column 'obhx_pregoutcome', variable 'Miscarriage GA unknown' has an issue.\n",
      "Column 'obhx_pregoutcome', variable 'Still-birth (>= 20 weeks)' has an issue.\n"
     ]
    }
   ],
   "source": [
    "obhx_dict = {\n",
    "    'PREGNANCY_STD_': 'obhx_preg_num',\n",
    "    'BABYNUM_': 'obhx_babynum',\n",
    "    'FOETUSES_': 'obhx_fetusnum',\n",
    "    'TYPEOFTWIN_' : 'obhx_typeoftwin',\n",
    "    'PREGOUTCOME_': 'obhx_pregoutcome',\n",
    "    'DELIVERY_DT_DD_': 'obhx_del_day',\n",
    "    'DELIVERY_DT_MM_': 'obhx_del_month',\n",
    "    'DELIVERY_DT_YYYY_' : 'obhx_del_year',\n",
    "    'CHILDCURRENTLYALIVE_': 'obhx_alive',\n",
    "    'SEX_': 'obhx_sex',\n",
    "    'GESTATION_AGE_WKS_99_':'obhx_ga_wk_status',\n",
    "    'GESTATION_AGE_WKS_':'obhx_ga_wk',\n",
    "    'WEIGHT_UNK1_': 'obhx_brthwt_unk',\n",
    "    'GEST_WT_': 'obhx_brth_wt',\n",
    "    'GEST_WT_UN_': 'obhx_brth_wt_unit',\n",
    "    'TYPE_OF_DELIVERY_': 'obhx_delivery_type',\n",
    "    'COMPLICATIONS_NY_': 'obhx_comp_yn',\n",
    "    'GESTATIONAL_HYPERTENSION_NY_':'obhx_htn',\n",
    "    'PREECLAMPSIA_NY_': 'obhx_preeclampsia',\n",
    "    'HELLPSYNDROME_NY_': 'obhx_hellp',\n",
    "    'IUGR_NY_': 'obhx_iugr',\n",
    "    'PRETERMLABOUR_NY_': 'obhx_preterm_labour',\n",
    "    'GESTATN_DIABETES_NY_':'obhx_gdm',\n",
    "    'CHOLESTASIS_NY_': 'obhx_cholestasis',\n",
    "    'PLACENTA_PREVIA_NY_': 'obhx_previa',\n",
    "    'PLACENTAL_ABRUPTION_NY_': 'obhx_plac_abrupt',\n",
    "    'FETAL_CONGENITAL_ANOM_NY_': 'obhx_fet_anom',\n",
    "    'SPECIFY_FETAL_COGEN_ANOMAL_': 'obhx_fet_anom_spec',\n",
    "    'FETAL_CHROM_ABNORM_yn_': 'obhx_fet_chromo_abn',\n",
    "    'FETAL_CHROM_ABNORM_': 'obhx_fet_chromo_abn_spec',\n",
    "    'SPECIFY_FETAL_CHROM_ABN_': 'obhx_fet_chromo_oth_spec',\n",
    "    'OTHER_COMPLICATION_NY_': 'obhx_comp_oth',\n",
    "    'SPECIFY_OTHER_': 'obhx_comp_oth_spec'      \n",
    "}\n",
    "\n",
    "obhx = obs_clinic_migration.RedcapConv(\n",
    "    obhx_dict, 12, obs_data_sets.rave_clinic\n",
    ")"
   ]
  },
  {
   "cell_type": "markdown",
   "metadata": {},
   "source": [
    "## Baseline Assessment: Obstetrical History - Post-processing<a name=\"obhx-post\"></a>"
   ]
  },
  {
   "cell_type": "code",
   "execution_count": 20,
   "metadata": {},
   "outputs": [
    {
     "name": "stdout",
     "output_type": "stream",
     "text": [
      "1    1524\n",
      "5    1200\n",
      "2      51\n",
      "3       7\n",
      "Name: obhx_fetusnum, dtype: int64\n",
      "1    1349\n",
      "3     774\n",
      "6     360\n",
      "5      98\n",
      "4      57\n",
      "8      49\n",
      "2      44\n",
      "7      41\n",
      "9      10\n",
      "Name: obhx_pregoutcome, dtype: int64\n"
     ]
    }
   ],
   "source": [
    "obhx.change_str(\n",
    "    {\n",
    "        'obhx_fetusnum': {\n",
    "            'Singleton': 'Singleton (1)',\n",
    "             'Twins': 'Twins (2)',\n",
    "             'Triplets': 'Triplets (3)'\n",
    "         },\n",
    "        'obhx_pregoutcome':{\n",
    "            'Miscarriage (< 13 weeks)': 'Miscarriage (<13 weeks)',\n",
    "            'Miscarriage GA unknown': 'Miscarriage (GA unknown)',\n",
    "            'Still-birth (>= 20 weeks)': 'Stillbirth (≥20 weeks)'\n",
    "        }\n",
    "    }\n",
    ")\n",
    "obhx.remove_na()"
   ]
  },
  {
   "cell_type": "markdown",
   "metadata": {},
   "source": [
    "## Baseline Assessment: Obstetrical History - Data Verification<a name=\"obhx-comp\"></a>"
   ]
  },
  {
   "cell_type": "code",
   "execution_count": 21,
   "metadata": {},
   "outputs": [
    {
     "data": {
      "text/html": [
       "<div>\n",
       "<style scoped>\n",
       "    .dataframe tbody tr th:only-of-type {\n",
       "        vertical-align: middle;\n",
       "    }\n",
       "\n",
       "    .dataframe tbody tr th {\n",
       "        vertical-align: top;\n",
       "    }\n",
       "\n",
       "    .dataframe thead th {\n",
       "        text-align: right;\n",
       "    }\n",
       "</style>\n",
       "<table border=\"1\" class=\"dataframe\">\n",
       "  <thead>\n",
       "    <tr style=\"text-align: right;\">\n",
       "      <th></th>\n",
       "      <th>obs_id</th>\n",
       "      <th>redcap_repeat_instance</th>\n",
       "      <th>obhx_preg_num</th>\n",
       "      <th>obhx_babynum</th>\n",
       "      <th>obhx_fetusnum</th>\n",
       "      <th>...</th>\n",
       "      <th>obhx_fet_anom_spec</th>\n",
       "      <th>obhx_fet_chromo_abn_spec</th>\n",
       "      <th>obhx_fet_chromo_oth_spec</th>\n",
       "      <th>obhx_comp_oth_spec</th>\n",
       "      <th>Source</th>\n",
       "    </tr>\n",
       "  </thead>\n",
       "  <tbody>\n",
       "  </tbody>\n",
       "</table>\n",
       "<p>0 rows × 36 columns</p>\n",
       "</div>"
      ],
      "text/plain": [
       "Empty DataFrame\n",
       "Columns: [obs_id, redcap_repeat_instance, obhx_preg_num, obhx_babynum, obhx_fetusnum, obhx_typeoftwin, obhx_pregoutcome, obhx_del_day, obhx_del_month, obhx_del_year, obhx_alive, obhx_sex, obhx_ga_wk_status, obhx_ga_wk, obhx_brthwt_unk, obhx_brth_wt, obhx_brth_wt_unit, obhx_delivery_type, obhx_comp_yn, obhx_htn, obhx_preeclampsia, obhx_hellp, obhx_iugr, obhx_preterm_labour, obhx_gdm, obhx_cholestasis, obhx_previa, obhx_plac_abrupt, obhx_fet_anom, obhx_fet_chromo_abn, obhx_comp_oth, obhx_fet_anom_spec, obhx_fet_chromo_abn_spec, obhx_fet_chromo_oth_spec, obhx_comp_oth_spec, Source]\n",
       "Index: []\n",
       "\n",
       "[0 rows x 36 columns]"
      ]
     },
     "execution_count": 21,
     "metadata": {},
     "output_type": "execute_result"
    }
   ],
   "source": [
    "obhx.compare_conv_dde(obs_data_sets.redcap_clinic)"
   ]
  },
  {
   "cell_type": "markdown",
   "metadata": {},
   "source": [
    "## Baseline Assessment: Obstetrical History - Prepare and Save<a name=\"obhx-save\"></a>"
   ]
  },
  {
   "cell_type": "code",
   "execution_count": 22,
   "metadata": {},
   "outputs": [],
   "source": [
    "obhx.prep_imp(\n",
    "    'baseline_assessmen_arm_1', 'obstetrical_history_complete', \n",
    "    'obstetrical_history'\n",
    ")\n",
    "obhx.data.to_csv('../data/processed/obhx.csv', index=False)"
   ]
  },
  {
   "cell_type": "markdown",
   "metadata": {},
   "source": [
    "# Baseline Assessment: Pre-existing Medical Conditions<a name=\"medhx\"></a>"
   ]
  },
  {
   "cell_type": "markdown",
   "metadata": {},
   "source": [
    "## Baseline Assessment: Pre-existing Medical Conditions - Preprocessing<a name=\"medhx-pre\"></a>"
   ]
  },
  {
   "cell_type": "code",
   "execution_count": 23,
   "metadata": {},
   "outputs": [],
   "source": [
    "# one random '1901' year; assume it was supposed to be '1900'\n",
    "obs_data_sets.rave_clinic.loc[\n",
    "    obs_data_sets.rave_clinic['RESOLUTION_YR_YYYY_3'] == '1901',\n",
    "    'RESOLUTION_YR_YYYY_3'\n",
    "] = '1900'\n",
    "\n",
    "# create date 'unknown' columns in Rave\n",
    "obs_data_sets.rave_clinic = (\n",
    "    obs_clinic_migration_preprocessing.rave_date_unknown(\n",
    "        obs_data_sets.rave_clinic, 'MEDHX_NY_', 'Yes','ONSET_YR_', 11\n",
    "    )\n",
    ")\n",
    "obs_data_sets.rave_clinic = (\n",
    "    obs_clinic_migration_preprocessing.rave_date_unknown(\n",
    "        obs_data_sets.rave_clinic, 'CONTINUE_NY_', 'No','RESOLUTION_YR_', 11\n",
    "    )\n",
    ")"
   ]
  },
  {
   "cell_type": "markdown",
   "metadata": {},
   "source": [
    "## Baseline Assessment: Pre-existing Medical Conditions - Processing<a name=\"medhx-pro\"></a>"
   ]
  },
  {
   "cell_type": "code",
   "execution_count": 24,
   "metadata": {},
   "outputs": [
    {
     "name": "stdout",
     "output_type": "stream",
     "text": [
      "Column 'medhx_condn_type', variable 'Mental Health - Other' has an issue.\n",
      "Column 'medhx_condn_type', variable 'Diabetes:  Type Unknown' has an issue.\n",
      "Column 'medhx_condn_type', variable 'Diabetes: Diabetes Type II – No Insulin' has an issue.\n",
      "Column 'medhx_condn_type', variable 'Diabetes: Diabetes Type II – Insulin' has an issue.\n"
     ]
    }
   ],
   "source": [
    "medhx_dict = {\n",
    "    'MEDHX_NY_': 'medhx_yn',\n",
    "    'MEDHX_': 'medhx_condn_type',\n",
    "    'SPECIFY_MEDICAL_CONDN_': 'medhx_condn_spec',\n",
    "    'ONSET_YR_DD_': 'medhx_strt_day',\n",
    "    'ONSET_YR_MM_': 'medhx_strt_month',\n",
    "    'ONSET_YR_YYYY_': 'medhx_strt_year',\n",
    "    'CONTINUE_NY_': 'medhx_cont_yn',\n",
    "    'RESOLUTION_YR_DD_': 'medhx_stop_day',\n",
    "    'RESOLUTION_YR_MM_': 'medhx_stop_month',\n",
    "    'RESOLUTION_YR_YYYY_': 'medhx_stop_year',\n",
    "    'COMMENTS1_': 'medhx_comments',\n",
    "    'ONSET_YR_yn_date_': 'medhx_onset_date_yn',\n",
    "    'RESOLUTION_YR_yn_date_': 'medhx_stop_date_yn',         \n",
    "}\n",
    "medhx = obs_clinic_migration.RedcapConv(\n",
    "    medhx_dict, 11, main_df=obs_data_sets.rave_clinic\n",
    ")"
   ]
  },
  {
   "cell_type": "markdown",
   "metadata": {},
   "source": [
    "## Baseline Assessment: Pre-existing Medical Conditions - Post-processing<a name=\"medhx-post\"></a>"
   ]
  },
  {
   "cell_type": "code",
   "execution_count": 25,
   "metadata": {},
   "outputs": [
    {
     "name": "stdout",
     "output_type": "stream",
     "text": [
      "23    790\n",
      "15    348\n",
      "33    237\n",
      "31    234\n",
      "20    215\n",
      "44    208\n",
      "22    197\n",
      "30    196\n",
      "39    186\n",
      "40    167\n",
      "16    158\n",
      "9     104\n",
      "36    103\n",
      "24     94\n",
      "27     81\n",
      "35     77\n",
      "8      31\n",
      "2      30\n",
      "14     26\n",
      "13     24\n",
      "4      22\n",
      "6      19\n",
      "18     16\n",
      "42     16\n",
      "17     15\n",
      "32     13\n",
      "19     11\n",
      "21     10\n",
      "29      9\n",
      "37      9\n",
      "5       8\n",
      "43      7\n",
      "41      6\n",
      "11      5\n",
      "12      5\n",
      "1       4\n",
      "38      4\n",
      "26      2\n",
      "10      1\n",
      "25      1\n",
      "Name: medhx_condn_type, dtype: int64\n"
     ]
    }
   ],
   "source": [
    "medhx.change_str(\n",
    "    {\n",
    "        'medhx_condn_type': {\n",
    "            'Diabetes: Diabetes Type II – Insulin': \n",
    "                'Diabetes: Diabetes Type II - Insulin',\n",
    "            'Diabetes: Diabetes Type II – No Insulin': \n",
    "                'Diabetes: Diabetes Type II - No Insulin',\n",
    "            'Diabetes:  Type Unknown': 'Diabetes: Type Unknown',\n",
    "            'Mental Health - Other': 'Mental Health: Other',\n",
    "            'Neurology: Other': 'Neurology: Other'\n",
    "        }\n",
    "    }\n",
    ")"
   ]
  },
  {
   "cell_type": "markdown",
   "metadata": {},
   "source": [
    "## Baseline Assessment: Pre-existing Medical Conditions - Data Verification<a name=\"medhx-comp\"></a>"
   ]
  },
  {
   "cell_type": "code",
   "execution_count": 26,
   "metadata": {},
   "outputs": [
    {
     "data": {
      "text/html": [
       "<div>\n",
       "<style scoped>\n",
       "    .dataframe tbody tr th:only-of-type {\n",
       "        vertical-align: middle;\n",
       "    }\n",
       "\n",
       "    .dataframe tbody tr th {\n",
       "        vertical-align: top;\n",
       "    }\n",
       "\n",
       "    .dataframe thead th {\n",
       "        text-align: right;\n",
       "    }\n",
       "</style>\n",
       "<table border=\"1\" class=\"dataframe\">\n",
       "  <thead>\n",
       "    <tr style=\"text-align: right;\">\n",
       "      <th></th>\n",
       "      <th>obs_id</th>\n",
       "      <th>redcap_repeat_instance</th>\n",
       "      <th>medhx_yn</th>\n",
       "      <th>medhx_condn_type</th>\n",
       "      <th>medhx_condn_spec</th>\n",
       "      <th>...</th>\n",
       "      <th>medhx_stop_day</th>\n",
       "      <th>medhx_stop_month</th>\n",
       "      <th>medhx_stop_year</th>\n",
       "      <th>medhx_comments</th>\n",
       "      <th>Source</th>\n",
       "    </tr>\n",
       "  </thead>\n",
       "  <tbody>\n",
       "  </tbody>\n",
       "</table>\n",
       "<p>0 rows × 16 columns</p>\n",
       "</div>"
      ],
      "text/plain": [
       "Empty DataFrame\n",
       "Columns: [obs_id, redcap_repeat_instance, medhx_yn, medhx_condn_type, medhx_condn_spec, medhx_onset_date_yn, medhx_strt_day, medhx_strt_month, medhx_strt_year, medhx_cont_yn, medhx_stop_date_yn, medhx_stop_day, medhx_stop_month, medhx_stop_year, medhx_comments, Source]\n",
       "Index: []\n",
       "\n",
       "[0 rows x 16 columns]"
      ]
     },
     "execution_count": 26,
     "metadata": {},
     "output_type": "execute_result"
    }
   ],
   "source": [
    "medhx.compare_conv_dde(obs_data_sets.redcap_clinic)"
   ]
  },
  {
   "cell_type": "markdown",
   "metadata": {},
   "source": [
    "## Baseline Assessment: Pre-existing Medical Conditions - Prepare and Save<a name=\"medhx-save\"></a>"
   ]
  },
  {
   "cell_type": "code",
   "execution_count": 27,
   "metadata": {},
   "outputs": [],
   "source": [
    "medhx.prep_imp(\n",
    "    'baseline_assessmen_arm_1', 'preexisting_medical_conditions_complete',\n",
    "    'preexisting_medical_conditions'\n",
    ")\n",
    "medhx.data.to_csv('../data/processed/medhx.csv', index=False)"
   ]
  },
  {
   "cell_type": "markdown",
   "metadata": {},
   "source": [
    "# Baseline Assessment: Allergies<a name=\"base-all\"></a>"
   ]
  },
  {
   "cell_type": "markdown",
   "metadata": {},
   "source": [
    "## Baseline Assessment: Allergies - Processing<a name=\"base-all-pro\"></a>"
   ]
  },
  {
   "cell_type": "code",
   "execution_count": 28,
   "metadata": {},
   "outputs": [],
   "source": [
    "base_all_dict = {\n",
    "    'ANY_ALLERGIES': 'base_all_yn',\n",
    "    'FOOD_ALLERGY_NY': 'base_all_food_yn',\n",
    "    'SHELLFISH_YN': 'base_all_shellfish',\n",
    "    'PEANUTS_YN': 'base_all_peanuts',\n",
    "    'TREENUTS_YN': 'base_all_tree_nuts',\n",
    "    'DAIRY_YN': 'base_all_dairy',\n",
    "    'SOY_YN': 'base_all_soy',\n",
    "    'FISH_YN': 'base_all_fish',\n",
    "    'CITRUSFRUITS_NY': 'base_all_citrus_fruit',\n",
    "    'EGGS_NY': 'base_all_eggs',\n",
    "    'GLUTEN_NY': 'base_all_gluten',\n",
    "    'OTHER_FOOD_ALLERGY': 'base_all_food_oth',\n",
    "    'SPECIFY_OTHER_FOOD_ALLERGY': 'base_all_food_oth_spec',\n",
    "    'DRUG_ALLERGY_NY': 'base_all_drug_yn',\n",
    "    'PENICILLIN_NY': 'base_all_penicillin',\n",
    "    'ERYTHROMYCIN_NY': 'base_all_erythromycin',\n",
    "    'SULFADRUGS_NY': 'base_all_sulfa_drugs',\n",
    "    'CEPHALOSPORINS_NY': 'cbase_all_ephalosporins',\n",
    "    'NSAID_NY': 'base_all_nsaids',\n",
    "    'TETRACYCLINE_NY': 'base_all_tetracycline',\n",
    "    'CODEINE_NY': 'base_all_codeine',\n",
    "    'CONTRAST_DYE_NY': 'base_all_contrast_dye',\n",
    "    'OTHER_DRUG_ALLERGY_NY': 'base_all_drug_oth',\n",
    "    'SPECIFY_OTHER_DRUG_ALLERGY': 'base_all_drug_oth_spec',\n",
    "    'ENVIRONMENT_ALLERGY_NY': 'base_all_enviro_yn',\n",
    "    'SEASONAL_NY': 'base_all_seasonal',\n",
    "    'DUST_NY': 'base_all_dust',\n",
    "    'MOLD_NY': 'base_all_mold',\n",
    "    'POLLEN_NY': 'base_all_pollen',\n",
    "    'ANIMALS_YN': 'base_all_animals',\n",
    "    'BEE_WASP_STINGS_NY': 'base_all_stings',\n",
    "    'LATEX_TAPE_NY': 'base_all_latex_tape',\n",
    "    'OTHER_ENVIRON_ALLERGY_NY': 'base_all_enviro_oth',\n",
    "    'SPECIFY_OTHER_ENVIRON_ALLERGY': 'base_all_enviro_oth_spec'\n",
    "}\n",
    "base_all = obs_clinic_migration.RedcapConv(base_all_dict, 0)"
   ]
  },
  {
   "cell_type": "markdown",
   "metadata": {},
   "source": [
    "## Baseline Assessment: Allergies - Data Verification<a name=\"base-all-comp\"></a>"
   ]
  },
  {
   "cell_type": "code",
   "execution_count": 29,
   "metadata": {},
   "outputs": [
    {
     "data": {
      "text/html": [
       "<div>\n",
       "<style scoped>\n",
       "    .dataframe tbody tr th:only-of-type {\n",
       "        vertical-align: middle;\n",
       "    }\n",
       "\n",
       "    .dataframe tbody tr th {\n",
       "        vertical-align: top;\n",
       "    }\n",
       "\n",
       "    .dataframe thead th {\n",
       "        text-align: right;\n",
       "    }\n",
       "</style>\n",
       "<table border=\"1\" class=\"dataframe\">\n",
       "  <thead>\n",
       "    <tr style=\"text-align: right;\">\n",
       "      <th></th>\n",
       "      <th>obs_id</th>\n",
       "      <th>base_all_yn</th>\n",
       "      <th>base_all_food_yn</th>\n",
       "      <th>base_all_shellfish</th>\n",
       "      <th>base_all_peanuts</th>\n",
       "      <th>...</th>\n",
       "      <th>base_all_stings</th>\n",
       "      <th>base_all_latex_tape</th>\n",
       "      <th>base_all_enviro_oth</th>\n",
       "      <th>base_all_enviro_oth_spec</th>\n",
       "      <th>Source</th>\n",
       "    </tr>\n",
       "  </thead>\n",
       "  <tbody>\n",
       "  </tbody>\n",
       "</table>\n",
       "<p>0 rows × 36 columns</p>\n",
       "</div>"
      ],
      "text/plain": [
       "Empty DataFrame\n",
       "Columns: [obs_id, base_all_yn, base_all_food_yn, base_all_shellfish, base_all_peanuts, base_all_tree_nuts, base_all_dairy, base_all_soy, base_all_fish, base_all_citrus_fruit, base_all_eggs, base_all_gluten, base_all_food_oth, base_all_food_oth_spec, base_all_drug_yn, base_all_penicillin, base_all_erythromycin, base_all_sulfa_drugs, cbase_all_ephalosporins, base_all_nsaids, base_all_tetracycline, base_all_codeine, base_all_contrast_dye, base_all_drug_oth, base_all_drug_oth_spec, base_all_enviro_yn, base_all_seasonal, base_all_dust, base_all_mold, base_all_pollen, base_all_animals, base_all_stings, base_all_latex_tape, base_all_enviro_oth, base_all_enviro_oth_spec, Source]\n",
       "Index: []\n",
       "\n",
       "[0 rows x 36 columns]"
      ]
     },
     "execution_count": 29,
     "metadata": {},
     "output_type": "execute_result"
    }
   ],
   "source": [
    "base_all.compare_conv_dde(obs_data_sets.redcap_clinic)"
   ]
  },
  {
   "cell_type": "markdown",
   "metadata": {},
   "source": [
    "## Baseline Assessment: Allergies - Prepare and Save<a name=\"base-all-save\"></a>"
   ]
  },
  {
   "cell_type": "code",
   "execution_count": 30,
   "metadata": {},
   "outputs": [],
   "source": [
    "base_all.prep_imp('baseline_assessmen_arm_1', 'baseline_assessment_complete')\n",
    "base_all.data.to_csv('../data/processed/base_all.csv', index=False)"
   ]
  },
  {
   "cell_type": "markdown",
   "metadata": {},
   "source": [
    "# Baseline Assessment: Surgical History<a name=\"surhx\"></a>"
   ]
  },
  {
   "cell_type": "markdown",
   "metadata": {},
   "source": [
    "## Baseline Assessment: Surgical History - Preprocessing<a name=\"surhx-pre\"></a>"
   ]
  },
  {
   "cell_type": "code",
   "execution_count": 31,
   "metadata": {},
   "outputs": [],
   "source": [
    "obs_data_sets.rave_clinic = (\n",
    "    obs_clinic_migration_preprocessing.rave_date_unknown(\n",
    "        obs_data_sets.rave_clinic, 'SURGERY_NY_', 'Yes','SURGERY_YEAR_', 7\n",
    "    )\n",
    ")"
   ]
  },
  {
   "cell_type": "markdown",
   "metadata": {},
   "source": [
    "## Baseline Assessment: Surgical History - Processing<a name=\"surhx-pro\"></a>"
   ]
  },
  {
   "cell_type": "code",
   "execution_count": 32,
   "metadata": {},
   "outputs": [
    {
     "name": "stdout",
     "output_type": "stream",
     "text": [
      "Column 'surhx_procedure', variable 'Other, specify' has an issue.\n"
     ]
    }
   ],
   "source": [
    "surhx_dict = {\n",
    "    'SURGERY_NY_': 'surhx_yn',\n",
    "    'SURG_PROCEDURE_': 'surhx_procedure',\n",
    "    'SPECIFY_SURGICAL_PROCEDURE_': 'surhx_proc_spec',\n",
    "    'SURGERY_YEAR_yn_date_': 'surhx_proc_date_yn',\n",
    "    'SURGERY_YEAR_DD_': 'surhx_surg_day',\n",
    "    'SURGERY_YEAR_MM_': 'surhx_surg_month',\n",
    "    'SURGERY_YEAR_YYYY_': 'surhx_surg_year',\n",
    "    'SURG_REASON_': 'surhx_indication',\n",
    "    'SURG_COMMEN_': 'surhx_comments'        \n",
    "}  \n",
    "surhx = obs_clinic_migration.RedcapConv(\n",
    "    surhx_dict, 7, main_df=obs_data_sets.rave_clinic\n",
    ")"
   ]
  },
  {
   "cell_type": "markdown",
   "metadata": {},
   "source": [
    "## Baseline Assessment: Surgical History - Post-processing<a name=\"surhx-post\"></a>"
   ]
  },
  {
   "cell_type": "code",
   "execution_count": 33,
   "metadata": {},
   "outputs": [
    {
     "name": "stdout",
     "output_type": "stream",
     "text": [
      "5    1143\n",
      "2     720\n",
      "4     294\n",
      "6     201\n",
      "7     116\n",
      "8     115\n",
      "3      13\n",
      "1       6\n",
      "Name: surhx_procedure, dtype: int64\n"
     ]
    }
   ],
   "source": [
    "surhx.change_str(\n",
    "    {\n",
    "        'surhx_procedure': {'Other, specify': 'Other'},\n",
    "    }\n",
    ")"
   ]
  },
  {
   "cell_type": "markdown",
   "metadata": {},
   "source": [
    "## Baseline Assessment: Surgical History - Data Verification<a name=\"surhx-comp\"></a>"
   ]
  },
  {
   "cell_type": "code",
   "execution_count": 34,
   "metadata": {},
   "outputs": [
    {
     "data": {
      "text/html": [
       "<div>\n",
       "<style scoped>\n",
       "    .dataframe tbody tr th:only-of-type {\n",
       "        vertical-align: middle;\n",
       "    }\n",
       "\n",
       "    .dataframe tbody tr th {\n",
       "        vertical-align: top;\n",
       "    }\n",
       "\n",
       "    .dataframe thead th {\n",
       "        text-align: right;\n",
       "    }\n",
       "</style>\n",
       "<table border=\"1\" class=\"dataframe\">\n",
       "  <thead>\n",
       "    <tr style=\"text-align: right;\">\n",
       "      <th></th>\n",
       "      <th>obs_id</th>\n",
       "      <th>redcap_repeat_instance</th>\n",
       "      <th>surhx_yn</th>\n",
       "      <th>surhx_procedure</th>\n",
       "      <th>surhx_proc_spec</th>\n",
       "      <th>...</th>\n",
       "      <th>surhx_surg_month</th>\n",
       "      <th>surhx_surg_year</th>\n",
       "      <th>surhx_indication</th>\n",
       "      <th>surhx_comments</th>\n",
       "      <th>Source</th>\n",
       "    </tr>\n",
       "  </thead>\n",
       "  <tbody>\n",
       "  </tbody>\n",
       "</table>\n",
       "<p>0 rows × 12 columns</p>\n",
       "</div>"
      ],
      "text/plain": [
       "Empty DataFrame\n",
       "Columns: [obs_id, redcap_repeat_instance, surhx_yn, surhx_procedure, surhx_proc_spec, surhx_proc_date_yn, surhx_surg_day, surhx_surg_month, surhx_surg_year, surhx_indication, surhx_comments, Source]\n",
       "Index: []\n",
       "\n",
       "[0 rows x 12 columns]"
      ]
     },
     "execution_count": 34,
     "metadata": {},
     "output_type": "execute_result"
    }
   ],
   "source": [
    "surhx.compare_conv_dde(obs_data_sets.redcap_clinic)"
   ]
  },
  {
   "cell_type": "markdown",
   "metadata": {},
   "source": [
    "## Baseline Assessment: Surgical History - Prepare and Save<a name=\"surhx-save\"></a>"
   ]
  },
  {
   "cell_type": "code",
   "execution_count": 35,
   "metadata": {},
   "outputs": [],
   "source": [
    "surhx.prep_imp(\n",
    "    'baseline_assessmen_arm_1', 'surgical_history_complete', 'surgical_history'\n",
    ")\n",
    "surhx.data.to_csv('../data/processed/surhx.csv', index=False)"
   ]
  },
  {
   "cell_type": "markdown",
   "metadata": {},
   "source": [
    "# Baseline Assessment: Medications taken since the beginning of pregnancy<a name=\"rxhx-preg\"></a>"
   ]
  },
  {
   "cell_type": "markdown",
   "metadata": {},
   "source": [
    "## Baseline Assessment: Medications taken since the beginning of pregnancy - Processing<a name=\"rxhx-preg-pro\"></a>"
   ]
  },
  {
   "cell_type": "code",
   "execution_count": 36,
   "metadata": {},
   "outputs": [
    {
     "name": "stdout",
     "output_type": "stream",
     "text": [
      "Column 'rxhx_preg_med_class', variable 'Selective Serotonin reuptake inhibitors (SSRI)' has an issue.\n",
      "Column 'rxhx_preg_med_class', variable 'Antidepressants: other' has an issue.\n"
     ]
    }
   ],
   "source": [
    "rxhx_preg_dict = {\n",
    "    'MEDS_PREG_': 'rxhx_preg_yn', \n",
    "    'MED_CATEGORY_': 'rxhx_preg_med_class', \n",
    "    'MEDICATION_': 'rxhx_preg_med_spec', \n",
    "    'MED_CONTINUE_NY_': 'rxhx_preg_med_cont',    \n",
    "}\n",
    "rxhx_preg = obs_clinic_migration.RedcapConv(rxhx_preg_dict, 8) "
   ]
  },
  {
   "cell_type": "markdown",
   "metadata": {},
   "source": [
    "## Baseline Assessment: Medications taken since the beginning of pregnancy - Post-processing<a name=\"rxhx-preg-post\"></a>"
   ]
  },
  {
   "cell_type": "code",
   "execution_count": 37,
   "metadata": {},
   "outputs": [
    {
     "name": "stdout",
     "output_type": "stream",
     "text": [
      "8     417\n",
      "25    323\n",
      "26    136\n",
      "2     101\n",
      "22     83\n",
      "24     74\n",
      "5      66\n",
      "17     64\n",
      "4      51\n",
      "7      33\n",
      "14     24\n",
      "10     23\n",
      "3      18\n",
      "9      13\n",
      "6      11\n",
      "19     11\n",
      "13      8\n",
      "20      8\n",
      "12      7\n",
      "23      5\n",
      "21      5\n",
      "1       3\n",
      "16      1\n",
      "Name: rxhx_preg_med_class, dtype: int64\n"
     ]
    }
   ],
   "source": [
    "rxhx_preg.change_str(\n",
    "    {\n",
    "        'rxhx_preg_med_class': \n",
    "            {\n",
    "                'Selective Serotonin reuptake inhibitors (SSRI)': \n",
    "                    'Selective Serotonin Reuptake Inhibitors (SSRI)',\n",
    "                'Antidepressants: other' : 'Antidepressants: Other'\n",
    "            },\n",
    "    }\n",
    ")"
   ]
  },
  {
   "cell_type": "markdown",
   "metadata": {},
   "source": [
    "## Baseline Assessment: Medications taken since the beginning of pregnancy - Data Verification<a name=\"rxhx-preg-comp\"></a>"
   ]
  },
  {
   "cell_type": "code",
   "execution_count": 38,
   "metadata": {},
   "outputs": [
    {
     "data": {
      "text/html": [
       "<div>\n",
       "<style scoped>\n",
       "    .dataframe tbody tr th:only-of-type {\n",
       "        vertical-align: middle;\n",
       "    }\n",
       "\n",
       "    .dataframe tbody tr th {\n",
       "        vertical-align: top;\n",
       "    }\n",
       "\n",
       "    .dataframe thead th {\n",
       "        text-align: right;\n",
       "    }\n",
       "</style>\n",
       "<table border=\"1\" class=\"dataframe\">\n",
       "  <thead>\n",
       "    <tr style=\"text-align: right;\">\n",
       "      <th></th>\n",
       "      <th>obs_id</th>\n",
       "      <th>redcap_repeat_instance</th>\n",
       "      <th>rxhx_preg_yn</th>\n",
       "      <th>rxhx_preg_med_class</th>\n",
       "      <th>rxhx_preg_med_spec</th>\n",
       "      <th>rxhx_preg_med_cont</th>\n",
       "      <th>Source</th>\n",
       "    </tr>\n",
       "  </thead>\n",
       "  <tbody>\n",
       "  </tbody>\n",
       "</table>\n",
       "</div>"
      ],
      "text/plain": [
       "Empty DataFrame\n",
       "Columns: [obs_id, redcap_repeat_instance, rxhx_preg_yn, rxhx_preg_med_class, rxhx_preg_med_spec, rxhx_preg_med_cont, Source]\n",
       "Index: []"
      ]
     },
     "execution_count": 38,
     "metadata": {},
     "output_type": "execute_result"
    }
   ],
   "source": [
    "rxhx_preg.compare_conv_dde(obs_data_sets.redcap_clinic)"
   ]
  },
  {
   "cell_type": "markdown",
   "metadata": {},
   "source": [
    "## Baseline Assessment: Medications taken since the beginning of pregnancy - Prepare and Save<a name=\"rxhx-preg-save\"></a>"
   ]
  },
  {
   "cell_type": "code",
   "execution_count": 39,
   "metadata": {},
   "outputs": [],
   "source": [
    "rxhx_preg.prep_imp(\n",
    "    'baseline_assessmen_arm_1', \n",
    "    'medications_taken_since_beginning_of_pregnancy_complete', \n",
    "    'medications_taken_since_beginning_of_pregnancy'\n",
    ")\n",
    "rxhx_preg.data.to_csv('../data/processed/rxhx_preg.csv', index=False)"
   ]
  },
  {
   "cell_type": "markdown",
   "metadata": {},
   "source": [
    "# Baseline Assessment: Supplements taken since the beginning of pregnancy (1)<a name=\"supp-ant\"></a>"
   ]
  },
  {
   "cell_type": "markdown",
   "metadata": {},
   "source": [
    "## Baseline Assessment: Supplements taken since the beginning of pregnancy (1) - Preprocessing<a name=\"supp-ant-pre\"></a>"
   ]
  },
  {
   "cell_type": "code",
   "execution_count": 40,
   "metadata": {},
   "outputs": [],
   "source": [
    "for i in range(1, 9):\n",
    "    # only 'STD' column available for 'SUPPLEMENT'; recode for import\n",
    "    rave_supplement = pd.get_dummies(\n",
    "        obs_data_sets.rave_clinic['SUPPLEMENT_STD_' + str(i)], \n",
    "        prefix = 'LABELLED_SUPPLEMENT', dummy_na=False\n",
    "    )\n",
    "    rave_supplement = rave_supplement.add_suffix('_' + str(i))\n",
    "    \n",
    "    for col_check in [\n",
    "        'LABELLED_SUPPLEMENT_1_' + str(i), \n",
    "        'LABELLED_SUPPLEMENT_2_' + str(i),\n",
    "        'LABELLED_SUPPLEMENT_3_' + str(i),\n",
    "        'LABELLED_SUPPLEMENT_4_' + str(i),\n",
    "        'LABELLED_SUPPLEMENT_5_' + str(i),\n",
    "        'LABELLED_SUPPLEMENT_6_' + str(i),\n",
    "        'LABELLED_SUPPLEMENT_7_' + str(i),\n",
    "        'LABELLED_SUPPLEMENT_8_' + str(i),\n",
    "        'LABELLED_SUPPLEMENT_9_' + str(i),\n",
    "        'LABELLED_SUPPLEMENT_10_' + str(i),\n",
    "        'LABELLED_SUPPLEMENT_11_' + str(i),\n",
    "        'LABELLED_SUPPLEMENT_90_' + str(i),\n",
    "        'LABELLED_SUPPLEMENT_99_' + str(i)\n",
    "    ]:\n",
    "        if col_check not in list(rave_supplement.columns.values):\n",
    "            rave_supplement[col_check] = 0\n",
    "    obs_data_sets.rave_clinic = pd.concat(\n",
    "        [obs_data_sets.rave_clinic, rave_supplement], axis=1\n",
    "    )\n",
    "    \n",
    "    # create 'specify' columns\n",
    "    obs_data_sets.rave_clinic['LABELLED_SUPPLEMENT_PRENAT_SPEC_' + str(i)] = (\n",
    "        obs_data_sets.rave_clinic['SUPPLEMENT_' + str(i)]\n",
    "    )\n",
    "    obs_data_sets.rave_clinic.loc[\n",
    "        obs_data_sets.rave_clinic['SUPPLEMENT_STD_' + str(i)] != '90',\n",
    "        'LABELLED_SUPPLEMENT_PRENAT_SPEC_' + str(i)\n",
    "    ] = np.NaN\n",
    "    obs_data_sets.rave_clinic['LABELLED_SUPPLEMENT_SPEC_' + str(i)] = (\n",
    "        obs_data_sets.rave_clinic['SUPPLEMENT_' + str(i)]\n",
    "    )\n",
    "    obs_data_sets.rave_clinic.loc[\n",
    "        obs_data_sets.rave_clinic['SUPPLEMENT_STD_' + str(i)] != '99',\n",
    "        'LABELLED_SUPPLEMENT_SPEC_' + str(i)\n",
    "    ] = np.NaN"
   ]
  },
  {
   "cell_type": "markdown",
   "metadata": {},
   "source": [
    "## Baseline Assessment: Supplements taken since the beginning of pregnancy (1) - Processing<a name=\"supp-ant-pro\"></a>"
   ]
  },
  {
   "cell_type": "code",
   "execution_count": 41,
   "metadata": {},
   "outputs": [],
   "source": [
    "supp_ant_dict = {\n",
    "    'LABELLED_SUPPLEMENT_1_': 'supp_preg_type___1', # Preg-vit\n",
    "    'LABELLED_SUPPLEMENT_2_': 'supp_preg_type___2', # Materna\n",
    "    'LABELLED_SUPPLEMENT_3_': 'supp_preg_type___3', # Vitamin D\n",
    "    'LABELLED_SUPPLEMENT_4_': 'supp_preg_type___4', # Omega 3 and/or 6\n",
    "    'LABELLED_SUPPLEMENT_5_': 'supp_preg_type___5', # Calcium\n",
    "    'LABELLED_SUPPLEMENT_6_': 'supp_preg_type___6', # Vitamin B12\n",
    "    'LABELLED_SUPPLEMENT_7_': 'supp_preg_type___7', # Iron\n",
    "    'LABELLED_SUPPLEMENT_8_': 'supp_preg_type___8', # Folic acid\n",
    "    'LABELLED_SUPPLEMENT_9_': 'supp_preg_type___9', # Jamieson Prenatal vitamin\n",
    "    'LABELLED_SUPPLEMENT_10_': 'supp_preg_type___10', # Vitamin C\n",
    "    'LABELLED_SUPPLEMENT_11_': 'supp_preg_type___11', # Probiotics\n",
    "    'LABELLED_SUPPLEMENT_90_': 'supp_preg_type___12', # Other Prenatal Vitamin, specify\n",
    "    'LABELLED_SUPPLEMENT_99_': 'supp_preg_type___13', # Other, specify\n",
    "}\n",
    "\n",
    "supp_ant = obs_clinic_migration.RedcapConv(\n",
    "    supp_ant_dict, 8, main_df=obs_data_sets.rave_clinic, \n",
    "    recode_long = False\n",
    ")"
   ]
  },
  {
   "cell_type": "markdown",
   "metadata": {},
   "source": [
    "## Baseline Assessment: Supplements taken since the beginning of pregnancy (1) - Post-processing<a name=\"supp-ant-post\"></a>"
   ]
  },
  {
   "cell_type": "code",
   "execution_count": 42,
   "metadata": {},
   "outputs": [],
   "source": [
    "supp_ant.remove_na()"
   ]
  },
  {
   "cell_type": "markdown",
   "metadata": {},
   "source": [
    "## Baseline Assessment: Supplements taken since the beginning of pregnancy (1) - Data Verification<a name=\"supp-ant-comp\"></a>"
   ]
  },
  {
   "cell_type": "code",
   "execution_count": 43,
   "metadata": {},
   "outputs": [
    {
     "data": {
      "text/html": [
       "<div>\n",
       "<style scoped>\n",
       "    .dataframe tbody tr th:only-of-type {\n",
       "        vertical-align: middle;\n",
       "    }\n",
       "\n",
       "    .dataframe tbody tr th {\n",
       "        vertical-align: top;\n",
       "    }\n",
       "\n",
       "    .dataframe thead th {\n",
       "        text-align: right;\n",
       "    }\n",
       "</style>\n",
       "<table border=\"1\" class=\"dataframe\">\n",
       "  <thead>\n",
       "    <tr style=\"text-align: right;\">\n",
       "      <th></th>\n",
       "      <th>obs_id</th>\n",
       "      <th>redcap_repeat_instance</th>\n",
       "      <th>supp_preg_type___1</th>\n",
       "      <th>supp_preg_type___2</th>\n",
       "      <th>supp_preg_type___3</th>\n",
       "      <th>...</th>\n",
       "      <th>supp_preg_type___10</th>\n",
       "      <th>supp_preg_type___11</th>\n",
       "      <th>supp_preg_type___12</th>\n",
       "      <th>supp_preg_type___13</th>\n",
       "      <th>Source</th>\n",
       "    </tr>\n",
       "  </thead>\n",
       "  <tbody>\n",
       "  </tbody>\n",
       "</table>\n",
       "<p>0 rows × 16 columns</p>\n",
       "</div>"
      ],
      "text/plain": [
       "Empty DataFrame\n",
       "Columns: [obs_id, redcap_repeat_instance, supp_preg_type___1, supp_preg_type___2, supp_preg_type___3, supp_preg_type___4, supp_preg_type___5, supp_preg_type___6, supp_preg_type___7, supp_preg_type___8, supp_preg_type___9, supp_preg_type___10, supp_preg_type___11, supp_preg_type___12, supp_preg_type___13, Source]\n",
       "Index: []\n",
       "\n",
       "[0 rows x 16 columns]"
      ]
     },
     "execution_count": 43,
     "metadata": {},
     "output_type": "execute_result"
    }
   ],
   "source": [
    "supp_ant.compare_conv_dde(obs_data_sets.redcap_clinic)"
   ]
  },
  {
   "cell_type": "markdown",
   "metadata": {},
   "source": [
    "## Baseline Assessment: Supplements taken since the beginning of pregnancy (1) - Prepare and Save<a name=\"supp-ant-save\"></a>"
   ]
  },
  {
   "cell_type": "code",
   "execution_count": 44,
   "metadata": {},
   "outputs": [],
   "source": [
    "supp_ant.prep_imp(\n",
    "    'baseline_arm_1', \n",
    "    'supplements_taken_since_beginning_of_pregnancy_complete', \n",
    "    'supplements_taken_since_beginning_of_pregnancy'\n",
    ")\n",
    "supp_ant.data.to_csv('../data/processed/supp_ant.csv', index=False)"
   ]
  },
  {
   "cell_type": "markdown",
   "metadata": {},
   "source": [
    "# Baseline Assessment: Supplements taken since the beginning of pregnancy (2)<a name=\"supp-ant-spec \"></a>"
   ]
  },
  {
   "cell_type": "markdown",
   "metadata": {},
   "source": [
    "## Baseline Assessment: Supplements taken since the beginning of pregnancy (2) - Processing<a name=\"supp-ant-spec -pro\"></a>"
   ]
  },
  {
   "cell_type": "code",
   "execution_count": 45,
   "metadata": {},
   "outputs": [
    {
     "name": "stdout",
     "output_type": "stream",
     "text": [
      "max redcap_repeat_instance = 7; stub_repeat = 8\n"
     ]
    }
   ],
   "source": [
    "supp_ant_spec_dict = {\n",
    "    'LABELLED_SUPPLEMENT_PRENAT_SPEC_': 'supp_preg_oth_previt',\n",
    "    'LABELLED_SUPPLEMENT_SPEC_': 'supp_preg_oth_spec',\n",
    "}\n",
    "supp_ant_spec = obs_clinic_migration.RedcapConv(\n",
    "    supp_ant_spec_dict, 8, main_df=obs_data_sets.rave_clinic\n",
    ")"
   ]
  },
  {
   "cell_type": "markdown",
   "metadata": {},
   "source": [
    "## Baseline Assessment: Supplements taken since the beginning of pregnancy (2) - Data Verification<a name=\"supp-ant-spec -comp\"></a>"
   ]
  },
  {
   "cell_type": "code",
   "execution_count": 46,
   "metadata": {},
   "outputs": [
    {
     "data": {
      "text/html": [
       "<div>\n",
       "<style scoped>\n",
       "    .dataframe tbody tr th:only-of-type {\n",
       "        vertical-align: middle;\n",
       "    }\n",
       "\n",
       "    .dataframe tbody tr th {\n",
       "        vertical-align: top;\n",
       "    }\n",
       "\n",
       "    .dataframe thead th {\n",
       "        text-align: right;\n",
       "    }\n",
       "</style>\n",
       "<table border=\"1\" class=\"dataframe\">\n",
       "  <thead>\n",
       "    <tr style=\"text-align: right;\">\n",
       "      <th></th>\n",
       "      <th>obs_id</th>\n",
       "      <th>redcap_repeat_instance</th>\n",
       "      <th>supp_preg_oth_previt</th>\n",
       "      <th>supp_preg_oth_spec</th>\n",
       "      <th>Source</th>\n",
       "    </tr>\n",
       "  </thead>\n",
       "  <tbody>\n",
       "  </tbody>\n",
       "</table>\n",
       "</div>"
      ],
      "text/plain": [
       "Empty DataFrame\n",
       "Columns: [obs_id, redcap_repeat_instance, supp_preg_oth_previt, supp_preg_oth_spec, Source]\n",
       "Index: []"
      ]
     },
     "execution_count": 46,
     "metadata": {},
     "output_type": "execute_result"
    }
   ],
   "source": [
    "supp_ant_spec.compare_conv_dde(obs_data_sets.redcap_clinic)"
   ]
  },
  {
   "cell_type": "markdown",
   "metadata": {},
   "source": [
    "## Baseline Assessment: Supplements taken since the beginning of pregnancy (2) - Prepare and Save<a name=\"supp-ant-spec -save\"></a>"
   ]
  },
  {
   "cell_type": "code",
   "execution_count": 47,
   "metadata": {},
   "outputs": [],
   "source": [
    "supp_ant_spec.prep_imp(\n",
    "    'baseline_arm_1', \n",
    "    'supplements_taken_since_beginning_of_pregnancy_complete', \n",
    "    'supplements_taken_since_beginning_of_pregnancy'\n",
    ")\n",
    "supp_ant_spec.data.to_csv('../data/processed/supp_ant_spec.csv', index=False)"
   ]
  },
  {
   "cell_type": "markdown",
   "metadata": {},
   "source": [
    "# Baseline Assessment: Supplements taken since the beginning of pregnancy (3)<a name=\"supp-ant-yn\"></a>"
   ]
  },
  {
   "cell_type": "markdown",
   "metadata": {},
   "source": [
    "## Baseline Assessment: Supplements taken since the beginning of pregnancy (3) - Processing<a name=\"supp-ant-yn-pro\"></a>"
   ]
  },
  {
   "cell_type": "code",
   "execution_count": 48,
   "metadata": {},
   "outputs": [],
   "source": [
    "supp_ant_yn_dict = {\n",
    "    'SUPPLEMENT_PREG_1': 'supp_preg_yn'\n",
    "}\n",
    "supp_ant_yn = obs_clinic_migration.RedcapConv(\n",
    "    supp_ant_yn_dict, 0, main_df=obs_data_sets.rave_clinic\n",
    ")"
   ]
  },
  {
   "cell_type": "markdown",
   "metadata": {},
   "source": [
    "## Baseline Assessment: Supplements taken since the beginning of pregnancy (3) - Post-processing<a name=\"supp-ant-yn-post\"></a>"
   ]
  },
  {
   "cell_type": "code",
   "execution_count": 49,
   "metadata": {},
   "outputs": [],
   "source": [
    "supp_ant_yn.remove_na()"
   ]
  },
  {
   "cell_type": "markdown",
   "metadata": {},
   "source": [
    "## Baseline Assessment: Supplements taken since the beginning of pregnancy (3) - Data Verification<a name=\"supp-ant-yn-comp\"></a>"
   ]
  },
  {
   "cell_type": "code",
   "execution_count": 50,
   "metadata": {},
   "outputs": [
    {
     "data": {
      "text/html": [
       "<div>\n",
       "<style scoped>\n",
       "    .dataframe tbody tr th:only-of-type {\n",
       "        vertical-align: middle;\n",
       "    }\n",
       "\n",
       "    .dataframe tbody tr th {\n",
       "        vertical-align: top;\n",
       "    }\n",
       "\n",
       "    .dataframe thead th {\n",
       "        text-align: right;\n",
       "    }\n",
       "</style>\n",
       "<table border=\"1\" class=\"dataframe\">\n",
       "  <thead>\n",
       "    <tr style=\"text-align: right;\">\n",
       "      <th></th>\n",
       "      <th>obs_id</th>\n",
       "      <th>supp_preg_yn</th>\n",
       "      <th>Source</th>\n",
       "    </tr>\n",
       "  </thead>\n",
       "  <tbody>\n",
       "  </tbody>\n",
       "</table>\n",
       "</div>"
      ],
      "text/plain": [
       "Empty DataFrame\n",
       "Columns: [obs_id, supp_preg_yn, Source]\n",
       "Index: []"
      ]
     },
     "execution_count": 50,
     "metadata": {},
     "output_type": "execute_result"
    }
   ],
   "source": [
    "supp_ant_yn.compare_conv_dde(obs_data_sets.redcap_clinic)"
   ]
  },
  {
   "cell_type": "markdown",
   "metadata": {},
   "source": [
    "## Baseline Assessment: Supplements taken since the beginning of pregnancy (3) - Prepare and Save<a name=\"supp-ant-yn-save\"></a>"
   ]
  },
  {
   "cell_type": "code",
   "execution_count": 51,
   "metadata": {},
   "outputs": [],
   "source": [
    "supp_ant_yn.prep_imp(\n",
    "    'baseline_arm_1', \n",
    "    'supplements_taken_since_beginning_of_pregnancy_complete', \n",
    "    'supplements_taken_since_beginning_of_pregnancy'\n",
    ")\n",
    "supp_ant_yn.data.to_csv('../data/processed/supp_ant_yn.csv', index=False)"
   ]
  },
  {
   "cell_type": "markdown",
   "metadata": {},
   "source": [
    "# Antenatal Visits: Visit Data<a name=\"ante-visit\"></a>"
   ]
  },
  {
   "cell_type": "markdown",
   "metadata": {},
   "source": [
    "## Antenatal Visits: Visit Data - Preprocessing<a name=\"ante-visit-pre\"></a>"
   ]
  },
  {
   "cell_type": "code",
   "execution_count": 52,
   "metadata": {},
   "outputs": [],
   "source": [
    "# value indicating weight of 2770.6 pounds; assume it is incorrect\n",
    "obs_data_sets.rave_clinic.loc[\n",
    "    obs_data_sets.rave_clinic['ANTENATAL_WEIGHT_2'] == '2770.60',\n",
    "    'ANTENATAL_WEIGHT_2'\n",
    "] = np.nan\n",
    "\n",
    "for i in range(1, 17):\n",
    "    # reformat columns\n",
    "    obs_data_sets.rave_clinic.loc[:, 'ANTENAT_VISIT_DT_' + str(i)] = (\n",
    "        pd.to_datetime(\n",
    "            obs_data_sets.rave_clinic['ANTENAT_VISIT_DT_' + str(i)]\n",
    "        ).dt.strftime('%Y-%m-%d')\n",
    "    )\n",
    "    obs_data_sets.rave_clinic.loc[\n",
    "        ~obs_data_sets.rave_clinic[\n",
    "            'ANTENATAL_WEIGHT_' + str(i)\n",
    "        ].isna(), 'ANTENATAL_WEIGHT_' + str(i)\n",
    "    ] = obs_data_sets.rave_clinic.loc[\n",
    "        ~obs_data_sets.rave_clinic[\n",
    "            'ANTENATAL_WEIGHT_' + str(i)\n",
    "        ].isna(), 'ANTENATAL_WEIGHT_' + str(i)\n",
    "    ].astype(float).map('{:,.2f}'.format)\n",
    "\n",
    "    # some columns don't have an associated 'STD' column and needed to be coded    \n",
    "    obs_data_sets.rave_clinic['WT_NR_' + str(i)].replace(\n",
    "        {'0': 'Yes', '1': 'No'}, inplace=True\n",
    "    )\n",
    "    obs_data_sets.rave_clinic['ANTENATAL_WEIGHT_UN_' + str(i)].replace(\n",
    "        {'1': 'kg', '2': 'lbs'}, inplace=True\n",
    "    )\n",
    "    obs_data_sets.rave_clinic['BP_ND_' + str(i)].replace(\n",
    "        {'0': 'Yes', '1': 'No'}, inplace=True\n",
    "    )"
   ]
  },
  {
   "cell_type": "markdown",
   "metadata": {},
   "source": [
    "## Antenatal Visits: Visit Data - Processing<a name=\"ante-visit-pro\"></a>"
   ]
  },
  {
   "cell_type": "code",
   "execution_count": 53,
   "metadata": {},
   "outputs": [],
   "source": [
    "ante_visit_dict = {\n",
    "    'ANTENAT_VISIT_DT_': 'ante_visit_date',\n",
    "    'WT_NR_': 'ante_visit_wt_yn',\n",
    "    'ANTENATAL_WEIGHT_': 'ante_visit_wt_kg',\n",
    "    'ANTENATAL_WEIGHT_UN_': 'ante_visit_wt_unit',\n",
    "    'BP_ND_': 'ante_visit_bp_yn',\n",
    "    'ANTENAT_SYSTOLIC_': 'ante_visit_sbp',\n",
    "    'ANTENATAL_DIASTOLIC_': 'ante_visit_dbp',\n",
    "    'URINE_DIPSTICK_': 'ante_visit_urine_prot'        \n",
    " }\n",
    "ante_visit = obs_clinic_migration.RedcapConv(\n",
    "    ante_visit_dict, 16, main_df=obs_data_sets.rave_clinic\n",
    ")"
   ]
  },
  {
   "cell_type": "markdown",
   "metadata": {},
   "source": [
    "## Antenatal Visits: Visit Data - Data Verification<a name=\"ante-visit-comp\"></a>"
   ]
  },
  {
   "cell_type": "code",
   "execution_count": 54,
   "metadata": {},
   "outputs": [
    {
     "data": {
      "text/html": [
       "<div>\n",
       "<style scoped>\n",
       "    .dataframe tbody tr th:only-of-type {\n",
       "        vertical-align: middle;\n",
       "    }\n",
       "\n",
       "    .dataframe tbody tr th {\n",
       "        vertical-align: top;\n",
       "    }\n",
       "\n",
       "    .dataframe thead th {\n",
       "        text-align: right;\n",
       "    }\n",
       "</style>\n",
       "<table border=\"1\" class=\"dataframe\">\n",
       "  <thead>\n",
       "    <tr style=\"text-align: right;\">\n",
       "      <th></th>\n",
       "      <th>obs_id</th>\n",
       "      <th>redcap_repeat_instance</th>\n",
       "      <th>ante_visit_date</th>\n",
       "      <th>ante_visit_wt_yn</th>\n",
       "      <th>ante_visit_wt_kg</th>\n",
       "      <th>...</th>\n",
       "      <th>ante_visit_bp_yn</th>\n",
       "      <th>ante_visit_sbp</th>\n",
       "      <th>ante_visit_dbp</th>\n",
       "      <th>ante_visit_urine_prot</th>\n",
       "      <th>Source</th>\n",
       "    </tr>\n",
       "  </thead>\n",
       "  <tbody>\n",
       "  </tbody>\n",
       "</table>\n",
       "<p>0 rows × 11 columns</p>\n",
       "</div>"
      ],
      "text/plain": [
       "Empty DataFrame\n",
       "Columns: [obs_id, redcap_repeat_instance, ante_visit_date, ante_visit_wt_yn, ante_visit_wt_kg, ante_visit_wt_unit, ante_visit_bp_yn, ante_visit_sbp, ante_visit_dbp, ante_visit_urine_prot, Source]\n",
       "Index: []\n",
       "\n",
       "[0 rows x 11 columns]"
      ]
     },
     "execution_count": 54,
     "metadata": {},
     "output_type": "execute_result"
    }
   ],
   "source": [
    "ante_visit.compare_conv_dde(obs_data_sets.redcap_clinic)"
   ]
  },
  {
   "cell_type": "markdown",
   "metadata": {},
   "source": [
    "## Antenatal Visits: Visit Data - Prepare and Save<a name=\"ante-visit-save\"></a>"
   ]
  },
  {
   "cell_type": "code",
   "execution_count": 55,
   "metadata": {},
   "outputs": [],
   "source": [
    "ante_visit.prep_imp(\n",
    "    'antenatal_arm_1', 'antenatal_visits_complete', 'antenatal_visits'\n",
    ")\n",
    "ante_visit.data.to_csv('../data/processed/ante_visit.csv', index=False)"
   ]
  },
  {
   "cell_type": "markdown",
   "metadata": {},
   "source": [
    "# Antenatal Visits: Antenatal Health Care Provider<a name=\"ante-hcp\"></a>"
   ]
  },
  {
   "cell_type": "markdown",
   "metadata": {},
   "source": [
    "## Antenatal Visits: Antenatal Health Care Provider - Preprocessing<a name=\"ante-hcp-pre\"></a>"
   ]
  },
  {
   "cell_type": "code",
   "execution_count": 56,
   "metadata": {},
   "outputs": [],
   "source": [
    "# Rave requests health care provider for each individual antenatal visit while \n",
    "# there is only one overall health care provider in REDCap; collapse multiple\n",
    "# columns to one\n",
    "hcps = [\n",
    "    'OBSTETRICIAN', 'FAM_PHYSICIAN', 'MIDWIFE', 'NURSE_PRACTITIONER', 'OTHER1'\n",
    "]\n",
    "\n",
    "# initialize 'SPECIFY1_OTHER_HCP' which will hold the specify data we want\n",
    "obs_data_sets.rave_clinic['SPECIFY1_OTHER_HCP'] = np.NaN\n",
    "for i in range(1, 17):\n",
    "    obs_data_sets.rave_clinic['SPECIFY1_OTHER_HCP'] = (\n",
    "        obs_data_sets.rave_clinic['SPECIFY1_OTHER_HCP'].astype(str) + \"; \" \n",
    "        + obs_data_sets.rave_clinic['SPECIFY1_OTHER_' + str(i)].astype(str)\n",
    "    )\n",
    "\n",
    "# modify weird strings\n",
    "obs_data_sets.rave_clinic['SPECIFY1_OTHER_HCP'].replace(\n",
    "    'nan; *','', regex=True, inplace=True\n",
    ")\n",
    "obs_data_sets.rave_clinic['SPECIFY1_OTHER_HCP'].replace(\n",
    "    '; nan$','', regex=True, inplace=True\n",
    ")\n",
    "obs_data_sets.rave_clinic['SPECIFY1_OTHER_HCP'].replace(\n",
    "    'nan','', regex=True, inplace=True\n",
    ")\n",
    "\n",
    "# convert Rave health care provider columns to a single health care boolean\n",
    "for hcp in hcps:\n",
    "    obs_data_sets.rave_clinic[hcp] = '0'\n",
    "for i in range(1, 17):\n",
    "    for hcp in hcps:\n",
    "        obs_data_sets.rave_clinic.loc[\n",
    "            obs_data_sets.rave_clinic[hcp + '_NY_' + str(i)] == 'Yes',\n",
    "            hcp\n",
    "        ] = '1'"
   ]
  },
  {
   "cell_type": "markdown",
   "metadata": {},
   "source": [
    "## Antenatal Visits: Antenatal Health Care Provider - Processing<a name=\"ante-hcp-pro\"></a>"
   ]
  },
  {
   "cell_type": "code",
   "execution_count": 57,
   "metadata": {},
   "outputs": [],
   "source": [
    "ante_hcp_dict = {\n",
    "    'OBSTETRICIAN': 'ante_hcp___1', \n",
    "    'FAM_PHYSICIAN': 'ante_hcp___2', \n",
    "    'MIDWIFE': 'ante_hcp___3', \n",
    "    'NURSE_PRACTITIONER': 'ante_hcp___4', \n",
    "    'OTHER1': 'ante_hcp___5',\n",
    "    'SPECIFY1_OTHER_HCP': 'ante_hcp_oth_spec'\n",
    "}\n",
    "ante_hcp = obs_clinic_migration.RedcapConv(\n",
    "    ante_hcp_dict, 0, main_df=obs_data_sets.rave_clinic, \n",
    "    recode_long=False\n",
    ")"
   ]
  },
  {
   "cell_type": "markdown",
   "metadata": {},
   "source": [
    "## Antenatal Visits: Antenatal Health Care Provider - Data Verification<a name=\"ante-hcp-comp\"></a>"
   ]
  },
  {
   "cell_type": "code",
   "execution_count": 58,
   "metadata": {},
   "outputs": [
    {
     "data": {
      "text/html": [
       "<div>\n",
       "<style scoped>\n",
       "    .dataframe tbody tr th:only-of-type {\n",
       "        vertical-align: middle;\n",
       "    }\n",
       "\n",
       "    .dataframe tbody tr th {\n",
       "        vertical-align: top;\n",
       "    }\n",
       "\n",
       "    .dataframe thead th {\n",
       "        text-align: right;\n",
       "    }\n",
       "</style>\n",
       "<table border=\"1\" class=\"dataframe\">\n",
       "  <thead>\n",
       "    <tr style=\"text-align: right;\">\n",
       "      <th></th>\n",
       "      <th>obs_id</th>\n",
       "      <th>ante_hcp___1</th>\n",
       "      <th>ante_hcp___2</th>\n",
       "      <th>ante_hcp___3</th>\n",
       "      <th>ante_hcp___4</th>\n",
       "      <th>ante_hcp___5</th>\n",
       "      <th>Source</th>\n",
       "    </tr>\n",
       "  </thead>\n",
       "  <tbody>\n",
       "    <tr>\n",
       "      <th>71</th>\n",
       "      <td>91201531</td>\n",
       "      <td>0</td>\n",
       "      <td>0</td>\n",
       "      <td>0</td>\n",
       "      <td>0</td>\n",
       "      <td>0</td>\n",
       "      <td>RaveConverted</td>\n",
       "    </tr>\n",
       "  </tbody>\n",
       "</table>\n",
       "</div>"
      ],
      "text/plain": [
       "      obs_id ante_hcp___1 ante_hcp___2 ante_hcp___3 ante_hcp___4 ante_hcp___5  \\\n",
       "71  91201531            0            0            0            0            0   \n",
       "\n",
       "           Source  \n",
       "71  RaveConverted  "
      ]
     },
     "execution_count": 58,
     "metadata": {},
     "output_type": "execute_result"
    }
   ],
   "source": [
    "ante_hcp.compare_conv_dde(obs_data_sets.redcap_clinic, ['ante_hcp_oth_spec'])\n",
    "# manually checked that subject 91201531 did not have health care provided \n",
    "# data previously entered in Rave"
   ]
  },
  {
   "cell_type": "markdown",
   "metadata": {},
   "source": [
    "## Antenatal Visits: Antenatal Health Care Provider - Prepare and Save<a name=\"ante-hcp-save\"></a>"
   ]
  },
  {
   "cell_type": "code",
   "execution_count": 59,
   "metadata": {},
   "outputs": [],
   "source": [
    "ante_hcp.prep_imp('antenatal_arm_1', 'antenatal_health_care_provider_complete')\n",
    "ante_hcp.data.to_csv('../data/processed/ante_hcp.csv', index=False)"
   ]
  },
  {
   "cell_type": "markdown",
   "metadata": {},
   "source": [
    "# Antenatal Visits: Conditions/Abnormalities Diagnosed During Pregnancy<a name=\"ante-cond\"></a>"
   ]
  },
  {
   "cell_type": "markdown",
   "metadata": {},
   "source": [
    "## Antenatal Visits: Conditions/Abnormalities Diagnosed During Pregnancy - Preprocessing<a name=\"ante-cond-pre\"></a>"
   ]
  },
  {
   "cell_type": "code",
   "execution_count": 60,
   "metadata": {},
   "outputs": [],
   "source": [
    "# create date 'unknown' columns in Rave\n",
    "obs_data_sets.rave_clinic = (\n",
    "    obs_clinic_migration_preprocessing.rave_date_unknown(\n",
    "        obs_data_sets.rave_clinic, 'DX_MED_CONDTN_SIN_BASELIN_NY_', \n",
    "        'Yes','ONSET_DT_', 7\n",
    "    )\n",
    ")\n",
    "obs_data_sets.rave_clinic = (\n",
    "    obs_clinic_migration_preprocessing.rave_date_unknown(\n",
    "        obs_data_sets.rave_clinic, 'CONTINUING_YN_', 'No','RESOLUTION_DT_', 7\n",
    "    )\n",
    ")     "
   ]
  },
  {
   "cell_type": "markdown",
   "metadata": {},
   "source": [
    "## Antenatal Visits: Conditions/Abnormalities Diagnosed During Pregnancy - Processing<a name=\"ante-cond-pro\"></a>"
   ]
  },
  {
   "cell_type": "code",
   "execution_count": 61,
   "metadata": {},
   "outputs": [
    {
     "name": "stdout",
     "output_type": "stream",
     "text": [
      "Column 'ante_cond_class', variable 'Diabetes:  Type Unknown' has an issue.\n",
      "Column 'ante_cond_class', variable 'Diabetes: Diabetes Type II – No Insulin' has an issue.\n",
      "Column 'ante_cond_class', variable 'Diabetes: Diabetes Type II – Insulin' has an issue.\n"
     ]
    }
   ],
   "source": [
    "ante_cond_dict = {\n",
    "    'DX_MED_CONDTN_SIN_BASELIN_NY_': 'ante_cond_dx_yn',\n",
    "    'MED_CONDN_DX_PREG_': 'ante_cond_class',\n",
    "    'SPECIFYABNCOND_': 'ante_cond_spec',\n",
    "    'ONSET_DT_yn_date_':'ante_cond_onset_date_yn',\n",
    "    'ONSET_DT_DD_': 'ante_cond_onset_day',\n",
    "    'ONSET_DT_MM_': 'ante_cond_onset_month',\n",
    "    'ONSET_DT_YYYY_': 'ante_cond_onset_year',\n",
    "    'CONTINUING_YN_': 'ante_cond_ongoing',\n",
    "    'RESOLUTION_DT_yn_date_': 'ante_cond_stop_yn',\n",
    "    'RESOLUTION_DT_DD_': 'ante_cond_res_day',\n",
    "    'RESOLUTION_DT_MM_': 'ante_cond_res_month',\n",
    "    'RESOLUTION_DT_YYYY_': 'ante_cond_res_year',\n",
    "    'COMMENTS_': 'ante_cond_comment'        \n",
    "}\n",
    "ante_cond = obs_clinic_migration.RedcapConv(\n",
    "    ante_cond_dict, 7, main_df=obs_data_sets.rave_clinic\n",
    ")"
   ]
  },
  {
   "cell_type": "markdown",
   "metadata": {},
   "source": [
    "## Antenatal Visits: Conditions/Abnormalities Diagnosed During Pregnancy - Post-processing<a name=\"ante-cond-post\"></a>"
   ]
  },
  {
   "cell_type": "code",
   "execution_count": 62,
   "metadata": {},
   "outputs": [
    {
     "name": "stdout",
     "output_type": "stream",
     "text": [
      "12    142\n",
      "8     126\n",
      "23    125\n",
      "19    103\n",
      "45     74\n",
      "32     58\n",
      "14     44\n",
      "38     43\n",
      "22     31\n",
      "44     24\n",
      "29     23\n",
      "21     22\n",
      "41     19\n",
      "15     16\n",
      "24     10\n",
      "33      7\n",
      "35      4\n",
      "37      4\n",
      "28      3\n",
      "20      2\n",
      "11      2\n",
      "13      2\n",
      "10      1\n",
      "9       1\n",
      "2       1\n",
      "42      1\n",
      "3       1\n",
      "7       1\n",
      "Name: ante_cond_class, dtype: int64\n"
     ]
    }
   ],
   "source": [
    "ante_cond.change_str(\n",
    "    {\n",
    "        'ante_cond_class': {\n",
    "            'Diabetes: Diabetes Type II – Insulin': \n",
    "                'Diabetes: Diabetes Type II - Insulin',\n",
    "            'Diabetes: Diabetes Type II – No Insulin': \n",
    "                'Diabetes: Diabetes Type II - No Insulin',\n",
    "            'Diabetes:  Type Unknown': 'Diabetes: Type Unknown'\n",
    "        },\n",
    "    }\n",
    ")"
   ]
  },
  {
   "cell_type": "markdown",
   "metadata": {},
   "source": [
    "## Antenatal Visits: Conditions/Abnormalities Diagnosed During Pregnancy - Data Verification<a name=\"ante-cond-comp\"></a>"
   ]
  },
  {
   "cell_type": "code",
   "execution_count": 63,
   "metadata": {},
   "outputs": [
    {
     "data": {
      "text/html": [
       "<div>\n",
       "<style scoped>\n",
       "    .dataframe tbody tr th:only-of-type {\n",
       "        vertical-align: middle;\n",
       "    }\n",
       "\n",
       "    .dataframe tbody tr th {\n",
       "        vertical-align: top;\n",
       "    }\n",
       "\n",
       "    .dataframe thead th {\n",
       "        text-align: right;\n",
       "    }\n",
       "</style>\n",
       "<table border=\"1\" class=\"dataframe\">\n",
       "  <thead>\n",
       "    <tr style=\"text-align: right;\">\n",
       "      <th></th>\n",
       "      <th>obs_id</th>\n",
       "      <th>redcap_repeat_instance</th>\n",
       "      <th>ante_cond_dx_yn</th>\n",
       "      <th>ante_cond_class</th>\n",
       "      <th>ante_cond_spec</th>\n",
       "      <th>...</th>\n",
       "      <th>ante_cond_res_day</th>\n",
       "      <th>ante_cond_res_month</th>\n",
       "      <th>ante_cond_res_year</th>\n",
       "      <th>ante_cond_comment</th>\n",
       "      <th>Source</th>\n",
       "    </tr>\n",
       "  </thead>\n",
       "  <tbody>\n",
       "  </tbody>\n",
       "</table>\n",
       "<p>0 rows × 16 columns</p>\n",
       "</div>"
      ],
      "text/plain": [
       "Empty DataFrame\n",
       "Columns: [obs_id, redcap_repeat_instance, ante_cond_dx_yn, ante_cond_class, ante_cond_spec, ante_cond_onset_date_yn, ante_cond_onset_day, ante_cond_onset_month, ante_cond_onset_year, ante_cond_ongoing, ante_cond_stop_yn, ante_cond_res_day, ante_cond_res_month, ante_cond_res_year, ante_cond_comment, Source]\n",
       "Index: []\n",
       "\n",
       "[0 rows x 16 columns]"
      ]
     },
     "execution_count": 63,
     "metadata": {},
     "output_type": "execute_result"
    }
   ],
   "source": [
    "ante_cond.compare_conv_dde(obs_data_sets.redcap_clinic)"
   ]
  },
  {
   "cell_type": "markdown",
   "metadata": {},
   "source": [
    "## Antenatal Visits: Conditions/Abnormalities Diagnosed During Pregnancy - Prepare and Save<a name=\"ante-cond-save\"></a>"
   ]
  },
  {
   "cell_type": "code",
   "execution_count": 64,
   "metadata": {},
   "outputs": [],
   "source": [
    "ante_cond.prep_imp(\n",
    "    'antenatal_arm_1', 'conditions_diagnosed_during_pregnancy_complete', \n",
    "    'conditions_diagnosed_during_pregnancy'\n",
    ")\n",
    "ante_cond.data.to_csv('../data/processed/ante_cond.csv', index=False)"
   ]
  },
  {
   "cell_type": "markdown",
   "metadata": {},
   "source": [
    "# Antenatal Visits: Surgical procedures performed during pregnancy<a name=\"ante-sur\"></a>"
   ]
  },
  {
   "cell_type": "markdown",
   "metadata": {},
   "source": [
    "## Antenatal Visits: Surgical procedures performed during pregnancy - Preprocessing<a name=\"ante-sur-pre\"></a>"
   ]
  },
  {
   "cell_type": "code",
   "execution_count": 65,
   "metadata": {},
   "outputs": [],
   "source": [
    "# create date 'unknown' columns in Rave\n",
    "obs_data_sets.rave_clinic = (\n",
    "    obs_clinic_migration_preprocessing.rave_date_unknown(\n",
    "        obs_data_sets.rave_clinic, 'SURG_PROCS_AFTER_BASLIN_NY_', \n",
    "        'Yes', 'PROCEDURE_DT_', 2\n",
    "    )\n",
    ")"
   ]
  },
  {
   "cell_type": "markdown",
   "metadata": {},
   "source": [
    "## Antenatal Visits: Surgical procedures performed during pregnancy - Processing<a name=\"ante-sur-pro\"></a>"
   ]
  },
  {
   "cell_type": "code",
   "execution_count": 66,
   "metadata": {},
   "outputs": [
    {
     "name": "stdout",
     "output_type": "stream",
     "text": [
      "Column 'ante_sx_class', variable 'Other, specify' has an issue.\n"
     ]
    }
   ],
   "source": [
    "ante_sur_dict = {\n",
    "    'SURG_PROCS_AFTER_BASLIN_NY_': 'ante_sx_yn',\n",
    "    'SURG_PROC_PERF_DURN_PREG_': 'ante_sx_class',\n",
    "    'SPECIFY_PROCEDURE_': 'ante_sx_spec',\n",
    "    'PROCEDURE_DT_DD_': 'ante_sx_day',\n",
    "    'PROCEDURE_DT_MM_': 'ante_sx_month',\n",
    "    'PROCEDURE_DT_YYYY_': 'ante_sx_year',\n",
    "    'INDICATION_': 'ante_sx_indication',\n",
    "    'COMMENT1_': 'ante_sx_comment',\n",
    "    'PROCEDURE_DT_yn_date_': 'ante_sx_date_yn'\n",
    "}\n",
    "ante_sur = obs_clinic_migration.RedcapConv(\n",
    "    ante_sur_dict, 2, main_df=obs_data_sets.rave_clinic\n",
    ")"
   ]
  },
  {
   "cell_type": "markdown",
   "metadata": {},
   "source": [
    "## Antenatal Visits: Surgical procedures performed during pregnancy - Post-processing<a name=\"ante-sur-post\"></a>"
   ]
  },
  {
   "cell_type": "code",
   "execution_count": 67,
   "metadata": {},
   "outputs": [
    {
     "name": "stdout",
     "output_type": "stream",
     "text": [
      "5    66\n",
      "4    10\n",
      "8     3\n",
      "2     2\n",
      "6     1\n",
      "Name: ante_sx_class, dtype: int64\n"
     ]
    }
   ],
   "source": [
    "ante_sur.change_str(\n",
    "    {\n",
    "        'ante_sx_class': {'Other, specify': 'Other'},\n",
    "    }\n",
    ")"
   ]
  },
  {
   "cell_type": "markdown",
   "metadata": {},
   "source": [
    "## Antenatal Visits: Surgical procedures performed during pregnancy - Data Verification<a name=\"ante-sur-comp\"></a>"
   ]
  },
  {
   "cell_type": "code",
   "execution_count": 68,
   "metadata": {},
   "outputs": [
    {
     "data": {
      "text/html": [
       "<div>\n",
       "<style scoped>\n",
       "    .dataframe tbody tr th:only-of-type {\n",
       "        vertical-align: middle;\n",
       "    }\n",
       "\n",
       "    .dataframe tbody tr th {\n",
       "        vertical-align: top;\n",
       "    }\n",
       "\n",
       "    .dataframe thead th {\n",
       "        text-align: right;\n",
       "    }\n",
       "</style>\n",
       "<table border=\"1\" class=\"dataframe\">\n",
       "  <thead>\n",
       "    <tr style=\"text-align: right;\">\n",
       "      <th></th>\n",
       "      <th>obs_id</th>\n",
       "      <th>redcap_repeat_instance</th>\n",
       "      <th>ante_sx_yn</th>\n",
       "      <th>ante_sx_class</th>\n",
       "      <th>ante_sx_spec</th>\n",
       "      <th>...</th>\n",
       "      <th>ante_sx_month</th>\n",
       "      <th>ante_sx_year</th>\n",
       "      <th>ante_sx_indication</th>\n",
       "      <th>ante_sx_comment</th>\n",
       "      <th>Source</th>\n",
       "    </tr>\n",
       "  </thead>\n",
       "  <tbody>\n",
       "  </tbody>\n",
       "</table>\n",
       "<p>0 rows × 12 columns</p>\n",
       "</div>"
      ],
      "text/plain": [
       "Empty DataFrame\n",
       "Columns: [obs_id, redcap_repeat_instance, ante_sx_yn, ante_sx_class, ante_sx_spec, ante_sx_date_yn, ante_sx_day, ante_sx_month, ante_sx_year, ante_sx_indication, ante_sx_comment, Source]\n",
       "Index: []\n",
       "\n",
       "[0 rows x 12 columns]"
      ]
     },
     "execution_count": 68,
     "metadata": {},
     "output_type": "execute_result"
    }
   ],
   "source": [
    "ante_sur.compare_conv_dde(obs_data_sets.redcap_clinic)"
   ]
  },
  {
   "cell_type": "markdown",
   "metadata": {},
   "source": [
    "## Antenatal Visits: Surgical procedures performed during pregnancy - Prepare and Save<a name=\"ante-sur-save\"></a>"
   ]
  },
  {
   "cell_type": "code",
   "execution_count": 69,
   "metadata": {},
   "outputs": [],
   "source": [
    "ante_sur.prep_imp(\n",
    "    'antenatal_arm_1', \n",
    "    'surgical_procedures_performed_during_pregnancy_complete', \n",
    "    'surgical_procedures_performed_during_pregnancy'\n",
    ")    \n",
    "ante_sur.data.to_csv('../data/processed/ante_sur.csv', index=False)"
   ]
  },
  {
   "cell_type": "markdown",
   "metadata": {},
   "source": [
    "# Antenatal Visits: Medications<a name=\"ante-meds\"></a>"
   ]
  },
  {
   "cell_type": "markdown",
   "metadata": {},
   "source": [
    "## Antenatal Visits: Medications - Preprocessing<a name=\"ante-meds-pre\"></a>"
   ]
  },
  {
   "cell_type": "code",
   "execution_count": 70,
   "metadata": {},
   "outputs": [],
   "source": [
    "# create date 'unknown' columns in Rave\n",
    "obs_data_sets.rave_clinic = (\n",
    "    obs_clinic_migration_preprocessing.rave_date_unknown(\n",
    "        obs_data_sets.rave_clinic, 'MED_ONGOING_NY_', 'No', 'STOP_DT_', 12\n",
    "    ) \n",
    ")\n",
    "obs_data_sets.rave_clinic = (\n",
    "    obs_clinic_migration_preprocessing.rave_date_unknown(\n",
    "        obs_data_sets.rave_clinic, 'MEDS_ANTENATAL_NY_', 'Yes', \n",
    "        'MED_ONSET_DT_', 12\n",
    "    ) \n",
    ")\n",
    "# further modify date values\n",
    "for i in range(1, 13):\n",
    "    obs_data_sets.rave_clinic.loc[\n",
    "        (\n",
    "            (obs_data_sets.rave_clinic['MEDS_ANTENATAL_NY_' + str(i)] == 'Yes')\n",
    "            & (obs_data_sets.rave_clinic['MED_ONSET_DT_DD_' + str(i)].isna())\n",
    "\n",
    "        ), 'MED_ONSET_DT_DD_' + str(i)\n",
    "    ] = 'Unknown'\n",
    "    obs_data_sets.rave_clinic.loc[\n",
    "        (\n",
    "            (obs_data_sets.rave_clinic['MEDS_ANTENATAL_NY_' + str(i)] == 'Yes')\n",
    "            & (obs_data_sets.rave_clinic['MED_ONSET_DT_MM_' + str(i)].isna())\n",
    "\n",
    "        ), 'MED_ONSET_DT_MM_' + str(i)\n",
    "    ] = 'Unknown'\n",
    "    \n",
    "    obs_data_sets.rave_clinic['MEDS_ONSET_date_ny_' + str(i)] = np.NaN\n",
    "    obs_data_sets.rave_clinic.loc[\n",
    "        (obs_data_sets.rave_clinic['MEDS_ANTENATAL_NY_' + str(i)] == 'Yes'),\n",
    "        'MEDS_ONSET_date_ny_' + str(i)\n",
    "    ] = 'Yes'\n",
    "    obs_data_sets.rave_clinic.loc[\n",
    "        (\n",
    "            (obs_data_sets.rave_clinic['MEDS_ANTENATAL_NY_' + str(i)] == 'Yes')\n",
    "            & (\n",
    "                obs_data_sets.rave_clinic[\n",
    "                    'MED_ONSET_DT_YYYY_' + str(i)\n",
    "                ] == '1900'\n",
    "            )\n",
    "\n",
    "        ), 'MEDS_ONSET_date_ny_' + str(i)\n",
    "    ] = 'No'"
   ]
  },
  {
   "cell_type": "markdown",
   "metadata": {},
   "source": [
    "## Antenatal Visits: Medications - Processing<a name=\"ante-meds-pro\"></a>"
   ]
  },
  {
   "cell_type": "code",
   "execution_count": 71,
   "metadata": {},
   "outputs": [
    {
     "name": "stdout",
     "output_type": "stream",
     "text": [
      "Column 'ante_med_class', variable 'Antidepressants: other' has an issue.\n",
      "Column 'ante_med_class', variable 'Selective Serotonin reuptake inhibitors (SSRI)' has an issue.\n"
     ]
    }
   ],
   "source": [
    "ante_meds_dict = {\n",
    "     'MEDS_ANTENATAL_NY_': 'ante_med_yn',\n",
    "     'MEDS_ANTENATAL_': 'ante_med_class',\n",
    "     'SPECIFY_ANTENAT_MED_': 'ante_med_spe',\n",
    "     'MEDS_ONSET_date_ny_' : 'ante_med_start_date_yn',\n",
    "     'MED_ONSET_DT_DD_': 'ante_med_start_day',\n",
    "     'MED_ONSET_DT_MM_': 'ante_med_start_month',\n",
    "     'MED_ONSET_DT_YYYY_': 'ante_med_start_year',\n",
    "     'MED_ONGOING_NY_': 'ante_med_cont',\n",
    "     'STOP_DT_yn_date_': 'ante_med_stop_date_yn',\n",
    "     'STOP_DT_DD_': 'ante_med_stop_day',\n",
    "     'STOP_DT_MM_': 'ante_med_stop_month',\n",
    "     'STOP_DT_YYYY_': 'ante_med_stop_year'     \n",
    "}\n",
    "ante_meds = obs_clinic_migration.RedcapConv(\n",
    "     ante_meds_dict, 12, obs_data_sets.rave_clinic\n",
    ")"
   ]
  },
  {
   "cell_type": "markdown",
   "metadata": {},
   "source": [
    "## Antenatal Visits: Medications - Post-processing<a name=\"ante-meds-post\"></a>"
   ]
  },
  {
   "cell_type": "code",
   "execution_count": 72,
   "metadata": {},
   "outputs": [
    {
     "name": "stdout",
     "output_type": "stream",
     "text": [
      "4     200\n",
      "26    169\n",
      "19    105\n",
      "17    102\n",
      "20     88\n",
      "25     61\n",
      "13     43\n",
      "8      41\n",
      "22     39\n",
      "5      37\n",
      "14     29\n",
      "2      17\n",
      "21     12\n",
      "9      10\n",
      "3       8\n",
      "10      6\n",
      "7       4\n",
      "15      4\n",
      "24      3\n",
      "11      2\n",
      "1       1\n",
      "6       1\n",
      "Name: ante_med_class, dtype: int64\n"
     ]
    }
   ],
   "source": [
    "ante_meds.change_str(\n",
    "    {\n",
    "        'ante_med_class': {\n",
    "            'Selective Serotonin reuptake inhibitors (SSRI)': \n",
    "                'Selective Serotonin Reuptake Inhibitors (SSRI)',\n",
    "            'Antidepressants: other' : 'Antidepressants: Other'\n",
    "        },\n",
    "    }\n",
    ")"
   ]
  },
  {
   "cell_type": "markdown",
   "metadata": {},
   "source": [
    "## Antenatal Visits: Medications - Data Verification<a name=\"ante-meds-comp\"></a>"
   ]
  },
  {
   "cell_type": "code",
   "execution_count": 73,
   "metadata": {},
   "outputs": [
    {
     "data": {
      "text/html": [
       "<div>\n",
       "<style scoped>\n",
       "    .dataframe tbody tr th:only-of-type {\n",
       "        vertical-align: middle;\n",
       "    }\n",
       "\n",
       "    .dataframe tbody tr th {\n",
       "        vertical-align: top;\n",
       "    }\n",
       "\n",
       "    .dataframe thead th {\n",
       "        text-align: right;\n",
       "    }\n",
       "</style>\n",
       "<table border=\"1\" class=\"dataframe\">\n",
       "  <thead>\n",
       "    <tr style=\"text-align: right;\">\n",
       "      <th></th>\n",
       "      <th>obs_id</th>\n",
       "      <th>redcap_repeat_instance</th>\n",
       "      <th>ante_med_yn</th>\n",
       "      <th>ante_med_class</th>\n",
       "      <th>ante_med_spe</th>\n",
       "      <th>...</th>\n",
       "      <th>ante_med_stop_date_yn</th>\n",
       "      <th>ante_med_stop_day</th>\n",
       "      <th>ante_med_stop_month</th>\n",
       "      <th>ante_med_stop_year</th>\n",
       "      <th>Source</th>\n",
       "    </tr>\n",
       "  </thead>\n",
       "  <tbody>\n",
       "  </tbody>\n",
       "</table>\n",
       "<p>0 rows × 15 columns</p>\n",
       "</div>"
      ],
      "text/plain": [
       "Empty DataFrame\n",
       "Columns: [obs_id, redcap_repeat_instance, ante_med_yn, ante_med_class, ante_med_spe, ante_med_start_date_yn, ante_med_start_day, ante_med_start_month, ante_med_start_year, ante_med_cont, ante_med_stop_date_yn, ante_med_stop_day, ante_med_stop_month, ante_med_stop_year, Source]\n",
       "Index: []\n",
       "\n",
       "[0 rows x 15 columns]"
      ]
     },
     "execution_count": 73,
     "metadata": {},
     "output_type": "execute_result"
    }
   ],
   "source": [
    "ante_meds.compare_conv_dde(obs_data_sets.redcap_clinic)"
   ]
  },
  {
   "cell_type": "markdown",
   "metadata": {},
   "source": [
    "## Antenatal Visits: Medications - Prepare and Save<a name=\"ante-meds-save\"></a>"
   ]
  },
  {
   "cell_type": "code",
   "execution_count": 74,
   "metadata": {},
   "outputs": [],
   "source": [
    "ante_meds.prep_imp('antenatal_arm_1', 'medications_complete', 'medications')\n",
    "ante_meds.data.to_csv('../data/processed/ante_meds.csv', index=False)"
   ]
  },
  {
   "cell_type": "markdown",
   "metadata": {},
   "source": [
    "# Delivery Data: Antepartum (1)<a name=\"del-ant\"></a>"
   ]
  },
  {
   "cell_type": "markdown",
   "metadata": {},
   "source": [
    "## Delivery Data: Antepartum (1) - Preprocessing<a name=\"del-ant-pre\"></a>"
   ]
  },
  {
   "cell_type": "code",
   "execution_count": 75,
   "metadata": {},
   "outputs": [],
   "source": [
    "# text field for baby number resulting in inconsistent entries\n",
    "obs_data_sets.rave_clinic['BABYNUMBER'].replace(\n",
    "    '[0-9\\-]*(?=B0)', '', regex = True, inplace = True\n",
    ")\n",
    "\n",
    "# format relevant columns\n",
    "obs_data_sets.rave_clinic.loc[:, 'ANTEPARTUMBLEED_ONSET_DT'] = (\n",
    "    pd.to_datetime(\n",
    "        obs_data_sets.rave_clinic['ANTEPARTUMBLEED_ONSET_DT']\n",
    "    ).dt.strftime('%Y-%m-%d')\n",
    ")\n",
    "for reformat_date_col in [\n",
    "    'DISCHARG_HOME_DT', 'HOSP_TRANSFER_DT', 'TRANSFER_ICU_DT', \n",
    "    'DATE_MATERNAL_DEATH_UNREL_PREG', 'MATERNAL_DEATH_RELAT_PREG_DT'\n",
    "]:\n",
    "    obs_data_sets.rave_clinic[reformat_date_col] = pd.to_datetime(\n",
    "        obs_data_sets.rave_clinic[reformat_date_col].str.split(\n",
    "            ' ', expand=True\n",
    "        )[0], format='%d%b%Y'\n",
    "    ).dt.strftime('%Y-%m-%d')\n",
    "\n",
    "# some columns don't have an associated 'STD' column and needed to be coded\n",
    "obs_data_sets.rave_clinic['UNKNOWN_PAIN_NY'].replace(\n",
    "    {'1': 'Yes', '0': 'No'}, inplace=True\n",
    ")\n",
    "obs_data_sets.rave_clinic['CERV_DILAT_UNK'].replace(\n",
    "    {'1': 'Unknown', '0': 'Known'}, inplace=True\n",
    ")\n",
    "obs_data_sets.rave_clinic['RUP_MEM_DTTM_UNK'].replace(\n",
    "    {'1': 'Unknown', '0': 'Known'}, inplace=True\n",
    ")\n",
    "obs_data_sets.rave_clinic['FULL_DILATN_TM_NA'].replace(\n",
    "    {'1': 'Not applicable or unknown', '0': 'Known'}, inplace=True\n",
    ")\n",
    "obs_data_sets.rave_clinic['PUSHSTART_DTTM_NA_UNK'].replace(\n",
    "    {'1': 'Not applicable or unknown', '0': 'Known'}, inplace=True\n",
    ")\n",
    "\n",
    "\n",
    "obs_data_sets.rave_clinic.loc[\n",
    "    obs_data_sets.rave_clinic['ONSET_LAB_DTTM'].notna(), 'ONSET_LAB_NR_NA'\n",
    "] = 'Recorded'\n",
    "\n",
    "# format relevant columns\n",
    "obs_data_sets.rave_clinic['ADMIT_DT_TM'] = pd.to_datetime(\n",
    "    (\n",
    "        obs_data_sets.rave_clinic['ADMIT_DT'].str.split(' ', expand=True)[0]\n",
    "        # some times have paddes zero and some don't\n",
    "        + obs_data_sets.rave_clinic['ADMIT_TM'].str.zfill(5) \n",
    "    ), format = '%d%b%Y%H:%M'\n",
    ").dt.strftime('%Y-%m-%d %H:%M')\n",
    "for date_col_name in ['ONSET_LAB_DTTM', 'RUP_MEM_DTTM', 'FULLDILATN_DTTM', 'PUSHSTART_DTTM']:\n",
    "    obs_data_sets.rave_clinic[date_col_name] = pd.to_datetime(\n",
    "        (\n",
    "            obs_data_sets.rave_clinic[date_col_name].str.split(\n",
    "                ' ', expand=True\n",
    "            )[0]\n",
    "            + obs_data_sets.rave_clinic[date_col_name].str.split(\n",
    "                ' ', expand=True\n",
    "            )[1].str.zfill(12) # some times have paddes zero and some don't\n",
    "        ), format = '%d%b%Y%H:%M:%S.%f'\n",
    "    ).dt.strftime('%Y-%m-%d %H:%M')\n",
    "\n",
    "# some columns don't have an associated 'STD' column and needed to be coded\n",
    "obs_data_sets.rave_clinic['BISHOPSCOR_UNK'].replace(\n",
    "    {'1': 'Unknown', '0': 'Known'}, inplace=True\n",
    ")\n",
    "obs_data_sets.rave_clinic['BISHOPSCOR'] = (\n",
    "    obs_data_sets.rave_clinic['BISHOPSCOR'].str.replace('.00', '')\n",
    ")\n",
    "obs_data_sets.rave_clinic['CERVDILAT_CSECT_UNK'].replace(\n",
    "    {'1': 'Unknown', '0': 'Known'}, inplace=True\n",
    ")\n",
    "\n",
    "# In Rave, 'Specify name of other hospital' data is intermingled with\n",
    "# associated labelled data\n",
    "obs_data_sets.rave_clinic = (\n",
    "    obs_clinic_migration_preprocessing.create_specify_col(\n",
    "        'NAMEOFHOSPITAL1_SPEC', 'NAMEOFHOSPITAL1_STD', 'NAMEOFHOSPITAL1', '3', \n",
    "        'Other', obs_data_sets.rave_clinic\n",
    "    )\n",
    ")"
   ]
  },
  {
   "cell_type": "markdown",
   "metadata": {},
   "source": [
    "## Delivery Data: Antepartum (1) - Processing<a name=\"del-ant-pro\"></a>"
   ]
  },
  {
   "cell_type": "code",
   "execution_count": 76,
   "metadata": {},
   "outputs": [
    {
     "name": "stdout",
     "output_type": "stream",
     "text": [
      "Column 'del_num_fetus', variable 'Singleton' has an issue.\n",
      "Column 'del_num_fetus', variable 'Twins' has an issue.\n",
      "Column 'del_baby_obsid', variable 'B0' has an issue.\n",
      "Column 'del_baby_obsid', variable '91600122B-01' has an issue.\n",
      "Column 'del_baby_obsid', variable '91201767-BOI' has an issue.\n",
      "Column 'del_ant_iugr_per', variable '= 3 or < 10 Percentile' has an issue.\n",
      "Column 'del_ant_aph_ebl', variable '<500 cc' has an issue.\n",
      "Column 'del_breech_spec', variable 'Breech Type Unknown' has an issue.\n",
      "Column 'del_cephalic_spec', variable 'Cephalic Type Unknown' has an issue.\n",
      "Column 'del_hospital_spec', variable 'St. Michael’s Hospital' has an issue.\n"
     ]
    }
   ],
   "source": [
    "del_ant_dict = {\n",
    "    # 1. Number of fetuses\n",
    "    'NUMBERFETUSES': 'del_num_fetus',\n",
    "    'SPECIFY_CHRORION_AMNION': 'del_chor_amnio',\n",
    "    'BABYNUMBER': 'del_baby_obsid',\n",
    "    # 2. Prior to labour and delivery, did any complications occur?\n",
    "    'COMPLICATIONS_OCCUR_NY': 'del_ant_comp_yn',\n",
    "    'FETAL1_NY': 'del_ant_comp_fet',\n",
    "    'ANOMALY_NY': 'del_ant_fet_anom',\n",
    "    'ISO_ALLO_IMMUNIZATION_NY': 'del_ant_fet_allo',\n",
    "    'IUGR1_NY': 'del_ant_fet_iugr',\n",
    "    'LARGE_GESTN_AGE_NY': 'del_ant_fet_lga',\n",
    "    'OLIGOHYDRAMNIOS_NY': 'del_ant_fet_oligo',\n",
    "    'POLYHYDRAMNIOS_NY': 'del_ant_fet_poly',\n",
    "    'OTHER_FETAL_NY': 'del_ant_fet_oth',\n",
    "    'ANOMALY_SPECIFY': 'del_ant_fetanom_spec',\n",
    "    'IUGR_PERCENT': 'del_ant_iugr_per',\n",
    "    'SPECIFY_OTHER_FETAL_COMPLICATION': 'del_ant_fet_oth_spec',\n",
    "    'PLACENTAL1_NY': 'del_ant_plac_yn',\n",
    "    'PLACENTAL_ABRUPTION1_NY': 'del_ant_plac_abrpt',\n",
    "    'PLACENTA_ACCRETA_NY': 'del_ant_plac_accreta',\n",
    "    'PLACENTA_INCRETA_NY': 'del_ant_plac_increta',\n",
    "    'PLACENTA_PERCRETA_NY': 'del_ant_plac_percreta',\n",
    "    'PLACENTA_PREVIA1_NY': 'del_ant_plac_previa',\n",
    "    'OTHERPLACENTALCOMPLN_NY': 'del_ant_plac_oth',\n",
    "    'SEVERITY_PLACENT_ABRUPTION': 'del_ant_abrpt_spec',\n",
    "    'PLACENTPREVIA_CM': 'del_ant_prev_spec',\n",
    "    'SPECIFY_OTHER_PLACEN_COMPLN': 'del_ant_plac_oth_spec',\n",
    "    'MATERNAL1_NY': 'del_ant_mat_yn',\n",
    "    'ANEMIA_UNRESPON_THERAPY_NY': 'del_ant_mat_anemia',\n",
    "    'ANTEPARTUM_BLEED_NY': 'del_ant_mat_aph',\n",
    "    'GESTATIONALDIABETES': 'del_ant_mat_gdm',\n",
    "    'HYPEREMESIS_GRAVIDARUM_NY': 'del_ant_mat_hyperemesis',\n",
    "    'HYPERTENDISORDER_PREG_NY': 'del_ant_mat_htn_gen',\n",
    "    'ECLAMPSIA1_NY': 'del_ant_mat_eclampsia',\n",
    "    'GESTATN_HYPERTENSION': 'del_ant_mat_ghtn',\n",
    "    'HELLP1_NY': 'del_ant_mat_hellp',\n",
    "    'PREECLAMPSIA1_NY': 'del_ant_mat_pet',\n",
    "    'PREEXIST_HYPERTEN_SUP_PREECAL_NY': 'del_ant_mat_htn_pet',\n",
    "    'PRETERMLABOUR1_NY': 'del_ant_mat_ptl',\n",
    "    'PRETERMPREMRUPMEMBRAN_NY': 'del_ant_mat_pprom',\n",
    "    'OTHER_MATERN_COMPLICATN_NY': 'del_ant_mat_oth',\n",
    "    'ANTEPARTUMBLEED_ONSET_DT': 'del_ant_aph_onset',\n",
    "    'TRANSFUSION1_NY': 'del_ant_aph_trans',\n",
    "    'ESTIMATEDBLOODLOSS1': 'del_ant_aph_ebl',\n",
    "    'SPECIFY_OTHER_MATN_COMPLICATN': 'del_ant_mat_oth_spec',\n",
    "    # 3. Antenatal Glucocorticoids\n",
    "    'ANTENAT_GLUCOCORTICOIDS_NY': 'del_acs_yn',\n",
    "    'CELESTONE_DEXAMETHASONE': 'del_acs_type',\n",
    "    'CELESTONE_DOSE': 'del_acs_cel_dose',\n",
    "    'DEXAMETHASONE_DOSE': 'del_acs_dex_dose',\n",
    "    # 4. Admission Data\n",
    "    'ADMIT_DT_TM': 'del_lnd_adm_dt_time',\n",
    "    'CERV_DILAT_UNK': 'del_lnd_adm_cx_unk',\n",
    "    'CERV_DILATN_ADMIT': 'del_lnd_adm_cx',\n",
    "    'ONSET_LAB_NR_NA': 'del_lnd_lab_onset_unk',\n",
    "    'ONSET_LAB_DTTM': 'del_lnd_lab_onset',\n",
    "    'RUP_MEM_DTTM_UNK': 'del_lnd_rom_dttm_unk',\n",
    "    'RUP_MEM_DTTM': 'del_lnd_rom_dttm',\n",
    "    'RUPT_MEMBRAN_TYPE': 'del_lnd_rom_type',\n",
    "    'GRP_B_STREP_RESULTS':'del_lnd_gbs',\n",
    "    'FULL_DILATN_TM_NA': 'del_lnd_fully_unk',\n",
    "    'FULLDILATN_DTTM': 'del_lnd_fully_dttm',\n",
    "    'PUSHSTART_DTTM_NA_UNK': 'del_lnd_push_unk',\n",
    "    'PUSHSTART_DTTM':'del_lnd_push_dttm',\n",
    "    # 5. Induction of labour \n",
    "    'INDUCTN_LAB_NY': 'del_lnd_iol_yn',\n",
    "    'INDICAT_FOR_INDUCTN': 'del_lnd_iol_reason',\n",
    "    'FETAL_INDUCTN_NY': 'del_iol_fet_yn',\n",
    "    'ATYP_ABN_FETAL_SURV': 'del_iol_fet_atypical',\n",
    "    'FETAL_ANOM_NY': 'del_iol_fet_anomaly',\n",
    "    'IUGR_INDN_NY': 'del_iol_fet_iugr',\n",
    "    'MACROSOMNIA1_NY': 'del_iol_fet_macrosomia',\n",
    "    'MULT_GESTN_NY': 'del_iol_fet_multiple',\n",
    "    'POSTDATES_NY': 'del_iol_fet_post_dat',\n",
    "    'OTH_FETAL_COMPLICATN': 'del_iol_fet_oth',\n",
    "    'TERMINATN_PREG_NY': 'del_iol_fet_termination',\n",
    "    'SPECIFYOTHERFETALCOMPLICN': 'del_iol_fet_oth_spec',\n",
    "    'MATERNAL_INDN_NY': 'del_iol_mat_yn',\n",
    "    'PRELABOR_RUP_MEM_NY': 'del_iol_mat_prom',\n",
    "    'DIABETES_INDIC_NY': 'del_iol_mat_diabetes',\n",
    "    'HX_PRECIP_DELIV_NY': 'del_iol_mat_precipitous',\n",
    "    'OLIGOHY_DECR_AMNIOT_FLUID': 'del_iol_mat_oligo',\n",
    "    'OTH_OBSTET_COMPLICATN': 'del_iol_mat_oth',\n",
    "    'PREEXIST_MAT_MEDCONDNS': 'del_iol_mat_pre_med_cond',\n",
    "    'HYPERTEN_DISORDER_PREG': 'del_iol_mat_preeclampsia',\n",
    "    'SPECIFYOTHEROBSTETCOMP': 'del_iol_mat_oth_spec',\n",
    "    'OTHER_INDICATN_INDUCTN': 'del_iol_oth_yn',\n",
    "    'MATERN_REQUEST_NY': 'del_iol_oth_mat_req',\n",
    "    'HOSP_DISTANCE_NY': 'del_iol_oth_safety',\n",
    "    'ACOMODATE_CAREGIVER': 'del_iol_oth_accom',\n",
    "    'OTHER_INDICATN_OTHER_NY': 'del_iol_oth_oth',\n",
    "    'OTHER_OTH_SPECIFY': 'del_iol_oth_oth_spec',\n",
    "    'METHOD_INDUCTION': 'del_iol_method',\n",
    "    'AMNIOTOM_NY': 'del_lnd_iol_meth_amni',\n",
    "    'OXYTOCIN': 'del_lnd_iol_meth_pit',\n",
    "    'PROSTAGLAN1': 'del_lnd_iol_meth_prost',\n",
    "    'BALOON_MECH_DEVIC_NY': 'del_lnd_iol_meth_foley',\n",
    "    'LAMINAR_ARTIFIC_TENT': 'del_lnd_iol_meth_tent',\n",
    "    'SWEEP_MEMBRAN_NY': 'del_lnd_iol_meth_sweep',\n",
    "    'BISHOPSCOR_UNK': 'del_lnd_iol_bishop_unk',\n",
    "    'BISHOPSCOR': 'del_lnd_iol_bishop',\n",
    "    # 6. Augmentation of labour\n",
    "    'AUGMENTATN_LABOR': 'del_lnd_aug_yn', \n",
    "    'AMNIOTOM2_NY': 'del_lnd_aug_rom', \n",
    "    'OXYTOCIN2': 'del_lnd_aug_pit', \n",
    "    'PROSTAGLAN2_NY': 'del_lnd_aug_prost',\n",
    "    # 7. Type of birth\n",
    "    'TYPEOFBIRTH3': 'del_mod', \n",
    "    'TYPEVAGINALBIRTH': 'del_mod_svd_avd', \n",
    "    'FORCEPS': 'del_mod_avd_forcep', \n",
    "    'VACUUM': 'del_mod_avd_vacuum', \n",
    "    'CERVDILAT_CSECT_UNK': 'del_mod_cs_dil_unk', \n",
    "    'CERVDILAT_CSECTN': 'del_mod_cs_dil', \n",
    "    'TYPE_CSECTN': 'del_mod_cs_type', \n",
    "    'INDICATN_FOR_C_SECTN_KUNK': 'del_mod_cs_ind', \n",
    "    'FETAL_INDICAT_NY': 'del_mod_cs_fet', \n",
    "    'FETAL_ANOMAL_CSECTN': 'del_mod_cs_fet_anom', \n",
    "    'CORD_PROLAPS_CSECTN': 'del_mod_cs_fet_cord', \n",
    "    'IUGR_CSECTN': 'del_mod_cs_fet_iugr', \n",
    "    'MACROSOM_CSECTN': 'del_mod_cs_fet_lga', \n",
    "    'MALPOSITN_CSECTN': 'del_mod_cs_fet_pos', \n",
    "    'WELLBEINCONCERN': 'del_mod_cs_fet_nrfh', \n",
    "    'OTHERFETAL_INDICATN': 'del_mod_cs_fet_oth', \n",
    "    'SPECFY_OTH_FET_IDICAT': 'del_mod_cs_fet_oth_spec', \n",
    "    'MATERN_INDICATN': 'del_mod_cs_mat', \n",
    "    'FAIL_FORCEP_VAC': 'del_mod_cs_mat_fail_avd', \n",
    "    'HYPER_DIS_PREG': 'del_mod_cs_mat_htn', \n",
    "    'MULTI_GESTN': 'del_mod_cs_mat_multi', \n",
    "    'NON_PROGRES_1STSTAGE': 'del_mod_cs_mat_np_1st', \n",
    "    'NON_PROGRES_2NDSTAGE': 'del_mod_cs_mat_np_2st', \n",
    "    'PLACENT_PREVIA': 'del_mod_cs_mat_previa', \n",
    "    'PLACENT_ABRUPTN': 'del_mod_cs_mat_abrupt', \n",
    "    'PREEXIST_HEALTH_PROBM': 'del_mod_cs_mat_cond', \n",
    "    'PREV_CSECTN': 'del_mod_cs_mat_prev_cs', \n",
    "    'PREV_UTERIN_INCISN': 'del_mod_cs_mat_myo', \n",
    "    'SUSPECT_CHORIOAMNION': 'del_mod_cs_mat_chorio', \n",
    "    'UNSUCCESS_VBAC1': 'del_mod_cs_mat_vbac', \n",
    "    'UTERIN_RUPT': 'del_mod_cs_mat_rupture', \n",
    "    'OTH_OBSTET_COMPLICAT': 'del_mod_cs_mat_other', \n",
    "    'SPECFY_OTH_OBSTET_COMP': 'del_mod_cs_mat_oth_spec', \n",
    "    'OTHER_INDICATN_FORCSECTN': 'del_mod_cs_oth', \n",
    "    'ACCOMODATE_CAREPROVID': 'del_mod_cs_oth_accom', \n",
    "    'MAT_REQUEST': 'del_mod_cs_oth_mat_req', \n",
    "    'OTH_INDICAT_UNK': 'del_mod_cs_oth_unk', \n",
    "    'OTHER_OTHER_INDICATNFOR_CSECTN': 'del_mod_cs_oth_oth', \n",
    "    'SPECFY_OTH_OTH_INDI_CSECTN': 'del_mod_cs_oth_oth_spec',\n",
    "    # 8. Presentation at delivery\n",
    "    'PRESENTATN_ATDELIVRY': 'del_presentation', \n",
    "    'TYPEOFBREECH': 'del_breech_spec', \n",
    "    'TYPEOFCEPHALIC': 'del_cephalic_spec',\n",
    "    # 9. Birth location\n",
    "    'BIRTHLOCATION1': 'del_birth_location',\n",
    "    'NAMEOFHOSPITAL1': 'del_hospital_spec',\n",
    "    'NAMEOFHOSPITAL1_SPEC': 'del_hospital_oth_spec',\n",
    "    # 10. During labour and delivery, did any complications occur?\n",
    "    'COMPLICATN_LAB_DEL': 'del_lnd_comp_yn', \n",
    "    'ATYPICAL_ABN_FETAL_SURVELNCE_NY': 'del_lnd_comp_fetal_surv', \n",
    "    'CLINICAL_INFECTION_NY': 'del_lnd_comp_infxn', \n",
    "    'MATERNAL_FEVER_NY': 'del_lnd_comp_mat_fever', \n",
    "    'FETAL_TACHYCARDIA1_NY': 'del_lnd_comp_fet_tachy', \n",
    "    'CLIN_CHORIOAMNION_NY': 'del_lnd_comp_chorio', \n",
    "    'POSITIV_BLOOD_CULT_NY': 'del_lnd_comp_culture', \n",
    "    'CORD_PROLAPSE1_NY': 'del_lnd_comp_prolapse', \n",
    "    'HYPERTEN_DISORDER_PREG1_NY': 'del_lnd_comp_htn', \n",
    "    'ECLAMPSIA2_NY': 'del_lnd_comp_eclampsia', \n",
    "    'GESTATIONAL_HYPERTEN2_NY': 'del_lnd_comp_ghtn', \n",
    "    'HELLP2_NY': 'del_lnd_comp_hellp', \n",
    "    'PREECLAMPSIA2_NY': 'del_lnd_comp_pet', \n",
    "    'PRE_HYPERTEN_IMPOS_PREECLAMP_NY': 'del_lnd_comp_htn_pet', \n",
    "    'HYSTERECTOMY2_NY': 'del_lnd_comp_hyst', \n",
    "    'MECONIUM2_NY': 'del_lnd_comp_mec', \n",
    "    'NON_PROGRESS_1STSTAGE_LABOUR_NY': 'del_lnd_comp_np_1st', \n",
    "    'NON_PROGRESS_2NDSTAGE_LABOR': 'del_lnd_comp_np_2st', \n",
    "    'NON_PROGRESIV_LABOR_DESC_DYS_NY': 'del_lnd_comp_np_gen', \n",
    "    'PERINEAL_HEMATOMA2_NY': 'del_lnd_comp_hematoma', \n",
    "    'PLACENTAL_ABRUPTION3_NY': 'del_lnd_comp_abruption', \n",
    "    'POSTPARTUM_HEMORHAGE2_NY': 'del_lnd_comp_pph', \n",
    "    'TRANSFUSION2_NY': 'del_lnd_comp_pph_trans', \n",
    "    'PULMONARY_EMBOLISM2_NY': 'del_lnd_comp_pe', \n",
    "    'RETAINED_PLACENTA_MAN_REMOV2_NY': 'del_lnd_comp_plac_man', \n",
    "    'RETAIN_PLACENTA_SURG_REMOV2_NY': 'del_lnd_comp_plac_sx', \n",
    "    'SHOULDER_DYSTOCIA1_NY': 'del_lnd_comp_shoulder', \n",
    "    'UTERINE_ATONY2_NY': 'del_lnd_comp_atony', \n",
    "    'UTERINE_DEHISCENCE2_NY': 'del_lnd_comp_dehis', \n",
    "    'UTERINE_RUPTURE2_NY': 'del_lnd_comp_rupture', \n",
    "    'OTHER_COMPLICATIONS_NY': 'del_lnd_comp_other', \n",
    "    'ESTIMAT_BLOOD_LOSS2': 'del_lnd_comp_blood_loss', \n",
    "    'SPECIFY_OTHER_COMPLICATIONS': 'del_lnd_comp_oth_spec',\n",
    "    # 12. Pain Management for labour and/or vaginal delivery\n",
    "    'PAIN_MGMT_NY': 'del_pain_mgmt_yn',\n",
    "    'NITROUS_OXIDE_NY': 'del_pain_nitrous', \n",
    "    'OPIOIDS_NY': 'del_pain_opiod', \n",
    "    'EPIDURAL_NY': 'del_pain_epi', \n",
    "    'COMBN_SPINAL_EPIDURAL_NY': 'del_pain_cse', \n",
    "    'STER_WATER_SALINE_INJECTN_NY': 'del_pain_sterile_h2o', \n",
    "    'TENS': 'del_pain_tens', 'TUB_SHOWER_NY': 'del_pain_tub', \n",
    "    'LOCAL_NY': 'del_pain_local', \n",
    "    'PUDENTAL_NY': 'del_pain_pudendal', \n",
    "    'OTHER_PAIN_MGNT': 'del_pain_oth', \n",
    "    'UNKNOWN_PAIN_NY': 'del_pain_unk', \n",
    "    'SPECIFY_OTHER_PAIN_MGMT': 'del_pain_oth_spc', \n",
    "    # 13. Anesthesia for Cesarian Section\n",
    "    'ANESTHESIA_CSECTION_NY': 'del_pain_cs_yn', \n",
    "    'EPIDURAL_CS_NY': 'del_pain_cs_epi', \n",
    "    'SPINAL_NY': 'del_pain_cs_spinal', \n",
    "    'GENERAL_NY': 'del_pain_cs_general', \n",
    "    'ANATHESIA_UNK': 'del_pain_cs_unk',\n",
    "    # 14. Was the placenta:\n",
    "    'PLACENTA_SENT_PATHOLOG_NY': 'del_pp_pathology', \n",
    "    'PLACENTA_PICKUP_BIOBANK_NY': 'del_pp_biobank', \n",
    "    'DISCHARGED_HOME_NY': 'del_pp_home', \n",
    "    'TRANSFER_TO_OTH_HOSP_NY': 'del_pp_oth_hospital', \n",
    "    'TRANSFER_TO_ICU_NY': 'del_pp_icu', \n",
    "    'MATERNAL_DEATH_UNREL_PREG_BIRTH': 'del_pp_death', \n",
    "    'MAT_DEATH_RELAT_PREG_BIRTH_NY': 'del_pp_death_preg', \n",
    "    # 15. Maternal outcome:\n",
    "    'DISCHARG_HOME_DT': 'del_pp_home_date', \n",
    "    'HOSP_TRANSFER_DT': 'del_pp_oth_hospital_date', \n",
    "    'TRANSFER_ICU_DT': 'del_pp_icu_date', \n",
    "    'DATE_MATERNAL_DEATH_UNREL_PREG': 'del_pp_death_date', \n",
    "    'MATERNAL_DEATH_RELAT_PREG_DT': 'del_pp_death_preg_date'      \n",
    "}\n",
    "del_ant = obs_clinic_migration.RedcapConv(\n",
    "    del_ant_dict, 0, main_df=obs_data_sets.rave_clinic\n",
    ")"
   ]
  },
  {
   "cell_type": "markdown",
   "metadata": {},
   "source": [
    "## Delivery Data: Antepartum (1) - Post-processing<a name=\"del-ant-post\"></a>"
   ]
  },
  {
   "cell_type": "code",
   "execution_count": 77,
   "metadata": {},
   "outputs": [
    {
     "name": "stdout",
     "output_type": "stream",
     "text": [
      "1    2259\n",
      "2      57\n",
      "Name: del_num_fetus, dtype: int64\n",
      "2    44\n",
      "1     6\n",
      "Name: del_ant_iugr_per, dtype: int64\n",
      "1    13\n",
      "4    11\n",
      "3     1\n",
      "Name: del_ant_aph_ebl, dtype: int64\n",
      "5    102\n",
      "4     23\n",
      "3     11\n",
      "1      6\n",
      "Name: del_breech_spec, dtype: int64\n",
      "4    2092\n",
      "5       9\n",
      "2       3\n",
      "3       1\n",
      "1       1\n",
      "Name: del_cephalic_spec, dtype: int64\n",
      "1    2196\n",
      "2      96\n",
      "3      15\n",
      "Name: del_hospital_spec, dtype: int64\n",
      "1    2316\n",
      "Name: del_baby_obsid, dtype: int64\n"
     ]
    }
   ],
   "source": [
    "del_ant.change_str(\n",
    "    {\n",
    "        'del_num_fetus': {\n",
    "            'Singleton': 'Singleton (1)',\n",
    "            'Twins' : 'Twins (2)'\n",
    "        }, \n",
    "        'del_ant_iugr_per': {\n",
    "            '= 3 or < 10 Percentile': '≥3 or < 10 Percentile'\n",
    "        }, \n",
    "        'del_ant_aph_ebl': {'<500 cc': '< 500 cc'},\n",
    "        'del_breech_spec': {'Breech Type Unknown': 'Unknown'},\n",
    "        'del_cephalic_spec': {'Cephalic Type Unknown': 'Unknown'},\n",
    "        'del_hospital_spec': {\n",
    "            \"St. Michael’s Hospital\": \"St. Michael's Hospital\"\n",
    "        },\n",
    "        'del_baby_obsid': {\n",
    "            '91201767-BOI': 'B01',\n",
    "            'B0': 'B01', \n",
    "            '91600122B-01': 'B01'\n",
    "        }\n",
    "    }\n",
    ")\n",
    "del_ant.remove_na()"
   ]
  },
  {
   "cell_type": "markdown",
   "metadata": {},
   "source": [
    "## Delivery Data: Antepartum (1) - Data Verification<a name=\"del-ant-comp\"></a>"
   ]
  },
  {
   "cell_type": "code",
   "execution_count": 78,
   "metadata": {},
   "outputs": [
    {
     "data": {
      "text/html": [
       "<div>\n",
       "<style scoped>\n",
       "    .dataframe tbody tr th:only-of-type {\n",
       "        vertical-align: middle;\n",
       "    }\n",
       "\n",
       "    .dataframe tbody tr th {\n",
       "        vertical-align: top;\n",
       "    }\n",
       "\n",
       "    .dataframe thead th {\n",
       "        text-align: right;\n",
       "    }\n",
       "</style>\n",
       "<table border=\"1\" class=\"dataframe\">\n",
       "  <thead>\n",
       "    <tr style=\"text-align: right;\">\n",
       "      <th></th>\n",
       "      <th>obs_id</th>\n",
       "      <th>del_num_fetus</th>\n",
       "      <th>del_chor_amnio</th>\n",
       "      <th>del_baby_obsid</th>\n",
       "      <th>del_ant_comp_yn</th>\n",
       "      <th>...</th>\n",
       "      <th>del_pp_oth_hospital_date</th>\n",
       "      <th>del_pp_icu_date</th>\n",
       "      <th>del_pp_death_date</th>\n",
       "      <th>del_pp_death_preg_date</th>\n",
       "      <th>Source</th>\n",
       "    </tr>\n",
       "  </thead>\n",
       "  <tbody>\n",
       "  </tbody>\n",
       "</table>\n",
       "<p>0 rows × 210 columns</p>\n",
       "</div>"
      ],
      "text/plain": [
       "Empty DataFrame\n",
       "Columns: [obs_id, del_num_fetus, del_chor_amnio, del_baby_obsid, del_ant_comp_yn, del_ant_comp_fet, del_ant_fet_anom, del_ant_fet_allo, del_ant_fet_iugr, del_ant_fet_lga, del_ant_fet_oligo, del_ant_fet_poly, del_ant_fet_oth, del_ant_fetanom_spec, del_ant_iugr_per, del_ant_fet_oth_spec, del_ant_plac_yn, del_ant_plac_abrpt, del_ant_plac_accreta, del_ant_plac_increta, del_ant_plac_percreta, del_ant_plac_previa, del_ant_plac_oth, del_ant_abrpt_spec, del_ant_prev_spec, del_ant_plac_oth_spec, del_ant_mat_yn, del_ant_mat_anemia, del_ant_mat_aph, del_ant_mat_gdm, del_ant_mat_hyperemesis, del_ant_mat_htn_gen, del_ant_mat_eclampsia, del_ant_mat_ghtn, del_ant_mat_hellp, del_ant_mat_pet, del_ant_mat_htn_pet, del_ant_mat_ptl, del_ant_mat_pprom, del_ant_mat_oth, del_ant_aph_onset, del_ant_aph_trans, del_ant_aph_ebl, del_ant_mat_oth_spec, del_acs_yn, del_acs_type, del_acs_cel_dose, del_acs_dex_dose, del_lnd_adm_dt_time, del_lnd_adm_cx_unk, del_lnd_adm_cx, del_lnd_lab_onset_unk, del_lnd_lab_onset, del_lnd_rom_dttm_unk, del_lnd_rom_dttm, del_lnd_rom_type, del_lnd_gbs, del_lnd_fully_unk, del_lnd_fully_dttm, del_lnd_push_unk, del_lnd_push_dttm, del_lnd_iol_yn, del_lnd_iol_reason, del_iol_fet_yn, del_iol_fet_atypical, del_iol_fet_anomaly, del_iol_fet_iugr, del_iol_fet_macrosomia, del_iol_fet_multiple, del_iol_fet_post_dat, del_iol_fet_oth, del_iol_fet_termination, del_iol_fet_oth_spec, del_iol_mat_yn, del_iol_mat_prom, del_iol_mat_diabetes, del_iol_mat_precipitous, del_iol_mat_oligo, del_iol_mat_oth, del_iol_mat_pre_med_cond, del_iol_mat_preeclampsia, del_iol_mat_oth_spec, del_iol_oth_yn, del_iol_oth_mat_req, del_iol_oth_safety, del_iol_oth_accom, del_iol_oth_oth, del_iol_oth_oth_spec, del_iol_method, del_lnd_iol_meth_amni, del_lnd_iol_meth_pit, del_lnd_iol_meth_prost, del_lnd_iol_meth_foley, del_lnd_iol_meth_tent, del_lnd_iol_meth_sweep, del_lnd_iol_bishop_unk, del_lnd_iol_bishop, del_lnd_aug_yn, del_lnd_aug_rom, del_lnd_aug_pit, ...]\n",
       "Index: []\n",
       "\n",
       "[0 rows x 210 columns]"
      ]
     },
     "execution_count": 78,
     "metadata": {},
     "output_type": "execute_result"
    }
   ],
   "source": [
    "del_ant.compare_conv_dde(obs_data_sets.redcap_clinic)"
   ]
  },
  {
   "cell_type": "markdown",
   "metadata": {},
   "source": [
    "## Delivery Data: Antepartum (1) - Prepare and Save<a name=\"del-ant-save\"></a>"
   ]
  },
  {
   "cell_type": "code",
   "execution_count": 79,
   "metadata": {},
   "outputs": [],
   "source": [
    "del_ant.prep_imp('delivery_data_arm_1', 'delivery_data_complete')\n",
    "del_ant.data.to_csv('../data/processed/del_ant.csv', index=False)"
   ]
  },
  {
   "cell_type": "markdown",
   "metadata": {},
   "source": [
    "# Delivery Data: Antepartum (2)<a name=\"del-lnd-comp\"></a>"
   ]
  },
  {
   "cell_type": "markdown",
   "metadata": {},
   "source": [
    "## Delivery Data: Antepartum (2) - Processing<a name=\"del-lnd-comp-pro\"></a>"
   ]
  },
  {
   "cell_type": "code",
   "execution_count": 80,
   "metadata": {},
   "outputs": [],
   "source": [
    "del_lnd_comp_dict = {\n",
    "    'CERVDILAT_CSECT_UNK': 'del_mod_cs_dil_unk', \n",
    "    'CERVDILAT_CSECTN': 'del_mod_cs_dil', \n",
    "}\n",
    "del_lnd_comp = obs_clinic_migration.RedcapConv(\n",
    "    del_lnd_comp_dict, 0, main_df=obs_data_sets.rave_clinic\n",
    ")"
   ]
  },
  {
   "cell_type": "markdown",
   "metadata": {},
   "source": [
    "## Delivery Data: Antepartum (2) - Post-processing<a name=\"del-lnd-comp-post\"></a>"
   ]
  },
  {
   "cell_type": "code",
   "execution_count": 81,
   "metadata": {},
   "outputs": [],
   "source": [
    "del_lnd_comp.remove_na()"
   ]
  },
  {
   "cell_type": "markdown",
   "metadata": {},
   "source": [
    "## Delivery Data: Antepartum (2) - Data Verification<a name=\"del-lnd-comp-comp\"></a>"
   ]
  },
  {
   "cell_type": "code",
   "execution_count": 82,
   "metadata": {},
   "outputs": [
    {
     "data": {
      "text/html": [
       "<div>\n",
       "<style scoped>\n",
       "    .dataframe tbody tr th:only-of-type {\n",
       "        vertical-align: middle;\n",
       "    }\n",
       "\n",
       "    .dataframe tbody tr th {\n",
       "        vertical-align: top;\n",
       "    }\n",
       "\n",
       "    .dataframe thead th {\n",
       "        text-align: right;\n",
       "    }\n",
       "</style>\n",
       "<table border=\"1\" class=\"dataframe\">\n",
       "  <thead>\n",
       "    <tr style=\"text-align: right;\">\n",
       "      <th></th>\n",
       "      <th>obs_id</th>\n",
       "      <th>del_mod_cs_dil_unk</th>\n",
       "      <th>del_mod_cs_dil</th>\n",
       "      <th>Source</th>\n",
       "    </tr>\n",
       "  </thead>\n",
       "  <tbody>\n",
       "  </tbody>\n",
       "</table>\n",
       "</div>"
      ],
      "text/plain": [
       "Empty DataFrame\n",
       "Columns: [obs_id, del_mod_cs_dil_unk, del_mod_cs_dil, Source]\n",
       "Index: []"
      ]
     },
     "execution_count": 82,
     "metadata": {},
     "output_type": "execute_result"
    }
   ],
   "source": [
    "del_lnd_comp.compare_conv_dde(obs_data_sets.redcap_clinic)"
   ]
  },
  {
   "cell_type": "markdown",
   "metadata": {},
   "source": [
    "## Delivery Data: Antepartum (2) - Prepare and Save<a name=\"del-lnd-comp-save\"></a>"
   ]
  },
  {
   "cell_type": "code",
   "execution_count": 83,
   "metadata": {},
   "outputs": [],
   "source": [
    "del_lnd_comp.prep_imp('delivery_data_arm_1', 'delivery_data_complete')\n",
    "del_lnd_comp.data.to_csv('../data/processed/del_lnd_comp.csv', index=False)"
   ]
  },
  {
   "cell_type": "markdown",
   "metadata": {},
   "source": [
    "# Delivery Data: Antibiotics during Labour and Delivery<a name=\"abx-labr\"></a>"
   ]
  },
  {
   "cell_type": "markdown",
   "metadata": {},
   "source": [
    "## Delivery Data: Antibiotics during Labour and Delivery - Preprocessing<a name=\"abx-labr-pre\"></a>"
   ]
  },
  {
   "cell_type": "code",
   "execution_count": 84,
   "metadata": {},
   "outputs": [],
   "source": [
    "for i in range(1, 18):\n",
    "    # Add 'Other antibiotic, please specify' column \n",
    "    # In Rave, 'Other antibiotic, please specify' data is intermingled with\n",
    "    # associated labelled data\n",
    "    obs_data_sets.rave_clinic = (\n",
    "        obs_clinic_migration_preprocessing.create_specify_col(\n",
    "            create_col='ANTIBIOTIC_SPEC_' + str(i), \n",
    "            coded_col='ANTIBIOTIC_STD_' + str(i), \n",
    "            label_col='ANTIBIOTIC_' + str(i), \n",
    "            label_code='12', \n",
    "            label_ans='Other',\n",
    "            df=obs_data_sets.rave_clinic\n",
    "        )\n",
    "    )\n",
    "    obs_data_sets.rave_clinic = (\n",
    "        obs_clinic_migration_preprocessing.create_specify_col(\n",
    "            create_col='INDICATION_ANTIBIOT_SPEC_' + str(i), \n",
    "            coded_col='INDICATION_ANTIBIOT_STD_' + str(i), \n",
    "            label_col='INDICATION_ANTIBIOT_' + str(i), \n",
    "            label_code='9', \n",
    "            label_ans='Other',\n",
    "            df=obs_data_sets.rave_clinic\n",
    "        )\n",
    "    )\n",
    "   \n",
    "    # format relevant columns\n",
    "    obs_data_sets.rave_clinic['ANTI_BIOT_ONSET_DT_TM_' + str(i)] = (\n",
    "        pd.to_datetime(\n",
    "            obs_data_sets.rave_clinic['ANTI_BIOT_ONSET_DT_TM_' + str(i)], \n",
    "            format='%d/%m/%Y %I:%M %p'\n",
    "        ).dt.strftime('%Y-%m-%d %H:%M')\n",
    "    )"
   ]
  },
  {
   "cell_type": "markdown",
   "metadata": {},
   "source": [
    "## Delivery Data: Antibiotics during Labour and Delivery - Processing<a name=\"abx-labr-pro\"></a>"
   ]
  },
  {
   "cell_type": "code",
   "execution_count": 85,
   "metadata": {},
   "outputs": [],
   "source": [
    "abx_labr_dict = {\n",
    "    'ANTIBIOTICS_LAB_DEL_NY_': 'abx_yn', \n",
    "    'ANTIBIOTIC_' : 'abx_med_spec',\n",
    "    'ANTIBIOTIC_SPEC_': 'abx_med_oth_spec',\n",
    "    'INDICATION_ANTIBIOT_': 'abx_indc',\n",
    "    'INDICATION_ANTIBIOT_SPEC_': 'abx_indc_oth_spec',\n",
    "    'ANTI_BIOT_ONSET_DT_TM_': 'abx_dt_time',    \n",
    "}\n",
    "abx_labr = obs_clinic_migration.RedcapConv(\n",
    "    abx_labr_dict, 17, main_df=obs_data_sets.rave_clinic\n",
    ")"
   ]
  },
  {
   "cell_type": "markdown",
   "metadata": {},
   "source": [
    "## Delivery Data: Antibiotics during Labour and Delivery - Data Verification<a name=\"abx-labr-comp\"></a>"
   ]
  },
  {
   "cell_type": "code",
   "execution_count": 86,
   "metadata": {},
   "outputs": [
    {
     "data": {
      "text/html": [
       "<div>\n",
       "<style scoped>\n",
       "    .dataframe tbody tr th:only-of-type {\n",
       "        vertical-align: middle;\n",
       "    }\n",
       "\n",
       "    .dataframe tbody tr th {\n",
       "        vertical-align: top;\n",
       "    }\n",
       "\n",
       "    .dataframe thead th {\n",
       "        text-align: right;\n",
       "    }\n",
       "</style>\n",
       "<table border=\"1\" class=\"dataframe\">\n",
       "  <thead>\n",
       "    <tr style=\"text-align: right;\">\n",
       "      <th></th>\n",
       "      <th>obs_id</th>\n",
       "      <th>redcap_repeat_instance</th>\n",
       "      <th>abx_yn</th>\n",
       "      <th>abx_med_spec</th>\n",
       "      <th>abx_med_oth_spec</th>\n",
       "      <th>abx_indc</th>\n",
       "      <th>abx_indc_oth_spec</th>\n",
       "      <th>abx_dt_time</th>\n",
       "      <th>Source</th>\n",
       "    </tr>\n",
       "  </thead>\n",
       "  <tbody>\n",
       "  </tbody>\n",
       "</table>\n",
       "</div>"
      ],
      "text/plain": [
       "Empty DataFrame\n",
       "Columns: [obs_id, redcap_repeat_instance, abx_yn, abx_med_spec, abx_med_oth_spec, abx_indc, abx_indc_oth_spec, abx_dt_time, Source]\n",
       "Index: []"
      ]
     },
     "execution_count": 86,
     "metadata": {},
     "output_type": "execute_result"
    }
   ],
   "source": [
    "abx_labr.compare_conv_dde(obs_data_sets.redcap_clinic)"
   ]
  },
  {
   "cell_type": "markdown",
   "metadata": {},
   "source": [
    "## Delivery Data: Antibiotics during Labour and Delivery - Prepare and Save<a name=\"abx-labr-save\"></a>"
   ]
  },
  {
   "cell_type": "code",
   "execution_count": 87,
   "metadata": {},
   "outputs": [],
   "source": [
    "abx_labr.prep_imp(\n",
    "    'delivery_data_arm_1', 'antibiotics_during_labour_delivery_complete', \n",
    "    'antibiotics_during_labour_delivery'\n",
    ")\n",
    "abx_labr.data.to_csv('../data/processed/abx_labr.csv', index=False)"
   ]
  },
  {
   "cell_type": "markdown",
   "metadata": {},
   "source": [
    "# Neonatal Form: Delivery Data<a name=\"ante-temp\"></a>"
   ]
  },
  {
   "cell_type": "markdown",
   "metadata": {},
   "source": [
    "## Neonatal Form: Delivery Data - Preprocessing<a name=\"ante-temp-pre\"></a>"
   ]
  },
  {
   "cell_type": "code",
   "execution_count": 88,
   "metadata": {},
   "outputs": [],
   "source": [
    "\n",
    "for i in range(1, 3):\n",
    "    # Rave has date and time in one column; separate columns in REDCap\n",
    "    date_time = (\n",
    "        obs_data_sets.rave_clinic['DELIVERY_DT_TM_' + str(i)].str.split(\n",
    "            ' ', n=1, expand=True\n",
    "        )\n",
    "    )\n",
    "    obs_data_sets.rave_clinic['DELIVERY_DATE_' + str(i)] = (\n",
    "        pd.to_datetime(date_time[0], format='%d%b%Y').dt.strftime('%Y-%m-%d')\n",
    "    )\n",
    "    obs_data_sets.rave_clinic['DELIVERY_TIME_' + str(i)] = (\n",
    "        pd.to_datetime(date_time[1], format='%H:%M:%S').dt.strftime('%H:%M')\n",
    "    )\n",
    "    \n",
    "    # some columns don't have an associated 'STD' column and needed to be coded\n",
    "    for neonatal_nr in [\n",
    "        'BIRTHWT_NR_', 'HEADCIRCUM_NR_', 'LENGTH_NR_',  'APGAR_SCORE1_NA_', \n",
    "        'APGAR_SCORE5_NA_', 'APGAR_SCORE10_NA_'\n",
    "    ]:\n",
    "        obs_data_sets.rave_clinic[neonatal_nr + str(i)].replace(\n",
    "            {'1': 'Not recorded', '0': 'Yes'}, inplace=True\n",
    "        )"
   ]
  },
  {
   "cell_type": "markdown",
   "metadata": {},
   "source": [
    "## Neonatal Form: Delivery Data - Processing<a name=\"ante-temp-pro\"></a>"
   ]
  },
  {
   "cell_type": "code",
   "execution_count": 89,
   "metadata": {},
   "outputs": [
    {
     "name": "stdout",
     "output_type": "stream",
     "text": [
      "Column 'neo_del_preg_outcome', variable 'Stillbirth at >=20wks or >=500g' has an issue.\n",
      "Column 'neo_del_stillbirth', variable 'Spontaneous - occurred during antepartum period' has an issue.\n",
      "Column 'neo_del_stillbirth', variable 'Spontaneous - occurred during intrapartum period' has an issue.\n"
     ]
    }
   ],
   "source": [
    "ante_temp_dict = {\n",
    "    'DELIVERY_DATE_': 'neo_del_date', \n",
    "    'DELIVERY_TIME_': 'neo_del_time', \n",
    "    'PREGNANCY_OUTCOME_': 'neo_del_preg_outcome', \n",
    "    'PREGNANCY_LOSS_': 'neo_del_loss_20wk', \n",
    "    'STILLBIRTH_': 'neo_del_stillbirth', \n",
    "    'INFANTSEX_': 'neo_del_fet_sex', \n",
    "    'BIRTHWT_NR_': 'neo_del_birthwt_yn', \n",
    "    'BIRTHWT_': 'neo_del_birthwt', \n",
    "    'HEADCIRCUM_NR_': 'neo_del_head_circ_yn', \n",
    "    'HEADCIRCUM_': 'neo_del_head_circ', \n",
    "    'LENGTH_NR_': 'neo_del_length_yn', \n",
    "    'LENGTH_': 'neo_del_length', \n",
    "    'APGAR_SCORE1_NA_': 'neo_del_apgar_1_yn', \n",
    "    'APGAR_SCORE1_': 'neo_del_apgar_1', \n",
    "    'APGAR_SCORE5_NA_': 'neo_del_apgar_5_yn', \n",
    "    'APGAR_SCORE5_': 'neo_del_apgar_5', \n",
    "    'APGAR_SCORE10_NA_': 'neo_del_apgar_10_yn', \n",
    "    'APGAR_SCORE10_': 'neo_del_apgar_10'\n",
    "}\n",
    "ante_temp = obs_clinic_migration.RedcapConv(\n",
    "    ante_temp_dict, 2, obs_data_sets.rave_clinic\n",
    ")"
   ]
  },
  {
   "cell_type": "markdown",
   "metadata": {},
   "source": [
    "## Neonatal Form: Delivery Data - Post-processing<a name=\"ante-temp-post\"></a>"
   ]
  },
  {
   "cell_type": "code",
   "execution_count": 90,
   "metadata": {},
   "outputs": [
    {
     "name": "stdout",
     "output_type": "stream",
     "text": [
      "1    2337\n",
      "3      19\n",
      "2      12\n",
      "Name: neo_del_preg_outcome, dtype: int64\n",
      "1    9\n",
      "2    6\n",
      "3    2\n",
      "Name: neo_del_stillbirth, dtype: int64\n"
     ]
    }
   ],
   "source": [
    "ante_temp.change_str(\n",
    "    {\n",
    "        'neo_del_preg_outcome': {\n",
    "            'Stillbirth at >=20wks or >=500g' : 'Stillbirth at >20wks or >500g'\n",
    "        },\n",
    "        'neo_del_stillbirth': {\n",
    "            'Spontaneous - occurred during antepartum period': \n",
    "                'Spontaneous - Occurred during antepartum period',\n",
    "            'Spontaneous - occurred during intrapartum period': \n",
    "                'Spontaneous - Occurred during intrapartum period'\n",
    "        }\n",
    "    }\n",
    ")"
   ]
  },
  {
   "cell_type": "markdown",
   "metadata": {},
   "source": [
    "## Neonatal Form: Delivery Data - Data Verification<a name=\"ante-temp-comp\"></a>"
   ]
  },
  {
   "cell_type": "code",
   "execution_count": 91,
   "metadata": {},
   "outputs": [
    {
     "data": {
      "text/html": [
       "<div>\n",
       "<style scoped>\n",
       "    .dataframe tbody tr th:only-of-type {\n",
       "        vertical-align: middle;\n",
       "    }\n",
       "\n",
       "    .dataframe tbody tr th {\n",
       "        vertical-align: top;\n",
       "    }\n",
       "\n",
       "    .dataframe thead th {\n",
       "        text-align: right;\n",
       "    }\n",
       "</style>\n",
       "<table border=\"1\" class=\"dataframe\">\n",
       "  <thead>\n",
       "    <tr style=\"text-align: right;\">\n",
       "      <th></th>\n",
       "      <th>obs_id</th>\n",
       "      <th>redcap_repeat_instance</th>\n",
       "      <th>neo_del_date</th>\n",
       "      <th>neo_del_time</th>\n",
       "      <th>neo_del_preg_outcome</th>\n",
       "      <th>...</th>\n",
       "      <th>neo_del_apgar_5_yn</th>\n",
       "      <th>neo_del_apgar_5</th>\n",
       "      <th>neo_del_apgar_10_yn</th>\n",
       "      <th>neo_del_apgar_10</th>\n",
       "      <th>Source</th>\n",
       "    </tr>\n",
       "  </thead>\n",
       "  <tbody>\n",
       "  </tbody>\n",
       "</table>\n",
       "<p>0 rows × 21 columns</p>\n",
       "</div>"
      ],
      "text/plain": [
       "Empty DataFrame\n",
       "Columns: [obs_id, redcap_repeat_instance, neo_del_date, neo_del_time, neo_del_preg_outcome, neo_del_loss_20wk, neo_del_stillbirth, neo_del_fet_sex, neo_del_birthwt_yn, neo_del_birthwt, neo_del_head_circ_yn, neo_del_head_circ, neo_del_length_yn, neo_del_length, neo_del_apgar_1_yn, neo_del_apgar_1, neo_del_apgar_5_yn, neo_del_apgar_5, neo_del_apgar_10_yn, neo_del_apgar_10, Source]\n",
       "Index: []\n",
       "\n",
       "[0 rows x 21 columns]"
      ]
     },
     "execution_count": 91,
     "metadata": {},
     "output_type": "execute_result"
    }
   ],
   "source": [
    "ante_temp.compare_conv_dde(obs_data_sets.redcap_clinic)"
   ]
  },
  {
   "cell_type": "markdown",
   "metadata": {},
   "source": [
    "## Neonatal Form: Delivery Data - Prepare and Save<a name=\"ante-temp-save\"></a>"
   ]
  },
  {
   "cell_type": "code",
   "execution_count": 92,
   "metadata": {},
   "outputs": [],
   "source": [
    "ante_temp.prep_imp(\n",
    "    'neonatal_data_arm_1', 'neonatal_form_complete', 'neonatal_form'\n",
    ")\n",
    "ante_temp.data.to_csv('../data/processed/ante_temp.csv', index=False)"
   ]
  },
  {
   "cell_type": "markdown",
   "metadata": {},
   "source": [
    "# Neonatal Form: Cord Blood<a name=\"neo-cbg\"></a>"
   ]
  },
  {
   "cell_type": "markdown",
   "metadata": {},
   "source": [
    "## Neonatal Form: Cord Blood - Preprocessing<a name=\"neo-cbg-pre\"></a>"
   ]
  },
  {
   "cell_type": "code",
   "execution_count": 93,
   "metadata": {},
   "outputs": [],
   "source": [
    "# check that 'BABY_NUM3_1' goes with 'BABY_NUM3_2' and\n",
    "# 'BABY_NUM3_3' goes with 'BABY_NUM3_4'\n",
    "obs_data_sets.rave_clinic['BABY_NUM3_1'].equals(\n",
    "    obs_data_sets.rave_clinic['BABY_NUM3_2']\n",
    ")\n",
    "obs_data_sets.rave_clinic['BABY_NUM3_3'].equals(\n",
    "    obs_data_sets.rave_clinic['BABY_NUM3_4']\n",
    ")\n",
    "obs_data_sets.rave_clinic.loc[\n",
    "    obs_data_sets.rave_clinic[\n",
    "        'ARTERIAL_VENOUS_1'\n",
    "    ] == obs_data_sets.rave_clinic[\n",
    "        'ARTERIAL_VENOUS_2'\n",
    "    ], 'Subject'\n",
    "]\n",
    "obs_data_sets.rave_clinic.loc[\n",
    "    obs_data_sets.rave_clinic[\n",
    "        'ARTERIAL_VENOUS_3'\n",
    "    ] == obs_data_sets.rave_clinic[\n",
    "        'ARTERIAL_VENOUS_4'\n",
    "    ], 'Subject'\n",
    "]\n",
    "\n",
    "for var_w_unknown in [\n",
    "    'PH_UNKNOWN_', 'HCO3_UNKNOWN_', 'PCO2_UNKNOWN_', \n",
    "    'PO2_UNKNOWN_', 'BASE_EXCESS_UNKNOWN_'\n",
    "]:\n",
    "    for i in range(1, 5):\n",
    "        # some columns don't have an associated 'STD' column and needed to be\n",
    "        #  coded\n",
    "        obs_data_sets.rave_clinic[var_w_unknown + str(i)].replace(\n",
    "            {'1': 'Unknown', '0': 'Known'}, inplace = True\n",
    "        )\n",
    "\n",
    "        # value should be empty if not collected\n",
    "        obs_data_sets.rave_clinic.loc[\n",
    "            obs_data_sets.rave_clinic['COLLECTED_NY_' + str(i)] == 'No',\n",
    "            var_w_unknown + str(i)\n",
    "        ] = np.NaN\n",
    "        \n",
    "# rename columns because there are 4 iterations which correspond to 2 instances\n",
    "# of venous and arterial\n",
    "obs_data_sets.rave_clinic.rename(\n",
    "    columns = {\n",
    "        'BABY_NUM3_1': 'ART_BABY_NUM3_1',\n",
    "        'COLLECTED_NY_1': 'ART_COLLECTED_NY_1',\n",
    "        'PH_1': 'ART_PH_1',\n",
    "        'PH_UNKNOWN_1': 'ART_PH_UNKNOWN_1',\n",
    "        'HCO3_1': 'ART_HCO3_1',\n",
    "        'HCO3_UNKNOWN_1': 'ART_HCO3_UNKNOWN_1',\n",
    "        'PCO2_1': 'ART_PCO2_1',\n",
    "        'PCO2_UNKNOWN_1': 'ART_PCO2_UNKNOWN_1', \n",
    "        'PO2_1': 'ART_PO2_1',\n",
    "        'PO2_UNKNOWN_1': 'ART_PO2_UNKNOWN_1',\n",
    "        'BASE_EXCESS_1': 'ART_BASE_EXCESS_1',\n",
    "        'BASE_EXCESS_UNKNOWN_1': 'ART_BASE_EXCESS_UNKNOWN_1',\n",
    "        \n",
    "        'BABY_NUM3_2': 'VEN_BABY_NUM3_1',\n",
    "        'COLLECTED_NY_2': 'VEN_COLLECTED_NY_1',\n",
    "        'PH_2': 'VEN_PH_1',\n",
    "        'PH_UNKNOWN_2': 'VEN_PH_UNKNOWN_1',\n",
    "        'HCO3_2': 'VEN_HCO3_1',\n",
    "        'HCO3_UNKNOWN_2': 'VEN_HCO3_UNKNOWN_1',\n",
    "        'PCO2_2': 'VEN_PCO2_1',\n",
    "        'PCO2_UNKNOWN_2': 'VEN_PCO2_UNKNOWN_1', \n",
    "        'PO2_2': 'VEN_PO2_1',\n",
    "        'PO2_UNKNOWN_2': 'VEN_PO2_UNKNOWN_1',\n",
    "        'BASE_EXCESS_2': 'VEN_BASE_EXCESS_1',\n",
    "        'BASE_EXCESS_UNKNOWN_2': 'VEN_BASE_EXCESS_UNKNOWN_1',\n",
    "        \n",
    "        'BABY_NUM3_3': 'ART_BABY_NUM3_2',\n",
    "        'COLLECTED_NY_3': 'ART_COLLECTED_NY_2',\n",
    "        'PH_3': 'ART_PH_2',\n",
    "        'PH_UNKNOWN_3': 'ART_PH_UNKNOWN_2',\n",
    "        'HCO3_3': 'ART_HCO3_2',\n",
    "        'HCO3_UNKNOWN_3': 'ART_HCO3_UNKNOWN_2',\n",
    "        'PCO2_3': 'ART_PCO2_2',\n",
    "        'PCO2_UNKNOWN_3': 'ART_PCO2_UNKNOWN_2', \n",
    "        'PO2_3': 'ART_PO2_2',\n",
    "        'PO2_UNKNOWN_3': 'ART_PO2_UNKNOWN_2',\n",
    "        'BASE_EXCESS_3': 'ART_BASE_EXCESS_2',\n",
    "        'BASE_EXCESS_UNKNOWN_3': 'ART_BASE_EXCESS_UNKNOWN_2',\n",
    "        \n",
    "        'BABY_NUM3_4': 'VEN_BABY_NUM3_2',\n",
    "        'COLLECTED_NY_4': 'VEN_COLLECTED_NY_2',\n",
    "        'PH_4': 'VEN_PH_2',\n",
    "        'PH_UNKNOWN_4': 'VEN_PH_UNKNOWN_2',\n",
    "        'HCO3_4': 'VEN_HCO3_2',\n",
    "        'HCO3_UNKNOWN_4': 'VEN_HCO3_UNKNOWN_2',\n",
    "        'PCO2_4': 'VEN_PCO2_2',\n",
    "        'PCO2_UNKNOWN_4': 'VEN_PCO2_UNKNOWN_2', \n",
    "        'PO2_4': 'VEN_PO2_2',\n",
    "        'PO2_UNKNOWN_4': 'VEN_PO2_UNKNOWN_2',\n",
    "        'BASE_EXCESS_4': 'VEN_BASE_EXCESS_2',\n",
    "        'BASE_EXCESS_UNKNOWN_4': 'VEN_BASE_EXCESS_UNKNOWN_2',\n",
    "    }, inplace=True\n",
    ")  "
   ]
  },
  {
   "cell_type": "markdown",
   "metadata": {},
   "source": [
    "## Neonatal Form: Cord Blood - Processing<a name=\"neo-cbg-pro\"></a>"
   ]
  },
  {
   "cell_type": "code",
   "execution_count": 94,
   "metadata": {},
   "outputs": [],
   "source": [
    "neo_cbg_dict = {\n",
    "    'ART_BABY_NUM3_': 'neo_baby_num',\n",
    "    'ART_COLLECTED_NY_': 'neo_cbg_art_yn',\n",
    "    'ART_PH_': 'neo_cbg_art_ph',\n",
    "    'ART_PH_UNKNOWN_': 'neo_cbg_art_ph_unk',\n",
    "    'ART_HCO3_': 'neo_cbg_art_hco3',\n",
    "    'ART_HCO3_UNKNOWN_': 'neo_cbg_art_hco3_unk',\n",
    "    'ART_PCO2_': 'neo_cbg_art_pco2',\n",
    "    'ART_PCO2_UNKNOWN_': 'neo_cbg_art_pco2_unk', \n",
    "    'ART_PO2_': 'neo_cbg_art_po2',\n",
    "    'ART_PO2_UNKNOWN_': 'neo_cbg_art_po2_unk',\n",
    "    'ART_BASE_EXCESS_': 'neo_cbg_art_base',\n",
    "    'ART_BASE_EXCESS_UNKNOWN_': 'neo_cbg_art_base_unk',\n",
    "    'VEN_COLLECTED_NY_': 'neo_cbg_ven_yn',\n",
    "    'VEN_PH_': 'neo_cbg_ven_ph',\n",
    "    'VEN_PH_UNKNOWN_': 'neo_cbg_ven_ph_unk',\n",
    "    'VEN_HCO3_': 'neo_cbg_ven_hco3',\n",
    "    'VEN_HCO3_UNKNOWN_': 'neo_cbg_ven_hco3_unk',\n",
    "    'VEN_PCO2_': 'neo_cbg_ven_pco2',\n",
    "    'VEN_PCO2_UNKNOWN_': 'neo_cbg_ven_pco2_unk',\n",
    "    'VEN_PO2_': 'neo_cbg_ven_po2',\n",
    "    'VEN_PO2_UNKNOWN_': 'neo_cbg_ven_po2_unk',\n",
    "    'VEN_BASE_EXCESS_': 'neo_cbg_ven_base',\n",
    "    'VEN_BASE_EXCESS_UNKNOWN_': 'neo_cbg_ven_base_unk',\n",
    "}\n",
    "neo_cbg = obs_clinic_migration.RedcapConv(\n",
    "    neo_cbg_dict, 2, obs_data_sets.rave_clinic\n",
    ")"
   ]
  },
  {
   "cell_type": "markdown",
   "metadata": {},
   "source": [
    "## Neonatal Form: Cord Blood - Post-processing<a name=\"neo-cbg-post\"></a>"
   ]
  },
  {
   "cell_type": "code",
   "execution_count": 95,
   "metadata": {},
   "outputs": [
    {
     "name": "stdout",
     "output_type": "stream",
     "text": [
      "1    2304\n",
      "2      54\n",
      "Name: neo_baby_num, dtype: int64\n"
     ]
    }
   ],
   "source": [
    "neo_cbg.change_str(\n",
    "    {\n",
    "        'neo_baby_num': {'001' : '1'},\n",
    "    }\n",
    ")"
   ]
  },
  {
   "cell_type": "markdown",
   "metadata": {},
   "source": [
    "## Neonatal Form: Cord Blood - Data Verification<a name=\"neo-cbg-comp\"></a>"
   ]
  },
  {
   "cell_type": "code",
   "execution_count": 96,
   "metadata": {},
   "outputs": [
    {
     "data": {
      "text/html": [
       "<div>\n",
       "<style scoped>\n",
       "    .dataframe tbody tr th:only-of-type {\n",
       "        vertical-align: middle;\n",
       "    }\n",
       "\n",
       "    .dataframe tbody tr th {\n",
       "        vertical-align: top;\n",
       "    }\n",
       "\n",
       "    .dataframe thead th {\n",
       "        text-align: right;\n",
       "    }\n",
       "</style>\n",
       "<table border=\"1\" class=\"dataframe\">\n",
       "  <thead>\n",
       "    <tr style=\"text-align: right;\">\n",
       "      <th></th>\n",
       "      <th>obs_id</th>\n",
       "      <th>redcap_repeat_instance</th>\n",
       "      <th>neo_baby_num</th>\n",
       "      <th>neo_cbg_art_yn</th>\n",
       "      <th>neo_cbg_art_ph_unk</th>\n",
       "      <th>...</th>\n",
       "      <th>neo_cbg_ven_hco3</th>\n",
       "      <th>neo_cbg_ven_pco2</th>\n",
       "      <th>neo_cbg_ven_po2</th>\n",
       "      <th>neo_cbg_ven_base</th>\n",
       "      <th>Source</th>\n",
       "    </tr>\n",
       "  </thead>\n",
       "  <tbody>\n",
       "  </tbody>\n",
       "</table>\n",
       "<p>0 rows × 26 columns</p>\n",
       "</div>"
      ],
      "text/plain": [
       "Empty DataFrame\n",
       "Columns: [obs_id, redcap_repeat_instance, neo_baby_num, neo_cbg_art_yn, neo_cbg_art_ph_unk, neo_cbg_art_hco3_unk, neo_cbg_art_pco2_unk, neo_cbg_art_po2_unk, neo_cbg_art_base_unk, neo_cbg_art_ph, neo_cbg_art_hco3, neo_cbg_art_pco2, neo_cbg_art_po2, neo_cbg_art_base, neo_cbg_ven_yn, neo_cbg_ven_ph_unk, neo_cbg_ven_hco3_unk, neo_cbg_ven_pco2_unk, neo_cbg_ven_po2_unk, neo_cbg_ven_base_unk, neo_cbg_ven_ph, neo_cbg_ven_hco3, neo_cbg_ven_pco2, neo_cbg_ven_po2, neo_cbg_ven_base, Source]\n",
       "Index: []\n",
       "\n",
       "[0 rows x 26 columns]"
      ]
     },
     "execution_count": 96,
     "metadata": {},
     "output_type": "execute_result"
    }
   ],
   "source": [
    "neo_cbg.compare_conv_dde(obs_data_sets.redcap_clinic)"
   ]
  },
  {
   "cell_type": "markdown",
   "metadata": {},
   "source": [
    "## Neonatal Form: Cord Blood - Prepare and Save<a name=\"neo-cbg-save\"></a>"
   ]
  },
  {
   "cell_type": "code",
   "execution_count": 97,
   "metadata": {},
   "outputs": [],
   "source": [
    "neo_cbg.prep_imp(\n",
    "    'neonatal_data_arm_1', 'neonatal_form_complete', 'neonatal_form'\n",
    ")\n",
    "neo_cbg.data.to_csv('../data/processed/neo_cbg.csv', index=False)"
   ]
  },
  {
   "cell_type": "markdown",
   "metadata": {},
   "source": [
    "# Neonatal Form: Neonatal Resuscitation (1)<a name=\"neo-resus-lvl\"></a>"
   ]
  },
  {
   "cell_type": "markdown",
   "metadata": {},
   "source": [
    "## Neonatal Form: Neonatal Resuscitation (1) - Preprocessing<a name=\"neo-resus-lvl-pre\"></a>"
   ]
  },
  {
   "cell_type": "code",
   "execution_count": 98,
   "metadata": {},
   "outputs": [],
   "source": [
    "\n",
    "for i in range(1, 3):\n",
    "    # some columns don't have an associated 'STD' column and needed to be coded\n",
    "    obs_data_sets.rave_clinic['LEVEL2_NY_STD_' + str(i)].replace(\n",
    "        {'2': '1', '1': '0'}, inplace=True\n",
    "    )\n",
    "    obs_data_sets.rave_clinic['LEVEL3_NY_STD_' + str(i)].replace(\n",
    "        {'2': '1', '1': '0'}, inplace=True\n",
    "    )\n",
    "for i in range(1, 3):\n",
    "    obs_data_sets.rave_clinic['LEVEL2_NY_CB_' + str(i)] = np.where(\n",
    "        ((obs_data_sets.rave_clinic['LEVEL2_NY_' + str(i)] == 'Yes')), '1', '0'\n",
    "    )\n",
    "    obs_data_sets.rave_clinic.loc[\n",
    "        obs_data_sets.rave_clinic['BABY_NUM4_' + str(i)].isna(), \n",
    "        'LEVEL2_NY_CB_' + str(i)\n",
    "    ] = np.NaN\n",
    "    obs_data_sets.rave_clinic['LEVEL3_NY_CB_' + str(i)] = np.where(\n",
    "        ((obs_data_sets.rave_clinic['LEVEL3_NY_' + str(i)] == 'Yes')), '1', '0'\n",
    "    )\n",
    "    obs_data_sets.rave_clinic.loc[\n",
    "        obs_data_sets.rave_clinic['BABY_NUM4_' + str(i)].isna(), \n",
    "        'LEVEL3_NY_CB_' + str(i)\n",
    "    ] = np.NaN\n",
    "    "
   ]
  },
  {
   "cell_type": "markdown",
   "metadata": {},
   "source": [
    "## Neonatal Form: Neonatal Resuscitation (1) - Processing<a name=\"neo-resus-lvl-pro\"></a>"
   ]
  },
  {
   "cell_type": "code",
   "execution_count": 99,
   "metadata": {},
   "outputs": [],
   "source": [
    "neo_resus_lvl_dict = {\n",
    "    'BABY_NUM4_': 'neo_baby_num',\n",
    "    'LEVEL2_NY_CB_' : 'neo_care_levels___2',\n",
    "    'LEVEL3_NY_CB_' : 'neo_care_levels___3',\n",
    "}\n",
    "neo_resus_lvl = obs_clinic_migration.RedcapConv(\n",
    "    neo_resus_lvl_dict, 2, obs_data_sets.rave_clinic, recode_long=False\n",
    ")"
   ]
  },
  {
   "cell_type": "markdown",
   "metadata": {},
   "source": [
    "## Neonatal Form: Neonatal Resuscitation (1) - Post-processing<a name=\"neo-resus-lvl-post\"></a>"
   ]
  },
  {
   "cell_type": "code",
   "execution_count": 100,
   "metadata": {},
   "outputs": [
    {
     "name": "stdout",
     "output_type": "stream",
     "text": [
      "1    2309\n",
      "2      54\n",
      "Name: neo_baby_num, dtype: int64\n"
     ]
    }
   ],
   "source": [
    "neo_resus_lvl.change_str(\n",
    "    {\n",
    "        'neo_baby_num': {\n",
    "            '001': 'B01',\n",
    "            'BO1': 'B01',\n",
    "            ' B0' : 'B01' # manually checked subject only had a singleton\n",
    "        } \n",
    "    }\n",
    ")"
   ]
  },
  {
   "cell_type": "markdown",
   "metadata": {},
   "source": [
    "## Neonatal Form: Neonatal Resuscitation (1) - Data Verification<a name=\"neo-resus-lvl-comp\"></a>"
   ]
  },
  {
   "cell_type": "code",
   "execution_count": 101,
   "metadata": {},
   "outputs": [
    {
     "data": {
      "text/html": [
       "<div>\n",
       "<style scoped>\n",
       "    .dataframe tbody tr th:only-of-type {\n",
       "        vertical-align: middle;\n",
       "    }\n",
       "\n",
       "    .dataframe tbody tr th {\n",
       "        vertical-align: top;\n",
       "    }\n",
       "\n",
       "    .dataframe thead th {\n",
       "        text-align: right;\n",
       "    }\n",
       "</style>\n",
       "<table border=\"1\" class=\"dataframe\">\n",
       "  <thead>\n",
       "    <tr style=\"text-align: right;\">\n",
       "      <th></th>\n",
       "      <th>obs_id</th>\n",
       "      <th>redcap_repeat_instance</th>\n",
       "      <th>neo_baby_num</th>\n",
       "      <th>neo_care_levels___2</th>\n",
       "      <th>neo_care_levels___3</th>\n",
       "      <th>Source</th>\n",
       "    </tr>\n",
       "  </thead>\n",
       "  <tbody>\n",
       "    <tr>\n",
       "      <th>13</th>\n",
       "      <td>91200444</td>\n",
       "      <td>2</td>\n",
       "      <td>2</td>\n",
       "      <td>0</td>\n",
       "      <td>0</td>\n",
       "      <td>REDCapDDE</td>\n",
       "    </tr>\n",
       "  </tbody>\n",
       "</table>\n",
       "</div>"
      ],
      "text/plain": [
       "      obs_id redcap_repeat_instance neo_baby_num neo_care_levels___2  \\\n",
       "13  91200444                      2            2                   0   \n",
       "\n",
       "   neo_care_levels___3     Source  \n",
       "13                   0  REDCapDDE  "
      ]
     },
     "execution_count": 101,
     "metadata": {},
     "output_type": "execute_result"
    }
   ],
   "source": [
    "neo_resus_lvl.compare_conv_dde(obs_data_sets.redcap_clinic)"
   ]
  },
  {
   "cell_type": "markdown",
   "metadata": {},
   "source": [
    "## Neonatal Form: Neonatal Resuscitation (1) - Prepare and Save<a name=\"neo-resus-lvl-save\"></a>"
   ]
  },
  {
   "cell_type": "code",
   "execution_count": 102,
   "metadata": {},
   "outputs": [],
   "source": [
    "neo_resus_lvl.prep_imp(\n",
    "    'neonatal_data_arm_1', 'neonatal_form_complete', 'neonatal_form'\n",
    ")\n",
    "neo_resus_lvl.data.to_csv('../data/processed/neo_resus_lvl.csv', index=False)"
   ]
  },
  {
   "cell_type": "markdown",
   "metadata": {},
   "source": [
    "# Neonatal Form: Neonatal Resuscitation (2)<a name=\"neo-resus\"></a>"
   ]
  },
  {
   "cell_type": "markdown",
   "metadata": {},
   "source": [
    "## Neonatal Form: Neonatal Resuscitation (2) - Processing<a name=\"neo-resus-pro\"></a>"
   ]
  },
  {
   "cell_type": "code",
   "execution_count": 103,
   "metadata": {},
   "outputs": [
    {
     "name": "stdout",
     "output_type": "stream",
     "text": [
      "Column 'neo_baby_num', variable 'BO1' has an issue.\n",
      "Column 'neo_baby_num', variable ' B0' has an issue.\n"
     ]
    }
   ],
   "source": [
    "neo_resus_dict = {\n",
    "    'BABY_NUM4_': 'neo_baby_num',\n",
    "    'NEONAT_RESUSCITATION_NY_': 'neo_resus_initial_yn',\n",
    "    'CHEST_COMPRESN_': 'neo_resus_init_cpr',\n",
    "    'CPAP_AIR_': 'neo_resus_init_cpap_air',\n",
    "    'CPAP_OXYGEN_': 'neo_resus_init_cpap_o2',\n",
    "    'EPINEPHRINE_NY_': 'neo_resus_init_epi',\n",
    "    'FFO2_NY_': 'neo_resus_init_ffo2',\n",
    "    'INTUBATION_PPV_NY_': 'neo_resus_init_ppv',\n",
    "    'INTUBATN_TRACH_SUCTION_NY_': 'neo_resus_init_suction',\n",
    "    'LARYN_MASK_AIRWAY_NY_': 'neo_resus_init_lma',\n",
    "    'NARCAN_NY_': 'neo_resus_init_narcan',\n",
    "    'PPV_AIR_': 'neo_resus_init_ppv_air',\n",
    "    'PPV_OXYGEN_': 'neo_resus_init_ppv_o2',\n",
    "    'VOLUM_EXPAND_': 'neo_resus_init_vol_exp',\n",
    "    'UNKNOWN_': 'neo_resus_init_unk',\n",
    "    'OTHER_': 'neo_resus_init_oth',\n",
    "    'OTHER_SPECIFY_': 'neo_resus_init_oth_spec',\n",
    "    'RECV_HIGH_LEVEL_CARE_': 'neo_care_yn',\n",
    "    'LEVEL2_NUM_DYS_': 'neo_care_level2',\n",
    "    'LEVEL3_NUM_DYS_': 'neo_care_level3',\n",
    "    'RESPIRATORY_PROB_AFT_RESUS_NY_': 'neo_resp_yn'\n",
    "}\n",
    "neo_resus = obs_clinic_migration.RedcapConv(\n",
    "    neo_resus_dict, 2, obs_data_sets.rave_clinic\n",
    ")"
   ]
  },
  {
   "cell_type": "markdown",
   "metadata": {},
   "source": [
    "## Neonatal Form: Neonatal Resuscitation (2) - Post-processing<a name=\"neo-resus-post\"></a>"
   ]
  },
  {
   "cell_type": "code",
   "execution_count": 104,
   "metadata": {},
   "outputs": [
    {
     "name": "stdout",
     "output_type": "stream",
     "text": [
      "1    2309\n",
      "2      54\n",
      "Name: neo_baby_num, dtype: int64\n"
     ]
    }
   ],
   "source": [
    "neo_resus.change_str(\n",
    "    {\n",
    "        'neo_baby_num': {\n",
    "            '001': 'B01',\n",
    "            'BO1': 'B01',\n",
    "            ' B0' : 'B01' # manually checked subject below only had a singleton\n",
    "        } \n",
    "    }\n",
    ")"
   ]
  },
  {
   "cell_type": "markdown",
   "metadata": {},
   "source": [
    "## Neonatal Form: Neonatal Resuscitation (2) - Data Verification<a name=\"neo-resus-comp\"></a>"
   ]
  },
  {
   "cell_type": "code",
   "execution_count": 105,
   "metadata": {},
   "outputs": [
    {
     "data": {
      "text/html": [
       "<div>\n",
       "<style scoped>\n",
       "    .dataframe tbody tr th:only-of-type {\n",
       "        vertical-align: middle;\n",
       "    }\n",
       "\n",
       "    .dataframe tbody tr th {\n",
       "        vertical-align: top;\n",
       "    }\n",
       "\n",
       "    .dataframe thead th {\n",
       "        text-align: right;\n",
       "    }\n",
       "</style>\n",
       "<table border=\"1\" class=\"dataframe\">\n",
       "  <thead>\n",
       "    <tr style=\"text-align: right;\">\n",
       "      <th></th>\n",
       "      <th>obs_id</th>\n",
       "      <th>redcap_repeat_instance</th>\n",
       "      <th>neo_baby_num</th>\n",
       "      <th>neo_resus_initial_yn</th>\n",
       "      <th>neo_resus_init_cpr</th>\n",
       "      <th>...</th>\n",
       "      <th>neo_care_yn</th>\n",
       "      <th>neo_care_level2</th>\n",
       "      <th>neo_care_level3</th>\n",
       "      <th>neo_resp_yn</th>\n",
       "      <th>Source</th>\n",
       "    </tr>\n",
       "  </thead>\n",
       "  <tbody>\n",
       "    <tr>\n",
       "      <th>13</th>\n",
       "      <td>91200444</td>\n",
       "      <td>2</td>\n",
       "      <td>2</td>\n",
       "      <td>nan</td>\n",
       "      <td>nan</td>\n",
       "      <td>...</td>\n",
       "      <td>nan</td>\n",
       "      <td>nan</td>\n",
       "      <td>nan</td>\n",
       "      <td>nan</td>\n",
       "      <td>REDCapDDE</td>\n",
       "    </tr>\n",
       "  </tbody>\n",
       "</table>\n",
       "<p>1 rows × 24 columns</p>\n",
       "</div>"
      ],
      "text/plain": [
       "      obs_id redcap_repeat_instance neo_baby_num neo_resus_initial_yn  \\\n",
       "13  91200444                      2            2                  nan   \n",
       "\n",
       "   neo_resus_init_cpr  ... neo_care_yn neo_care_level2 neo_care_level3  \\\n",
       "13                nan  ...         nan             nan             nan   \n",
       "\n",
       "   neo_resp_yn     Source  \n",
       "13         nan  REDCapDDE  \n",
       "\n",
       "[1 rows x 24 columns]"
      ]
     },
     "execution_count": 105,
     "metadata": {},
     "output_type": "execute_result"
    }
   ],
   "source": [
    "neo_resus.compare_conv_dde(obs_data_sets.redcap_clinic)\n",
    "# REDCap has longer forms than Rave (i.e. more data is compartmentalized) for \n",
    "# 'neonatal_form'; therefore, will indicate issue with 'compare_conv_dde' \n",
    "# method"
   ]
  },
  {
   "cell_type": "markdown",
   "metadata": {},
   "source": [
    "## Neonatal Form: Neonatal Resuscitation (2) - Prepare and Save<a name=\"neo-resus-save\"></a>"
   ]
  },
  {
   "cell_type": "code",
   "execution_count": 106,
   "metadata": {},
   "outputs": [],
   "source": [
    "neo_resus.prep_imp(\n",
    "    'neonatal_data_arm_1', 'neonatal_form_complete', 'neonatal_form'\n",
    ")\n",
    "neo_resus.data.to_csv('../data/processed/neo_resus.csv', index=False)"
   ]
  },
  {
   "cell_type": "markdown",
   "metadata": {},
   "source": [
    "# Neonatal Form: Neonatal Resuscitation (3)<a name=\"neo-resp\"></a>"
   ]
  },
  {
   "cell_type": "markdown",
   "metadata": {},
   "source": [
    "## Neonatal Form: Neonatal Resuscitation (3) - Processing<a name=\"neo-resp-pro\"></a>"
   ]
  },
  {
   "cell_type": "code",
   "execution_count": 107,
   "metadata": {},
   "outputs": [],
   "source": [
    "neo_resp_dict = {\n",
    "    'BABY_NUM5_': 'neo_baby_num',\n",
    "    'RESP_DISTRESS_SYNDROME_': 'neo_resp_dx_rds',\n",
    "    'MECON_ASPIR_SYNDROM_': 'neo_resp_dx_mec',\n",
    "    'PNEUMONIA_': 'neo_resp_dx_pneu',\n",
    "    'PNEUM_THORX_MEDIASTM_': 'neo_resp_dx_pnthorax',\n",
    "    'TRANS_TACHYPNOEA_': 'neo_resp_dx_tachypnoea',\n",
    "    'PULMON_HYPERTEN_': 'neo_resp_dx_pul_htn',\n",
    "    'OTHER_CLIN_DX_': 'neo_resp_dx_oth',\n",
    "    'SPECIFY_OTHER_DX_': 'neo_resp_dx_oth_spec',\n",
    "    'ADDN_VENT_SUPPORT_': 'neo_resp_vent_sup_yn',\n",
    "    'SUPPLEMENT_OXYGEN_': 'neo_resp_vent_o2',\n",
    "    'INTUBN_VENTN_ETT_': 'neo_resp_vent_ett',\n",
    "    'CPAP_': 'neo_resp_vent_cpap',\n",
    "    'OTHER_VENT_SUPPORT_': 'neo_resp_vent_oth',\n",
    "    'SPECIFY_OTH_VENT_SUPPORT_': 'neo_resp_vent_oth_spec',\n",
    "}\n",
    "\n",
    "neo_resp = obs_clinic_migration.RedcapConv(neo_resp_dict, 2)"
   ]
  },
  {
   "cell_type": "markdown",
   "metadata": {},
   "source": [
    "## Neonatal Form: Neonatal Resuscitation (3) - Data Verification<a name=\"neo-resp-comp\"></a>"
   ]
  },
  {
   "cell_type": "code",
   "execution_count": 108,
   "metadata": {},
   "outputs": [
    {
     "data": {
      "text/html": [
       "<div>\n",
       "<style scoped>\n",
       "    .dataframe tbody tr th:only-of-type {\n",
       "        vertical-align: middle;\n",
       "    }\n",
       "\n",
       "    .dataframe tbody tr th {\n",
       "        vertical-align: top;\n",
       "    }\n",
       "\n",
       "    .dataframe thead th {\n",
       "        text-align: right;\n",
       "    }\n",
       "</style>\n",
       "<table border=\"1\" class=\"dataframe\">\n",
       "  <thead>\n",
       "    <tr style=\"text-align: right;\">\n",
       "      <th></th>\n",
       "      <th>obs_id</th>\n",
       "      <th>redcap_repeat_instance</th>\n",
       "      <th>neo_baby_num</th>\n",
       "      <th>neo_resp_dx_rds</th>\n",
       "      <th>neo_resp_dx_mec</th>\n",
       "      <th>...</th>\n",
       "      <th>neo_resp_vent_ett</th>\n",
       "      <th>neo_resp_vent_cpap</th>\n",
       "      <th>neo_resp_vent_oth</th>\n",
       "      <th>neo_resp_vent_oth_spec</th>\n",
       "      <th>Source</th>\n",
       "    </tr>\n",
       "  </thead>\n",
       "  <tbody>\n",
       "  </tbody>\n",
       "</table>\n",
       "<p>0 rows × 18 columns</p>\n",
       "</div>"
      ],
      "text/plain": [
       "Empty DataFrame\n",
       "Columns: [obs_id, redcap_repeat_instance, neo_baby_num, neo_resp_dx_rds, neo_resp_dx_mec, neo_resp_dx_pneu, neo_resp_dx_pnthorax, neo_resp_dx_tachypnoea, neo_resp_dx_pul_htn, neo_resp_dx_oth, neo_resp_dx_oth_spec, neo_resp_vent_sup_yn, neo_resp_vent_o2, neo_resp_vent_ett, neo_resp_vent_cpap, neo_resp_vent_oth, neo_resp_vent_oth_spec, Source]\n",
       "Index: []\n",
       "\n",
       "[0 rows x 18 columns]"
      ]
     },
     "execution_count": 108,
     "metadata": {},
     "output_type": "execute_result"
    }
   ],
   "source": [
    "neo_resp.compare_conv_dde(obs_data_sets.redcap_clinic)"
   ]
  },
  {
   "cell_type": "markdown",
   "metadata": {},
   "source": [
    "## Neonatal Form: Neonatal Resuscitation (3) - Prepare and Save<a name=\"neo-resp-save\"></a>"
   ]
  },
  {
   "cell_type": "code",
   "execution_count": 109,
   "metadata": {},
   "outputs": [],
   "source": [
    "neo_resp.prep_imp(\n",
    "    'neonatal_data_arm_1', 'neonatal_form_complete', 'neonatal_form'\n",
    ")\n",
    "neo_resp.data.to_csv('../data/processed/neo_resp.csv', index=False)"
   ]
  },
  {
   "cell_type": "markdown",
   "metadata": {},
   "source": [
    "# Neonatal Form: Labwork<a name=\"neo-lab\"></a>"
   ]
  },
  {
   "cell_type": "markdown",
   "metadata": {},
   "source": [
    "## Neonatal Form: Labwork - Preprocessing<a name=\"neo-lab-pre\"></a>"
   ]
  },
  {
   "cell_type": "code",
   "execution_count": 110,
   "metadata": {},
   "outputs": [
    {
     "name": "stderr",
     "output_type": "stream",
     "text": [
      "C:\\Users\\Ryan Seeto\\anaconda3\\lib\\site-packages\\pandas\\core\\ops\\array_ops.py:253: FutureWarning: elementwise comparison failed; returning scalar instead, but in the future will perform elementwise comparison\n",
      "  res_values = method(rvalues)\n"
     ]
    }
   ],
   "source": [
    "for i in range(1, 3):\n",
    "    # some columns don't have an associated 'STD' column and needed to be coded \n",
    "    obs_data_sets.rave_clinic['ORGANISM_IDENTIFIED_STD_' + str(i)].replace(\n",
    "        {\n",
    "            '1': 'Group B strep', \n",
    "            '2': 'Other Gram positive', \n",
    "            '3': 'Gram negative'\n",
    "        }, inplace=True\n",
    "    )\n",
    "    \n",
    "    # separate intermingled columns\n",
    "    obs_data_sets.rave_clinic[\n",
    "        'ORGANISM_IDENTIFIED_GRAM_POS_' + str(i)\n",
    "    ] = np.NaN\n",
    "    obs_data_sets.rave_clinic.loc[\n",
    "        obs_data_sets.rave_clinic[\n",
    "            'ORGANISM_IDENTIFIED_STD_'+ str(i)\n",
    "        ] == 'Other Gram positive',\n",
    "        'ORGANISM_IDENTIFIED_GRAM_POS_'+ str(i)\n",
    "    ] = obs_data_sets.rave_clinic.loc[\n",
    "        obs_data_sets.rave_clinic[\n",
    "            'ORGANISM_IDENTIFIED_STD_'+ str(i)\n",
    "        ] == 'Other Gram positive',\n",
    "        'ORGANISM_IDENTIFIED_'+ str(i)\n",
    "    ]\n",
    "    obs_data_sets.rave_clinic[\n",
    "        'ORGANISM_IDENTIFIED_GRAM_NEG_' + str(i)\n",
    "    ] = np.NaN\n",
    "    obs_data_sets.rave_clinic.loc[\n",
    "        obs_data_sets.rave_clinic[\n",
    "            'ORGANISM_IDENTIFIED_STD_'+ str(i)\n",
    "        ] == 'Gram negative',\n",
    "        'ORGANISM_IDENTIFIED_GRAM_NEG_'+ str(i)\n",
    "    ] = obs_data_sets.rave_clinic.loc[\n",
    "        obs_data_sets.rave_clinic[\n",
    "            'ORGANISM_IDENTIFIED_STD_'+ str(i)\n",
    "        ] == 'Gram negative',\n",
    "        'ORGANISM_IDENTIFIED_'+ str(i)\n",
    "    ]\n",
    "    \n",
    "    # some columns don't have an associated 'STD' column and needed to be coded\n",
    "    obs_data_sets.rave_clinic['BANDS_UNK_' + str(i)].replace(\n",
    "        {'0': 'Available', '1': 'Not available'}, inplace=True\n",
    "    )\n",
    "    obs_data_sets.rave_clinic['NEUTROPHILS_UNK_' + str(i)].replace(\n",
    "        {'0': 'Available', '1': 'Not available'}, inplace=True\n",
    "    )"
   ]
  },
  {
   "cell_type": "markdown",
   "metadata": {},
   "source": [
    "## Neonatal Form: Labwork - Processing<a name=\"neo-lab-pro\"></a>"
   ]
  },
  {
   "cell_type": "code",
   "execution_count": 111,
   "metadata": {},
   "outputs": [
    {
     "name": "stdout",
     "output_type": "stream",
     "text": [
      "Column 'neo_lab_sepsis_dx_time', variable '= 48 hours after birth' has an issue.\n"
     ]
    }
   ],
   "source": [
    "neo_lab_dict = {\n",
    "    'BABY_NUM6_': 'neo_baby_num',\n",
    "    'CBC_24HRS_': 'neo_lab_cbc_yn',\n",
    "    'HGB_': 'neo_lab_cbc_hgb',\n",
    "    'PLATELETS_': 'neo_lab_cbc_plat',\n",
    "    'BANDS_24HRS_': 'neo_lab_cbc_band',\n",
    "    'BANDS_UNK_': 'neo_lab_cbc_band_na',\n",
    "    'LEUK_WBC_24HRS_': 'neo_lab_cbc_wbc',\n",
    "    'NEUTROPHIL_POLYCYT_': 'neo_lab_cbc_neut',\n",
    "    'NEUTROPHILS_UNK_': 'neo_lab_cbc_neut_na',\n",
    "    'CULTURE_SEPSIS_': 'neo_lab_sepsis_yn',\n",
    "    'WHEN_SEPSIS_PROVEN_': 'neo_lab_sepsis_dx_time',\n",
    "    'ORGANISM_IDENTIFIED_STD_': 'neo_lab_sepsis_path',\n",
    "    'ORGANISM_IDENTIFIED_GRAM_POS_': 'neo_lab_sepsis_gram_pos',\n",
    "    'ORGANISM_IDENTIFIED_GRAM_NEG_': 'neo_lab_sepsis_gram_neg', \n",
    "    'CULT_NEG_SEPSIS_RECV_ANBIOTICS_': 'neo_lab_sepsis_cult_neg_yn',\n",
    "    'NUM_NEG_CULTURES_': 'neo_lab_sepsis_cult_neg',\n",
    "}\n",
    "neo_lab = obs_clinic_migration.RedcapConv(\n",
    "    neo_lab_dict, 2, obs_data_sets.rave_clinic\n",
    ")"
   ]
  },
  {
   "cell_type": "markdown",
   "metadata": {},
   "source": [
    "## Neonatal Form: Labwork - Post-processing<a name=\"neo-lab-post\"></a>"
   ]
  },
  {
   "cell_type": "code",
   "execution_count": 112,
   "metadata": {},
   "outputs": [
    {
     "name": "stdout",
     "output_type": "stream",
     "text": [
      "2    6\n",
      "1    3\n",
      "Name: neo_lab_sepsis_dx_time, dtype: int64\n",
      "1    2308\n",
      "2      55\n",
      "Name: neo_baby_num, dtype: int64\n"
     ]
    }
   ],
   "source": [
    "neo_lab.change_str(\n",
    "    {\n",
    "        'neo_lab_sepsis_dx_time': {\n",
    "            '= 48 hours after birth': '≤48 hours after birth'\n",
    "        },\n",
    "        'neo_baby_num': {'001': 'B01','01': 'B01'} \n",
    "    }\n",
    ")"
   ]
  },
  {
   "cell_type": "markdown",
   "metadata": {},
   "source": [
    "## Neonatal Form: Labwork - Data Verification<a name=\"neo-lab-comp\"></a>"
   ]
  },
  {
   "cell_type": "code",
   "execution_count": 113,
   "metadata": {},
   "outputs": [
    {
     "data": {
      "text/html": [
       "<div>\n",
       "<style scoped>\n",
       "    .dataframe tbody tr th:only-of-type {\n",
       "        vertical-align: middle;\n",
       "    }\n",
       "\n",
       "    .dataframe tbody tr th {\n",
       "        vertical-align: top;\n",
       "    }\n",
       "\n",
       "    .dataframe thead th {\n",
       "        text-align: right;\n",
       "    }\n",
       "</style>\n",
       "<table border=\"1\" class=\"dataframe\">\n",
       "  <thead>\n",
       "    <tr style=\"text-align: right;\">\n",
       "      <th></th>\n",
       "      <th>obs_id</th>\n",
       "      <th>redcap_repeat_instance</th>\n",
       "      <th>neo_baby_num</th>\n",
       "      <th>neo_lab_cbc_yn</th>\n",
       "      <th>neo_lab_cbc_hgb</th>\n",
       "      <th>...</th>\n",
       "      <th>neo_lab_sepsis_gram_pos</th>\n",
       "      <th>neo_lab_sepsis_gram_neg</th>\n",
       "      <th>neo_lab_sepsis_cult_neg_yn</th>\n",
       "      <th>neo_lab_sepsis_cult_neg</th>\n",
       "      <th>Source</th>\n",
       "    </tr>\n",
       "  </thead>\n",
       "  <tbody>\n",
       "    <tr>\n",
       "      <th>13</th>\n",
       "      <td>91200444</td>\n",
       "      <td>2</td>\n",
       "      <td>2</td>\n",
       "      <td>nan</td>\n",
       "      <td>nan</td>\n",
       "      <td>...</td>\n",
       "      <td>nan</td>\n",
       "      <td>nan</td>\n",
       "      <td>nan</td>\n",
       "      <td>nan</td>\n",
       "      <td>REDCapDDE</td>\n",
       "    </tr>\n",
       "  </tbody>\n",
       "</table>\n",
       "<p>1 rows × 19 columns</p>\n",
       "</div>"
      ],
      "text/plain": [
       "      obs_id redcap_repeat_instance neo_baby_num neo_lab_cbc_yn  \\\n",
       "13  91200444                      2            2            nan   \n",
       "\n",
       "   neo_lab_cbc_hgb  ... neo_lab_sepsis_gram_pos neo_lab_sepsis_gram_neg  \\\n",
       "13             nan  ...                     nan                     nan   \n",
       "\n",
       "   neo_lab_sepsis_cult_neg_yn neo_lab_sepsis_cult_neg     Source  \n",
       "13                        nan                     nan  REDCapDDE  \n",
       "\n",
       "[1 rows x 19 columns]"
      ]
     },
     "execution_count": 113,
     "metadata": {},
     "output_type": "execute_result"
    }
   ],
   "source": [
    "neo_lab.compare_conv_dde(obs_data_sets.redcap_clinic)\n",
    "# REDCap has longer forms than Rave (i.e. more data is compartmentalized) for \n",
    "# 'neonatal_form'; therefore, will indicate issue with 'compare_conv_dde' \n",
    "# method"
   ]
  },
  {
   "cell_type": "markdown",
   "metadata": {},
   "source": [
    "## Neonatal Form: Labwork - Prepare and Save<a name=\"neo-lab-save\"></a>"
   ]
  },
  {
   "cell_type": "code",
   "execution_count": 114,
   "metadata": {},
   "outputs": [],
   "source": [
    "neo_lab.prep_imp(\n",
    "    'neonatal_data_arm_1', 'neonatal_form_complete', 'neonatal_form'\n",
    ")\n",
    "neo_lab.data.to_csv('../data/processed/neo_lab.csv', index=False)"
   ]
  },
  {
   "cell_type": "markdown",
   "metadata": {},
   "source": [
    "# Neonatal Form: Discharge Data<a name=\"neo-dc\"></a>"
   ]
  },
  {
   "cell_type": "markdown",
   "metadata": {},
   "source": [
    "## Neonatal Form: Discharge Data - Preprocessing<a name=\"neo-dc-pre\"></a>"
   ]
  },
  {
   "cell_type": "code",
   "execution_count": 115,
   "metadata": {},
   "outputs": [],
   "source": [
    "for i in range(1, 3):\n",
    "    for date_time in [\n",
    "        'FIRST_DISCHARGE_HOME_DT_TM_', 'BABY_HOSP_READMIT_DTTM_',\n",
    "        'FINAL_DISCHARGE_DT_TM_','BABY_DEATH_DT_TM_'\n",
    "    ]:\n",
    "        # format relevant columns\n",
    "        obs_data_sets.rave_clinic[date_time + 'DATE_' + str(i)] = (\n",
    "            pd.to_datetime(\n",
    "                obs_data_sets.rave_clinic[date_time + str(i)], \n",
    "                format='%d%b%Y %H:%M:%S'\n",
    "            ).dt.strftime('%Y-%m-%d')\n",
    "        )\n",
    "        obs_data_sets.rave_clinic[date_time + 'TIME_' + str(i)] = (\n",
    "            pd.to_datetime(\n",
    "                obs_data_sets.rave_clinic[date_time + str(i)], \n",
    "                format='%d%b%Y %H:%M:%S'\n",
    "            ).dt.strftime('%H:%M')\n",
    "        )\n",
    "\n",
    "    # create 'not applicable'/'yes' discharge columns for date and time\n",
    "    obs_data_sets.rave_clinic[\n",
    "        'FIRST_DISCHARGE_HOME_DT_TM_yn_' + str(i)\n",
    "    ] = np.NaN\n",
    "    obs_data_sets.rave_clinic.loc[\n",
    "        (   \n",
    "            (obs_data_sets.rave_clinic['BABYOBSID_' + str(i)].notna())\n",
    "            & (obs_data_sets.rave_clinic['FIRST_DIS_HOME_NA_' + str(i)] == '1')\n",
    "        ), 'FIRST_DISCHARGE_HOME_DT_TM_yn_' + str(i)\n",
    "    ] = 'Not applicable'\n",
    "    obs_data_sets.rave_clinic.loc[\n",
    "        (   \n",
    "            (obs_data_sets.rave_clinic['BABYOBSID_' + str(i)].notna())\n",
    "            & (\n",
    "                obs_data_sets.rave_clinic[\n",
    "                    'FIRST_DISCHARGE_HOME_DT_TM_' + str(i)\n",
    "                ].notna()\n",
    "            )\n",
    "            & (obs_data_sets.rave_clinic['FIRST_DIS_HOME_NA_' + str(i)] == '0')\n",
    "        ), 'FIRST_DISCHARGE_HOME_DT_TM_yn_' + str(i)\n",
    "    ] = 'Yes'\n",
    "    \n",
    "    # create 'yes'/'no' discharge columns for date and time\n",
    "    obs_data_sets.rave_clinic[\n",
    "        'FIRST_DISCHARGE_HOME_DT_TM_yn_date_' + str(i)\n",
    "    ] = np.NaN\n",
    "    obs_data_sets.rave_clinic.loc[\n",
    "        (   \n",
    "            (obs_data_sets.rave_clinic['BABYOBSID_' + str(i)].notna())\n",
    "            & (\n",
    "                obs_data_sets.rave_clinic[\n",
    "                    'FIRST_DISCHARGE_HOME_DT_TM_' + str(i)\n",
    "                ].isna()\n",
    "            )\n",
    "            & (obs_data_sets.rave_clinic['FIRST_DIS_HOME_NA_' + str(i)] == '0')\n",
    "        ), 'FIRST_DISCHARGE_HOME_DT_TM_yn_date_' + str(i)\n",
    "    ] = 'No'\n",
    "    obs_data_sets.rave_clinic.loc[\n",
    "        (   \n",
    "            (obs_data_sets.rave_clinic['BABYOBSID_' + str(i)].notna())\n",
    "            & (\n",
    "                obs_data_sets.rave_clinic[\n",
    "                    'FIRST_DISCHARGE_HOME_DT_TM_' + str(i)\n",
    "                ].notna()\n",
    "            )\n",
    "            & (obs_data_sets.rave_clinic['FIRST_DIS_HOME_NA_' + str(i)] == '0')\n",
    "        ), 'FIRST_DISCHARGE_HOME_DT_TM_yn_date_' + str(i)\n",
    "    ] = 'Yes'\n",
    "    obs_data_sets.rave_clinic[\n",
    "        'FIRST_DISCHARGE_HOME_DT_TM_yn_time_' + str(i)\n",
    "    ] = obs_data_sets.rave_clinic[\n",
    "        'FIRST_DISCHARGE_HOME_DT_TM_yn_date_' + str(i)\n",
    "    ]\n",
    "    \n",
    "    # create column indicating date availability for final discharge\n",
    "    obs_data_sets.rave_clinic['FINAL_DISCHARGE_DT_TM_yn_' + str(i)] = np.NaN\n",
    "    obs_data_sets.rave_clinic.loc[\n",
    "        (\n",
    "            (obs_data_sets.rave_clinic['BABY_READMIT_HOSP_' + str(i)] == 'Yes')\n",
    "            & (\n",
    "                obs_data_sets.rave_clinic[\n",
    "                    'FINAL_DISCHARGE_DT_TM_' + str(i)\n",
    "                ].notna()\n",
    "                | (\n",
    "                    obs_data_sets.rave_clinic[\n",
    "                        'FINAL_DISCHARGE_DT_TM_YYYY_' + str(i)\n",
    "                    ].notna()\n",
    "                )\n",
    "            )\n",
    "        ), 'FINAL_DISCHARGE_DT_TM_yn_' + str(i)\n",
    "    ] = 'Yes'\n",
    "    obs_data_sets.rave_clinic[\n",
    "        'FINAL_DISCHARGE_DT_TM_yn_date_' + str(i)\n",
    "    ] = np.NaN\n",
    "    obs_data_sets.rave_clinic.loc[\n",
    "        (   \n",
    "            (\n",
    "                obs_data_sets.rave_clinic[\n",
    "                    'FINAL_DISCHARGE_DT_TM_yn_' + str(i)\n",
    "                ] == 'Yes'\n",
    "            )\n",
    "            & (\n",
    "                obs_data_sets.rave_clinic[\n",
    "                    'FINAL_DISCHARGE_DT_TM_' + str(i)\n",
    "                ].notna()\n",
    "            )\n",
    "        ), 'FINAL_DISCHARGE_DT_TM_yn_date_' + str(i)\n",
    "    ] = 'Yes'\n",
    "    obs_data_sets.rave_clinic.loc[\n",
    "        (   \n",
    "            (\n",
    "                obs_data_sets.rave_clinic[\n",
    "                    'FINAL_DISCHARGE_DT_TM_yn_' + str(i)\n",
    "                ] == 'Yes'\n",
    "            )\n",
    "            & (\n",
    "                obs_data_sets.rave_clinic[\n",
    "                    'FINAL_DISCHARGE_DT_TM_' + str(i)\n",
    "                ].isna()\n",
    "            )\n",
    "        ), 'FINAL_DISCHARGE_DT_TM_yn_date_' + str(i)\n",
    "    ] = 'No'\n",
    "    obs_data_sets.rave_clinic['FINAL_DISCHARGE_DT_TM_yn_time_' + str(i)] = (\n",
    "        obs_data_sets.rave_clinic['FINAL_DISCHARGE_DT_TM_yn_date_' + str(i)]\n",
    "    )\n",
    "\n",
    "    # create column indicating date availability for readmission and death\n",
    "    for key, val in {\n",
    "        'BABY_HOSP_READMIT_DTTM_' : 'BABY_READMIT_HOSP_',\n",
    "        'BABY_DEATH_DT_TM_': 'BABY_DIE_FIRST28DYS_'\n",
    "    }.items():\n",
    "        obs_data_sets.rave_clinic[key + 'yn_date_' + str(i)] = np.NaN\n",
    "        obs_data_sets.rave_clinic.loc[\n",
    "            (\n",
    "                (obs_data_sets.rave_clinic[val + str(i)] == 'Yes')\n",
    "                & (obs_data_sets.rave_clinic[key + str(i)].isna())\n",
    "            ),\n",
    "            key + 'yn_date_' + str(i)\n",
    "        ] = 'No'\n",
    "        obs_data_sets.rave_clinic.loc[\n",
    "            (\n",
    "                (obs_data_sets.rave_clinic[val + str(i)] == 'Yes')\n",
    "                & (obs_data_sets.rave_clinic[key + str(i)].notna())\n",
    "            ),\n",
    "            key + 'yn_date_' + str(i)\n",
    "        ] = 'Yes'\n",
    "        obs_data_sets.rave_clinic[key + 'yn_time_' + str(i)] = (\n",
    "            obs_data_sets.rave_clinic[key + 'yn_date_' + str(i)]\n",
    "        )"
   ]
  },
  {
   "cell_type": "markdown",
   "metadata": {},
   "source": [
    "## Neonatal Form: Discharge Data - Processing<a name=\"neo-dc-pro\"></a>"
   ]
  },
  {
   "cell_type": "code",
   "execution_count": 116,
   "metadata": {},
   "outputs": [],
   "source": [
    "neo_dc_dict = {\n",
    "    'BABY_NUM8_': 'neo_baby_num', \n",
    "    'OTHER_DX_PRIOR_DISCHARGE_NY_': 'neo_dc_dx_oth_yn', \n",
    "    'NOENATAL_ENCEPHAL_': 'neo_dc_dx_enceph', \n",
    "    'INTRACRAN_HEM_': 'neo_dc_dx_ich', \n",
    "    'HYPOGLYCEMIA_': 'neo_dc_dx_hypogly', \n",
    "    'HYPERBILIRUB_REQ_TX_': 'neo_dc_dx_bili', \n",
    "    'NEONATAL_ABSTIN_SYND_': 'neo_dc_dx_nas', \n",
    "    'INTESTINAL_OBSTRUCTN_': 'neo_dc_dx_int_obst', \n",
    "    'NECROTIZ_ENTEROCOLITIS_': 'neo_dc_dx_nec', \n",
    "    'INTESTINAL_PERFORN_': 'neo_dc_dx_int_perf', \n",
    "    'RENAL_FAILURE_': 'neo_dc_dx_renal_fail', \n",
    "    'DEHYDRATION_': 'neo_dc_dx_deh2o',\n",
    "    'SHOCK_': 'neo_dc_dx_shock',\n",
    "    'HEMATOL_ABNORM_': 'neo_dc_dx_hemat_ab',\n",
    "    'ELECTROLYTE_ABNORM_': 'neo_dc_dx_elec_abn', \n",
    "    'METABOLIC_DISORDER_': 'neo_dc_dx_metabolic', \n",
    "    'WEIGHT_LOSS_GT10PC_NY_': 'neo_dc_dx_wt_loss', \n",
    "    'BRACHIAL_PLEXUS_INJURY_NY_': 'neo_dc_dx_brachia', \n",
    "    'CAPUT_SUCCEDANEUM_NY_': 'neo_dc_dx_caput', \n",
    "    'CEPHALOHEMATOMA_NY_': 'neo_dc_dx_cepha_hema', \n",
    "    'CLAVICULAR_FRACTURE_NY_': 'neo_dc_dx_fracture', \n",
    "    'FACIAL_NERVE_INJURY_NY_': 'neo_dc_dx_face_nerve', \n",
    "    'OTHER_DX_DISCHARGE_': 'neo_dc_dx_oth', \n",
    "    'SPECIFY_DX_DISCHARGE_': 'neo_dc_dx_oth_oth_spec', \n",
    "    'FIRST_DISCHARGE_HOME_DT_TM_yn_date_': 'neo_dc_1st_date_yn',\n",
    "    'FIRST_DISCHARGE_HOME_DT_TM_yn_time_': 'neo_dc_1st_time_yn',\n",
    "    'FIRST_DISCHARGE_HOME_DT_TM_DATE_': 'neo_dc_1st_date', \n",
    "    'FIRST_DISCHARGE_HOME_DT_TM_TIME_': 'neo_dc_1st_time', \n",
    "    'BABY_READMIT_HOSP_': 'neo_dc_readmit_yn', \n",
    "    'BABY_HOSP_READMIT_DTTM_yn_date_': 'neo_dc_readmit_date_yn',\n",
    "    'BABY_HOSP_READMIT_DTTM_yn_time_': 'neo_dc_readmit_time_yn',\n",
    "    'BABY_HOSP_READMIT_DTTM_DATE_': 'neo_dc_readmit_date', \n",
    "    'BABY_HOSP_READMIT_DTTM_TIME_': 'neo_dc_readmit_time', \n",
    "    'REASON_ADMIT_HOSP_': 'neo_dc_readmit_reason', \n",
    "    'FINAL_DISCHARGE_DT_TM_yn_': 'neo_dc_final_yn',\n",
    "    'FINAL_DISCHARGE_DT_TM_yn_date_': 'neo_dc_final_date_yn',\n",
    "    'FINAL_DISCHARGE_DT_TM_yn_time_': 'neo_dc_final_time_yn',\n",
    "    'FINAL_DISCHARGE_DT_TM_DATE_': 'neo_dc_final_date', \n",
    "    'FINAL_DISCHARGE_DT_TM_TIME_': 'neo_dc_final_time', \n",
    "    'BABY_DIE_FIRST28DYS_': 'neo_dc_death_yn', \n",
    "    'BABY_DEATH_DT_TM_yn_date_': 'neo_dc_death_date_yn',\n",
    "    'BABY_DEATH_DT_TM_yn_time_': 'neo_dc_death_time_yn',\n",
    "    'BABY_DEATH_DT_TM_DATE_': 'neo_dc_death_date', \n",
    "    'BABY_DEATH_DT_TM_TIME_': 'neo_dc_death_time', \n",
    "    'AUTOPSY_PERFORMED_NYU_': 'neo_dc_autopsy'\n",
    "}\n",
    "neo_dc = obs_clinic_migration.RedcapConv(\n",
    "    neo_dc_dict, 2, obs_data_sets.rave_clinic\n",
    ")"
   ]
  },
  {
   "cell_type": "markdown",
   "metadata": {},
   "source": [
    "## Neonatal Form: Discharge Data - Post-processing<a name=\"neo-dc-post\"></a>"
   ]
  },
  {
   "cell_type": "code",
   "execution_count": 117,
   "metadata": {},
   "outputs": [
    {
     "name": "stdout",
     "output_type": "stream",
     "text": [
      "1    2308\n",
      "2      56\n",
      "Name: neo_baby_num, dtype: int64\n"
     ]
    }
   ],
   "source": [
    "neo_dc.change_str(\n",
    "    {\n",
    "        'neo_baby_num': {\n",
    "            '001': 'B01',\n",
    "            'BO1': 'B01',\n",
    "            ' B0' : 'B01' # manually checked subject only had a singleton\n",
    "        } \n",
    "    }\n",
    ")"
   ]
  },
  {
   "cell_type": "markdown",
   "metadata": {},
   "source": [
    "## Neonatal Form: Discharge Data - Data Verification<a name=\"neo-dc-comp\"></a>"
   ]
  },
  {
   "cell_type": "code",
   "execution_count": 118,
   "metadata": {},
   "outputs": [
    {
     "data": {
      "text/html": [
       "<div>\n",
       "<style scoped>\n",
       "    .dataframe tbody tr th:only-of-type {\n",
       "        vertical-align: middle;\n",
       "    }\n",
       "\n",
       "    .dataframe tbody tr th {\n",
       "        vertical-align: top;\n",
       "    }\n",
       "\n",
       "    .dataframe thead th {\n",
       "        text-align: right;\n",
       "    }\n",
       "</style>\n",
       "<table border=\"1\" class=\"dataframe\">\n",
       "  <thead>\n",
       "    <tr style=\"text-align: right;\">\n",
       "      <th></th>\n",
       "      <th>obs_id</th>\n",
       "      <th>redcap_repeat_instance</th>\n",
       "      <th>neo_baby_num</th>\n",
       "      <th>neo_dc_dx_oth_yn</th>\n",
       "      <th>neo_dc_dx_enceph</th>\n",
       "      <th>...</th>\n",
       "      <th>neo_dc_death_date</th>\n",
       "      <th>neo_dc_death_time_yn</th>\n",
       "      <th>neo_dc_death_time</th>\n",
       "      <th>neo_dc_autopsy</th>\n",
       "      <th>Source</th>\n",
       "    </tr>\n",
       "  </thead>\n",
       "  <tbody>\n",
       "    <tr>\n",
       "      <th>13</th>\n",
       "      <td>91200444</td>\n",
       "      <td>2</td>\n",
       "      <td>2</td>\n",
       "      <td>nan</td>\n",
       "      <td>nan</td>\n",
       "      <td>...</td>\n",
       "      <td>nan</td>\n",
       "      <td>nan</td>\n",
       "      <td>nan</td>\n",
       "      <td>nan</td>\n",
       "      <td>REDCapDDE</td>\n",
       "    </tr>\n",
       "  </tbody>\n",
       "</table>\n",
       "<p>1 rows × 48 columns</p>\n",
       "</div>"
      ],
      "text/plain": [
       "      obs_id redcap_repeat_instance neo_baby_num neo_dc_dx_oth_yn  \\\n",
       "13  91200444                      2            2              nan   \n",
       "\n",
       "   neo_dc_dx_enceph  ... neo_dc_death_date neo_dc_death_time_yn  \\\n",
       "13              nan  ...               nan                  nan   \n",
       "\n",
       "   neo_dc_death_time neo_dc_autopsy     Source  \n",
       "13               nan            nan  REDCapDDE  \n",
       "\n",
       "[1 rows x 48 columns]"
      ]
     },
     "execution_count": 118,
     "metadata": {},
     "output_type": "execute_result"
    }
   ],
   "source": [
    "neo_dc.compare_conv_dde(obs_data_sets.redcap_clinic)\n",
    "# REDCap has longer forms than Rave (i.e. more data is compartmentalized) for \n",
    "# 'neonatal_form'; therefore, will indicate issue with 'compare_conv_dde' \n",
    "# method"
   ]
  },
  {
   "cell_type": "markdown",
   "metadata": {},
   "source": [
    "## Neonatal Form: Discharge Data - Prepare and Save<a name=\"neo-dc-save\"></a>"
   ]
  },
  {
   "cell_type": "code",
   "execution_count": 119,
   "metadata": {},
   "outputs": [],
   "source": [
    "neo_dc.prep_imp(\n",
    "    'neonatal_data_arm_1', 'neonatal_form_complete', 'neonatal_form'\n",
    ")\n",
    "neo_dc.data.to_csv('../data/processed/neo_dc.csv', index=False)"
   ]
  },
  {
   "cell_type": "markdown",
   "metadata": {},
   "source": [
    "# Neonatal Form: Anomally dx<a name=\"anom-dx\"></a>"
   ]
  },
  {
   "cell_type": "markdown",
   "metadata": {},
   "source": [
    "## Neonatal Form: Anomally dx - Processing<a name=\"anom-dx-pro\"></a>"
   ]
  },
  {
   "cell_type": "code",
   "execution_count": 120,
   "metadata": {},
   "outputs": [
    {
     "name": "stdout",
     "output_type": "stream",
     "text": [
      "Column 'anom_baby_num', variable 'BOI' has an issue.\n",
      "Column 'anom_baby_num', variable 'B)!' has an issue.\n",
      "Column 'anom_dx_cat', variable 'Genitourinary Tract' has an issue.\n",
      "Column 'anom_dx_cat', variable 'Extremities – Skeletal' has an issue.\n",
      "Column 'anom_dx_cat', variable 'Head – Cranium & Brain' has an issue.\n",
      "Column 'anom_dx_cat', variable 'Spine – Back' has an issue.\n",
      "Column 'anom_dx_cat', variable 'Structural – Other' has an issue.\n",
      "Column 'anom_dx_cat', variable 'Abdominal Wall' has an issue.\n"
     ]
    }
   ],
   "source": [
    "anom_dx_dict = {\n",
    "    'BABY_NUM7_': 'anom_baby_num',\n",
    "    'DX_CONGENITAL_ANOMALY_NY_': 'anom_dx_yn',\n",
    "    'ANOMALY_CATEGORY_': 'anom_dx_cat',\n",
    "    'SPECIFY_ANOMALY2_': 'anom_dx_spec',\n",
    "    'DIAGNOSIS_': 'anom_dx_prepost'\n",
    "}\n",
    "anom_dx = obs_clinic_migration.RedcapConv(\n",
    "    anom_dx_dict, 6, main_df=obs_data_sets.rave_clinic\n",
    ")"
   ]
  },
  {
   "cell_type": "markdown",
   "metadata": {},
   "source": [
    "## Neonatal Form: Anomally dx - Post-processing<a name=\"anom-dx-post\"></a>"
   ]
  },
  {
   "cell_type": "code",
   "execution_count": 121,
   "metadata": {},
   "outputs": [
    {
     "name": "stdout",
     "output_type": "stream",
     "text": [
      "8     57\n",
      "2     46\n",
      "6     43\n",
      "5     18\n",
      "9     17\n",
      "11    16\n",
      "12    13\n",
      "7      9\n",
      "17     9\n",
      "3      5\n",
      "15     4\n",
      "13     3\n",
      "10     2\n",
      "1      2\n",
      "Name: anom_dx_cat, dtype: int64\n",
      "1    2354\n",
      "2      58\n",
      "Name: anom_baby_num, dtype: int64\n"
     ]
    }
   ],
   "source": [
    "anom_dx.change_str(\n",
    "    {\n",
    "        'anom_dx_cat': {\n",
    "            'Head – Cranium & Brain': 'Head - Cranium & brain',\n",
    "            'Genitourinary Tract' : 'Genitourinary tract',\n",
    "            'Extremities – Skeletal': 'Extremities - Skeletal', \n",
    "            'Spine – Back': 'Spine - Back', \n",
    "            'Structural – Other': 'Structural - Other', \n",
    "            'Abdominal Wall': 'Abdominal wall'\n",
    "        },\n",
    "        'anom_baby_num':{\n",
    "            '001': 'B01',\n",
    "            'B)!': 'B01',\n",
    "            'BOI': 'B01'\n",
    "        }\n",
    "    }\n",
    ")"
   ]
  },
  {
   "cell_type": "markdown",
   "metadata": {},
   "source": [
    "## Neonatal Form: Anomally dx - Data Verification<a name=\"anom-dx-comp\"></a>"
   ]
  },
  {
   "cell_type": "code",
   "execution_count": 122,
   "metadata": {},
   "outputs": [
    {
     "data": {
      "text/html": [
       "<div>\n",
       "<style scoped>\n",
       "    .dataframe tbody tr th:only-of-type {\n",
       "        vertical-align: middle;\n",
       "    }\n",
       "\n",
       "    .dataframe tbody tr th {\n",
       "        vertical-align: top;\n",
       "    }\n",
       "\n",
       "    .dataframe thead th {\n",
       "        text-align: right;\n",
       "    }\n",
       "</style>\n",
       "<table border=\"1\" class=\"dataframe\">\n",
       "  <thead>\n",
       "    <tr style=\"text-align: right;\">\n",
       "      <th></th>\n",
       "      <th>obs_id</th>\n",
       "      <th>redcap_repeat_instance</th>\n",
       "      <th>anom_baby_num</th>\n",
       "      <th>anom_dx_yn</th>\n",
       "      <th>anom_dx_cat</th>\n",
       "      <th>anom_dx_spec</th>\n",
       "      <th>anom_dx_prepost</th>\n",
       "      <th>Source</th>\n",
       "    </tr>\n",
       "  </thead>\n",
       "  <tbody>\n",
       "  </tbody>\n",
       "</table>\n",
       "</div>"
      ],
      "text/plain": [
       "Empty DataFrame\n",
       "Columns: [obs_id, redcap_repeat_instance, anom_baby_num, anom_dx_yn, anom_dx_cat, anom_dx_spec, anom_dx_prepost, Source]\n",
       "Index: []"
      ]
     },
     "execution_count": 122,
     "metadata": {},
     "output_type": "execute_result"
    }
   ],
   "source": [
    "anom_dx.compare_conv_dde(obs_data_sets.redcap_clinic)"
   ]
  },
  {
   "cell_type": "markdown",
   "metadata": {},
   "source": [
    "## Neonatal Form: Anomally dx - Prepare and Save<a name=\"anom-dx-save\"></a>"
   ]
  },
  {
   "cell_type": "code",
   "execution_count": 123,
   "metadata": {},
   "outputs": [],
   "source": [
    "anom_dx.prep_imp(\n",
    "    'neonatal_data_arm_1', \n",
    "    'neonatal_congenital_anomaly_complete', \n",
    "    'neonatal_congenital_anomaly'\n",
    ")\n",
    "anom_dx.data.to_csv('../data/processed/anom_dx.csv', index=False)"
   ]
  },
  {
   "cell_type": "markdown",
   "metadata": {},
   "source": [
    "# Supplemental Delivery Data: Antepartum<a name=\"supp-del-ant\"></a>"
   ]
  },
  {
   "cell_type": "markdown",
   "metadata": {},
   "source": [
    "## Supplemental Delivery Data: Antepartum - Processing<a name=\"supp-del-ant-pro\"></a>"
   ]
  },
  {
   "cell_type": "code",
   "execution_count": 124,
   "metadata": {},
   "outputs": [
    {
     "name": "stdout",
     "output_type": "stream",
     "text": [
      "Column 'supp_ant_fet_iugr_spec', variable '= 3 or < 10 Percentile' has an issue.\n"
     ]
    }
   ],
   "source": [
    "supp_del_ant_dict = {\n",
    "    'BABY_SSD': 'supp_baby_obs_id',\n",
    "    'COMPLICATIONS_SSD_NY': 'supp_ant_comp_yn', \n",
    "    'FETAL_COMPLICATION_NY': 'supp_ant_fet_yn', \n",
    "    'FETAL_ANOMALY_NY': 'supp_ant_fet_anom', \n",
    "    'ISOIMMUN_ALLOIMMUN_NY': 'supp_ant_fet_isoimm', \n",
    "    'INTRAUTERIN_GROWTH_RESTRICTN_NY': 'supp_ant_fet_iugr', \n",
    "    'LARGE_GESTN_AGE': 'supp_ant_fet_lga', \n",
    "    'OLIGOHYDRAMNIOS2_NY': 'supp_ant_fet_oligo', \n",
    "    'POLYHYDRAMNIOS2_NY': 'supp_ant_fet_poly', \n",
    "    'OTHER_FETAL_COMPLICATN2_NY': 'supp_ant_fet_oth', \n",
    "    'SPECIFY_ANOMALY3': 'supp_ant_fet_anom_spec', \n",
    "    'IUGR_PERCENTILE2': 'supp_ant_fet_iugr_spec', \n",
    "    'SPECIFY_OTH_FETAL_COMPLICATN': 'supp_ant_fet_oth_spec', \n",
    "    'PLACENTAL_COMPLICATION_NY': 'supp_ant_plac_yn', \n",
    "    'PLACENTAL_ABRUPTION4_NY': 'supp_ant_plac_abrptn', \n",
    "    'SEVERITY_PLACEN_ABRUPTN': 'supp_ant_plac_abrptn_sev', \n",
    "    'MATERNAL_COMPLICATION_NY': 'supp_ant_mat_yn', \n",
    "    'PRETERM_PREMAT_RUPTUE_MEMBRAN': 'supp_ant_mat_pprom', \n",
    "    'OTHER_MATERNAL_COMPLICATN': 'supp_ant_mat_oth', \n",
    "    'SPECIFY_OTH_MAT_COMPLICATN': 'supp_ant_mat_oth_spec'\n",
    "}\n",
    "supp_del_ant = obs_clinic_migration.RedcapConv(supp_del_ant_dict, 0)"
   ]
  },
  {
   "cell_type": "markdown",
   "metadata": {},
   "source": [
    "## Supplemental Delivery Data: Antepartum - Post-processing<a name=\"supp-del-ant-post\"></a>"
   ]
  },
  {
   "cell_type": "code",
   "execution_count": 125,
   "metadata": {},
   "outputs": [
    {
     "name": "stdout",
     "output_type": "stream",
     "text": [
      "2    1\n",
      "1    1\n",
      "Name: supp_ant_fet_iugr_spec, dtype: int64\n"
     ]
    }
   ],
   "source": [
    "supp_del_ant.change_str(\n",
    "    {\n",
    "        'supp_ant_fet_iugr_spec': {\n",
    "            \"= 3 or < 10 Percentile\": \"≥3 or < 10 Percentile\" # ≥ not read\n",
    "        }, \n",
    "    }\n",
    ")\n",
    "supp_del_ant.remove_na()\n",
    "supp_del_ant.data['redcap_repeat_instance'] = 1   "
   ]
  },
  {
   "cell_type": "markdown",
   "metadata": {},
   "source": [
    "## Supplemental Delivery Data: Antepartum - Data Verification<a name=\"supp-del-ant-comp\"></a>"
   ]
  },
  {
   "cell_type": "code",
   "execution_count": 126,
   "metadata": {},
   "outputs": [
    {
     "data": {
      "text/html": [
       "<div>\n",
       "<style scoped>\n",
       "    .dataframe tbody tr th:only-of-type {\n",
       "        vertical-align: middle;\n",
       "    }\n",
       "\n",
       "    .dataframe tbody tr th {\n",
       "        vertical-align: top;\n",
       "    }\n",
       "\n",
       "    .dataframe thead th {\n",
       "        text-align: right;\n",
       "    }\n",
       "</style>\n",
       "<table border=\"1\" class=\"dataframe\">\n",
       "  <thead>\n",
       "    <tr style=\"text-align: right;\">\n",
       "      <th></th>\n",
       "      <th>obs_id</th>\n",
       "      <th>redcap_repeat_instance</th>\n",
       "      <th>supp_baby_obs_id</th>\n",
       "      <th>supp_ant_comp_yn</th>\n",
       "      <th>supp_ant_fet_yn</th>\n",
       "      <th>...</th>\n",
       "      <th>supp_ant_mat_yn</th>\n",
       "      <th>supp_ant_mat_pprom</th>\n",
       "      <th>supp_ant_mat_oth</th>\n",
       "      <th>supp_ant_mat_oth_spec</th>\n",
       "      <th>Source</th>\n",
       "    </tr>\n",
       "  </thead>\n",
       "  <tbody>\n",
       "  </tbody>\n",
       "</table>\n",
       "<p>0 rows × 23 columns</p>\n",
       "</div>"
      ],
      "text/plain": [
       "Empty DataFrame\n",
       "Columns: [obs_id, redcap_repeat_instance, supp_baby_obs_id, supp_ant_comp_yn, supp_ant_fet_yn, supp_ant_fet_anom, supp_ant_fet_isoimm, supp_ant_fet_iugr, supp_ant_fet_lga, supp_ant_fet_oligo, supp_ant_fet_poly, supp_ant_fet_oth, supp_ant_fet_anom_spec, supp_ant_fet_iugr_spec, supp_ant_fet_oth_spec, supp_ant_plac_yn, supp_ant_plac_abrptn, supp_ant_plac_abrptn_sev, supp_ant_mat_yn, supp_ant_mat_pprom, supp_ant_mat_oth, supp_ant_mat_oth_spec, Source]\n",
       "Index: []\n",
       "\n",
       "[0 rows x 23 columns]"
      ]
     },
     "execution_count": 126,
     "metadata": {},
     "output_type": "execute_result"
    }
   ],
   "source": [
    "supp_del_ant.compare_conv_dde(obs_data_sets.redcap_clinic)"
   ]
  },
  {
   "cell_type": "markdown",
   "metadata": {},
   "source": [
    "## Supplemental Delivery Data: Antepartum - Prepare and Save<a name=\"supp-del-ant-save\"></a>"
   ]
  },
  {
   "cell_type": "code",
   "execution_count": 127,
   "metadata": {},
   "outputs": [],
   "source": [
    "supp_del_ant.prep_imp(\n",
    "    'supplementary_deli_arm_1', \n",
    "    'supplemental_delivery_data_complete', \n",
    "    'supplemental_delivery_data'\n",
    ")\n",
    "\n",
    "supp_del_ant.data.to_csv('../data/processed/supp_del_ant.csv', index=False)"
   ]
  },
  {
   "cell_type": "markdown",
   "metadata": {},
   "source": [
    "# Supplemental Delivery Data: Labour and Delivery<a name=\"supp-del-lnd\"></a>"
   ]
  },
  {
   "cell_type": "markdown",
   "metadata": {},
   "source": [
    "## Supplemental Delivery Data: Labour and Delivery - Preprocessing<a name=\"supp-del-lnd-pre\"></a>"
   ]
  },
  {
   "cell_type": "code",
   "execution_count": 128,
   "metadata": {},
   "outputs": [],
   "source": [
    "# format relevant columns\n",
    "obs_data_sets.rave_clinic.loc[:, 'RUPTUR_MEMBRANE_DTTM'] = pd.to_datetime(\n",
    "    obs_data_sets.rave_clinic['RUPTUR_MEMBRANE_DTTM']\n",
    ").dt.strftime('%Y-%m-%d %H:%M')\n",
    "\n",
    "# some columns don't have an associated 'STD' column and needed to be coded \n",
    "obs_data_sets.rave_clinic['RUP_MEMBRANE_DTTM_UNK'].replace(\n",
    "    {'0': 'Known', '1': 'Unknown'}, inplace=True\n",
    ")"
   ]
  },
  {
   "cell_type": "markdown",
   "metadata": {},
   "source": [
    "## Supplemental Delivery Data: Labour and Delivery - Processing<a name=\"supp-del-lnd-pro\"></a>"
   ]
  },
  {
   "cell_type": "code",
   "execution_count": 129,
   "metadata": {},
   "outputs": [
    {
     "name": "stdout",
     "output_type": "stream",
     "text": [
      "Column 'supp_lnd_mod', variable 'C-Section' has an issue.\n",
      "Column 'supplnd_breech', variable 'Breech Type Unknown' has an issue.\n"
     ]
    }
   ],
   "source": [
    "supp_del_lnd_dict = {\n",
    "    'BABY_NUM9': 'supp_baby_obs_id',\n",
    "    'RUP_MEMBRANE_DTTM_UNK': 'supp_lnd_rom_dttm_unk', \n",
    "    'RUPTUR_MEMBRANE_DTTM': 'supp_lnd_rom_dttm', \n",
    "    'RUPTURE_MEMBRANE_NY': 'supp_lnd_rom_meth', \n",
    "    'TYPE_BIRTH': 'supp_lnd_mod', \n",
    "    'SUPP_TYPE_VAGIN_BIRTH': 'supp_lnd_vag_type', \n",
    "    'FORCEPS_ASSIST': 'supp_lnd_avd_forcep', \n",
    "    'VACUUM_ASSIST': 'supp_lnd_avd_vacuum', \n",
    "    'TYPE_C_SECTION': 'supp_lnd_cs_type', \n",
    "    'INDICATN_C_SECTION': 'supp_lnd_cs_ind', \n",
    "    'FETAL_INDICATN': 'supp_lnd_cs_fet_yn', \n",
    "    'FETALANOMALY': 'supp_lnd_cs_fet_anom', \n",
    "    'CORDPROLAPSE': 'supp_lnd_cs_fet_cord', \n",
    "    'IUGR3': 'supp_lnd_cs_fet_iugr', \n",
    "    'MACROSOMNIA1': 'supp_lnd_cs_fet_lga', \n",
    "    'MALPOSITION1': 'supp_lnd_cs_fet_pos', \n",
    "    'WELL_BEING_CONCERNS1': 'supp_lnd_cs_fet_wellbeing', \n",
    "    'OTHER_FETAL_INDICATN': 'supp_lnd_cs_fet_oth', \n",
    "    'SPECIFY_OTHER_INDICATN1': 'supp_lnd_cs_fet_oth_spec', \n",
    "    'MATERNAL_INDICATN_C_SECTN': 'supp_lnd_cs_mat_yn', \n",
    "    'FAILEDFORCEPS_VACUM': 'supp_lnd_cs_mat_avd', \n",
    "    'HYPERTENSIVE_DISORD_PREG': 'supp_lnd_cs_mat_htn', \n",
    "    'MULTIPLE_GESTATION': 'supp_lnd_cs_mat_mg', \n",
    "    'NON_PROGRESIV_1ST_STAGE': 'supp_lnd_cs_mat_npfs', \n",
    "    'NON_PROGRESIV_2ND_STAGE': 'supp_lnd_cs_mat_npss', \n",
    "    'PLACENTAPREVIA': 'supp_lnd_cs_mat_prev', \n",
    "    'PLACENTAL_ABRUPTN': 'supp_lnd_cs_mat_abrpt', \n",
    "    'PRE_EXISTHEALTH_PROBMS': 'supp_lnd_cs_mat_hea', \n",
    "    'PREV_C_SECTION': 'supp_lnd_cs_mat_pvcs', \n",
    "    'PREV_UTERINE_INCISION': 'supp_lnd_cs_mat_myo', \n",
    "    'SUSPECTED_CHORIOAMNIONITIS': 'supp_lnd_cs_mat_chro', \n",
    "    'UNSUCCESS_VBAC': 'supp_lnd_cs_mat_vbac', \n",
    "    'UTERINE_RUPTUR': 'supp_lnd_cs_mat_rup', \n",
    "    'OTHER_OBSTET_COMPLICATN': 'supp_lnd_cs_mat_oth', \n",
    "    'SPECIFY_OTH_MAT_INDICATN': 'supp_lnd_cs_mat_oth_spec', \n",
    "    'OTHER_INDICATN_C_SECTION': 'supp_lnd_cs_oth_yn', \n",
    "    'ACCOMDATE_CAREPROVID_ORG': 'supp_lnd_cs_oth_accom', \n",
    "    'MATERNALREQUEST': 'supp_lnd_cs_oth_mat_req', \n",
    "    'OTHER_UNKNOWN': 'supp_lnd_cs_oth_unk', \n",
    "    'OTHER_OTHER2': 'supp_lnd_cs_oth_oth', \n",
    "    'SPECIFY_OTH_INDICATION': 'supp_lnd_cs_oth_spec', \n",
    "    'PRESENTATION_DELIVERY': 'supplnd_present', \n",
    "    'TYPE_BREECH': 'supplnd_breech', \n",
    "    'CEPHALIC_TYPE': 'supplnd_pres_vtx', \n",
    "    'LABOR_DELIVERY_COMPLICATIONS_NY': 'supp_lnd_complications_yn', \n",
    "    'ATYPICAL_ABNORM_FETAL_SURVEIL': 'supplnd_nrfhr', \n",
    "    'CLIN_INFECTION_NY': 'supplnd_infxn', \n",
    "    'FETAL_TACHYCARDIA2_NY': 'supplnd_fet_tachy', \n",
    "    'CLIN_CHORIOAMNIONITIS_NY': 'supplnd_chorio', \n",
    "    'CORD_PROLAPSE2_NY': 'supplnd_prolapse', \n",
    "    'MECONIUM3_NY': 'supplnd_mec', \n",
    "    'PLACENTAL_ABRUPTION5_NY': 'supplnd_abrpt', \n",
    "    'SHOULDER_DYSTOCIA3_NY': 'supplnd_shoulder', \n",
    "    'PLACENTA_SENT_PATHOLOGY_NYUNK': 'supplnd_plac_path_yn', \n",
    "    'PLACENTA_PICKEDUP_BIOBANK': 'supplnd_biobank_yn'\n",
    "}\n",
    "supp_del_lnd = obs_clinic_migration.RedcapConv(\n",
    "    supp_del_lnd_dict, 0, obs_data_sets.rave_clinic\n",
    ")"
   ]
  },
  {
   "cell_type": "markdown",
   "metadata": {},
   "source": [
    "## Supplemental Delivery Data: Labour and Delivery - Post-processing<a name=\"supp-del-lnd-post\"></a>"
   ]
  },
  {
   "cell_type": "code",
   "execution_count": 130,
   "metadata": {},
   "outputs": [
    {
     "name": "stdout",
     "output_type": "stream",
     "text": [
      "2    40\n",
      "1    18\n",
      "Name: supp_lnd_mod, dtype: int64\n",
      "5    19\n",
      "3     4\n",
      "Name: supplnd_breech, dtype: int64\n"
     ]
    }
   ],
   "source": [
    "supp_del_lnd.change_str(\n",
    "    {   \n",
    "        'supp_lnd_mod': {'C-Section': 'C-section'},\n",
    "        'supplnd_breech': {'Breech Type Unknown': 'Unknown'},\n",
    "    }\n",
    ")\n",
    "supp_del_lnd.remove_na()\n",
    "supp_del_lnd.data['redcap_repeat_instance'] = 1"
   ]
  },
  {
   "cell_type": "markdown",
   "metadata": {},
   "source": [
    "## Supplemental Delivery Data: Labour and Delivery - Data Verification<a name=\"supp-del-lnd-comp\"></a>"
   ]
  },
  {
   "cell_type": "code",
   "execution_count": 131,
   "metadata": {},
   "outputs": [
    {
     "data": {
      "text/html": [
       "<div>\n",
       "<style scoped>\n",
       "    .dataframe tbody tr th:only-of-type {\n",
       "        vertical-align: middle;\n",
       "    }\n",
       "\n",
       "    .dataframe tbody tr th {\n",
       "        vertical-align: top;\n",
       "    }\n",
       "\n",
       "    .dataframe thead th {\n",
       "        text-align: right;\n",
       "    }\n",
       "</style>\n",
       "<table border=\"1\" class=\"dataframe\">\n",
       "  <thead>\n",
       "    <tr style=\"text-align: right;\">\n",
       "      <th></th>\n",
       "      <th>obs_id</th>\n",
       "      <th>redcap_repeat_instance</th>\n",
       "      <th>supp_baby_obs_id</th>\n",
       "      <th>supp_lnd_rom_dttm_unk</th>\n",
       "      <th>supp_lnd_rom_dttm</th>\n",
       "      <th>...</th>\n",
       "      <th>supplnd_abrpt</th>\n",
       "      <th>supplnd_shoulder</th>\n",
       "      <th>supplnd_plac_path_yn</th>\n",
       "      <th>supplnd_biobank_yn</th>\n",
       "      <th>Source</th>\n",
       "    </tr>\n",
       "  </thead>\n",
       "  <tbody>\n",
       "  </tbody>\n",
       "</table>\n",
       "<p>0 rows × 58 columns</p>\n",
       "</div>"
      ],
      "text/plain": [
       "Empty DataFrame\n",
       "Columns: [obs_id, redcap_repeat_instance, supp_baby_obs_id, supp_lnd_rom_dttm_unk, supp_lnd_rom_dttm, supp_lnd_rom_meth, supp_lnd_mod, supp_lnd_vag_type, supp_lnd_avd_forcep, supp_lnd_avd_vacuum, supp_lnd_cs_type, supp_lnd_cs_ind, supp_lnd_cs_fet_yn, supp_lnd_cs_fet_anom, supp_lnd_cs_fet_cord, supp_lnd_cs_fet_iugr, supp_lnd_cs_fet_lga, supp_lnd_cs_fet_pos, supp_lnd_cs_fet_wellbeing, supp_lnd_cs_fet_oth, supp_lnd_cs_fet_oth_spec, supp_lnd_cs_mat_yn, supp_lnd_cs_mat_avd, supp_lnd_cs_mat_htn, supp_lnd_cs_mat_mg, supp_lnd_cs_mat_npfs, supp_lnd_cs_mat_npss, supp_lnd_cs_mat_prev, supp_lnd_cs_mat_abrpt, supp_lnd_cs_mat_hea, supp_lnd_cs_mat_pvcs, supp_lnd_cs_mat_myo, supp_lnd_cs_mat_chro, supp_lnd_cs_mat_vbac, supp_lnd_cs_mat_rup, supp_lnd_cs_mat_oth, supp_lnd_cs_mat_oth_spec, supp_lnd_cs_oth_yn, supp_lnd_cs_oth_accom, supp_lnd_cs_oth_mat_req, supp_lnd_cs_oth_unk, supp_lnd_cs_oth_oth, supp_lnd_cs_oth_spec, supplnd_present, supplnd_breech, supplnd_pres_vtx, supp_lnd_complications_yn, supplnd_nrfhr, supplnd_infxn, supplnd_fet_tachy, supplnd_chorio, supplnd_prolapse, supplnd_mec, supplnd_abrpt, supplnd_shoulder, supplnd_plac_path_yn, supplnd_biobank_yn, Source]\n",
       "Index: []\n",
       "\n",
       "[0 rows x 58 columns]"
      ]
     },
     "execution_count": 131,
     "metadata": {},
     "output_type": "execute_result"
    }
   ],
   "source": [
    "supp_del_lnd.compare_conv_dde(obs_data_sets.redcap_clinic)"
   ]
  },
  {
   "cell_type": "markdown",
   "metadata": {},
   "source": [
    "## Supplemental Delivery Data: Labour and Delivery - Prepare and Save<a name=\"supp-del-lnd-save\"></a>"
   ]
  },
  {
   "cell_type": "code",
   "execution_count": 132,
   "metadata": {},
   "outputs": [],
   "source": [
    "supp_del_lnd.prep_imp(\n",
    "    'supplementary_deli_arm_1', \n",
    "    'supplemental_delivery_data_complete', \n",
    "    'supplemental_delivery_data'\n",
    ")\n",
    "supp_del_lnd.data.to_csv('../data/processed/supp_del_lnd.csv', index=False)"
   ]
  },
  {
   "cell_type": "markdown",
   "metadata": {},
   "source": [
    "# Withdrawal<a name=\"withdrawal\"></a>"
   ]
  },
  {
   "cell_type": "markdown",
   "metadata": {},
   "source": [
    "## Withdrawal - Preprocessing<a name=\"withdrawal-pre\"></a>"
   ]
  },
  {
   "cell_type": "code",
   "execution_count": 133,
   "metadata": {},
   "outputs": [],
   "source": [
    "# format relevant columns\n",
    "obs_data_sets.rave_clinic.loc[:, 'WITHDRAWAL_DT'] = pd.to_datetime(\n",
    "    obs_data_sets.rave_clinic['WITHDRAWAL_DT'], format='%d%b%Y %H:%M:%S.%f'\n",
    ").dt.strftime('%Y-%m-%d')"
   ]
  },
  {
   "cell_type": "markdown",
   "metadata": {},
   "source": [
    "## Withdrawal - Processing<a name=\"withdrawal-pro\"></a>"
   ]
  },
  {
   "cell_type": "code",
   "execution_count": 134,
   "metadata": {},
   "outputs": [
    {
     "name": "stdout",
     "output_type": "stream",
     "text": [
      "Column 'wd_type', variable 'No Contact' has an issue.\n",
      "Column 'wd_type', variable 'No Access' has an issue.\n",
      "Column 'wd_type', variable 'No Use' has an issue.\n"
     ]
    }
   ],
   "source": [
    "withdrawal_dict = {\n",
    "    'WITHDRAW_NY': 'wd_yn',\n",
    "    'WITHDRAWAL_DT': 'wd_dt',\n",
    "    'TYPEWITHDRAWAL': 'wd_type'    \n",
    "}\n",
    "withdrawal = obs_clinic_migration.RedcapConv(\n",
    "    withdrawal_dict, 0, main_df=obs_data_sets.rave_clinic\n",
    ")"
   ]
  },
  {
   "cell_type": "markdown",
   "metadata": {},
   "source": [
    "## Withdrawal - Post-processing<a name=\"withdrawal-post\"></a>"
   ]
  },
  {
   "cell_type": "code",
   "execution_count": 135,
   "metadata": {},
   "outputs": [
    {
     "name": "stdout",
     "output_type": "stream",
     "text": [
      "3    66\n",
      "2    19\n",
      "1    19\n",
      "4     9\n",
      "Name: wd_type, dtype: int64\n"
     ]
    }
   ],
   "source": [
    "withdrawal.change_str(\n",
    "    {\n",
    "        'wd_type': {\n",
    "            'No Access': 'No access',\n",
    "            'No Contact': 'No contact',\n",
    "            'No Use': 'No use'\n",
    "        }\n",
    "    }\n",
    ")\n",
    "withdrawal.remove_na()"
   ]
  },
  {
   "cell_type": "markdown",
   "metadata": {},
   "source": [
    "## Withdrawal - Data Verification<a name=\"withdrawal-comp\"></a>"
   ]
  },
  {
   "cell_type": "code",
   "execution_count": 136,
   "metadata": {},
   "outputs": [
    {
     "data": {
      "text/html": [
       "<div>\n",
       "<style scoped>\n",
       "    .dataframe tbody tr th:only-of-type {\n",
       "        vertical-align: middle;\n",
       "    }\n",
       "\n",
       "    .dataframe tbody tr th {\n",
       "        vertical-align: top;\n",
       "    }\n",
       "\n",
       "    .dataframe thead th {\n",
       "        text-align: right;\n",
       "    }\n",
       "</style>\n",
       "<table border=\"1\" class=\"dataframe\">\n",
       "  <thead>\n",
       "    <tr style=\"text-align: right;\">\n",
       "      <th></th>\n",
       "      <th>obs_id</th>\n",
       "      <th>wd_yn</th>\n",
       "      <th>wd_dt</th>\n",
       "      <th>wd_type</th>\n",
       "      <th>Source</th>\n",
       "    </tr>\n",
       "  </thead>\n",
       "  <tbody>\n",
       "  </tbody>\n",
       "</table>\n",
       "</div>"
      ],
      "text/plain": [
       "Empty DataFrame\n",
       "Columns: [obs_id, wd_yn, wd_dt, wd_type, Source]\n",
       "Index: []"
      ]
     },
     "execution_count": 136,
     "metadata": {},
     "output_type": "execute_result"
    }
   ],
   "source": [
    "withdrawal.compare_conv_dde(obs_data_sets.redcap_clinic)"
   ]
  },
  {
   "cell_type": "markdown",
   "metadata": {},
   "source": [
    "## Withdrawal - Prepare and Save<a name=\"withdrawal-save\"></a>"
   ]
  },
  {
   "cell_type": "code",
   "execution_count": 137,
   "metadata": {},
   "outputs": [],
   "source": [
    "withdrawal.prep_imp('withdrawal_arm_1', 'withdrawal_complete')\n",
    "withdrawal.data.to_csv('../data/processed/withdrawal.csv', index=False)"
   ]
  },
  {
   "cell_type": "markdown",
   "metadata": {},
   "source": [
    "# Overall check for missing columns<a name=\"all-col\"></a>"
   ]
  },
  {
   "cell_type": "code",
   "execution_count": 138,
   "metadata": {},
   "outputs": [
    {
     "name": "stdout",
     "output_type": "stream",
     "text": [
      "[]\n"
     ]
    }
   ],
   "source": [
    "# determine captured columns from dictionaries created during migration process\n",
    "present_columns = []\n",
    "for included_redcap_col in [\n",
    "    inc_excl_dict ,base_dem_dict, base_curr_dict, obhx_dict, medhx_dict,\n",
    "    surhx_dict, rxhx_preg_dict, supp_ant_dict,  supp_ant_spec_dict, \n",
    "    base_all_dict, supp_ant_yn_dict, ante_visit_dict, ante_hcp_dict, \n",
    "    ante_cond_dict, ante_sur_dict, ante_meds_dict, del_ant_dict, \n",
    "    del_lnd_comp_dict, abx_labr_dict, ante_temp_dict, neo_cbg_dict, \n",
    "    neo_resus_lvl_dict, neo_resus_dict, neo_resp_dict, neo_lab_dict, \n",
    "    neo_dc_dict, supp_del_ant_dict, supp_del_lnd_dict, anom_dx_dict, \n",
    "    withdrawal_dict,\n",
    "]:\n",
    "    present_columns.extend(list(included_redcap_col.values()))\n",
    "\n",
    "# get columns from the REDCap double data entry file\n",
    "# remove the columns accounted for (present_columns) to determine missing \n",
    "# columns \n",
    "missing_columns = [\n",
    "    redcap_column \n",
    "    for redcap_column in list(obs_data_sets.redcap_clinic.columns.values) \n",
    "    if redcap_column not in present_columns\n",
    "]\n",
    "\n",
    "# from missing_columns, ignore columns that have a valid reason to be ignored\n",
    "missing_columns = [\n",
    "    redcap_column \n",
    "    for redcap_column in missing_columns \n",
    "    if (\n",
    "        # created in post-processing phase so not in \n",
    "        # included_redcap_col/associated dictionaries\n",
    "        (not bool(re.search('^redcap_event_name$', redcap_column)))\n",
    "        & (not bool(re.search('^redcap_repeat_instrument$', redcap_column)))    \n",
    "        & (not bool(re.search('_complete$', redcap_column)))\n",
    "        # created during processing so not in \n",
    "        # included_redcap_col/associated dictionaries\n",
    "        & (not bool(re.search('^redcap_repeat_instance$', redcap_column)))\n",
    "        # represents who has access to the data; no impact on data completeness\n",
    "        & (not bool(re.search('^redcap_data_access_group$', redcap_column)))\n",
    "        # inclusion/exclusion for Diabetes in Pregnancy subgroup not captured\n",
    "        # in Rave\n",
    "        & (not bool(re.search('^incl_dip_', redcap_column)))\n",
    "        & (not bool(re.search('^excl_dip_', redcap_column)))\n",
    "        & (not bool(re.search('^dip_', redcap_column)))\n",
    "        # inclusion/exclusion for late entry subgroup not captured in Rave\n",
    "        & (not bool(re.search('^incl_le_', redcap_column)))\n",
    "        & (not bool(re.search('^excl_le_', redcap_column)))\n",
    "        & (not bool(re.search('^le_prev_', redcap_column)))\n",
    "        # pertains to OBS subgroups not captured in Rave\n",
    "        & (not bool(re.search('^incl_excl_entry_type$', redcap_column)))\n",
    "        # metric values imported so no need to import imperial\n",
    "        & (not bool(re.search('^base_dem_ht_imp$', redcap_column)))\n",
    "        & (not bool(re.search('^base_dem_prepreg_wt_imp$', redcap_column)))\n",
    "        # no equivalent column in Rave\n",
    "        & (not bool(re.search('^neo_dc_1st_yn$', redcap_column)))\n",
    "        # no equivalent column in Rave\n",
    "        & (not bool(re.search('^obhx_preg_yn$', redcap_column)))\n",
    "        # hypertensive disorders subgroup not captured in Rave\n",
    "        & (not bool(re.search('^hdp_', redcap_column)))\n",
    "        # preterm labour subgroup not captured in Rave\n",
    "        & (not bool(re.search('^thptl_', redcap_column)))\n",
    "        # questionnaire data not caputred in Rave\n",
    "        & (not bool(re.search('^quest_', redcap_column)))\n",
    "        # abbreviated baseline questionnaire data not caputred in Rave\n",
    "        & (not bool(re.search('^abq_', redcap_column)))\n",
    "        # ultrasound data not captured in Rave\n",
    "        &(not bool(re.search('^us_', redcap_column)))\n",
    "    )\n",
    "]\n",
    "\n",
    "# from missing_columns, ignore columns that will be produced/calculated\n",
    "# by REDCap\n",
    "calc_columns = list(obs_data_sets.redcap_data_dict.loc[\n",
    "    (obs_data_sets.redcap_data_dict['Field Type'] == 'calc'),\n",
    "    'Variable / Field Name'    \n",
    "])\n",
    "missing_columns = [\n",
    "    redcap_column \n",
    "    for redcap_column in missing_columns \n",
    "    if redcap_column not in calc_columns\n",
    "]\n",
    "\n",
    "# print the missing_columns that still need to be accounted for\n",
    "# expecting empty list when complete\n",
    "print(missing_columns)\n",
    "# []"
   ]
  }
 ],
 "metadata": {
  "kernelspec": {
   "display_name": "Python 3.9.0 ('.venv': venv)",
   "language": "python",
   "name": "python3"
  },
  "language_info": {
   "name": "python",
   "version": "3.9.0"
  },
  "vscode": {
   "interpreter": {
    "hash": "0e052684ed45d3a4fd7a3a0b05a50c4f34d83a9b52d9bda36d126cf6af021899"
   }
  }
 },
 "nbformat": 4,
 "nbformat_minor": 4
}
