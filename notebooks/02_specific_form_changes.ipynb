{
 "cells": [
  {
   "cell_type": "markdown",
   "source": [
    "# Table of Contents\r\n",
    "- [Individual Sheet Modifications](#sheet)\r\n",
    "\t- [Inclusion/Exclusion Criteria](#inc-excl)\r\n",
    "\t\t- [Inclusion/Exclusion Criteria - Preprocessing](#inc-excl-pre)\r\n",
    "\t\t- [Inclusion/Exclusion Criteria - Processing](#inc-excl-pro)\r\n",
    "\t\t- [Inclusion/Exclusion Criteria - Post-processing](#inc-excl-post)\r\n",
    "\t\t- [Inclusion/Exclusion Criteria - Data Verification](#inc-excl-comp)\r\n",
    "\t\t- [Inclusion/Exclusion Criteria - Prepare and Save](#inc-excl-save)\r\n",
    "\t- [Baseline Assessment: Demographics](#base-dem)\r\n",
    "\t\t- [Baseline Assessment: Demographics - Preprocessing](#base-dem-pre)\r\n",
    "\t\t- [Baseline Assessment: Demographics - Processing](#base-dem-pro)\r\n",
    "\t\t- [Baseline Assessment: Demographics - Post-processing](#base-dem-post)\r\n",
    "\t\t- [Baseline Assessment: Demographics - Data Verification](#base-dem-comp)\r\n",
    "\t\t- [Baseline Assessment: Demographics - Prepare and Save](#base-dem-save)\r\n",
    "\t- [Baseline Assessment: Current Pregnancy](#base-curr)\r\n",
    "\t\t- [Baseline Assessment: Current Pregnancy - Preprocessing](#base-curr-pre)\r\n",
    "\t\t- [Baseline Assessment: Current Pregnancy - Processing](#base-curr-pro)\r\n",
    "\t\t- [Baseline Assessment: Current Pregnancy - Post-processing](#base-curr-post)\r\n",
    "\t\t- [Baseline Assessment: Current Pregnancy - Data Verification](#base-curr-comp)\r\n",
    "\t\t- [Baseline Assessment: Current Pregnancy - Prepare and Save](#base-curr-save)\r\n",
    "\t- [Baseline Assessment: Obstetrical History](#obhx)\r\n",
    "\t\t- [Baseline Assessment: Obstetrical History - Preprocessing](#obhx-pre)\r\n",
    "\t\t- [Baseline Assessment: Obstetrical History - Processing](#obhx-pro)\r\n",
    "\t\t- [Baseline Assessment: Obstetrical History - Post-processing](#obhx-post)\r\n",
    "\t\t- [Baseline Assessment: Obstetrical History - Data Verification](#obhx-comp)\r\n",
    "\t\t- [Baseline Assessment: Obstetrical History - Prepare and Save](#obhx-save)\r\n",
    "\t- [Baseline Assessment: Pre-existing Medical Conditions](#medhx)\r\n",
    "\t\t- [Baseline Assessment: Pre-existing Medical Conditions - Preprocessing](#medhx-pre)\r\n",
    "\t\t- [Baseline Assessment: Pre-existing Medical Conditions - Processing](#medhx-pro)\r\n",
    "\t\t- [Baseline Assessment: Pre-existing Medical Conditions - Post-processing](#medhx-post)\r\n",
    "\t\t- [Baseline Assessment: Pre-existing Medical Conditions - Data Verification](#medhx-comp)\r\n",
    "\t\t- [Baseline Assessment: Pre-existing Medical Conditions - Prepare and Save](#medhx-save)\r\n",
    "\t- [Baseline Assessment: Allergies](#base-all)\r\n",
    "\t\t- [Baseline Assessment: Allergies - Processing](#base-all-pro)\r\n",
    "\t\t- [Baseline Assessment: Allergies - Data Verification](#base-all-comp)\r\n",
    "\t\t- [Baseline Assessment: Allergies - Prepare and Save](#base-all-save)\r\n",
    "\t- [Baseline Assessment: Surgical History](#surhx)\r\n",
    "\t\t- [Baseline Assessment: Surgical History - Preprocessing](#surhx-pre)\r\n",
    "\t\t- [Baseline Assessment: Surgical History - Processing](#surhx-pro)\r\n",
    "\t\t- [Baseline Assessment: Surgical History - Post-processing](#surhx-post)\r\n",
    "\t\t- [Baseline Assessment: Surgical History - Data Verification](#surhx-comp)\r\n",
    "\t\t- [Baseline Assessment: Surgical History - Prepare and Save](#surhx-save)\r\n",
    "\t- [Baseline Assessment: Medications taken since the beginning of pregnancy](#rxhx-preg)\r\n",
    "\t\t- [Baseline Assessment: Medications taken since the beginning of pregnancy - Processing](#rxhx-preg-pro)\r\n",
    "\t\t- [Baseline Assessment: Medications taken since the beginning of pregnancy - Post-processing](#rxhx-preg-post)\r\n",
    "\t\t- [Baseline Assessment: Medications taken since the beginning of pregnancy - Data Verification](#rxhx-preg-comp)\r\n",
    "\t\t- [Baseline Assessment: Medications taken since the beginning of pregnancy - Prepare and Save](#rxhx-preg-save)\r\n",
    "\t- [Baseline Assessment: Supplements taken since the beginning of pregnancy (1)](#supp-ant)\r\n",
    "\t\t- [Baseline Assessment: Supplements taken since the beginning of pregnancy (1) - Preprocessing](#supp-ant-pre)\r\n",
    "\t\t- [Baseline Assessment: Supplements taken since the beginning of pregnancy (1) - Processing](#supp-ant-pro)\r\n",
    "\t\t- [Baseline Assessment: Supplements taken since the beginning of pregnancy (1) - Post-processing](#supp-ant-post)\r\n",
    "\t\t- [Baseline Assessment: Supplements taken since the beginning of pregnancy (1) - Data Verification](#supp-ant-comp)\r\n",
    "\t\t- [Baseline Assessment: Supplements taken since the beginning of pregnancy (1) - Prepare and Save](#supp-ant-save)\r\n",
    "\t- [Baseline Assessment: Supplements taken since the beginning of pregnancy (2)](#supp-ant-spec)\r\n",
    "\t\t- [Baseline Assessment: Supplements taken since the beginning of pregnancy (2) - Processing](#supp-ant-spec-pro)\r\n",
    "\t\t- [Baseline Assessment: Supplements taken since the beginning of pregnancy (2) - Data Verification](#supp-ant-spec-comp)\r\n",
    "\t\t- [Baseline Assessment: Supplements taken since the beginning of pregnancy (2) - Prepare and Save](#supp-ant-spec-save)\r\n",
    "\t- [Baseline Assessment: Supplements taken since the beginning of pregnancy (3)](#supp-ant-yn)\r\n",
    "\t\t- [Baseline Assessment: Supplements taken since the beginning of pregnancy (3) - Processing](#supp-ant-yn-pro)\r\n",
    "\t\t- [Baseline Assessment: Supplements taken since the beginning of pregnancy (3) - Post-processing](#supp-ant-yn-post)\r\n",
    "\t\t- [Baseline Assessment: Supplements taken since the beginning of pregnancy (3) - Data Verification](#supp-ant-yn-comp)\r\n",
    "\t\t- [Baseline Assessment: Supplements taken since the beginning of pregnancy (3) - Prepare and Save](#supp-ant-yn-save)\r\n",
    "\t- [Antenatal Visits: Visit Data](#ante-visit)\r\n",
    "\t\t- [Antenatal Visits: Visit Data - Preprocessing](#ante-visit-pre)\r\n",
    "\t\t- [Antenatal Visits: Visit Data - Processing](#ante-visit-pro)\r\n",
    "\t\t- [Antenatal Visits: Visit Data - Data Verification](#ante-visit-comp)\r\n",
    "\t\t- [Antenatal Visits: Visit Data - Prepare and Save](#ante-visit-save)\r\n",
    "\t- [Antenatal Visits: Antenatal Health Care Provider](#ante-hcp)\r\n",
    "\t\t- [Antenatal Visits: Antenatal Health Care Provider - Preprocessing](#ante-hcp-pre)\r\n",
    "\t\t- [Antenatal Visits: Antenatal Health Care Provider - Processing](#ante-hcp-pro)\r\n",
    "\t\t- [Antenatal Visits: Antenatal Health Care Provider - Data Verification](#ante-hcp-comp)\r\n",
    "\t\t- [Antenatal Visits: Antenatal Health Care Provider - Prepare and Save](#ante-hcp-save)\r\n",
    "\t- [Antenatal Visits: Conditions/Abnormalities Diagnosed During Pregnancy](#ante-cond)\r\n",
    "\t\t- [Antenatal Visits: Conditions/Abnormalities Diagnosed During Pregnancy - Preprocessing](#ante-cond-pre)\r\n",
    "\t\t- [Antenatal Visits: Conditions/Abnormalities Diagnosed During Pregnancy - Processing](#ante-cond-pro)\r\n",
    "\t\t- [Antenatal Visits: Conditions/Abnormalities Diagnosed During Pregnancy - Post-processing](#ante-cond-post)\r\n",
    "\t\t- [Antenatal Visits: Conditions/Abnormalities Diagnosed During Pregnancy - Data Verification](#ante-cond-comp)\r\n",
    "\t\t- [Antenatal Visits: Conditions/Abnormalities Diagnosed During Pregnancy - Prepare and Save](#ante-cond-save)\r\n",
    "\t- [Antenatal Visits: Surgical procedures performed during pregnancy](#ante-sur)\r\n",
    "\t\t- [Antenatal Visits: Surgical procedures performed during pregnancy - Preprocessing](#ante-sur-pre)\r\n",
    "\t\t- [Antenatal Visits: Surgical procedures performed during pregnancy - Processing](#ante-sur-pro)\r\n",
    "\t\t- [Antenatal Visits: Surgical procedures performed during pregnancy - Post-processing](#ante-sur-post)\r\n",
    "\t\t- [Antenatal Visits: Surgical procedures performed during pregnancy - Data Verification](#ante-sur-comp)\r\n",
    "\t\t- [Antenatal Visits: Surgical procedures performed during pregnancy - Prepare and Save](#ante-sur-save)\r\n",
    "\t- [Antenatal Visits: Medications](#ante-meds)\r\n",
    "\t\t- [Antenatal Visits: Medications - Preprocessing](#ante-meds-pre)\r\n",
    "\t\t- [Antenatal Visits: Medications - Processing](#ante-meds-pro)\r\n",
    "\t\t- [Antenatal Visits: Medications - Post-processing](#ante-meds-post)\r\n",
    "\t\t- [Antenatal Visits: Medications - Data Verification](#ante-meds-comp)\r\n",
    "\t\t- [Antenatal Visits: Medications - Prepare and Save](#ante-meds-save)\r\n",
    "\t- [Delivery Data: Antepartum (1)](#del-ant)\r\n",
    "\t\t- [Delivery Data: Antepartum (1) - Preprocessing](#del-ant-pre)\r\n",
    "\t\t- [Delivery Data: Antepartum (1) - Processing](#del-ant-pro)\r\n",
    "\t\t- [Delivery Data: Antepartum (1) - Post-processing](#del-ant-post)\r\n",
    "\t\t- [Delivery Data: Antepartum (1) - Data Verification](#del-ant-comp)\r\n",
    "\t\t- [Delivery Data: Antepartum (1) - Prepare and Save](#del-ant-save)\r\n",
    "\t- [Delivery Data: Antepartum (2)](#del-lnd-comp)\r\n",
    "\t\t- [Delivery Data: Antepartum (2) - Processing](#del-lnd-comp-pro)\r\n",
    "\t\t- [Delivery Data: Antepartum (2) - Post-processing](#del-lnd-comp-post)\r\n",
    "\t\t- [Delivery Data: Antepartum (2) - Data Verification](#del-lnd-comp-comp)\r\n",
    "\t\t- [Delivery Data: Antepartum (2) - Prepare and Save](#del-lnd-comp-save)\r\n",
    "\t- [Delivery Data: Antibiotics during Labour and Delivery](#abx-labr)\r\n",
    "\t\t- [Delivery Data: Antibiotics during Labour and Delivery - Preprocessing](#abx-labr-pre)\r\n",
    "\t\t- [Delivery Data: Antibiotics during Labour and Delivery - Processing](#abx-labr-pro)\r\n",
    "\t\t- [Delivery Data: Antibiotics during Labour and Delivery - Data Verification](#abx-labr-comp)\r\n",
    "\t\t- [Delivery Data: Antibiotics during Labour and Delivery - Prepare and Save](#abx-labr-save)\r\n",
    "\t- [Neonatal Form: Delivery Data](#ante-temp)\r\n",
    "\t\t- [Neonatal Form: Delivery Data - Preprocessing](#ante-temp-pre)\r\n",
    "\t\t- [Neonatal Form: Delivery Data - Processing](#ante-temp-pro)\r\n",
    "\t\t- [Neonatal Form: Delivery Data - Post-processing](#ante-temp-post)\r\n",
    "\t\t- [Neonatal Form: Delivery Data - Data Verification](#ante-temp-comp)\r\n",
    "\t\t- [Neonatal Form: Delivery Data - Prepare and Save](#ante-temp-save)\r\n",
    "\t- [Neonatal Form: Cord Blood](#neo-cbg)\r\n",
    "\t\t- [Neonatal Form: Cord Blood - Preprocessing](#neo-cbg-pre)\r\n",
    "\t\t- [Neonatal Form: Cord Blood - Processing](#neo-cbg-pro)\r\n",
    "\t\t- [Neonatal Form: Cord Blood - Post-processing](#neo-cbg-post)\r\n",
    "\t\t- [Neonatal Form: Cord Blood - Data Verification](#neo-cbg-comp)\r\n",
    "\t\t- [Neonatal Form: Cord Blood - Prepare and Save](#neo-cbg-save)\r\n",
    "\t- [Neonatal Form: Neonatal Resuscitation (1)](#neo-resus-lvl)\r\n",
    "\t\t- [Neonatal Form: Neonatal Resuscitation (1) - Preprocessing](#neo-resus-lvl-pre)\r\n",
    "\t\t- [Neonatal Form: Neonatal Resuscitation (1) - Processing](#neo-resus-lvl-pro)\r\n",
    "\t\t- [Neonatal Form: Neonatal Resuscitation (1) - Post-processing](#neo-resus-lvl-post)\r\n",
    "\t\t- [Neonatal Form: Neonatal Resuscitation (1) - Data Verification](#neo-resus-lvl-comp)\r\n",
    "\t\t- [Neonatal Form: Neonatal Resuscitation (1) - Prepare and Save](#neo-resus-lvl-save)\r\n",
    "\t- [Neonatal Form: Neonatal Resuscitation (2)](#neo-resus)\r\n",
    "\t\t- [Neonatal Form: Neonatal Resuscitation (2) - Processing](#neo-resus-pro)\r\n",
    "\t\t- [Neonatal Form: Neonatal Resuscitation (2) - Post-processing](#neo-resus-post)\r\n",
    "\t\t- [Neonatal Form: Neonatal Resuscitation (2) - Data Verification](#neo-resus-comp)\r\n",
    "\t\t- [Neonatal Form: Neonatal Resuscitation (2) - Prepare and Save](#neo-resus-save)\r\n",
    "\t- [Neonatal Form: Neonatal Resuscitation (3)](#neo-resp)\r\n",
    "\t\t- [Neonatal Form: Neonatal Resuscitation (3) - Processing](#neo-resp-pro)\r\n",
    "\t\t- [Neonatal Form: Neonatal Resuscitation (3) - Data Verification](#neo-resp-comp)\r\n",
    "\t\t- [Neonatal Form: Neonatal Resuscitation (3) - Prepare and Save](#neo-resp-save)\r\n",
    "\t- [Neonatal Form: Labwork](#neo-lab)\r\n",
    "\t\t- [Neonatal Form: Labwork - Preprocessing](#neo-lab-pre)\r\n",
    "\t\t- [Neonatal Form: Labwork - Processing](#neo-lab-pro)\r\n",
    "\t\t- [Neonatal Form: Labwork - Post-processing](#neo-lab-post)\r\n",
    "\t\t- [Neonatal Form: Labwork - Data Verification](#neo-lab-comp)\r\n",
    "\t\t- [Neonatal Form: Labwork - Prepare and Save](#neo-lab-save)\r\n",
    "\t- [Neonatal Form: Discharge Data](#neo-dc)\r\n",
    "\t\t- [Neonatal Form: Discharge Data - Preprocessing](#neo-dc-pre)\r\n",
    "\t\t- [Neonatal Form: Discharge Data - Processing](#neo-dc-pro)\r\n",
    "\t\t- [Neonatal Form: Discharge Data - Post-processing](#neo-dc-post)\r\n",
    "\t\t- [Neonatal Form: Discharge Data - Data Verification](#neo-dc-comp)\r\n",
    "\t\t- [Neonatal Form: Discharge Data - Prepare and Save](#neo-dc-save)\r\n",
    "\t- [Neonatal Form: Anomally dx](#anom-dx)\r\n",
    "\t\t- [Neonatal Form: Anomally dx - Processing](#anom-dx-pro)\r\n",
    "\t\t- [Neonatal Form: Anomally dx - Post-processing](#anom-dx-post)\r\n",
    "\t\t- [Neonatal Form: Anomally dx - Data Verification](#anom-dx-comp)\r\n",
    "\t\t- [Neonatal Form: Anomally dx - Prepare and Save](#anom-dx-save)\r\n",
    "\t- [Supplemental Delivery Data: Antepartum](#supp-del-ant)\r\n",
    "\t\t- [Supplemental Delivery Data: Antepartum - Processing](#supp-del-ant-pro)\r\n",
    "\t\t- [Supplemental Delivery Data: Antepartum - Post-processing](#supp-del-ant-post)\r\n",
    "\t\t- [Supplemental Delivery Data: Antepartum - Data Verification](#supp-del-ant-comp)\r\n",
    "\t\t- [Supplemental Delivery Data: Antepartum - Prepare and Save](#supp-del-ant-save)\r\n",
    "\t- [Supplemental Delivery Data: Labour and Delivery](#supp-del-lnd)\r\n",
    "\t\t- [Supplemental Delivery Data: Labour and Delivery - Preprocessing](#supp-del-lnd-pre)\r\n",
    "\t\t- [Supplemental Delivery Data: Labour and Delivery - Processing](#supp-del-lnd-pro)\r\n",
    "\t\t- [Supplemental Delivery Data: Labour and Delivery - Post-processing](#supp-del-lnd-post)\r\n",
    "\t\t- [Supplemental Delivery Data: Labour and Delivery - Data Verification](#supp-del-lnd-comp)\r\n",
    "\t\t- [Supplemental Delivery Data: Labour and Delivery - Prepare and Save](#supp-del-lnd-save)\r\n",
    "\t- [Withdrawal](#withdrawal)\r\n",
    "\t\t- [Withdrawal - Preprocessing](#withdrawal-pre)\r\n",
    "\t\t- [Withdrawal - Processing](#withdrawal-pro)\r\n",
    "\t\t- [Withdrawal - Post-processing](#withdrawal-post)\r\n",
    "\t\t- [Withdrawal - Data Verification](#withdrawal-comp)\r\n",
    "\t\t- [Withdrawal - Prepare and Save](#withdrawal-save)\r\n",
    "- [Overall check for missing columns](#all-col)"
   ],
   "metadata": {}
  },
  {
   "cell_type": "code",
   "execution_count": 2,
   "source": [
    "import obs_data_sets\r\n",
    "import obs_clinic_migration_preprocessing\r\n",
    "import obs_clinic_migration\r\n",
    "import pandas as pd\r\n",
    "import numpy as np\r\n",
    "import re\r\n",
    "\r\n",
    "# there is a known issue https://github.com/pandas-dev/pandas/issues/9784\r\n",
    "# where long strings get truncated\r\n",
    "pd.set_option('display.max_colwidth', None)\r\n",
    "# modify how dataframe looks when printed\r\n",
    "pd.set_option('display.max_columns', 10)"
   ],
   "outputs": [],
   "metadata": {}
  },
  {
   "cell_type": "markdown",
   "source": [
    "# Individual Sheet Modifications<a name=\"sheet\"></a>\r\n",
    "This notebook outlines the specific steps associated with modifying Rave data into a REDCap format. For a broad overview, see the notebook `01_data_migration_overview.ipynb`."
   ],
   "metadata": {}
  },
  {
   "cell_type": "markdown",
   "source": [
    "# Inclusion/Exclusion Criteria<a name=\"inc-excl\"></a>"
   ],
   "metadata": {}
  },
  {
   "cell_type": "markdown",
   "source": [
    "\r\n",
    "## Inclusion/Exclusion Criteria - Preprocessing<a name=\"inc-excl-pre\"></a>"
   ],
   "metadata": {}
  },
  {
   "cell_type": "code",
   "execution_count": 3,
   "source": [
    "# format relevant columns\r\n",
    "obs_data_sets.rave_clinic.loc[:, 'INFORMED_CONSENT_DT'] = pd.to_datetime(\r\n",
    "    obs_data_sets.rave_clinic['INFORMED_CONSENT_DT']\r\n",
    ").dt.strftime('%Y-%m-%d')\r\n",
    "# Rave captured the previous OBS IDs in separate columns while REDCap caputures \r\n",
    "# them in a single column\r\n",
    "obs_data_sets.rave_clinic['PREV_OBS_ID_COMBINED'] = (\r\n",
    "    obs_data_sets.rave_clinic['PREV_OBS_ID_1'].astype(str)\r\n",
    "    + \", \" \r\n",
    "    + obs_data_sets.rave_clinic['PREV_OBS_ID_2'].astype(str)\r\n",
    ")\r\n",
    "obs_data_sets.rave_clinic['PREV_OBS_ID_COMBINED'].replace(\r\n",
    "    ', nan','', regex = True, inplace = True\r\n",
    ")\r\n",
    "obs_data_sets.rave_clinic['PREV_OBS_ID_COMBINED'].replace(\r\n",
    "    'nan, nan', 'nan', regex = True, inplace = True\r\n",
    ")"
   ],
   "outputs": [],
   "metadata": {}
  },
  {
   "cell_type": "markdown",
   "source": [
    "## Inclusion/Exclusion Criteria - Processing<a name=\"inc-excl-pro\"></a>"
   ],
   "metadata": {}
  },
  {
   "cell_type": "code",
   "execution_count": 4,
   "source": [
    "inc_excl_dict = {\r\n",
    "    'INFORMED_CONSENT_DT': 'main_icf_date', \r\n",
    "    'INC1': 'incl_main_ga', \r\n",
    "    'INC2': 'incl_main_eng', \r\n",
    "    'INC3' : 'incl_main_age', \r\n",
    "    'INC4':'incl_main_icf', \r\n",
    "    'INC5': 'incl_main_del', \r\n",
    "    'INC6' : 'incl_main_ante', \r\n",
    "    'EXC1': 'excl_main_nvf', \r\n",
    "    'EXC2': 'excl_main_noif',\r\n",
    "    'EX3': 'excl_main_abn',\r\n",
    "    'ENROL_OBS_PREV_PREG_NY': 'main_prev_obs_yn',\r\n",
    "    'PREV_OBS_ID_COMBINED': 'main_prev_obs_id'\r\n",
    " }\r\n",
    "inc_excl = obs_clinic_migration.RedcapConv(inc_excl_dict, 0)"
   ],
   "outputs": [],
   "metadata": {}
  },
  {
   "cell_type": "markdown",
   "source": [
    "## Inclusion/Exclusion Criteria - Post-processing<a name=\"inc-excl-post\"></a>"
   ],
   "metadata": {}
  },
  {
   "cell_type": "code",
   "execution_count": 5,
   "source": [
    "inc_excl.data['incl_excl_entry_type'] = 1\r\n",
    "inc_excl.data['subject_id_complete'] = 2"
   ],
   "outputs": [],
   "metadata": {}
  },
  {
   "cell_type": "markdown",
   "source": [
    "## Inclusion/Exclusion Criteria - Data Verification<a name=\"inc-excl-comp\"></a>"
   ],
   "metadata": {}
  },
  {
   "cell_type": "code",
   "execution_count": 6,
   "source": [
    "inc_excl.compare_conv_dde(obs_data_sets.redcap_clinic)"
   ],
   "outputs": [
    {
     "output_type": "execute_result",
     "data": {
      "text/plain": [
       "Empty DataFrame\n",
       "Columns: [obs_id, subject_id_complete, incl_excl_entry_type, main_icf_date, incl_main_ga, incl_main_eng, incl_main_age, incl_main_icf, incl_main_del, incl_main_ante, excl_main_nvf, excl_main_noif, excl_main_abn, main_prev_obs_yn, main_prev_obs_id, Source]\n",
       "Index: []\n",
       "\n",
       "[0 rows x 16 columns]"
      ],
      "text/html": [
       "<div>\n",
       "<style scoped>\n",
       "    .dataframe tbody tr th:only-of-type {\n",
       "        vertical-align: middle;\n",
       "    }\n",
       "\n",
       "    .dataframe tbody tr th {\n",
       "        vertical-align: top;\n",
       "    }\n",
       "\n",
       "    .dataframe thead th {\n",
       "        text-align: right;\n",
       "    }\n",
       "</style>\n",
       "<table border=\"1\" class=\"dataframe\">\n",
       "  <thead>\n",
       "    <tr style=\"text-align: right;\">\n",
       "      <th></th>\n",
       "      <th>obs_id</th>\n",
       "      <th>subject_id_complete</th>\n",
       "      <th>incl_excl_entry_type</th>\n",
       "      <th>main_icf_date</th>\n",
       "      <th>incl_main_ga</th>\n",
       "      <th>...</th>\n",
       "      <th>excl_main_noif</th>\n",
       "      <th>excl_main_abn</th>\n",
       "      <th>main_prev_obs_yn</th>\n",
       "      <th>main_prev_obs_id</th>\n",
       "      <th>Source</th>\n",
       "    </tr>\n",
       "  </thead>\n",
       "  <tbody>\n",
       "  </tbody>\n",
       "</table>\n",
       "<p>0 rows × 16 columns</p>\n",
       "</div>"
      ]
     },
     "metadata": {},
     "execution_count": 6
    }
   ],
   "metadata": {}
  },
  {
   "cell_type": "markdown",
   "source": [
    "## Inclusion/Exclusion Criteria - Prepare and Save<a name=\"inc-excl-save\"></a>"
   ],
   "metadata": {}
  },
  {
   "cell_type": "code",
   "execution_count": 7,
   "source": [
    "inc_excl.prep_imp('baseline_arm_1', 'inclusion_exclusion_criteria_complete')\r\n",
    "inc_excl.data.to_csv('../data/processed/inc_excl.csv', index = False)"
   ],
   "outputs": [],
   "metadata": {}
  },
  {
   "cell_type": "markdown",
   "source": [
    "# Baseline Assessment: Demographics<a name=\"base-dem\"></a>"
   ],
   "metadata": {}
  },
  {
   "cell_type": "markdown",
   "source": [
    "## Baseline Assessment: Demographics - Preprocessing<a name=\"base-dem-pre\"></a>"
   ],
   "metadata": {}
  },
  {
   "cell_type": "code",
   "execution_count": 8,
   "source": [
    "# format relevant columns\r\n",
    "obs_data_sets.rave_clinic.loc[:, 'BASE_ASSESS_DT'] = pd.to_datetime(\r\n",
    "    obs_data_sets.rave_clinic['BASE_ASSESS_DT']\r\n",
    ").dt.strftime('%Y-%m-%d')\r\n",
    "obs_data_sets.rave_clinic.loc[:, 'DOB'] = pd.to_datetime(\r\n",
    "    obs_data_sets.rave_clinic['DOB']\r\n",
    ").dt.strftime('%Y-%m-%d')\r\n",
    "# some columns don't have an associated 'STD' column and needed to be coded\r\n",
    "obs_data_sets.rave_clinic['HEIGHT_UNK'].replace(\r\n",
    "    {'0': 'Known', '1': 'Unknown'}, inplace = True\r\n",
    ")\r\n",
    "obs_data_sets.rave_clinic['PRE_PREG_WT_UNK'].replace(\r\n",
    "    {'0': 'Known', '1': 'Unknown'}, inplace = True\r\n",
    ")\r\n",
    "obs_data_sets.rave_clinic['PRE_PREGNANT_WT_STD_UN'].replace(\r\n",
    "    {'1': 'Metric', '2': 'Imperial'}, inplace = True\r\n",
    ")\r\n",
    "obs_data_sets.rave_clinic['HEIGHT_STD_UN'].replace(\r\n",
    "    {'1': 'Metric', '2': 'Imperial'}, inplace = True\r\n",
    ")"
   ],
   "outputs": [],
   "metadata": {}
  },
  {
   "cell_type": "markdown",
   "source": [
    "## Baseline Assessment: Demographics - Processing<a name=\"base-dem-pro\"></a>"
   ],
   "metadata": {}
  },
  {
   "cell_type": "code",
   "execution_count": 9,
   "source": [
    "base_dem_dict = {\r\n",
    "    'BASE_ASSESS_DT': 'base_assess_date', \r\n",
    "    'DOB': 'base_dem_dob', \r\n",
    "    'HEIGHT_UNK': 'base_dem_ht_unk',\r\n",
    "    'HEIGHT_STD_UN' : 'base_dem_ht_unit',\r\n",
    "    'HEIGHT_STD': 'base_dem_ht_met', \r\n",
    "    'PRE_PREG_WT_UNK' : 'base_dem_prepreg_wt_unk',\r\n",
    "    'PRE_PREGNANT_WT_STD_UN': 'base_dem_prepreg_wt_unit',\r\n",
    "    'PRE_PREGNANT_WT_STD': 'base_dem_prepreg_wt_met'\r\n",
    "}\r\n",
    "base_dem = obs_clinic_migration.RedcapConv(\r\n",
    "    base_dem_dict, 0, master_df = obs_data_sets.rave_clinic\r\n",
    ")"
   ],
   "outputs": [],
   "metadata": {}
  },
  {
   "cell_type": "markdown",
   "source": [
    "## Baseline Assessment: Demographics - Post-processing<a name=\"base-dem-post\"></a>"
   ],
   "metadata": {}
  },
  {
   "cell_type": "code",
   "execution_count": 10,
   "source": [
    "base_dem.remove_na()"
   ],
   "outputs": [],
   "metadata": {}
  },
  {
   "cell_type": "markdown",
   "source": [
    "## Baseline Assessment: Demographics - Data Verification<a name=\"base-dem-comp\"></a>"
   ],
   "metadata": {}
  },
  {
   "cell_type": "code",
   "execution_count": 11,
   "source": [
    "base_dem.compare_conv_dde(obs_data_sets.redcap_clinic)"
   ],
   "outputs": [
    {
     "output_type": "execute_result",
     "data": {
      "text/plain": [
       "Empty DataFrame\n",
       "Columns: [obs_id, base_assess_date, base_dem_dob, base_dem_ht_unk, base_dem_ht_unit, base_dem_ht_met, base_dem_prepreg_wt_unk, base_dem_prepreg_wt_unit, base_dem_prepreg_wt_met, Source]\n",
       "Index: []"
      ],
      "text/html": [
       "<div>\n",
       "<style scoped>\n",
       "    .dataframe tbody tr th:only-of-type {\n",
       "        vertical-align: middle;\n",
       "    }\n",
       "\n",
       "    .dataframe tbody tr th {\n",
       "        vertical-align: top;\n",
       "    }\n",
       "\n",
       "    .dataframe thead th {\n",
       "        text-align: right;\n",
       "    }\n",
       "</style>\n",
       "<table border=\"1\" class=\"dataframe\">\n",
       "  <thead>\n",
       "    <tr style=\"text-align: right;\">\n",
       "      <th></th>\n",
       "      <th>obs_id</th>\n",
       "      <th>base_assess_date</th>\n",
       "      <th>base_dem_dob</th>\n",
       "      <th>base_dem_ht_unk</th>\n",
       "      <th>base_dem_ht_unit</th>\n",
       "      <th>base_dem_ht_met</th>\n",
       "      <th>base_dem_prepreg_wt_unk</th>\n",
       "      <th>base_dem_prepreg_wt_unit</th>\n",
       "      <th>base_dem_prepreg_wt_met</th>\n",
       "      <th>Source</th>\n",
       "    </tr>\n",
       "  </thead>\n",
       "  <tbody>\n",
       "  </tbody>\n",
       "</table>\n",
       "</div>"
      ]
     },
     "metadata": {},
     "execution_count": 11
    }
   ],
   "metadata": {}
  },
  {
   "cell_type": "markdown",
   "source": [
    "## Baseline Assessment: Demographics - Prepare and Save<a name=\"base-dem-save\"></a>"
   ],
   "metadata": {}
  },
  {
   "cell_type": "code",
   "execution_count": 12,
   "source": [
    "base_dem.prep_imp('baseline_assessmen_arm_1', 'baseline_assessment_complete')\r\n",
    "base_dem.data.to_csv('../data/processed/base_dem.csv', index = False)"
   ],
   "outputs": [],
   "metadata": {}
  },
  {
   "cell_type": "markdown",
   "source": [
    "# Baseline Assessment: Current Pregnancy<a name=\"base-curr\"></a>"
   ],
   "metadata": {}
  },
  {
   "cell_type": "markdown",
   "source": [
    "## Baseline Assessment: Current Pregnancy - Preprocessing<a name=\"base-curr-pre\"></a>"
   ],
   "metadata": {}
  },
  {
   "cell_type": "code",
   "execution_count": 13,
   "source": [
    "# format relevant columns\r\n",
    "obs_data_sets.rave_clinic.loc[:, 'FINAL_EDD_DT'] = pd.to_datetime(\r\n",
    "    obs_data_sets.rave_clinic['FINAL_EDD_DT']\r\n",
    ").dt.strftime('%Y-%m-%d')\r\n",
    "\r\n",
    "# create dummy columns from RAVE's 'EDD_DETERMINED' to match REDCap\r\n",
    "rave_edd_determined = pd.get_dummies(\r\n",
    "    obs_data_sets.rave_clinic['EDD_DETERMINED'], dummy_na=True\r\n",
    ")\r\n",
    "rave_edd_determined['Unknown combined'] = (\r\n",
    "    rave_edd_determined['Unknown'] + rave_edd_determined[np.nan]\r\n",
    ")\r\n",
    "# some columns don't have an associated 'STD' column and needed to be coded\r\n",
    "rave_edd_determined['Unknown combined'].replace(0, 'No', inplace = True)\r\n",
    "rave_edd_determined.replace({1: 'Yes', 0: np.nan}, inplace = True)\r\n",
    "obs_data_sets.rave_clinic = pd.concat(\r\n",
    "    [obs_data_sets.rave_clinic, rave_edd_determined], axis = 1\r\n",
    ")\r\n",
    "# Rave data is missing an assisted unknown column; create new column based \r\n",
    "# on available info\r\n",
    "obs_data_sets.rave_clinic['ASSISTED_UNK'] = np.NaN\r\n",
    "obs_data_sets.rave_clinic.loc[\r\n",
    "    obs_data_sets.rave_clinic['MODEOFCONCEPTION'] == 'Assisted', 'ASSISTED_UNK'\r\n",
    "] = 'No'\r\n",
    "obs_data_sets.rave_clinic.loc[\r\n",
    "    (\r\n",
    "         (obs_data_sets.rave_clinic['MODEOFCONCEPTION'] == 'Assisted')\r\n",
    "          & (obs_data_sets.rave_clinic['INTRAUTERINE_INSEMN_NY'] == 'No')\r\n",
    "          & (obs_data_sets.rave_clinic[\r\n",
    "              'INTRAUTERIN_INSEMN_OVUL_INDUCTN_'\r\n",
    "              ] == 'No'\r\n",
    "            )\r\n",
    "          & (obs_data_sets.rave_clinic[\r\n",
    "              'OVULN_INDUCTN_NO_IVF_CLOMID_FSH_'\r\n",
    "              ] == 'No'\r\n",
    "            )\r\n",
    "          & (obs_data_sets.rave_clinic['INVITROFERTILIZATION'] == 'No')\r\n",
    "          & (obs_data_sets.rave_clinic['INTRACYTOPLASMICSPERM'] == 'No')\r\n",
    "          & (obs_data_sets.rave_clinic['DONORSPERM'] == 'No')\r\n",
    "          & (obs_data_sets.rave_clinic['DONOREGG'] == 'No')\r\n",
    "          & (obs_data_sets.rave_clinic['SURROGACY'] == 'No')\r\n",
    "     \r\n",
    "     ),\r\n",
    "    'ASSISTED_UNK'\r\n",
    "] = 'Yes'"
   ],
   "outputs": [],
   "metadata": {}
  },
  {
   "cell_type": "markdown",
   "source": [
    "## Baseline Assessment: Current Pregnancy - Processing<a name=\"base-curr-pro\"></a>"
   ],
   "metadata": {}
  },
  {
   "cell_type": "code",
   "execution_count": 14,
   "source": [
    "base_curr_dict = {\r\n",
    "    'FOLICACID_PRIOR_PREG_NY': 'base_curr_folic_acid',\r\n",
    "    'MODEOFCONCEPTION': 'base_curr_mode_conception',\r\n",
    "    'INTRAUTERINE_INSEMN_NY': 'base_curr_iui_alone',\r\n",
    "    'INTRAUTERIN_INSEMN_OVUL_INDUCTN_': 'base_curr_iui_ovul_noivf',\r\n",
    "    'OVULN_INDUCTN_NO_IVF_CLOMID_FSH_': 'base_curr_ovul_ind_no_ivf',\r\n",
    "    'INVITROFERTILIZATION': 'base_curr_ivf',\r\n",
    "    'INTRACYTOPLASMICSPERM': 'base_curr_ivf_icsi',\r\n",
    "    'DONORSPERM': 'base_curr_donor_sperm',\r\n",
    "    'DONOREGG': 'base_curr_donor_egg',    \r\n",
    "    'SURROGACY': 'base_curr_surrogate',\r\n",
    "    'ASSISTED_UNK': 'base_curr_unk',\r\n",
    "    'Last menstrual period (LMP)': 'base_curr_edd_lmp',\r\n",
    "    '1st trimester ultrasound': 'base_curr_edd_1st_trim_us',\r\n",
    "    '2nd trimester ultrasound': 'base_curr_edd_2nd_trim_us',\r\n",
    "    'Assisted reproductive technology': 'base_curr_edd_reprod_tech',\r\n",
    "    'Obstetrical clinical estimate': 'base_curr_edd_ob_estim',\r\n",
    "    'Unknown combined': 'base_curr_edd_unk',\r\n",
    "    'FINAL_EDD_DT': 'base_curr_edd',\r\n",
    "    'LMP1_DT_DD': 'base_curr_lmp_day',\r\n",
    "    'LMP1_DT_MM': 'base_curr_lmp_month',\r\n",
    "    'LMP1_DT_YYYY': 'base_curr_lmp_year',\r\n",
    "    'GRAVIDA': 'base_curr_gravida',\r\n",
    "    'PARITY': 'base_curr_parity',   \r\n",
    "}\r\n",
    "base_curr = obs_clinic_migration.RedcapConv(\r\n",
    "    base_curr_dict, 0, master_df = obs_data_sets.rave_clinic\r\n",
    ")"
   ],
   "outputs": [
    {
     "output_type": "stream",
     "name": "stdout",
     "text": [
      "Column 'base_curr_mode_conception', variable 'Unknown' has an issue.\n"
     ]
    }
   ],
   "metadata": {}
  },
  {
   "cell_type": "markdown",
   "source": [
    "## Baseline Assessment: Current Pregnancy - Post-processing<a name=\"base-curr-post\"></a>"
   ],
   "metadata": {}
  },
  {
   "cell_type": "code",
   "execution_count": 15,
   "source": [
    "base_curr.change_str(\r\n",
    "    {\r\n",
    "        # no 'Unknown' option in REDCap\r\n",
    "        'base_curr_mode_conception': {'Unknown': np.NaN}\r\n",
    "    }\r\n",
    ")"
   ],
   "outputs": [
    {
     "output_type": "stream",
     "name": "stdout",
     "text": [
      "1    2115\n",
      "2     304\n",
      "Name: base_curr_mode_conception, dtype: int64\n"
     ]
    }
   ],
   "metadata": {}
  },
  {
   "cell_type": "markdown",
   "source": [
    "## Baseline Assessment: Current Pregnancy - Data Verification<a name=\"base-curr-comp\"></a>"
   ],
   "metadata": {}
  },
  {
   "cell_type": "code",
   "execution_count": 16,
   "source": [
    "base_curr.compare_conv_dde(obs_data_sets.redcap_clinic)"
   ],
   "outputs": [
    {
     "output_type": "execute_result",
     "data": {
      "text/plain": [
       "Empty DataFrame\n",
       "Columns: [obs_id, base_curr_folic_acid, base_curr_mode_conception, base_curr_iui_alone, base_curr_iui_ovul_noivf, base_curr_ovul_ind_no_ivf, base_curr_ivf, base_curr_ivf_icsi, base_curr_donor_sperm, base_curr_donor_egg, base_curr_surrogate, base_curr_unk, base_curr_edd, base_curr_edd_lmp, base_curr_edd_1st_trim_us, base_curr_edd_2nd_trim_us, base_curr_edd_reprod_tech, base_curr_edd_ob_estim, base_curr_edd_unk, base_curr_lmp_day, base_curr_lmp_month, base_curr_lmp_year, base_curr_gravida, base_curr_parity, Source]\n",
       "Index: []\n",
       "\n",
       "[0 rows x 25 columns]"
      ],
      "text/html": [
       "<div>\n",
       "<style scoped>\n",
       "    .dataframe tbody tr th:only-of-type {\n",
       "        vertical-align: middle;\n",
       "    }\n",
       "\n",
       "    .dataframe tbody tr th {\n",
       "        vertical-align: top;\n",
       "    }\n",
       "\n",
       "    .dataframe thead th {\n",
       "        text-align: right;\n",
       "    }\n",
       "</style>\n",
       "<table border=\"1\" class=\"dataframe\">\n",
       "  <thead>\n",
       "    <tr style=\"text-align: right;\">\n",
       "      <th></th>\n",
       "      <th>obs_id</th>\n",
       "      <th>base_curr_folic_acid</th>\n",
       "      <th>base_curr_mode_conception</th>\n",
       "      <th>base_curr_iui_alone</th>\n",
       "      <th>base_curr_iui_ovul_noivf</th>\n",
       "      <th>...</th>\n",
       "      <th>base_curr_lmp_month</th>\n",
       "      <th>base_curr_lmp_year</th>\n",
       "      <th>base_curr_gravida</th>\n",
       "      <th>base_curr_parity</th>\n",
       "      <th>Source</th>\n",
       "    </tr>\n",
       "  </thead>\n",
       "  <tbody>\n",
       "  </tbody>\n",
       "</table>\n",
       "<p>0 rows × 25 columns</p>\n",
       "</div>"
      ]
     },
     "metadata": {},
     "execution_count": 16
    }
   ],
   "metadata": {}
  },
  {
   "cell_type": "markdown",
   "source": [
    "## Baseline Assessment: Current Pregnancy - Prepare and Save<a name=\"base-curr-save\"></a>"
   ],
   "metadata": {}
  },
  {
   "cell_type": "code",
   "execution_count": 17,
   "source": [
    "base_curr.prep_imp('baseline_assessmen_arm_1', 'baseline_assessment_complete')\r\n",
    "base_curr.data.to_csv('../data/processed/base_cur.csv', index = False)"
   ],
   "outputs": [],
   "metadata": {}
  },
  {
   "cell_type": "markdown",
   "source": [
    "# Baseline Assessment: Obstetrical History<a name=\"obhx\"></a>"
   ],
   "metadata": {}
  },
  {
   "cell_type": "markdown",
   "source": [
    "## Baseline Assessment: Obstetrical History - Preprocessing<a name=\"obhx-pre\"></a>"
   ],
   "metadata": {}
  },
  {
   "cell_type": "code",
   "execution_count": 18,
   "source": [
    "for i in range(1, 13):\r\n",
    "    # some columns don't have an associated 'STD' column and needed to be coded \r\n",
    "    obs_data_sets.rave_clinic['WEIGHT_UNK1_' + str(i)].replace(\r\n",
    "        {'0': 'Known', '1': 'Unknown'}, inplace = True\r\n",
    "    )\r\n",
    "    \r\n",
    "    # in Rave, 'type of twin' is required even if answer 'Singleton' to fetus\r\n",
    "    obs_data_sets.rave_clinic.loc[\r\n",
    "        ((obs_data_sets.rave_clinic['FOETUSES_' + str(i)] != 'Twins')\r\n",
    "        & (obs_data_sets.rave_clinic['FOETUSES_' + str(i)].notna())), \r\n",
    "        'TYPEOFTWIN_' + str(i)\r\n",
    "    ] = np.NaN\r\n",
    "    \r\n",
    "    # Rave delivery date is in one column while REDCap has separate columns; \r\n",
    "    # split to corresponding columns\r\n",
    "    try:\r\n",
    "        obs_data_sets.rave_clinic[[\r\n",
    "            'DELIVERY_DT_DD_' + str(i), \r\n",
    "            'DELIVERY_DT_MM_' + str(i), \r\n",
    "            'DELIVERY_DT_YYYY_' + str(i)\r\n",
    "        ]] = obs_data_sets.rave_clinic['DELIVERY_DT_' + str(i)].str.split(\r\n",
    "            ' ', expand = True\r\n",
    "        )\r\n",
    "        obs_data_sets.rave_clinic['DELIVERY_DT_DD_' + str(i)].replace(\r\n",
    "            {'UN': 'Unknown'}, inplace = True\r\n",
    "        )\r\n",
    "        obs_data_sets.rave_clinic['DELIVERY_DT_MM_' + str(i)].replace(\r\n",
    "            {\r\n",
    "                'UNK': 'Unknown', \r\n",
    "                'JAN': 'January',\r\n",
    "                'FEB': 'February',\r\n",
    "                'MAR': 'March',\r\n",
    "                'APR': 'April',\r\n",
    "                'MAY': 'May',\r\n",
    "                'JUN': 'June',\r\n",
    "                'JUL': 'July',\r\n",
    "                'AUG': 'August',\r\n",
    "                'SEP': 'September',\r\n",
    "                'OCT': 'October',\r\n",
    "                'NOV': 'November',\r\n",
    "                'DEC': 'December'\r\n",
    "            }, inplace = True\r\n",
    "        )\r\n",
    "    except:\r\n",
    "        obs_data_sets.rave_clinic['DELIVERY_DT_DD_' + str(i)] = np.NaN\r\n",
    "        obs_data_sets.rave_clinic['DELIVERY_DT_MM_' + str(i)] = np.NaN\r\n",
    "        obs_data_sets.rave_clinic['DELIVERY_DT_YYYY_' + str(i)] = np.NaN\r\n",
    "    \r\n",
    "    # REDCap did not have a 'Not available' option, instead entered 1900 as \r\n",
    "    # the year; need to create 'Not available' columns accordingly\r\n",
    "    obs_data_sets.rave_clinic.loc[\r\n",
    "        obs_data_sets.rave_clinic['DELIVERY_DT_YYYY_' + str(i)] == '1900',\r\n",
    "        'DELIVERY_DT_YYYY_' + str(i)\r\n",
    "    ] = '99'\r\n",
    "    # remove leading zeros from day number\r\n",
    "    obs_data_sets.rave_clinic['DELIVERY_DT_DD_' + str(i)] = (\r\n",
    "        obs_data_sets.rave_clinic['DELIVERY_DT_DD_' + str(i)].str.lstrip('0')\r\n",
    "    )\r\n",
    "    obs_data_sets.rave_clinic['GESTATION_AGE_WKS_99_' + str(i)] = 'nan'\r\n",
    "    obs_data_sets.rave_clinic.loc[\r\n",
    "        obs_data_sets.rave_clinic['GESTATION_AGE_WKS_' + str(i)] == '99',\r\n",
    "        'GESTATION_AGE_WKS_99_' + str(i)\r\n",
    "    ] = 'Unknown'\r\n",
    "    obs_data_sets.rave_clinic.loc[\r\n",
    "        (\r\n",
    "            (obs_data_sets.rave_clinic['GESTATION_AGE_WKS_' + str(i)] != '99')\r\n",
    "            & (~obs_data_sets.rave_clinic[\r\n",
    "                'GESTATION_AGE_WKS_' + str(i)\r\n",
    "                ].isna()\r\n",
    "            )\r\n",
    "        ),\r\n",
    "        'GESTATION_AGE_WKS_99_' + str(i)\r\n",
    "    ] = 'Known'\r\n",
    "    obs_data_sets.rave_clinic.loc[\r\n",
    "        obs_data_sets.rave_clinic['GESTATION_AGE_WKS_' + str(i)] == '99',\r\n",
    "        'GESTATION_AGE_WKS_' + str(i)\r\n",
    "    ] = 'nan'\r\n",
    "\r\n",
    "    # RAVE representation is a checkbox where checked (1) is associated with \r\n",
    "    # 'Unknown' and unchecked (0) represents 'Known'\r\n",
    "    obs_data_sets.rave_clinic['WEIGHT_UNK1_' + str(i)].replace(\r\n",
    "        {'1': 'Unknown', '0': 'Known'}, inplace = True\r\n",
    "    )\r\n",
    "    \r\n",
    "    # Rave fetal chromosome abnormalities does not have a yes/no question\r\n",
    "    # create column based on available info\r\n",
    "    obs_data_sets.rave_clinic.loc[\r\n",
    "        obs_data_sets.rave_clinic['FETAL_CHROM_ABNORM_' + str(i)] == 'None', \r\n",
    "        'FETAL_CHROM_ABNORM_yn_' + str(i)\r\n",
    "    ] = 'No'\r\n",
    "    obs_data_sets.rave_clinic.loc[\r\n",
    "        (\r\n",
    "            (\r\n",
    "                obs_data_sets.rave_clinic[\r\n",
    "                    'FETAL_CHROM_ABNORM_' + str(i)\r\n",
    "                ] == 'Trisomy 13'\r\n",
    "            )\r\n",
    "            | (\r\n",
    "                obs_data_sets.rave_clinic[\r\n",
    "                    'FETAL_CHROM_ABNORM_' + str(i)\r\n",
    "                ] == 'Trisomy 18'\r\n",
    "            )\r\n",
    "            | (\r\n",
    "                obs_data_sets.rave_clinic[\r\n",
    "                    'FETAL_CHROM_ABNORM_' + str(i)\r\n",
    "                ] == 'Trisomy 21'\r\n",
    "            )\r\n",
    "            | (\r\n",
    "                obs_data_sets.rave_clinic[\r\n",
    "                    'FETAL_CHROM_ABNORM_' + str(i)\r\n",
    "                ] == 'Other'\r\n",
    "            )\r\n",
    "        ), 'FETAL_CHROM_ABNORM_yn_' + str(i)\r\n",
    "    ] = 'Yes'\r\n",
    "    \r\n",
    "    # 'None' is not an accepted answer in REDCap dictionary\r\n",
    "    obs_data_sets.rave_clinic.loc[\r\n",
    "        obs_data_sets.rave_clinic['FETAL_CHROM_ABNORM_' + str(i)] == 'None', \r\n",
    "        'FETAL_CHROM_ABNORM_' + str(i)\r\n",
    "    ] = np.NaN\r\n",
    "     \r\n",
    "    # if no answer is given for 'Complications, Other (i.e. Yes, No)', \r\n",
    "    # Rave still allows data to be entered into 'Other (speicfy)'\r\n",
    "    obs_data_sets.rave_clinic.loc[\r\n",
    "        (\r\n",
    "           (obs_data_sets.rave_clinic['SPECIFY_OTHER_' + str(i)].notna())\r\n",
    "        ), 'OTHER_COMPLICATION_NY_' + str(i)\r\n",
    "    ] = 'Yes'\r\n",
    "    obs_data_sets.rave_clinic.loc[\r\n",
    "        (\r\n",
    "            (\r\n",
    "                obs_data_sets.rave_clinic[\r\n",
    "                   'GESTATIONAL_HYPERTENSION_NY_' + str(i)\r\n",
    "                ] == 'Yes'\r\n",
    "            )\r\n",
    "            | (\r\n",
    "                obs_data_sets.rave_clinic[\r\n",
    "                    'PREECLAMPSIA_NY_' + str(i)\r\n",
    "                ] == 'Yes'\r\n",
    "            )\r\n",
    "            | (\r\n",
    "                obs_data_sets.rave_clinic[\r\n",
    "                    'HELLPSYNDROME_NY_' + str(i)\r\n",
    "                ] == 'Yes'\r\n",
    "            )\r\n",
    "            | (\r\n",
    "                obs_data_sets.rave_clinic[\r\n",
    "                    'IUGR_NY_' + str(i)\r\n",
    "                ] == 'Yes'\r\n",
    "            )\r\n",
    "            | (\r\n",
    "                obs_data_sets.rave_clinic[\r\n",
    "                    'PRETERMLABOUR_NY_' + str(i)\r\n",
    "                ] == 'Yes'\r\n",
    "            )\r\n",
    "            | (\r\n",
    "                obs_data_sets.rave_clinic[\r\n",
    "                    'GESTATN_DIABETES_NY_' + str(i)\r\n",
    "                ] == 'Yes'\r\n",
    "            )\r\n",
    "            | (\r\n",
    "                obs_data_sets.rave_clinic[\r\n",
    "                    'CHOLESTASIS_NY_' + str(i)\r\n",
    "                ] == 'Yes'\r\n",
    "            )\r\n",
    "            | (\r\n",
    "                obs_data_sets.rave_clinic[\r\n",
    "                    'PLACENTA_PREVIA_NY_' + str(i)\r\n",
    "                    ] == 'Yes'\r\n",
    "            )\r\n",
    "            | (\r\n",
    "                obs_data_sets.rave_clinic[\r\n",
    "                    'PLACENTAL_ABRUPTION_NY_' + str(i)\r\n",
    "                ] == 'Yes'\r\n",
    "            )\r\n",
    "            | (\r\n",
    "                obs_data_sets.rave_clinic[\r\n",
    "                    'FETAL_CONGENITAL_ANOM_NY_' + str(i)\r\n",
    "                ] == 'Yes'\r\n",
    "            )\r\n",
    "            | (\r\n",
    "                obs_data_sets.rave_clinic[\r\n",
    "                    'FETAL_CHROM_ABNORM_yn_' + str(i)\r\n",
    "                ] == 'Yes'\r\n",
    "            )\r\n",
    "            | (\r\n",
    "                obs_data_sets.rave_clinic[\r\n",
    "                    'OTHER_COMPLICATION_NY_' + str(i)\r\n",
    "                ] == 'Yes'\r\n",
    "            )\r\n",
    "        ),\r\n",
    "        'COMPLICATIONS_NY_' + str(i)\r\n",
    "    ] = 'Yes'\r\n",
    "    \r\n",
    "    # REDCap data does not force a yes/no answer if answered no to \r\n",
    "    # complications; reformat to remove unnecessary column values\r\n",
    "    for complication in [\r\n",
    "        'GESTATIONAL_HYPERTENSION_NY_', 'PREECLAMPSIA_NY_', \r\n",
    "        'HELLPSYNDROME_NY_', 'IUGR_NY_', 'PRETERMLABOUR_NY_',\r\n",
    "        'GESTATN_DIABETES_NY_', 'CHOLESTASIS_NY_', 'PLACENTA_PREVIA_NY_',\r\n",
    "        'PLACENTAL_ABRUPTION_NY_', 'FETAL_CONGENITAL_ANOM_NY_',\r\n",
    "        'SPECIFY_FETAL_COGEN_ANOMAL_', 'FETAL_CHROM_ABNORM_yn_', \r\n",
    "        'OTHER_COMPLICATION_NY_'\r\n",
    "    ]:\r\n",
    "        obs_data_sets.rave_clinic.loc[\r\n",
    "            obs_data_sets.rave_clinic['COMPLICATIONS_NY_' + str(i)] == 'No', \r\n",
    "            complication + str(i)\r\n",
    "        ] = np.NaN\r\n",
    "     \r\n",
    "    # 'Specify fetal congential anomaly' had a answer; however \r\n",
    "    # 'fetal congential anomaly' was empty\r\n",
    "    obs_data_sets.rave_clinic.loc[\r\n",
    "        obs_data_sets.rave_clinic[\r\n",
    "            'SPECIFY_FETAL_COGEN_ANOMAL_' + str(i)\r\n",
    "        ].notna(), 'FETAL_CONGENITAL_ANOM_NY_' + str(i)\r\n",
    "    ] = 'Yes'"
   ],
   "outputs": [],
   "metadata": {}
  },
  {
   "cell_type": "markdown",
   "source": [
    "## Baseline Assessment: Obstetrical History - Processing<a name=\"obhx-pro\"></a>"
   ],
   "metadata": {}
  },
  {
   "cell_type": "code",
   "execution_count": 19,
   "source": [
    "obhx_dict = {\r\n",
    "    'PREGNANCY_STD_': 'obhx_preg_num',\r\n",
    "    'BABYNUM_': 'obhx_babynum',\r\n",
    "    'FOETUSES_': 'obhx_fetusnum',\r\n",
    "    'TYPEOFTWIN_' : 'obhx_typeoftwin',\r\n",
    "    'PREGOUTCOME_': 'obhx_pregoutcome',\r\n",
    "    'DELIVERY_DT_DD_': 'obhx_del_day',\r\n",
    "    'DELIVERY_DT_MM_': 'obhx_del_month',\r\n",
    "    'DELIVERY_DT_YYYY_' : 'obhx_del_year',\r\n",
    "    'CHILDCURRENTLYALIVE_': 'obhx_alive',\r\n",
    "    'SEX_': 'obhx_sex',\r\n",
    "    'GESTATION_AGE_WKS_99_':'obhx_ga_wk_status',\r\n",
    "    'GESTATION_AGE_WKS_':'obhx_ga_wk',\r\n",
    "    'WEIGHT_UNK1_': 'obhx_brthwt_unk',\r\n",
    "    'GEST_WT_': 'obhx_brth_wt',\r\n",
    "    'GEST_WT_UN_': 'obhx_brth_wt_unit',\r\n",
    "    'TYPE_OF_DELIVERY_': 'obhx_delivery_type',\r\n",
    "    'COMPLICATIONS_NY_': 'obhx_comp_yn',\r\n",
    "    'GESTATIONAL_HYPERTENSION_NY_':'obhx_htn',\r\n",
    "    'PREECLAMPSIA_NY_': 'obhx_preeclampsia',\r\n",
    "    'HELLPSYNDROME_NY_': 'obhx_hellp',\r\n",
    "    'IUGR_NY_': 'obhx_iugr',\r\n",
    "    'PRETERMLABOUR_NY_': 'obhx_preterm_labour',\r\n",
    "    'GESTATN_DIABETES_NY_':'obhx_gdm',\r\n",
    "    'CHOLESTASIS_NY_': 'obhx_cholestasis',\r\n",
    "    'PLACENTA_PREVIA_NY_': 'obhx_previa',\r\n",
    "    'PLACENTAL_ABRUPTION_NY_': 'obhx_plac_abrupt',\r\n",
    "    'FETAL_CONGENITAL_ANOM_NY_': 'obhx_fet_anom',\r\n",
    "    'SPECIFY_FETAL_COGEN_ANOMAL_': 'obhx_fet_anom_spec',\r\n",
    "    'FETAL_CHROM_ABNORM_yn_': 'obhx_fet_chromo_abn',\r\n",
    "    'FETAL_CHROM_ABNORM_': 'obhx_fet_chromo_abn_spec',\r\n",
    "    'SPECIFY_FETAL_CHROM_ABN_': 'obhx_fet_chromo_oth_spec',\r\n",
    "    'OTHER_COMPLICATION_NY_': 'obhx_comp_oth',\r\n",
    "    'SPECIFY_OTHER_': 'obhx_comp_oth_spec'      \r\n",
    "}\r\n",
    "\r\n",
    "obhx = obs_clinic_migration.RedcapConv(\r\n",
    "    obhx_dict, 12, obs_data_sets.rave_clinic\r\n",
    ")"
   ],
   "outputs": [
    {
     "output_type": "stream",
     "name": "stdout",
     "text": [
      "Column 'obhx_fetusnum', variable 'Singleton' has an issue.\n",
      "Column 'obhx_fetusnum', variable 'Twins' has an issue.\n",
      "Column 'obhx_fetusnum', variable 'Triplets' has an issue.\n",
      "Column 'obhx_pregoutcome', variable 'Miscarriage (< 13 weeks)' has an issue.\n",
      "Column 'obhx_pregoutcome', variable 'Miscarriage GA unknown' has an issue.\n",
      "Column 'obhx_pregoutcome', variable 'Still-birth (>= 20 weeks)' has an issue.\n"
     ]
    }
   ],
   "metadata": {}
  },
  {
   "cell_type": "markdown",
   "source": [
    "## Baseline Assessment: Obstetrical History - Post-processing<a name=\"obhx-post\"></a>"
   ],
   "metadata": {}
  },
  {
   "cell_type": "code",
   "execution_count": 20,
   "source": [
    "obhx.change_str(\r\n",
    "    {\r\n",
    "        'obhx_fetusnum': {\r\n",
    "            'Singleton': 'Singleton (1)',\r\n",
    "             'Twins': 'Twins (2)',\r\n",
    "             'Triplets': 'Triplets (3)'\r\n",
    "         },\r\n",
    "        'obhx_pregoutcome':{\r\n",
    "            'Miscarriage (< 13 weeks)': 'Miscarriage (<13 weeks)',\r\n",
    "            'Miscarriage GA unknown': 'Miscarriage (GA unknown)',\r\n",
    "            'Still-birth (>= 20 weeks)': 'Stillbirth (≥20 weeks)'\r\n",
    "        }\r\n",
    "    }\r\n",
    ")\r\n",
    "obhx.remove_na()"
   ],
   "outputs": [
    {
     "output_type": "stream",
     "name": "stdout",
     "text": [
      "1    1524\n",
      "5    1200\n",
      "2      51\n",
      "3       7\n",
      "Name: obhx_fetusnum, dtype: int64\n",
      "1    1349\n",
      "3     774\n",
      "6     360\n",
      "5      98\n",
      "4      57\n",
      "8      49\n",
      "2      44\n",
      "7      41\n",
      "9      10\n",
      "Name: obhx_pregoutcome, dtype: int64\n"
     ]
    }
   ],
   "metadata": {}
  },
  {
   "cell_type": "markdown",
   "source": [
    "## Baseline Assessment: Obstetrical History - Data Verification<a name=\"obhx-comp\"></a>"
   ],
   "metadata": {}
  },
  {
   "cell_type": "code",
   "execution_count": 21,
   "source": [
    "obhx.compare_conv_dde(obs_data_sets.redcap_clinic)"
   ],
   "outputs": [
    {
     "output_type": "execute_result",
     "data": {
      "text/plain": [
       "Empty DataFrame\n",
       "Columns: [obs_id, redcap_repeat_instance, obhx_preg_num, obhx_babynum, obhx_fetusnum, obhx_typeoftwin, obhx_pregoutcome, obhx_del_day, obhx_del_month, obhx_del_year, obhx_alive, obhx_sex, obhx_ga_wk_status, obhx_ga_wk, obhx_brthwt_unk, obhx_brth_wt, obhx_brth_wt_unit, obhx_delivery_type, obhx_comp_yn, obhx_htn, obhx_preeclampsia, obhx_hellp, obhx_iugr, obhx_preterm_labour, obhx_gdm, obhx_cholestasis, obhx_previa, obhx_plac_abrupt, obhx_fet_anom, obhx_fet_chromo_abn, obhx_comp_oth, obhx_fet_anom_spec, obhx_fet_chromo_abn_spec, obhx_fet_chromo_oth_spec, obhx_comp_oth_spec, Source]\n",
       "Index: []\n",
       "\n",
       "[0 rows x 36 columns]"
      ],
      "text/html": [
       "<div>\n",
       "<style scoped>\n",
       "    .dataframe tbody tr th:only-of-type {\n",
       "        vertical-align: middle;\n",
       "    }\n",
       "\n",
       "    .dataframe tbody tr th {\n",
       "        vertical-align: top;\n",
       "    }\n",
       "\n",
       "    .dataframe thead th {\n",
       "        text-align: right;\n",
       "    }\n",
       "</style>\n",
       "<table border=\"1\" class=\"dataframe\">\n",
       "  <thead>\n",
       "    <tr style=\"text-align: right;\">\n",
       "      <th></th>\n",
       "      <th>obs_id</th>\n",
       "      <th>redcap_repeat_instance</th>\n",
       "      <th>obhx_preg_num</th>\n",
       "      <th>obhx_babynum</th>\n",
       "      <th>obhx_fetusnum</th>\n",
       "      <th>...</th>\n",
       "      <th>obhx_fet_anom_spec</th>\n",
       "      <th>obhx_fet_chromo_abn_spec</th>\n",
       "      <th>obhx_fet_chromo_oth_spec</th>\n",
       "      <th>obhx_comp_oth_spec</th>\n",
       "      <th>Source</th>\n",
       "    </tr>\n",
       "  </thead>\n",
       "  <tbody>\n",
       "  </tbody>\n",
       "</table>\n",
       "<p>0 rows × 36 columns</p>\n",
       "</div>"
      ]
     },
     "metadata": {},
     "execution_count": 21
    }
   ],
   "metadata": {}
  },
  {
   "cell_type": "markdown",
   "source": [
    "## Baseline Assessment: Obstetrical History - Prepare and Save<a name=\"obhx-save\"></a>"
   ],
   "metadata": {}
  },
  {
   "cell_type": "code",
   "execution_count": 22,
   "source": [
    "obhx.prep_imp(\r\n",
    "    'baseline_assessmen_arm_1', 'obstetrical_history_complete', \r\n",
    "    'obstetrical_history'\r\n",
    ")\r\n",
    "obhx.data.to_csv('../data/processed/obhx.csv', index = False)"
   ],
   "outputs": [],
   "metadata": {}
  },
  {
   "cell_type": "markdown",
   "source": [
    "# Baseline Assessment: Pre-existing Medical Conditions<a name=\"medhx\"></a>"
   ],
   "metadata": {}
  },
  {
   "cell_type": "markdown",
   "source": [
    "## Baseline Assessment: Pre-existing Medical Conditions - Preprocessing<a name=\"medhx-pre\"></a>"
   ],
   "metadata": {}
  },
  {
   "cell_type": "code",
   "execution_count": 23,
   "source": [
    "# one random '1901' year; assume it was supposed to be '1900'\r\n",
    "obs_data_sets.rave_clinic.loc[\r\n",
    "    obs_data_sets.rave_clinic['RESOLUTION_YR_YYYY_3'] == '1901',\r\n",
    "    'RESOLUTION_YR_YYYY_3'\r\n",
    "] = '1900'\r\n",
    "\r\n",
    "# create date 'unknown' columns in Rave\r\n",
    "obs_data_sets.rave_clinic = (\r\n",
    "    obs_clinic_migration_preprocessing.rave_date_unknown(\r\n",
    "        obs_data_sets.rave_clinic, 'MEDHX_NY_', 'Yes','ONSET_YR_', 11\r\n",
    "    )\r\n",
    ")\r\n",
    "obs_data_sets.rave_clinic = (\r\n",
    "    obs_clinic_migration_preprocessing.rave_date_unknown(\r\n",
    "        obs_data_sets.rave_clinic, 'CONTINUE_NY_', 'No','RESOLUTION_YR_', 11\r\n",
    "    )\r\n",
    ")"
   ],
   "outputs": [],
   "metadata": {}
  },
  {
   "cell_type": "markdown",
   "source": [
    "## Baseline Assessment: Pre-existing Medical Conditions - Processing<a name=\"medhx-pro\"></a>"
   ],
   "metadata": {}
  },
  {
   "cell_type": "code",
   "execution_count": 24,
   "source": [
    "medhx_dict = {\r\n",
    "    'MEDHX_NY_': 'medhx_yn',\r\n",
    "    'MEDHX_': 'medhx_condn_type',\r\n",
    "    'SPECIFY_MEDICAL_CONDN_': 'medhx_condn_spec',\r\n",
    "    'ONSET_YR_DD_': 'medhx_strt_day',\r\n",
    "    'ONSET_YR_MM_': 'medhx_strt_month',\r\n",
    "    'ONSET_YR_YYYY_': 'medhx_strt_year',\r\n",
    "    'CONTINUE_NY_': 'medhx_cont_yn',\r\n",
    "    'RESOLUTION_YR_DD_': 'medhx_stop_day',\r\n",
    "    'RESOLUTION_YR_MM_': 'medhx_stop_month',\r\n",
    "    'RESOLUTION_YR_YYYY_': 'medhx_stop_year',\r\n",
    "    'COMMENTS1_': 'medhx_comments',\r\n",
    "    'ONSET_YR_yn_date_': 'medhx_onset_date_yn',\r\n",
    "    'RESOLUTION_YR_yn_date_': 'medhx_stop_date_yn',         \r\n",
    "}\r\n",
    "medhx = obs_clinic_migration.RedcapConv(\r\n",
    "    medhx_dict, 11, master_df = obs_data_sets.rave_clinic\r\n",
    ")"
   ],
   "outputs": [
    {
     "output_type": "stream",
     "name": "stdout",
     "text": [
      "Column 'medhx_condn_type', variable 'Mental Health - Other' has an issue.\n",
      "Column 'medhx_condn_type', variable 'Diabetes:  Type Unknown' has an issue.\n",
      "Column 'medhx_condn_type', variable 'Diabetes: Diabetes Type II – No Insulin' has an issue.\n",
      "Column 'medhx_condn_type', variable 'Diabetes: Diabetes Type II – Insulin' has an issue.\n"
     ]
    }
   ],
   "metadata": {}
  },
  {
   "cell_type": "markdown",
   "source": [
    "## Baseline Assessment: Pre-existing Medical Conditions - Post-processing<a name=\"medhx-post\"></a>"
   ],
   "metadata": {}
  },
  {
   "cell_type": "code",
   "execution_count": 25,
   "source": [
    "medhx.change_str(\r\n",
    "    {\r\n",
    "        'medhx_condn_type': {\r\n",
    "            'Diabetes: Diabetes Type II – Insulin': \r\n",
    "                'Diabetes: Diabetes Type II - Insulin',\r\n",
    "            'Diabetes: Diabetes Type II – No Insulin': \r\n",
    "                'Diabetes: Diabetes Type II - No Insulin',\r\n",
    "            'Diabetes:  Type Unknown': 'Diabetes: Type Unknown',\r\n",
    "            'Mental Health - Other': 'Mental Health: Other',\r\n",
    "            'Neurology: Other': 'Neurology: Other'\r\n",
    "        }\r\n",
    "    }\r\n",
    ")"
   ],
   "outputs": [
    {
     "output_type": "stream",
     "name": "stdout",
     "text": [
      "23    790\n",
      "15    348\n",
      "33    237\n",
      "31    234\n",
      "20    215\n",
      "44    208\n",
      "22    197\n",
      "30    196\n",
      "39    186\n",
      "40    167\n",
      "16    158\n",
      "9     104\n",
      "36    103\n",
      "24     94\n",
      "27     81\n",
      "35     77\n",
      "8      31\n",
      "2      30\n",
      "14     26\n",
      "13     24\n",
      "4      22\n",
      "6      19\n",
      "18     16\n",
      "42     16\n",
      "17     15\n",
      "32     13\n",
      "19     11\n",
      "21     10\n",
      "29      9\n",
      "37      9\n",
      "5       8\n",
      "43      7\n",
      "41      6\n",
      "11      5\n",
      "12      5\n",
      "1       4\n",
      "38      4\n",
      "26      2\n",
      "10      1\n",
      "25      1\n",
      "Name: medhx_condn_type, dtype: int64\n"
     ]
    }
   ],
   "metadata": {}
  },
  {
   "cell_type": "markdown",
   "source": [
    "## Baseline Assessment: Pre-existing Medical Conditions - Data Verification<a name=\"medhx-comp\"></a>"
   ],
   "metadata": {}
  },
  {
   "cell_type": "code",
   "execution_count": 26,
   "source": [
    "medhx.compare_conv_dde(obs_data_sets.redcap_clinic)"
   ],
   "outputs": [
    {
     "output_type": "execute_result",
     "data": {
      "text/plain": [
       "Empty DataFrame\n",
       "Columns: [obs_id, redcap_repeat_instance, medhx_yn, medhx_condn_type, medhx_condn_spec, medhx_onset_date_yn, medhx_strt_day, medhx_strt_month, medhx_strt_year, medhx_cont_yn, medhx_stop_date_yn, medhx_stop_day, medhx_stop_month, medhx_stop_year, medhx_comments, Source]\n",
       "Index: []\n",
       "\n",
       "[0 rows x 16 columns]"
      ],
      "text/html": [
       "<div>\n",
       "<style scoped>\n",
       "    .dataframe tbody tr th:only-of-type {\n",
       "        vertical-align: middle;\n",
       "    }\n",
       "\n",
       "    .dataframe tbody tr th {\n",
       "        vertical-align: top;\n",
       "    }\n",
       "\n",
       "    .dataframe thead th {\n",
       "        text-align: right;\n",
       "    }\n",
       "</style>\n",
       "<table border=\"1\" class=\"dataframe\">\n",
       "  <thead>\n",
       "    <tr style=\"text-align: right;\">\n",
       "      <th></th>\n",
       "      <th>obs_id</th>\n",
       "      <th>redcap_repeat_instance</th>\n",
       "      <th>medhx_yn</th>\n",
       "      <th>medhx_condn_type</th>\n",
       "      <th>medhx_condn_spec</th>\n",
       "      <th>...</th>\n",
       "      <th>medhx_stop_day</th>\n",
       "      <th>medhx_stop_month</th>\n",
       "      <th>medhx_stop_year</th>\n",
       "      <th>medhx_comments</th>\n",
       "      <th>Source</th>\n",
       "    </tr>\n",
       "  </thead>\n",
       "  <tbody>\n",
       "  </tbody>\n",
       "</table>\n",
       "<p>0 rows × 16 columns</p>\n",
       "</div>"
      ]
     },
     "metadata": {},
     "execution_count": 26
    }
   ],
   "metadata": {}
  },
  {
   "cell_type": "markdown",
   "source": [
    "## Baseline Assessment: Pre-existing Medical Conditions - Prepare and Save<a name=\"medhx-save\"></a>"
   ],
   "metadata": {}
  },
  {
   "cell_type": "code",
   "execution_count": 27,
   "source": [
    "medhx.prep_imp(\r\n",
    "    'baseline_assessmen_arm_1', 'preexisting_medical_conditions_complete',\r\n",
    "    'preexisting_medical_conditions'\r\n",
    ")\r\n",
    "medhx.data.to_csv('../data/processed/medhx.csv', index = False)"
   ],
   "outputs": [],
   "metadata": {}
  },
  {
   "cell_type": "markdown",
   "source": [
    "# Baseline Assessment: Allergies<a name=\"base-all\"></a>"
   ],
   "metadata": {}
  },
  {
   "cell_type": "markdown",
   "source": [
    "## Baseline Assessment: Allergies - Processing<a name=\"base-all-pro\"></a>"
   ],
   "metadata": {}
  },
  {
   "cell_type": "code",
   "execution_count": 28,
   "source": [
    "base_all_dict = {\r\n",
    "    'ANY_ALLERGIES': 'base_all_yn',\r\n",
    "    'FOOD_ALLERGY_NY': 'base_all_food_yn',\r\n",
    "    'SHELLFISH_YN': 'base_all_shellfish',\r\n",
    "    'PEANUTS_YN': 'base_all_peanuts',\r\n",
    "    'TREENUTS_YN': 'base_all_tree_nuts',\r\n",
    "    'DAIRY_YN': 'base_all_dairy',\r\n",
    "    'SOY_YN': 'base_all_soy',\r\n",
    "    'FISH_YN': 'base_all_fish',\r\n",
    "    'CITRUSFRUITS_NY': 'base_all_citrus_fruit',\r\n",
    "    'EGGS_NY': 'base_all_eggs',\r\n",
    "    'GLUTEN_NY': 'base_all_gluten',\r\n",
    "    'OTHER_FOOD_ALLERGY': 'base_all_food_oth',\r\n",
    "    'SPECIFY_OTHER_FOOD_ALLERGY': 'base_all_food_oth_spec',\r\n",
    "    'DRUG_ALLERGY_NY': 'base_all_drug_yn',\r\n",
    "    'PENICILLIN_NY': 'base_all_penicillin',\r\n",
    "    'ERYTHROMYCIN_NY': 'base_all_erythromycin',\r\n",
    "    'SULFADRUGS_NY': 'base_all_sulfa_drugs',\r\n",
    "    'CEPHALOSPORINS_NY': 'cbase_all_ephalosporins',\r\n",
    "    'NSAID_NY': 'base_all_nsaids',\r\n",
    "    'TETRACYCLINE_NY': 'base_all_tetracycline',\r\n",
    "    'CODEINE_NY': 'base_all_codeine',\r\n",
    "    'CONTRAST_DYE_NY': 'base_all_contrast_dye',\r\n",
    "    'OTHER_DRUG_ALLERGY_NY': 'base_all_drug_oth',\r\n",
    "    'SPECIFY_OTHER_DRUG_ALLERGY': 'base_all_drug_oth_spec',\r\n",
    "    'ENVIRONMENT_ALLERGY_NY': 'base_all_enviro_yn',\r\n",
    "    'SEASONAL_NY': 'base_all_seasonal',\r\n",
    "    'DUST_NY': 'base_all_dust',\r\n",
    "    'MOLD_NY': 'base_all_mold',\r\n",
    "    'POLLEN_NY': 'base_all_pollen',\r\n",
    "    'ANIMALS_YN': 'base_all_animals',\r\n",
    "    'BEE_WASP_STINGS_NY': 'base_all_stings',\r\n",
    "    'LATEX_TAPE_NY': 'base_all_latex_tape',\r\n",
    "    'OTHER_ENVIRON_ALLERGY_NY': 'base_all_enviro_oth',\r\n",
    "    'SPECIFY_OTHER_ENVIRON_ALLERGY': 'base_all_enviro_oth_spec'\r\n",
    "}\r\n",
    "base_all = obs_clinic_migration.RedcapConv(base_all_dict, 0)"
   ],
   "outputs": [],
   "metadata": {}
  },
  {
   "cell_type": "markdown",
   "source": [
    "## Baseline Assessment: Allergies - Data Verification<a name=\"base-all-comp\"></a>"
   ],
   "metadata": {}
  },
  {
   "cell_type": "code",
   "execution_count": 29,
   "source": [
    "base_all.compare_conv_dde(obs_data_sets.redcap_clinic)"
   ],
   "outputs": [
    {
     "output_type": "execute_result",
     "data": {
      "text/plain": [
       "Empty DataFrame\n",
       "Columns: [obs_id, base_all_yn, base_all_food_yn, base_all_shellfish, base_all_peanuts, base_all_tree_nuts, base_all_dairy, base_all_soy, base_all_fish, base_all_citrus_fruit, base_all_eggs, base_all_gluten, base_all_food_oth, base_all_food_oth_spec, base_all_drug_yn, base_all_penicillin, base_all_erythromycin, base_all_sulfa_drugs, cbase_all_ephalosporins, base_all_nsaids, base_all_tetracycline, base_all_codeine, base_all_contrast_dye, base_all_drug_oth, base_all_drug_oth_spec, base_all_enviro_yn, base_all_seasonal, base_all_dust, base_all_mold, base_all_pollen, base_all_animals, base_all_stings, base_all_latex_tape, base_all_enviro_oth, base_all_enviro_oth_spec, Source]\n",
       "Index: []\n",
       "\n",
       "[0 rows x 36 columns]"
      ],
      "text/html": [
       "<div>\n",
       "<style scoped>\n",
       "    .dataframe tbody tr th:only-of-type {\n",
       "        vertical-align: middle;\n",
       "    }\n",
       "\n",
       "    .dataframe tbody tr th {\n",
       "        vertical-align: top;\n",
       "    }\n",
       "\n",
       "    .dataframe thead th {\n",
       "        text-align: right;\n",
       "    }\n",
       "</style>\n",
       "<table border=\"1\" class=\"dataframe\">\n",
       "  <thead>\n",
       "    <tr style=\"text-align: right;\">\n",
       "      <th></th>\n",
       "      <th>obs_id</th>\n",
       "      <th>base_all_yn</th>\n",
       "      <th>base_all_food_yn</th>\n",
       "      <th>base_all_shellfish</th>\n",
       "      <th>base_all_peanuts</th>\n",
       "      <th>...</th>\n",
       "      <th>base_all_stings</th>\n",
       "      <th>base_all_latex_tape</th>\n",
       "      <th>base_all_enviro_oth</th>\n",
       "      <th>base_all_enviro_oth_spec</th>\n",
       "      <th>Source</th>\n",
       "    </tr>\n",
       "  </thead>\n",
       "  <tbody>\n",
       "  </tbody>\n",
       "</table>\n",
       "<p>0 rows × 36 columns</p>\n",
       "</div>"
      ]
     },
     "metadata": {},
     "execution_count": 29
    }
   ],
   "metadata": {}
  },
  {
   "cell_type": "markdown",
   "source": [
    "## Baseline Assessment: Allergies - Prepare and Save<a name=\"base-all-save\"></a>"
   ],
   "metadata": {}
  },
  {
   "cell_type": "code",
   "execution_count": 30,
   "source": [
    "base_all.prep_imp('baseline_assessmen_arm_1', 'baseline_assessment_complete')\r\n",
    "base_all.data.to_csv('../data/processed/base_all.csv', index = False)"
   ],
   "outputs": [],
   "metadata": {}
  },
  {
   "cell_type": "markdown",
   "source": [
    "# Baseline Assessment: Surgical History<a name=\"surhx\"></a>"
   ],
   "metadata": {}
  },
  {
   "cell_type": "markdown",
   "source": [
    "## Baseline Assessment: Surgical History - Preprocessing<a name=\"surhx-pre\"></a>"
   ],
   "metadata": {}
  },
  {
   "cell_type": "code",
   "execution_count": 31,
   "source": [
    "obs_data_sets.rave_clinic = (\r\n",
    "    obs_clinic_migration_preprocessing.rave_date_unknown(\r\n",
    "        obs_data_sets.rave_clinic, 'SURGERY_NY_', 'Yes','SURGERY_YEAR_', 7\r\n",
    "    )\r\n",
    ")"
   ],
   "outputs": [],
   "metadata": {}
  },
  {
   "cell_type": "markdown",
   "source": [
    "## Baseline Assessment: Surgical History - Processing<a name=\"surhx-pro\"></a>"
   ],
   "metadata": {}
  },
  {
   "cell_type": "code",
   "execution_count": 32,
   "source": [
    "surhx_dict = {\r\n",
    "    'SURGERY_NY_': 'surhx_yn',\r\n",
    "    'SURG_PROCEDURE_': 'surhx_procedure',\r\n",
    "    'SPECIFY_SURGICAL_PROCEDURE_': 'surhx_proc_spec',\r\n",
    "    'SURGERY_YEAR_yn_date_': 'surhx_proc_date_yn',\r\n",
    "    'SURGERY_YEAR_DD_': 'surhx_surg_day',\r\n",
    "    'SURGERY_YEAR_MM_': 'surhx_surg_month',\r\n",
    "    'SURGERY_YEAR_YYYY_': 'surhx_surg_year',\r\n",
    "    'SURG_REASON_': 'surhx_indication',\r\n",
    "    'SURG_COMMEN_': 'surhx_comments'        \r\n",
    "}  \r\n",
    "surhx = obs_clinic_migration.RedcapConv(\r\n",
    "    surhx_dict, 7, master_df = obs_data_sets.rave_clinic\r\n",
    ")"
   ],
   "outputs": [
    {
     "output_type": "stream",
     "name": "stdout",
     "text": [
      "Column 'surhx_procedure', variable 'Other, specify' has an issue.\n"
     ]
    }
   ],
   "metadata": {}
  },
  {
   "cell_type": "markdown",
   "source": [
    "## Baseline Assessment: Surgical History - Post-processing<a name=\"surhx-post\"></a>"
   ],
   "metadata": {}
  },
  {
   "cell_type": "code",
   "execution_count": 33,
   "source": [
    "surhx.change_str(\r\n",
    "    {\r\n",
    "        'surhx_procedure': {'Other, specify': 'Other'},\r\n",
    "    }\r\n",
    ")"
   ],
   "outputs": [
    {
     "output_type": "stream",
     "name": "stdout",
     "text": [
      "5    1143\n",
      "2     720\n",
      "4     294\n",
      "6     201\n",
      "7     116\n",
      "8     115\n",
      "3      13\n",
      "1       6\n",
      "Name: surhx_procedure, dtype: int64\n"
     ]
    }
   ],
   "metadata": {}
  },
  {
   "cell_type": "markdown",
   "source": [
    "## Baseline Assessment: Surgical History - Data Verification<a name=\"surhx-comp\"></a>"
   ],
   "metadata": {}
  },
  {
   "cell_type": "code",
   "execution_count": 34,
   "source": [
    "surhx.compare_conv_dde(obs_data_sets.redcap_clinic)"
   ],
   "outputs": [
    {
     "output_type": "execute_result",
     "data": {
      "text/plain": [
       "Empty DataFrame\n",
       "Columns: [obs_id, redcap_repeat_instance, surhx_yn, surhx_procedure, surhx_proc_spec, surhx_proc_date_yn, surhx_surg_day, surhx_surg_month, surhx_surg_year, surhx_indication, surhx_comments, Source]\n",
       "Index: []\n",
       "\n",
       "[0 rows x 12 columns]"
      ],
      "text/html": [
       "<div>\n",
       "<style scoped>\n",
       "    .dataframe tbody tr th:only-of-type {\n",
       "        vertical-align: middle;\n",
       "    }\n",
       "\n",
       "    .dataframe tbody tr th {\n",
       "        vertical-align: top;\n",
       "    }\n",
       "\n",
       "    .dataframe thead th {\n",
       "        text-align: right;\n",
       "    }\n",
       "</style>\n",
       "<table border=\"1\" class=\"dataframe\">\n",
       "  <thead>\n",
       "    <tr style=\"text-align: right;\">\n",
       "      <th></th>\n",
       "      <th>obs_id</th>\n",
       "      <th>redcap_repeat_instance</th>\n",
       "      <th>surhx_yn</th>\n",
       "      <th>surhx_procedure</th>\n",
       "      <th>surhx_proc_spec</th>\n",
       "      <th>...</th>\n",
       "      <th>surhx_surg_month</th>\n",
       "      <th>surhx_surg_year</th>\n",
       "      <th>surhx_indication</th>\n",
       "      <th>surhx_comments</th>\n",
       "      <th>Source</th>\n",
       "    </tr>\n",
       "  </thead>\n",
       "  <tbody>\n",
       "  </tbody>\n",
       "</table>\n",
       "<p>0 rows × 12 columns</p>\n",
       "</div>"
      ]
     },
     "metadata": {},
     "execution_count": 34
    }
   ],
   "metadata": {}
  },
  {
   "cell_type": "markdown",
   "source": [
    "## Baseline Assessment: Surgical History - Prepare and Save<a name=\"surhx-save\"></a>"
   ],
   "metadata": {}
  },
  {
   "cell_type": "code",
   "execution_count": 35,
   "source": [
    "surhx.prep_imp(\r\n",
    "    'baseline_assessmen_arm_1', 'surgical_history_complete', 'surgical_history'\r\n",
    ")\r\n",
    "surhx.data.to_csv('../data/processed/surhx.csv', index = False)"
   ],
   "outputs": [],
   "metadata": {}
  },
  {
   "cell_type": "markdown",
   "source": [
    "# Baseline Assessment: Medications taken since the beginning of pregnancy<a name=\"rxhx-preg\"></a>"
   ],
   "metadata": {}
  },
  {
   "cell_type": "markdown",
   "source": [
    "## Baseline Assessment: Medications taken since the beginning of pregnancy - Processing<a name=\"rxhx-preg-pro\"></a>"
   ],
   "metadata": {}
  },
  {
   "cell_type": "code",
   "execution_count": 36,
   "source": [
    "rxhx_preg_dict = {\r\n",
    "    'MEDS_PREG_': 'rxhx_preg_yn', \r\n",
    "    'MED_CATEGORY_': 'rxhx_preg_med_class', \r\n",
    "    'MEDICATION_': 'rxhx_preg_med_spec', \r\n",
    "    'MED_CONTINUE_NY_': 'rxhx_preg_med_cont',    \r\n",
    "}\r\n",
    "rxhx_preg = obs_clinic_migration.RedcapConv(rxhx_preg_dict, 8) "
   ],
   "outputs": [
    {
     "output_type": "stream",
     "name": "stdout",
     "text": [
      "Column 'rxhx_preg_med_class', variable 'Selective Serotonin reuptake inhibitors (SSRI)' has an issue.\n",
      "Column 'rxhx_preg_med_class', variable 'Antidepressants: other' has an issue.\n"
     ]
    }
   ],
   "metadata": {}
  },
  {
   "cell_type": "markdown",
   "source": [
    "## Baseline Assessment: Medications taken since the beginning of pregnancy - Post-processing<a name=\"rxhx-preg-post\"></a>"
   ],
   "metadata": {}
  },
  {
   "cell_type": "code",
   "execution_count": 37,
   "source": [
    "rxhx_preg.change_str(\r\n",
    "    {\r\n",
    "        'rxhx_preg_med_class': \r\n",
    "            {\r\n",
    "                'Selective Serotonin reuptake inhibitors (SSRI)': \r\n",
    "                    'Selective Serotonin Reuptake Inhibitors (SSRI)',\r\n",
    "                'Antidepressants: other' : 'Antidepressants: Other'\r\n",
    "            },\r\n",
    "    }\r\n",
    ")"
   ],
   "outputs": [
    {
     "output_type": "stream",
     "name": "stdout",
     "text": [
      "8     417\n",
      "25    323\n",
      "26    136\n",
      "2     101\n",
      "22     83\n",
      "24     74\n",
      "5      66\n",
      "17     64\n",
      "4      51\n",
      "7      33\n",
      "14     24\n",
      "10     23\n",
      "3      18\n",
      "9      13\n",
      "6      11\n",
      "19     11\n",
      "13      8\n",
      "20      8\n",
      "12      7\n",
      "23      5\n",
      "21      5\n",
      "1       3\n",
      "16      1\n",
      "Name: rxhx_preg_med_class, dtype: int64\n"
     ]
    }
   ],
   "metadata": {}
  },
  {
   "cell_type": "markdown",
   "source": [
    "## Baseline Assessment: Medications taken since the beginning of pregnancy - Data Verification<a name=\"rxhx-preg-comp\"></a>"
   ],
   "metadata": {}
  },
  {
   "cell_type": "code",
   "execution_count": 38,
   "source": [
    "rxhx_preg.compare_conv_dde(obs_data_sets.redcap_clinic)"
   ],
   "outputs": [
    {
     "output_type": "execute_result",
     "data": {
      "text/plain": [
       "Empty DataFrame\n",
       "Columns: [obs_id, redcap_repeat_instance, rxhx_preg_yn, rxhx_preg_med_class, rxhx_preg_med_spec, rxhx_preg_med_cont, Source]\n",
       "Index: []"
      ],
      "text/html": [
       "<div>\n",
       "<style scoped>\n",
       "    .dataframe tbody tr th:only-of-type {\n",
       "        vertical-align: middle;\n",
       "    }\n",
       "\n",
       "    .dataframe tbody tr th {\n",
       "        vertical-align: top;\n",
       "    }\n",
       "\n",
       "    .dataframe thead th {\n",
       "        text-align: right;\n",
       "    }\n",
       "</style>\n",
       "<table border=\"1\" class=\"dataframe\">\n",
       "  <thead>\n",
       "    <tr style=\"text-align: right;\">\n",
       "      <th></th>\n",
       "      <th>obs_id</th>\n",
       "      <th>redcap_repeat_instance</th>\n",
       "      <th>rxhx_preg_yn</th>\n",
       "      <th>rxhx_preg_med_class</th>\n",
       "      <th>rxhx_preg_med_spec</th>\n",
       "      <th>rxhx_preg_med_cont</th>\n",
       "      <th>Source</th>\n",
       "    </tr>\n",
       "  </thead>\n",
       "  <tbody>\n",
       "  </tbody>\n",
       "</table>\n",
       "</div>"
      ]
     },
     "metadata": {},
     "execution_count": 38
    }
   ],
   "metadata": {}
  },
  {
   "cell_type": "markdown",
   "source": [
    "## Baseline Assessment: Medications taken since the beginning of pregnancy - Prepare and Save<a name=\"rxhx-preg-save\"></a>"
   ],
   "metadata": {}
  },
  {
   "cell_type": "code",
   "execution_count": 39,
   "source": [
    "rxhx_preg.prep_imp(\r\n",
    "    'baseline_assessmen_arm_1', \r\n",
    "    'medications_taken_since_beginning_of_pregnancy_complete', \r\n",
    "    'medications_taken_since_beginning_of_pregnancy'\r\n",
    ")\r\n",
    "rxhx_preg.data.to_csv('../data/processed/rxhx_preg.csv', index = False)"
   ],
   "outputs": [],
   "metadata": {}
  },
  {
   "cell_type": "markdown",
   "source": [
    "# Baseline Assessment: Supplements taken since the beginning of pregnancy (1)<a name=\"supp-ant\"></a>"
   ],
   "metadata": {}
  },
  {
   "cell_type": "markdown",
   "source": [
    "## Baseline Assessment: Supplements taken since the beginning of pregnancy (1) - Preprocessing<a name=\"supp-ant-pre\"></a>"
   ],
   "metadata": {}
  },
  {
   "cell_type": "code",
   "execution_count": 40,
   "source": [
    "for i in range(1, 9):\r\n",
    "    # only 'STD' column available for 'SUPPLEMENT'; recode for import\r\n",
    "    rave_supplement = pd.get_dummies(\r\n",
    "        obs_data_sets.rave_clinic['SUPPLEMENT_STD_' + str(i)], \r\n",
    "        prefix = 'LABELLED_SUPPLEMENT', dummy_na = False\r\n",
    "    )\r\n",
    "    rave_supplement = rave_supplement.add_suffix('_' + str(i))\r\n",
    "    \r\n",
    "    for col_check in [\r\n",
    "        'LABELLED_SUPPLEMENT_1_' + str(i), \r\n",
    "        'LABELLED_SUPPLEMENT_2_' + str(i),\r\n",
    "        'LABELLED_SUPPLEMENT_3_' + str(i),\r\n",
    "        'LABELLED_SUPPLEMENT_4_' + str(i),\r\n",
    "        'LABELLED_SUPPLEMENT_5_' + str(i),\r\n",
    "        'LABELLED_SUPPLEMENT_6_' + str(i),\r\n",
    "        'LABELLED_SUPPLEMENT_7_' + str(i),\r\n",
    "        'LABELLED_SUPPLEMENT_8_' + str(i),\r\n",
    "        'LABELLED_SUPPLEMENT_9_' + str(i),\r\n",
    "        'LABELLED_SUPPLEMENT_10_' + str(i),\r\n",
    "        'LABELLED_SUPPLEMENT_11_' + str(i),\r\n",
    "        'LABELLED_SUPPLEMENT_90_' + str(i),\r\n",
    "        'LABELLED_SUPPLEMENT_99_' + str(i)\r\n",
    "    ]:\r\n",
    "        if col_check not in list(rave_supplement.columns.values):\r\n",
    "            rave_supplement[col_check] = 0\r\n",
    "    obs_data_sets.rave_clinic = pd.concat(\r\n",
    "        [obs_data_sets.rave_clinic, rave_supplement], axis = 1\r\n",
    "    )\r\n",
    "    \r\n",
    "    # create 'specify' columns\r\n",
    "    obs_data_sets.rave_clinic['LABELLED_SUPPLEMENT_PRENAT_SPEC_' + str(i)] = (\r\n",
    "        obs_data_sets.rave_clinic['SUPPLEMENT_' + str(i)]\r\n",
    "    )\r\n",
    "    obs_data_sets.rave_clinic.loc[\r\n",
    "        obs_data_sets.rave_clinic['SUPPLEMENT_STD_' + str(i)] != '90',\r\n",
    "        'LABELLED_SUPPLEMENT_PRENAT_SPEC_' + str(i)\r\n",
    "    ] = np.NaN\r\n",
    "    obs_data_sets.rave_clinic['LABELLED_SUPPLEMENT_SPEC_' + str(i)] = (\r\n",
    "        obs_data_sets.rave_clinic['SUPPLEMENT_' + str(i)]\r\n",
    "    )\r\n",
    "    obs_data_sets.rave_clinic.loc[\r\n",
    "        obs_data_sets.rave_clinic['SUPPLEMENT_STD_' + str(i)] != '99',\r\n",
    "        'LABELLED_SUPPLEMENT_SPEC_' + str(i)\r\n",
    "    ] = np.NaN"
   ],
   "outputs": [],
   "metadata": {}
  },
  {
   "cell_type": "markdown",
   "source": [
    "## Baseline Assessment: Supplements taken since the beginning of pregnancy (1) - Processing<a name=\"supp-ant-pro\"></a>"
   ],
   "metadata": {}
  },
  {
   "cell_type": "code",
   "execution_count": 41,
   "source": [
    "supp_ant_dict = {\r\n",
    "    'LABELLED_SUPPLEMENT_1_': 'supp_preg_type___1', # Preg-vit\r\n",
    "    'LABELLED_SUPPLEMENT_2_': 'supp_preg_type___2', # Materna\r\n",
    "    'LABELLED_SUPPLEMENT_3_': 'supp_preg_type___3', # Vitamin D\r\n",
    "    'LABELLED_SUPPLEMENT_4_': 'supp_preg_type___4', # Omega 3 and/or 6\r\n",
    "    'LABELLED_SUPPLEMENT_5_': 'supp_preg_type___5', # Calcium\r\n",
    "    'LABELLED_SUPPLEMENT_6_': 'supp_preg_type___6', # Vitamin B12\r\n",
    "    'LABELLED_SUPPLEMENT_7_': 'supp_preg_type___7', # Iron\r\n",
    "    'LABELLED_SUPPLEMENT_8_': 'supp_preg_type___8', # Folic acid\r\n",
    "    'LABELLED_SUPPLEMENT_9_': 'supp_preg_type___9', # Jamieson Prenatal vitamin\r\n",
    "    'LABELLED_SUPPLEMENT_10_': 'supp_preg_type___10', # Vitamin C\r\n",
    "    'LABELLED_SUPPLEMENT_11_': 'supp_preg_type___11', # Probiotics\r\n",
    "    'LABELLED_SUPPLEMENT_90_': 'supp_preg_type___12', # Other Prenatal Vitamin, specify\r\n",
    "    'LABELLED_SUPPLEMENT_99_': 'supp_preg_type___13', # Other, specify\r\n",
    "}\r\n",
    "\r\n",
    "supp_ant = obs_clinic_migration.RedcapConv(\r\n",
    "    supp_ant_dict, 8, master_df = obs_data_sets.rave_clinic, \r\n",
    "    recode_long = False\r\n",
    ")"
   ],
   "outputs": [],
   "metadata": {}
  },
  {
   "cell_type": "markdown",
   "source": [
    "## Baseline Assessment: Supplements taken since the beginning of pregnancy (1) - Post-processing<a name=\"supp-ant-post\"></a>"
   ],
   "metadata": {}
  },
  {
   "cell_type": "code",
   "execution_count": 42,
   "source": [
    "supp_ant.remove_na()"
   ],
   "outputs": [],
   "metadata": {}
  },
  {
   "cell_type": "markdown",
   "source": [
    "## Baseline Assessment: Supplements taken since the beginning of pregnancy (1) - Data Verification<a name=\"supp-ant-comp\"></a>"
   ],
   "metadata": {}
  },
  {
   "cell_type": "code",
   "execution_count": 43,
   "source": [
    "supp_ant.compare_conv_dde(obs_data_sets.redcap_clinic)"
   ],
   "outputs": [
    {
     "output_type": "execute_result",
     "data": {
      "text/plain": [
       "Empty DataFrame\n",
       "Columns: [obs_id, redcap_repeat_instance, supp_preg_type___1, supp_preg_type___2, supp_preg_type___3, supp_preg_type___4, supp_preg_type___5, supp_preg_type___6, supp_preg_type___7, supp_preg_type___8, supp_preg_type___9, supp_preg_type___10, supp_preg_type___11, supp_preg_type___12, supp_preg_type___13, Source]\n",
       "Index: []\n",
       "\n",
       "[0 rows x 16 columns]"
      ],
      "text/html": [
       "<div>\n",
       "<style scoped>\n",
       "    .dataframe tbody tr th:only-of-type {\n",
       "        vertical-align: middle;\n",
       "    }\n",
       "\n",
       "    .dataframe tbody tr th {\n",
       "        vertical-align: top;\n",
       "    }\n",
       "\n",
       "    .dataframe thead th {\n",
       "        text-align: right;\n",
       "    }\n",
       "</style>\n",
       "<table border=\"1\" class=\"dataframe\">\n",
       "  <thead>\n",
       "    <tr style=\"text-align: right;\">\n",
       "      <th></th>\n",
       "      <th>obs_id</th>\n",
       "      <th>redcap_repeat_instance</th>\n",
       "      <th>supp_preg_type___1</th>\n",
       "      <th>supp_preg_type___2</th>\n",
       "      <th>supp_preg_type___3</th>\n",
       "      <th>...</th>\n",
       "      <th>supp_preg_type___10</th>\n",
       "      <th>supp_preg_type___11</th>\n",
       "      <th>supp_preg_type___12</th>\n",
       "      <th>supp_preg_type___13</th>\n",
       "      <th>Source</th>\n",
       "    </tr>\n",
       "  </thead>\n",
       "  <tbody>\n",
       "  </tbody>\n",
       "</table>\n",
       "<p>0 rows × 16 columns</p>\n",
       "</div>"
      ]
     },
     "metadata": {},
     "execution_count": 43
    }
   ],
   "metadata": {}
  },
  {
   "cell_type": "markdown",
   "source": [
    "## Baseline Assessment: Supplements taken since the beginning of pregnancy (1) - Prepare and Save<a name=\"supp-ant-save\"></a>"
   ],
   "metadata": {}
  },
  {
   "cell_type": "code",
   "execution_count": 44,
   "source": [
    "supp_ant.prep_imp(\r\n",
    "    'baseline_arm_1', \r\n",
    "    'supplements_taken_since_beginning_of_pregnancy_complete', \r\n",
    "    'supplements_taken_since_beginning_of_pregnancy'\r\n",
    ")\r\n",
    "supp_ant.data.to_csv('../data/processed/supp_ant.csv', index = False)"
   ],
   "outputs": [],
   "metadata": {}
  },
  {
   "cell_type": "markdown",
   "source": [
    "# Baseline Assessment: Supplements taken since the beginning of pregnancy (2)<a name=\"supp-ant-spec \"></a>"
   ],
   "metadata": {}
  },
  {
   "cell_type": "markdown",
   "source": [
    "## Baseline Assessment: Supplements taken since the beginning of pregnancy (2) - Processing<a name=\"supp-ant-spec -pro\"></a>"
   ],
   "metadata": {}
  },
  {
   "cell_type": "code",
   "execution_count": 45,
   "source": [
    "supp_ant_spec_dict = {\r\n",
    "    'LABELLED_SUPPLEMENT_PRENAT_SPEC_': 'supp_preg_oth_previt',\r\n",
    "    'LABELLED_SUPPLEMENT_SPEC_': 'supp_preg_oth_spec',\r\n",
    "}\r\n",
    "supp_ant_spec = obs_clinic_migration.RedcapConv(\r\n",
    "    supp_ant_spec_dict, 8, master_df = obs_data_sets.rave_clinic\r\n",
    ")"
   ],
   "outputs": [
    {
     "output_type": "stream",
     "name": "stdout",
     "text": [
      "max redcap_repeat_instance = 7; stub_repeat = 8\n"
     ]
    }
   ],
   "metadata": {}
  },
  {
   "cell_type": "markdown",
   "source": [
    "## Baseline Assessment: Supplements taken since the beginning of pregnancy (2) - Data Verification<a name=\"supp-ant-spec -comp\"></a>"
   ],
   "metadata": {}
  },
  {
   "cell_type": "code",
   "execution_count": 46,
   "source": [
    "supp_ant_spec.compare_conv_dde(obs_data_sets.redcap_clinic)"
   ],
   "outputs": [
    {
     "output_type": "execute_result",
     "data": {
      "text/plain": [
       "Empty DataFrame\n",
       "Columns: [obs_id, redcap_repeat_instance, supp_preg_oth_previt, supp_preg_oth_spec, Source]\n",
       "Index: []"
      ],
      "text/html": [
       "<div>\n",
       "<style scoped>\n",
       "    .dataframe tbody tr th:only-of-type {\n",
       "        vertical-align: middle;\n",
       "    }\n",
       "\n",
       "    .dataframe tbody tr th {\n",
       "        vertical-align: top;\n",
       "    }\n",
       "\n",
       "    .dataframe thead th {\n",
       "        text-align: right;\n",
       "    }\n",
       "</style>\n",
       "<table border=\"1\" class=\"dataframe\">\n",
       "  <thead>\n",
       "    <tr style=\"text-align: right;\">\n",
       "      <th></th>\n",
       "      <th>obs_id</th>\n",
       "      <th>redcap_repeat_instance</th>\n",
       "      <th>supp_preg_oth_previt</th>\n",
       "      <th>supp_preg_oth_spec</th>\n",
       "      <th>Source</th>\n",
       "    </tr>\n",
       "  </thead>\n",
       "  <tbody>\n",
       "  </tbody>\n",
       "</table>\n",
       "</div>"
      ]
     },
     "metadata": {},
     "execution_count": 46
    }
   ],
   "metadata": {}
  },
  {
   "cell_type": "markdown",
   "source": [
    "## Baseline Assessment: Supplements taken since the beginning of pregnancy (2) - Prepare and Save<a name=\"supp-ant-spec -save\"></a>"
   ],
   "metadata": {}
  },
  {
   "cell_type": "code",
   "execution_count": 47,
   "source": [
    "supp_ant_spec.prep_imp(\r\n",
    "    'baseline_arm_1', \r\n",
    "    'supplements_taken_since_beginning_of_pregnancy_complete', \r\n",
    "    'supplements_taken_since_beginning_of_pregnancy'\r\n",
    ")\r\n",
    "supp_ant_spec.data.to_csv('../data/processed/supp_ant_spec.csv', index = False)"
   ],
   "outputs": [],
   "metadata": {}
  },
  {
   "cell_type": "markdown",
   "source": [
    "# Baseline Assessment: Supplements taken since the beginning of pregnancy (3)<a name=\"supp-ant-yn\"></a>"
   ],
   "metadata": {}
  },
  {
   "cell_type": "markdown",
   "source": [
    "## Baseline Assessment: Supplements taken since the beginning of pregnancy (3) - Processing<a name=\"supp-ant-yn-pro\"></a>"
   ],
   "metadata": {}
  },
  {
   "cell_type": "code",
   "execution_count": 48,
   "source": [
    "supp_ant_yn_dict = {\r\n",
    "    'SUPPLEMENT_PREG_1': 'supp_preg_yn'\r\n",
    "}\r\n",
    "supp_ant_yn = obs_clinic_migration.RedcapConv(\r\n",
    "    supp_ant_yn_dict, 0, master_df = obs_data_sets.rave_clinic\r\n",
    ")"
   ],
   "outputs": [],
   "metadata": {}
  },
  {
   "cell_type": "markdown",
   "source": [
    "## Baseline Assessment: Supplements taken since the beginning of pregnancy (3) - Post-processing<a name=\"supp-ant-yn-post\"></a>"
   ],
   "metadata": {}
  },
  {
   "cell_type": "code",
   "execution_count": 49,
   "source": [
    "supp_ant_yn.remove_na()"
   ],
   "outputs": [],
   "metadata": {}
  },
  {
   "cell_type": "markdown",
   "source": [
    "## Baseline Assessment: Supplements taken since the beginning of pregnancy (3) - Data Verification<a name=\"supp-ant-yn-comp\"></a>"
   ],
   "metadata": {}
  },
  {
   "cell_type": "code",
   "execution_count": 50,
   "source": [
    "supp_ant_yn.compare_conv_dde(obs_data_sets.redcap_clinic)"
   ],
   "outputs": [
    {
     "output_type": "execute_result",
     "data": {
      "text/plain": [
       "Empty DataFrame\n",
       "Columns: [obs_id, supp_preg_yn, Source]\n",
       "Index: []"
      ],
      "text/html": [
       "<div>\n",
       "<style scoped>\n",
       "    .dataframe tbody tr th:only-of-type {\n",
       "        vertical-align: middle;\n",
       "    }\n",
       "\n",
       "    .dataframe tbody tr th {\n",
       "        vertical-align: top;\n",
       "    }\n",
       "\n",
       "    .dataframe thead th {\n",
       "        text-align: right;\n",
       "    }\n",
       "</style>\n",
       "<table border=\"1\" class=\"dataframe\">\n",
       "  <thead>\n",
       "    <tr style=\"text-align: right;\">\n",
       "      <th></th>\n",
       "      <th>obs_id</th>\n",
       "      <th>supp_preg_yn</th>\n",
       "      <th>Source</th>\n",
       "    </tr>\n",
       "  </thead>\n",
       "  <tbody>\n",
       "  </tbody>\n",
       "</table>\n",
       "</div>"
      ]
     },
     "metadata": {},
     "execution_count": 50
    }
   ],
   "metadata": {}
  },
  {
   "cell_type": "markdown",
   "source": [
    "## Baseline Assessment: Supplements taken since the beginning of pregnancy (3) - Prepare and Save<a name=\"supp-ant-yn-save\"></a>"
   ],
   "metadata": {}
  },
  {
   "cell_type": "code",
   "execution_count": 51,
   "source": [
    "supp_ant_yn.prep_imp(\r\n",
    "    'baseline_arm_1', \r\n",
    "    'supplements_taken_since_beginning_of_pregnancy_complete', \r\n",
    "    'supplements_taken_since_beginning_of_pregnancy'\r\n",
    ")\r\n",
    "supp_ant_yn.data.to_csv('../data/processed/supp_ant_yn.csv', index = False)"
   ],
   "outputs": [],
   "metadata": {}
  },
  {
   "cell_type": "markdown",
   "source": [
    "# Antenatal Visits: Visit Data<a name=\"ante-visit\"></a>"
   ],
   "metadata": {}
  },
  {
   "cell_type": "markdown",
   "source": [
    "## Antenatal Visits: Visit Data - Preprocessing<a name=\"ante-visit-pre\"></a>"
   ],
   "metadata": {}
  },
  {
   "cell_type": "code",
   "execution_count": 52,
   "source": [
    "# value indicating weight of 2770.6 pounds; assume it is incorrect\r\n",
    "obs_data_sets.rave_clinic.loc[\r\n",
    "    obs_data_sets.rave_clinic['ANTENATAL_WEIGHT_2'] == '2770.60',\r\n",
    "    'ANTENATAL_WEIGHT_2'\r\n",
    "] = np.nan\r\n",
    "\r\n",
    "for i in range(1, 17):\r\n",
    "    # reformat columns\r\n",
    "    obs_data_sets.rave_clinic.loc[:, 'ANTENAT_VISIT_DT_' + str(i)] = (\r\n",
    "        pd.to_datetime(\r\n",
    "            obs_data_sets.rave_clinic['ANTENAT_VISIT_DT_' + str(i)]\r\n",
    "        ).dt.strftime('%Y-%m-%d')\r\n",
    "    )\r\n",
    "    obs_data_sets.rave_clinic.loc[\r\n",
    "        ~obs_data_sets.rave_clinic[\r\n",
    "            'ANTENATAL_WEIGHT_' + str(i)\r\n",
    "        ].isna(), 'ANTENATAL_WEIGHT_' + str(i)\r\n",
    "    ] = obs_data_sets.rave_clinic.loc[\r\n",
    "        ~obs_data_sets.rave_clinic[\r\n",
    "            'ANTENATAL_WEIGHT_' + str(i)\r\n",
    "        ].isna(), 'ANTENATAL_WEIGHT_' + str(i)\r\n",
    "    ].astype(float).map('{:,.2f}'.format)\r\n",
    "\r\n",
    "    # some columns don't have an associated 'STD' column and needed to be coded    \r\n",
    "    obs_data_sets.rave_clinic['WT_NR_' + str(i)].replace(\r\n",
    "        {'0': 'Yes', '1': 'No'}, inplace = True\r\n",
    "    )\r\n",
    "    obs_data_sets.rave_clinic['ANTENATAL_WEIGHT_UN_' + str(i)].replace(\r\n",
    "        {'1': 'kg', '2': 'lbs'}, inplace = True\r\n",
    "    )\r\n",
    "    obs_data_sets.rave_clinic['BP_ND_' + str(i)].replace(\r\n",
    "        {'0': 'Yes', '1': 'No'}, inplace = True\r\n",
    "    )"
   ],
   "outputs": [],
   "metadata": {}
  },
  {
   "cell_type": "markdown",
   "source": [
    "## Antenatal Visits: Visit Data - Processing<a name=\"ante-visit-pro\"></a>"
   ],
   "metadata": {}
  },
  {
   "cell_type": "code",
   "execution_count": 53,
   "source": [
    "ante_visit_dict = {\r\n",
    "    'ANTENAT_VISIT_DT_': 'ante_visit_date',\r\n",
    "    'WT_NR_': 'ante_visit_wt_yn',\r\n",
    "    'ANTENATAL_WEIGHT_': 'ante_visit_wt_kg',\r\n",
    "    'ANTENATAL_WEIGHT_UN_': 'ante_visit_wt_unit',\r\n",
    "    'BP_ND_': 'ante_visit_bp_yn',\r\n",
    "    'ANTENAT_SYSTOLIC_': 'ante_visit_sbp',\r\n",
    "    'ANTENATAL_DIASTOLIC_': 'ante_visit_dbp',\r\n",
    "    'URINE_DIPSTICK_': 'ante_visit_urine_prot'        \r\n",
    " }\r\n",
    "ante_visit = obs_clinic_migration.RedcapConv(\r\n",
    "    ante_visit_dict, 16, master_df = obs_data_sets.rave_clinic\r\n",
    ")"
   ],
   "outputs": [],
   "metadata": {}
  },
  {
   "cell_type": "markdown",
   "source": [
    "## Antenatal Visits: Visit Data - Data Verification<a name=\"ante-visit-comp\"></a>"
   ],
   "metadata": {}
  },
  {
   "cell_type": "code",
   "execution_count": 54,
   "source": [
    "ante_visit.compare_conv_dde(obs_data_sets.redcap_clinic)"
   ],
   "outputs": [
    {
     "output_type": "execute_result",
     "data": {
      "text/plain": [
       "Empty DataFrame\n",
       "Columns: [obs_id, redcap_repeat_instance, ante_visit_date, ante_visit_wt_yn, ante_visit_wt_kg, ante_visit_wt_unit, ante_visit_bp_yn, ante_visit_sbp, ante_visit_dbp, ante_visit_urine_prot, Source]\n",
       "Index: []\n",
       "\n",
       "[0 rows x 11 columns]"
      ],
      "text/html": [
       "<div>\n",
       "<style scoped>\n",
       "    .dataframe tbody tr th:only-of-type {\n",
       "        vertical-align: middle;\n",
       "    }\n",
       "\n",
       "    .dataframe tbody tr th {\n",
       "        vertical-align: top;\n",
       "    }\n",
       "\n",
       "    .dataframe thead th {\n",
       "        text-align: right;\n",
       "    }\n",
       "</style>\n",
       "<table border=\"1\" class=\"dataframe\">\n",
       "  <thead>\n",
       "    <tr style=\"text-align: right;\">\n",
       "      <th></th>\n",
       "      <th>obs_id</th>\n",
       "      <th>redcap_repeat_instance</th>\n",
       "      <th>ante_visit_date</th>\n",
       "      <th>ante_visit_wt_yn</th>\n",
       "      <th>ante_visit_wt_kg</th>\n",
       "      <th>...</th>\n",
       "      <th>ante_visit_bp_yn</th>\n",
       "      <th>ante_visit_sbp</th>\n",
       "      <th>ante_visit_dbp</th>\n",
       "      <th>ante_visit_urine_prot</th>\n",
       "      <th>Source</th>\n",
       "    </tr>\n",
       "  </thead>\n",
       "  <tbody>\n",
       "  </tbody>\n",
       "</table>\n",
       "<p>0 rows × 11 columns</p>\n",
       "</div>"
      ]
     },
     "metadata": {},
     "execution_count": 54
    }
   ],
   "metadata": {}
  },
  {
   "cell_type": "markdown",
   "source": [
    "## Antenatal Visits: Visit Data - Prepare and Save<a name=\"ante-visit-save\"></a>"
   ],
   "metadata": {}
  },
  {
   "cell_type": "code",
   "execution_count": 55,
   "source": [
    "ante_visit.prep_imp(\r\n",
    "    'antenatal_arm_1', 'antenatal_visits_complete', 'antenatal_visits'\r\n",
    ")\r\n",
    "ante_visit.data.to_csv('../data/processed/ante_visit.csv', index = False)"
   ],
   "outputs": [],
   "metadata": {}
  },
  {
   "cell_type": "markdown",
   "source": [
    "# Antenatal Visits: Antenatal Health Care Provider<a name=\"ante-hcp\"></a>"
   ],
   "metadata": {}
  },
  {
   "cell_type": "markdown",
   "source": [
    "## Antenatal Visits: Antenatal Health Care Provider - Preprocessing<a name=\"ante-hcp-pre\"></a>"
   ],
   "metadata": {}
  },
  {
   "cell_type": "code",
   "execution_count": 56,
   "source": [
    "# Rave requests health care provider for each individual antenatal visit while \r\n",
    "# there is only one overall health care provider in REDCap; collapse multiple\r\n",
    "# columns to one\r\n",
    "hcps = [\r\n",
    "    'OBSTETRICIAN', 'FAM_PHYSICIAN', 'MIDWIFE', 'NURSE_PRACTITIONER', 'OTHER1'\r\n",
    "]\r\n",
    "\r\n",
    "# initialize 'SPECIFY1_OTHER_HCP' which will hold the specify data we want\r\n",
    "obs_data_sets.rave_clinic['SPECIFY1_OTHER_HCP'] = np.NaN\r\n",
    "for i in range(1, 17):\r\n",
    "    obs_data_sets.rave_clinic['SPECIFY1_OTHER_HCP'] = (\r\n",
    "        obs_data_sets.rave_clinic['SPECIFY1_OTHER_HCP'].astype(str) + \"; \" \r\n",
    "        + obs_data_sets.rave_clinic['SPECIFY1_OTHER_' + str(i)].astype(str)\r\n",
    "    )\r\n",
    "\r\n",
    "# modify weird strings\r\n",
    "obs_data_sets.rave_clinic['SPECIFY1_OTHER_HCP'].replace(\r\n",
    "    'nan; *','', regex = True, inplace = True\r\n",
    ")\r\n",
    "obs_data_sets.rave_clinic['SPECIFY1_OTHER_HCP'].replace(\r\n",
    "    '; nan$','', regex = True, inplace = True\r\n",
    ")\r\n",
    "obs_data_sets.rave_clinic['SPECIFY1_OTHER_HCP'].replace(\r\n",
    "    'nan','', regex = True, inplace = True\r\n",
    ")\r\n",
    "\r\n",
    "# convert Rave health care provider columns to a single health care boolean\r\n",
    "for hcp in hcps:\r\n",
    "    obs_data_sets.rave_clinic[hcp] = '0'\r\n",
    "for i in range(1, 17):\r\n",
    "    for hcp in hcps:\r\n",
    "        obs_data_sets.rave_clinic.loc[\r\n",
    "            obs_data_sets.rave_clinic[hcp + '_NY_' + str(i)] == 'Yes',\r\n",
    "            hcp\r\n",
    "        ] = '1'"
   ],
   "outputs": [],
   "metadata": {}
  },
  {
   "cell_type": "markdown",
   "source": [
    "## Antenatal Visits: Antenatal Health Care Provider - Processing<a name=\"ante-hcp-pro\"></a>"
   ],
   "metadata": {}
  },
  {
   "cell_type": "code",
   "execution_count": 57,
   "source": [
    "ante_hcp_dict = {\r\n",
    "    'OBSTETRICIAN': 'ante_hcp___1', \r\n",
    "    'FAM_PHYSICIAN': 'ante_hcp___2', \r\n",
    "    'MIDWIFE': 'ante_hcp___3', \r\n",
    "    'NURSE_PRACTITIONER': 'ante_hcp___4', \r\n",
    "    'OTHER1': 'ante_hcp___5',\r\n",
    "    'SPECIFY1_OTHER_HCP': 'ante_hcp_oth_spec'\r\n",
    "}\r\n",
    "ante_hcp = obs_clinic_migration.RedcapConv(\r\n",
    "    ante_hcp_dict, 0, master_df = obs_data_sets.rave_clinic, \r\n",
    "    recode_long = False\r\n",
    ")"
   ],
   "outputs": [],
   "metadata": {}
  },
  {
   "cell_type": "markdown",
   "source": [
    "## Antenatal Visits: Antenatal Health Care Provider - Data Verification<a name=\"ante-hcp-comp\"></a>"
   ],
   "metadata": {}
  },
  {
   "cell_type": "code",
   "execution_count": 58,
   "source": [
    "ante_hcp.compare_conv_dde(obs_data_sets.redcap_clinic, ['ante_hcp_oth_spec'])\r\n",
    "# manually checked that subject 91201531 did not have health care provided \r\n",
    "# data previously entered in Rave"
   ],
   "outputs": [
    {
     "output_type": "execute_result",
     "data": {
      "text/plain": [
       "      obs_id ante_hcp___1 ante_hcp___2 ante_hcp___3 ante_hcp___4 ante_hcp___5  \\\n",
       "71  91201531            0            0            0            0            0   \n",
       "\n",
       "           Source  \n",
       "71  RaveConverted  "
      ],
      "text/html": [
       "<div>\n",
       "<style scoped>\n",
       "    .dataframe tbody tr th:only-of-type {\n",
       "        vertical-align: middle;\n",
       "    }\n",
       "\n",
       "    .dataframe tbody tr th {\n",
       "        vertical-align: top;\n",
       "    }\n",
       "\n",
       "    .dataframe thead th {\n",
       "        text-align: right;\n",
       "    }\n",
       "</style>\n",
       "<table border=\"1\" class=\"dataframe\">\n",
       "  <thead>\n",
       "    <tr style=\"text-align: right;\">\n",
       "      <th></th>\n",
       "      <th>obs_id</th>\n",
       "      <th>ante_hcp___1</th>\n",
       "      <th>ante_hcp___2</th>\n",
       "      <th>ante_hcp___3</th>\n",
       "      <th>ante_hcp___4</th>\n",
       "      <th>ante_hcp___5</th>\n",
       "      <th>Source</th>\n",
       "    </tr>\n",
       "  </thead>\n",
       "  <tbody>\n",
       "    <tr>\n",
       "      <th>71</th>\n",
       "      <td>91201531</td>\n",
       "      <td>0</td>\n",
       "      <td>0</td>\n",
       "      <td>0</td>\n",
       "      <td>0</td>\n",
       "      <td>0</td>\n",
       "      <td>RaveConverted</td>\n",
       "    </tr>\n",
       "  </tbody>\n",
       "</table>\n",
       "</div>"
      ]
     },
     "metadata": {},
     "execution_count": 58
    }
   ],
   "metadata": {}
  },
  {
   "cell_type": "markdown",
   "source": [
    "## Antenatal Visits: Antenatal Health Care Provider - Prepare and Save<a name=\"ante-hcp-save\"></a>"
   ],
   "metadata": {}
  },
  {
   "cell_type": "code",
   "execution_count": 59,
   "source": [
    "ante_hcp.prep_imp('antenatal_arm_1', 'antenatal_health_care_provider_complete')\r\n",
    "ante_hcp.data.to_csv('../data/processed/ante_hcp.csv', index = False)"
   ],
   "outputs": [],
   "metadata": {}
  },
  {
   "cell_type": "markdown",
   "source": [
    "# Antenatal Visits: Conditions/Abnormalities Diagnosed During Pregnancy<a name=\"ante-cond\"></a>"
   ],
   "metadata": {}
  },
  {
   "cell_type": "markdown",
   "source": [
    "## Antenatal Visits: Conditions/Abnormalities Diagnosed During Pregnancy - Preprocessing<a name=\"ante-cond-pre\"></a>"
   ],
   "metadata": {}
  },
  {
   "cell_type": "code",
   "execution_count": 60,
   "source": [
    "# create date 'unknown' columns in Rave\r\n",
    "obs_data_sets.rave_clinic = (\r\n",
    "    obs_clinic_migration_preprocessing.rave_date_unknown(\r\n",
    "        obs_data_sets.rave_clinic, 'DX_MED_CONDTN_SIN_BASELIN_NY_', \r\n",
    "        'Yes','ONSET_DT_', 7\r\n",
    "    )\r\n",
    ")\r\n",
    "obs_data_sets.rave_clinic = (\r\n",
    "    obs_clinic_migration_preprocessing.rave_date_unknown(\r\n",
    "        obs_data_sets.rave_clinic, 'CONTINUING_YN_', 'No','RESOLUTION_DT_', 7\r\n",
    "    )\r\n",
    ")     "
   ],
   "outputs": [],
   "metadata": {}
  },
  {
   "cell_type": "markdown",
   "source": [
    "## Antenatal Visits: Conditions/Abnormalities Diagnosed During Pregnancy - Processing<a name=\"ante-cond-pro\"></a>"
   ],
   "metadata": {}
  },
  {
   "cell_type": "code",
   "execution_count": 61,
   "source": [
    "ante_cond_dict = {\r\n",
    "    'DX_MED_CONDTN_SIN_BASELIN_NY_': 'ante_cond_dx_yn',\r\n",
    "    'MED_CONDN_DX_PREG_': 'ante_cond_class',\r\n",
    "    'SPECIFYABNCOND_': 'ante_cond_spec',\r\n",
    "    'ONSET_DT_yn_date_':'ante_cond_onset_date_yn',\r\n",
    "    'ONSET_DT_DD_': 'ante_cond_onset_day',\r\n",
    "    'ONSET_DT_MM_': 'ante_cond_onset_month',\r\n",
    "    'ONSET_DT_YYYY_': 'ante_cond_onset_year',\r\n",
    "    'CONTINUING_YN_': 'ante_cond_ongoing',\r\n",
    "    'RESOLUTION_DT_yn_date_': 'ante_cond_stop_yn',\r\n",
    "    'RESOLUTION_DT_DD_': 'ante_cond_res_day',\r\n",
    "    'RESOLUTION_DT_MM_': 'ante_cond_res_month',\r\n",
    "    'RESOLUTION_DT_YYYY_': 'ante_cond_res_year',\r\n",
    "    'COMMENTS_': 'ante_cond_comment'        \r\n",
    "}\r\n",
    "ante_cond = obs_clinic_migration.RedcapConv(\r\n",
    "    ante_cond_dict, 7, master_df = obs_data_sets.rave_clinic\r\n",
    ")"
   ],
   "outputs": [
    {
     "output_type": "stream",
     "name": "stdout",
     "text": [
      "Column 'ante_cond_class', variable 'Diabetes:  Type Unknown' has an issue.\n",
      "Column 'ante_cond_class', variable 'Diabetes: Diabetes Type II – No Insulin' has an issue.\n",
      "Column 'ante_cond_class', variable 'Diabetes: Diabetes Type II – Insulin' has an issue.\n"
     ]
    }
   ],
   "metadata": {}
  },
  {
   "cell_type": "markdown",
   "source": [
    "## Antenatal Visits: Conditions/Abnormalities Diagnosed During Pregnancy - Post-processing<a name=\"ante-cond-post\"></a>"
   ],
   "metadata": {}
  },
  {
   "cell_type": "code",
   "execution_count": 62,
   "source": [
    "ante_cond.change_str(\r\n",
    "    {\r\n",
    "        'ante_cond_class': {\r\n",
    "            'Diabetes: Diabetes Type II – Insulin': \r\n",
    "                'Diabetes: Diabetes Type II - Insulin',\r\n",
    "            'Diabetes: Diabetes Type II – No Insulin': \r\n",
    "                'Diabetes: Diabetes Type II - No Insulin',\r\n",
    "            'Diabetes:  Type Unknown': 'Diabetes: Type Unknown'\r\n",
    "        },\r\n",
    "    }\r\n",
    ")"
   ],
   "outputs": [
    {
     "output_type": "stream",
     "name": "stdout",
     "text": [
      "12    142\n",
      "8     126\n",
      "23    125\n",
      "19    103\n",
      "45     74\n",
      "32     58\n",
      "14     44\n",
      "38     43\n",
      "22     31\n",
      "44     24\n",
      "29     23\n",
      "21     22\n",
      "41     19\n",
      "15     16\n",
      "24     10\n",
      "33      7\n",
      "35      4\n",
      "37      4\n",
      "28      3\n",
      "20      2\n",
      "11      2\n",
      "13      2\n",
      "10      1\n",
      "9       1\n",
      "2       1\n",
      "42      1\n",
      "3       1\n",
      "7       1\n",
      "Name: ante_cond_class, dtype: int64\n"
     ]
    }
   ],
   "metadata": {}
  },
  {
   "cell_type": "markdown",
   "source": [
    "## Antenatal Visits: Conditions/Abnormalities Diagnosed During Pregnancy - Data Verification<a name=\"ante-cond-comp\"></a>"
   ],
   "metadata": {}
  },
  {
   "cell_type": "code",
   "execution_count": 63,
   "source": [
    "ante_cond.compare_conv_dde(obs_data_sets.redcap_clinic)"
   ],
   "outputs": [
    {
     "output_type": "execute_result",
     "data": {
      "text/plain": [
       "Empty DataFrame\n",
       "Columns: [obs_id, redcap_repeat_instance, ante_cond_dx_yn, ante_cond_class, ante_cond_spec, ante_cond_onset_date_yn, ante_cond_onset_day, ante_cond_onset_month, ante_cond_onset_year, ante_cond_ongoing, ante_cond_stop_yn, ante_cond_res_day, ante_cond_res_month, ante_cond_res_year, ante_cond_comment, Source]\n",
       "Index: []\n",
       "\n",
       "[0 rows x 16 columns]"
      ],
      "text/html": [
       "<div>\n",
       "<style scoped>\n",
       "    .dataframe tbody tr th:only-of-type {\n",
       "        vertical-align: middle;\n",
       "    }\n",
       "\n",
       "    .dataframe tbody tr th {\n",
       "        vertical-align: top;\n",
       "    }\n",
       "\n",
       "    .dataframe thead th {\n",
       "        text-align: right;\n",
       "    }\n",
       "</style>\n",
       "<table border=\"1\" class=\"dataframe\">\n",
       "  <thead>\n",
       "    <tr style=\"text-align: right;\">\n",
       "      <th></th>\n",
       "      <th>obs_id</th>\n",
       "      <th>redcap_repeat_instance</th>\n",
       "      <th>ante_cond_dx_yn</th>\n",
       "      <th>ante_cond_class</th>\n",
       "      <th>ante_cond_spec</th>\n",
       "      <th>...</th>\n",
       "      <th>ante_cond_res_day</th>\n",
       "      <th>ante_cond_res_month</th>\n",
       "      <th>ante_cond_res_year</th>\n",
       "      <th>ante_cond_comment</th>\n",
       "      <th>Source</th>\n",
       "    </tr>\n",
       "  </thead>\n",
       "  <tbody>\n",
       "  </tbody>\n",
       "</table>\n",
       "<p>0 rows × 16 columns</p>\n",
       "</div>"
      ]
     },
     "metadata": {},
     "execution_count": 63
    }
   ],
   "metadata": {}
  },
  {
   "cell_type": "markdown",
   "source": [
    "## Antenatal Visits: Conditions/Abnormalities Diagnosed During Pregnancy - Prepare and Save<a name=\"ante-cond-save\"></a>"
   ],
   "metadata": {}
  },
  {
   "cell_type": "code",
   "execution_count": 64,
   "source": [
    "ante_cond.prep_imp(\r\n",
    "    'antenatal_arm_1', 'conditions_diagnosed_during_pregnancy_complete', \r\n",
    "    'conditions_diagnosed_during_pregnancy'\r\n",
    ")\r\n",
    "ante_cond.data.to_csv('../data/processed/ante_cond.csv', index = False)"
   ],
   "outputs": [],
   "metadata": {}
  },
  {
   "cell_type": "markdown",
   "source": [
    "# Antenatal Visits: Surgical procedures performed during pregnancy<a name=\"ante-sur\"></a>"
   ],
   "metadata": {}
  },
  {
   "cell_type": "markdown",
   "source": [
    "## Antenatal Visits: Surgical procedures performed during pregnancy - Preprocessing<a name=\"ante-sur-pre\"></a>"
   ],
   "metadata": {}
  },
  {
   "cell_type": "code",
   "execution_count": 65,
   "source": [
    "# create date 'unknown' columns in Rave\r\n",
    "obs_data_sets.rave_clinic = (\r\n",
    "    obs_clinic_migration_preprocessing.rave_date_unknown(\r\n",
    "        obs_data_sets.rave_clinic, 'SURG_PROCS_AFTER_BASLIN_NY_', \r\n",
    "        'Yes', 'PROCEDURE_DT_', 2\r\n",
    "    )\r\n",
    ")"
   ],
   "outputs": [],
   "metadata": {}
  },
  {
   "cell_type": "markdown",
   "source": [
    "## Antenatal Visits: Surgical procedures performed during pregnancy - Processing<a name=\"ante-sur-pro\"></a>"
   ],
   "metadata": {}
  },
  {
   "cell_type": "code",
   "execution_count": 66,
   "source": [
    "ante_sur_dict = {\r\n",
    "    'SURG_PROCS_AFTER_BASLIN_NY_': 'ante_sx_yn',\r\n",
    "    'SURG_PROC_PERF_DURN_PREG_': 'ante_sx_class',\r\n",
    "    'SPECIFY_PROCEDURE_': 'ante_sx_spec',\r\n",
    "    'PROCEDURE_DT_DD_': 'ante_sx_day',\r\n",
    "    'PROCEDURE_DT_MM_': 'ante_sx_month',\r\n",
    "    'PROCEDURE_DT_YYYY_': 'ante_sx_year',\r\n",
    "    'INDICATION_': 'ante_sx_indication',\r\n",
    "    'COMMENT1_': 'ante_sx_comment',\r\n",
    "    'PROCEDURE_DT_yn_date_': 'ante_sx_date_yn'\r\n",
    "}\r\n",
    "ante_sur = obs_clinic_migration.RedcapConv(\r\n",
    "    ante_sur_dict, 2, master_df = obs_data_sets.rave_clinic\r\n",
    ")"
   ],
   "outputs": [
    {
     "output_type": "stream",
     "name": "stdout",
     "text": [
      "Column 'ante_sx_class', variable 'Other, specify' has an issue.\n"
     ]
    }
   ],
   "metadata": {}
  },
  {
   "cell_type": "markdown",
   "source": [
    "## Antenatal Visits: Surgical procedures performed during pregnancy - Post-processing<a name=\"ante-sur-post\"></a>"
   ],
   "metadata": {}
  },
  {
   "cell_type": "code",
   "execution_count": 67,
   "source": [
    "ante_sur.change_str(\r\n",
    "    {\r\n",
    "        'ante_sx_class': {'Other, specify': 'Other'},\r\n",
    "    }\r\n",
    ")"
   ],
   "outputs": [
    {
     "output_type": "stream",
     "name": "stdout",
     "text": [
      "5    66\n",
      "4    10\n",
      "8     3\n",
      "2     2\n",
      "6     1\n",
      "Name: ante_sx_class, dtype: int64\n"
     ]
    }
   ],
   "metadata": {}
  },
  {
   "cell_type": "markdown",
   "source": [
    "## Antenatal Visits: Surgical procedures performed during pregnancy - Data Verification<a name=\"ante-sur-comp\"></a>"
   ],
   "metadata": {}
  },
  {
   "cell_type": "code",
   "execution_count": 68,
   "source": [
    "ante_sur.compare_conv_dde(obs_data_sets.redcap_clinic)"
   ],
   "outputs": [
    {
     "output_type": "execute_result",
     "data": {
      "text/plain": [
       "Empty DataFrame\n",
       "Columns: [obs_id, redcap_repeat_instance, ante_sx_yn, ante_sx_class, ante_sx_spec, ante_sx_date_yn, ante_sx_day, ante_sx_month, ante_sx_year, ante_sx_indication, ante_sx_comment, Source]\n",
       "Index: []\n",
       "\n",
       "[0 rows x 12 columns]"
      ],
      "text/html": [
       "<div>\n",
       "<style scoped>\n",
       "    .dataframe tbody tr th:only-of-type {\n",
       "        vertical-align: middle;\n",
       "    }\n",
       "\n",
       "    .dataframe tbody tr th {\n",
       "        vertical-align: top;\n",
       "    }\n",
       "\n",
       "    .dataframe thead th {\n",
       "        text-align: right;\n",
       "    }\n",
       "</style>\n",
       "<table border=\"1\" class=\"dataframe\">\n",
       "  <thead>\n",
       "    <tr style=\"text-align: right;\">\n",
       "      <th></th>\n",
       "      <th>obs_id</th>\n",
       "      <th>redcap_repeat_instance</th>\n",
       "      <th>ante_sx_yn</th>\n",
       "      <th>ante_sx_class</th>\n",
       "      <th>ante_sx_spec</th>\n",
       "      <th>...</th>\n",
       "      <th>ante_sx_month</th>\n",
       "      <th>ante_sx_year</th>\n",
       "      <th>ante_sx_indication</th>\n",
       "      <th>ante_sx_comment</th>\n",
       "      <th>Source</th>\n",
       "    </tr>\n",
       "  </thead>\n",
       "  <tbody>\n",
       "  </tbody>\n",
       "</table>\n",
       "<p>0 rows × 12 columns</p>\n",
       "</div>"
      ]
     },
     "metadata": {},
     "execution_count": 68
    }
   ],
   "metadata": {}
  },
  {
   "cell_type": "markdown",
   "source": [
    "## Antenatal Visits: Surgical procedures performed during pregnancy - Prepare and Save<a name=\"ante-sur-save\"></a>"
   ],
   "metadata": {}
  },
  {
   "cell_type": "code",
   "execution_count": 69,
   "source": [
    "ante_sur.prep_imp(\r\n",
    "    'antenatal_arm_1', \r\n",
    "    'surgical_procedures_performed_during_pregnancy_complete', \r\n",
    "    'surgical_procedures_performed_during_pregnancy'\r\n",
    ")    \r\n",
    "ante_sur.data.to_csv('../data/processed/ante_sur.csv', index = False)"
   ],
   "outputs": [],
   "metadata": {}
  },
  {
   "cell_type": "markdown",
   "source": [
    "# Antenatal Visits: Medications<a name=\"ante-meds\"></a>"
   ],
   "metadata": {}
  },
  {
   "cell_type": "markdown",
   "source": [
    "## Antenatal Visits: Medications - Preprocessing<a name=\"ante-meds-pre\"></a>"
   ],
   "metadata": {}
  },
  {
   "cell_type": "code",
   "execution_count": 70,
   "source": [
    "# create date 'unknown' columns in Rave\r\n",
    "obs_data_sets.rave_clinic = (\r\n",
    "    obs_clinic_migration_preprocessing.rave_date_unknown(\r\n",
    "        obs_data_sets.rave_clinic, 'MED_ONGOING_NY_', 'No', 'STOP_DT_', 12\r\n",
    "    ) \r\n",
    ")\r\n",
    "obs_data_sets.rave_clinic = (\r\n",
    "    obs_clinic_migration_preprocessing.rave_date_unknown(\r\n",
    "        obs_data_sets.rave_clinic, 'MEDS_ANTENATAL_NY_', 'Yes', \r\n",
    "        'MED_ONSET_DT_', 12\r\n",
    "    ) \r\n",
    ")\r\n",
    "# further modify date values\r\n",
    "for i in range(1, 13):\r\n",
    "    obs_data_sets.rave_clinic.loc[\r\n",
    "        (\r\n",
    "            (obs_data_sets.rave_clinic['MEDS_ANTENATAL_NY_' + str(i)] == 'Yes')\r\n",
    "            & (obs_data_sets.rave_clinic['MED_ONSET_DT_DD_' + str(i)].isna())\r\n",
    "\r\n",
    "        ), 'MED_ONSET_DT_DD_' + str(i)\r\n",
    "    ] = 'Unknown'\r\n",
    "    obs_data_sets.rave_clinic.loc[\r\n",
    "        (\r\n",
    "            (obs_data_sets.rave_clinic['MEDS_ANTENATAL_NY_' + str(i)] == 'Yes')\r\n",
    "            & (obs_data_sets.rave_clinic['MED_ONSET_DT_MM_' + str(i)].isna())\r\n",
    "\r\n",
    "        ), 'MED_ONSET_DT_MM_' + str(i)\r\n",
    "    ] = 'Unknown'\r\n",
    "    \r\n",
    "    obs_data_sets.rave_clinic['MEDS_ONSET_date_ny_' + str(i)] = np.NaN\r\n",
    "    obs_data_sets.rave_clinic.loc[\r\n",
    "        (obs_data_sets.rave_clinic['MEDS_ANTENATAL_NY_' + str(i)] == 'Yes'),\r\n",
    "        'MEDS_ONSET_date_ny_' + str(i)\r\n",
    "    ] = 'Yes'\r\n",
    "    obs_data_sets.rave_clinic.loc[\r\n",
    "        (\r\n",
    "            (obs_data_sets.rave_clinic['MEDS_ANTENATAL_NY_' + str(i)] == 'Yes')\r\n",
    "            & (\r\n",
    "                obs_data_sets.rave_clinic[\r\n",
    "                    'MED_ONSET_DT_YYYY_' + str(i)\r\n",
    "                ] == '1900'\r\n",
    "            )\r\n",
    "\r\n",
    "        ), 'MEDS_ONSET_date_ny_' + str(i)\r\n",
    "    ] = 'No'"
   ],
   "outputs": [],
   "metadata": {}
  },
  {
   "cell_type": "markdown",
   "source": [
    "## Antenatal Visits: Medications - Processing<a name=\"ante-meds-pro\"></a>"
   ],
   "metadata": {}
  },
  {
   "cell_type": "code",
   "execution_count": 71,
   "source": [
    "ante_meds_dict = {\r\n",
    "     'MEDS_ANTENATAL_NY_': 'ante_med_yn',\r\n",
    "     'MEDS_ANTENATAL_': 'ante_med_class',\r\n",
    "     'SPECIFY_ANTENAT_MED_': 'ante_med_spe',\r\n",
    "     'MEDS_ONSET_date_ny_' : 'ante_med_start_date_yn',\r\n",
    "     'MED_ONSET_DT_DD_': 'ante_med_start_day',\r\n",
    "     'MED_ONSET_DT_MM_': 'ante_med_start_month',\r\n",
    "     'MED_ONSET_DT_YYYY_': 'ante_med_start_year',\r\n",
    "     'MED_ONGOING_NY_': 'ante_med_cont',\r\n",
    "     'STOP_DT_yn_date_': 'ante_med_stop_date_yn',\r\n",
    "     'STOP_DT_DD_': 'ante_med_stop_day',\r\n",
    "     'STOP_DT_MM_': 'ante_med_stop_month',\r\n",
    "     'STOP_DT_YYYY_': 'ante_med_stop_year'     \r\n",
    "}\r\n",
    "ante_meds = obs_clinic_migration.RedcapConv(\r\n",
    "     ante_meds_dict, 12, obs_data_sets.rave_clinic\r\n",
    ")"
   ],
   "outputs": [
    {
     "output_type": "stream",
     "name": "stdout",
     "text": [
      "Column 'ante_med_class', variable 'Antidepressants: other' has an issue.\n",
      "Column 'ante_med_class', variable 'Selective Serotonin reuptake inhibitors (SSRI)' has an issue.\n"
     ]
    }
   ],
   "metadata": {}
  },
  {
   "cell_type": "markdown",
   "source": [
    "## Antenatal Visits: Medications - Post-processing<a name=\"ante-meds-post\"></a>"
   ],
   "metadata": {}
  },
  {
   "cell_type": "code",
   "execution_count": 72,
   "source": [
    "ante_meds.change_str(\r\n",
    "    {\r\n",
    "        'ante_med_class': {\r\n",
    "            'Selective Serotonin reuptake inhibitors (SSRI)': \r\n",
    "                'Selective Serotonin Reuptake Inhibitors (SSRI)',\r\n",
    "            'Antidepressants: other' : 'Antidepressants: Other'\r\n",
    "        },\r\n",
    "    }\r\n",
    ")"
   ],
   "outputs": [
    {
     "output_type": "stream",
     "name": "stdout",
     "text": [
      "4     200\n",
      "26    169\n",
      "19    105\n",
      "17    102\n",
      "20     88\n",
      "25     61\n",
      "13     43\n",
      "8      41\n",
      "22     39\n",
      "5      37\n",
      "14     29\n",
      "2      17\n",
      "21     12\n",
      "9      10\n",
      "3       8\n",
      "10      6\n",
      "7       4\n",
      "15      4\n",
      "24      3\n",
      "11      2\n",
      "1       1\n",
      "6       1\n",
      "Name: ante_med_class, dtype: int64\n"
     ]
    }
   ],
   "metadata": {}
  },
  {
   "cell_type": "markdown",
   "source": [
    "## Antenatal Visits: Medications - Data Verification<a name=\"ante-meds-comp\"></a>"
   ],
   "metadata": {}
  },
  {
   "cell_type": "code",
   "execution_count": 73,
   "source": [
    "ante_meds.compare_conv_dde(obs_data_sets.redcap_clinic)"
   ],
   "outputs": [
    {
     "output_type": "execute_result",
     "data": {
      "text/plain": [
       "Empty DataFrame\n",
       "Columns: [obs_id, redcap_repeat_instance, ante_med_yn, ante_med_class, ante_med_spe, ante_med_start_date_yn, ante_med_start_day, ante_med_start_month, ante_med_start_year, ante_med_cont, ante_med_stop_date_yn, ante_med_stop_day, ante_med_stop_month, ante_med_stop_year, Source]\n",
       "Index: []\n",
       "\n",
       "[0 rows x 15 columns]"
      ],
      "text/html": [
       "<div>\n",
       "<style scoped>\n",
       "    .dataframe tbody tr th:only-of-type {\n",
       "        vertical-align: middle;\n",
       "    }\n",
       "\n",
       "    .dataframe tbody tr th {\n",
       "        vertical-align: top;\n",
       "    }\n",
       "\n",
       "    .dataframe thead th {\n",
       "        text-align: right;\n",
       "    }\n",
       "</style>\n",
       "<table border=\"1\" class=\"dataframe\">\n",
       "  <thead>\n",
       "    <tr style=\"text-align: right;\">\n",
       "      <th></th>\n",
       "      <th>obs_id</th>\n",
       "      <th>redcap_repeat_instance</th>\n",
       "      <th>ante_med_yn</th>\n",
       "      <th>ante_med_class</th>\n",
       "      <th>ante_med_spe</th>\n",
       "      <th>...</th>\n",
       "      <th>ante_med_stop_date_yn</th>\n",
       "      <th>ante_med_stop_day</th>\n",
       "      <th>ante_med_stop_month</th>\n",
       "      <th>ante_med_stop_year</th>\n",
       "      <th>Source</th>\n",
       "    </tr>\n",
       "  </thead>\n",
       "  <tbody>\n",
       "  </tbody>\n",
       "</table>\n",
       "<p>0 rows × 15 columns</p>\n",
       "</div>"
      ]
     },
     "metadata": {},
     "execution_count": 73
    }
   ],
   "metadata": {}
  },
  {
   "cell_type": "markdown",
   "source": [
    "## Antenatal Visits: Medications - Prepare and Save<a name=\"ante-meds-save\"></a>"
   ],
   "metadata": {}
  },
  {
   "cell_type": "code",
   "execution_count": 74,
   "source": [
    "ante_meds.prep_imp('antenatal_arm_1', 'medications_complete', 'medications')\r\n",
    "ante_meds.data.to_csv('../data/processed/ante_meds.csv', index = False)"
   ],
   "outputs": [],
   "metadata": {}
  },
  {
   "cell_type": "markdown",
   "source": [
    "# Delivery Data: Antepartum (1)<a name=\"del-ant\"></a>"
   ],
   "metadata": {}
  },
  {
   "cell_type": "markdown",
   "source": [
    "## Delivery Data: Antepartum (1) - Preprocessing<a name=\"del-ant-pre\"></a>"
   ],
   "metadata": {}
  },
  {
   "cell_type": "code",
   "execution_count": 75,
   "source": [
    "# text field for baby number resulting in inconsistent entries\r\n",
    "obs_data_sets.rave_clinic['BABYNUMBER'].replace(\r\n",
    "    '[0-9\\-]*(?=B0)', '', regex = True, inplace = True\r\n",
    ")\r\n",
    "\r\n",
    "# format relevant columns\r\n",
    "obs_data_sets.rave_clinic.loc[:, 'ANTEPARTUMBLEED_ONSET_DT'] = (\r\n",
    "    pd.to_datetime(\r\n",
    "        obs_data_sets.rave_clinic['ANTEPARTUMBLEED_ONSET_DT']\r\n",
    "    ).dt.strftime('%Y-%m-%d')\r\n",
    ")\r\n",
    "for reformat_date_col in [\r\n",
    "    'DISCHARG_HOME_DT', 'HOSP_TRANSFER_DT', 'TRANSFER_ICU_DT', \r\n",
    "    'DATE_MATERNAL_DEATH_UNREL_PREG', 'MATERNAL_DEATH_RELAT_PREG_DT'\r\n",
    "]:\r\n",
    "    obs_data_sets.rave_clinic[reformat_date_col] = pd.to_datetime(\r\n",
    "        obs_data_sets.rave_clinic[reformat_date_col].str.split(\r\n",
    "            ' ', expand = True\r\n",
    "        )[0], format = '%d%b%Y'\r\n",
    "    ).dt.strftime('%Y-%m-%d')\r\n",
    "\r\n",
    "# some columns don't have an associated 'STD' column and needed to be coded\r\n",
    "obs_data_sets.rave_clinic['UNKNOWN_PAIN_NY'].replace(\r\n",
    "    {'1': 'Yes', '0': 'No'}, inplace = True\r\n",
    ")\r\n",
    "obs_data_sets.rave_clinic['CERV_DILAT_UNK'].replace(\r\n",
    "    {'1': 'Unknown', '0': 'Known'}, inplace = True\r\n",
    ")\r\n",
    "obs_data_sets.rave_clinic['RUP_MEM_DTTM_UNK'].replace(\r\n",
    "    {'1': 'Unknown', '0': 'Known'}, inplace = True\r\n",
    ")\r\n",
    "obs_data_sets.rave_clinic['FULL_DILATN_TM_NA'].replace(\r\n",
    "    {'1': 'Not applicable or unknown', '0': 'Known'}, inplace = True\r\n",
    ")\r\n",
    "obs_data_sets.rave_clinic['PUSHSTART_DTTM_NA_UNK'].replace(\r\n",
    "    {'1': 'Not applicable or unknown', '0': 'Known'}, inplace = True\r\n",
    ")\r\n",
    "\r\n",
    "\r\n",
    "obs_data_sets.rave_clinic.loc[\r\n",
    "    obs_data_sets.rave_clinic['ONSET_LAB_DTTM'].notna(), 'ONSET_LAB_NR_NA'\r\n",
    "] = 'Recorded'\r\n",
    "\r\n",
    "# format relevant columns\r\n",
    "obs_data_sets.rave_clinic['ADMIT_DT_TM'] = pd.to_datetime(\r\n",
    "    (\r\n",
    "        obs_data_sets.rave_clinic['ADMIT_DT'].str.split(' ', expand = True)[0]\r\n",
    "        # some times have paddes zero and some don't\r\n",
    "        + obs_data_sets.rave_clinic['ADMIT_TM'].str.zfill(5) \r\n",
    "    ), format = '%d%b%Y%H:%M'\r\n",
    ").dt.strftime('%Y-%m-%d %H:%M')\r\n",
    "for date_col_name in ['ONSET_LAB_DTTM', 'RUP_MEM_DTTM', 'FULLDILATN_DTTM', 'PUSHSTART_DTTM']:\r\n",
    "    obs_data_sets.rave_clinic[date_col_name] = pd.to_datetime(\r\n",
    "        (\r\n",
    "            obs_data_sets.rave_clinic[date_col_name].str.split(\r\n",
    "                ' ', expand = True\r\n",
    "            )[0]\r\n",
    "            + obs_data_sets.rave_clinic[date_col_name].str.split(\r\n",
    "                ' ', expand = True\r\n",
    "            )[1].str.zfill(12) # some times have paddes zero and some don't\r\n",
    "        ), format = '%d%b%Y%H:%M:%S.%f'\r\n",
    "    ).dt.strftime('%Y-%m-%d %H:%M')\r\n",
    "\r\n",
    "# obs_data_sets.rave_clinic['ONSET_LAB_DTTM'] = pd.to_datetime(\r\n",
    "#     (\r\n",
    "#         obs_data_sets.rave_clinic['ONSET_LAB_DTTM'].str.split(\r\n",
    "#             ' ', expand = True\r\n",
    "#         )[0]\r\n",
    "#         + obs_data_sets.rave_clinic['ONSET_LAB_DTTM'].str.split(\r\n",
    "#             ' ', expand = True\r\n",
    "#         )[1].str.zfill(12) # some times have paddes zero and some don't\r\n",
    "#     ), format = '%d%b%Y%H:%M:%S.%f'\r\n",
    "# ).dt.strftime('%Y-%m-%d %H:%M')\r\n",
    "# obs_data_sets.rave_clinic['RUP_MEM_DTTM'] = pd.to_datetime(\r\n",
    "#     (\r\n",
    "#         obs_data_sets.rave_clinic['RUP_MEM_DTTM'].str.split(\r\n",
    "#             ' ', expand = True\r\n",
    "#         )[0]\r\n",
    "#         + obs_data_sets.rave_clinic['RUP_MEM_DTTM'].str.split(\r\n",
    "#             ' ', expand = True\r\n",
    "#         )[1].str.zfill(12) # some times have paddes zero and some don't\r\n",
    "#     ), format = '%d%b%Y%H:%M:%S.%f'\r\n",
    "# ).dt.strftime('%Y-%m-%d %H:%M')\r\n",
    "# obs_data_sets.rave_clinic['FULLDILATN_DTTM'] = pd.to_datetime(\r\n",
    "#     (\r\n",
    "#         obs_data_sets.rave_clinic['FULLDILATN_DTTM'].str.split(\r\n",
    "#             ' ', expand = True\r\n",
    "#         )[0]\r\n",
    "#         + obs_data_sets.rave_clinic['FULLDILATN_DTTM'].str.split(\r\n",
    "#             ' ', expand = True\r\n",
    "#         )[1].str.zfill(12) # some times have paddes zero and some don't\r\n",
    "#     ), format = '%d%b%Y%H:%M:%S.%f'\r\n",
    "# ).dt.strftime('%Y-%m-%d %H:%M')\r\n",
    "# obs_data_sets.rave_clinic['PUSHSTART_DTTM'] = pd.to_datetime(\r\n",
    "#     (\r\n",
    "#         obs_data_sets.rave_clinic['PUSHSTART_DTTM'].str.split(\r\n",
    "#             ' ', expand = True\r\n",
    "#         )[0]\r\n",
    "#         + obs_data_sets.rave_clinic['PUSHSTART_DTTM'].str.split(\r\n",
    "#             ' ', expand = True\r\n",
    "#         )[1].str.zfill(12) # some times have paddes zero and some don't\r\n",
    "#     ), format = '%d%b%Y%H:%M:%S.%f'\r\n",
    "# ).dt.strftime('%Y-%m-%d %H:%M')\r\n",
    "\r\n",
    "\r\n",
    "\r\n",
    "# some columns don't have an associated 'STD' column and needed to be coded\r\n",
    "obs_data_sets.rave_clinic['BISHOPSCOR_UNK'].replace(\r\n",
    "    {'1': 'Unknown', '0': 'Known'}, inplace = True\r\n",
    ")\r\n",
    "obs_data_sets.rave_clinic['BISHOPSCOR'] = (\r\n",
    "    obs_data_sets.rave_clinic['BISHOPSCOR'].str.replace('.00', '')\r\n",
    ")\r\n",
    "obs_data_sets.rave_clinic['CERVDILAT_CSECT_UNK'].replace(\r\n",
    "    {'1': 'Unknown', '0': 'Known'}, inplace = True\r\n",
    ")\r\n",
    "\r\n",
    "# In Rave, 'Specify name of other hospital' data is intermingled with\r\n",
    "# associated labelled data\r\n",
    "obs_data_sets.rave_clinic = (\r\n",
    "    obs_clinic_migration_preprocessing.create_specify_col(\r\n",
    "        'NAMEOFHOSPITAL1_SPEC', 'NAMEOFHOSPITAL1_STD', 'NAMEOFHOSPITAL1', '3', \r\n",
    "        'Other', obs_data_sets.rave_clinic\r\n",
    "    )\r\n",
    ")"
   ],
   "outputs": [],
   "metadata": {}
  },
  {
   "cell_type": "markdown",
   "source": [
    "## Delivery Data: Antepartum (1) - Processing<a name=\"del-ant-pro\"></a>"
   ],
   "metadata": {}
  },
  {
   "cell_type": "code",
   "execution_count": 76,
   "source": [
    "del_ant_dict = {\r\n",
    "    # 1. Number of fetuses\r\n",
    "    'NUMBERFETUSES': 'del_num_fetus',\r\n",
    "    'SPECIFY_CHRORION_AMNION': 'del_chor_amnio',\r\n",
    "    'BABYNUMBER': 'del_baby_obsid',\r\n",
    "    # 2. Prior to labour and delivery, did any complications occur?\r\n",
    "    'COMPLICATIONS_OCCUR_NY': 'del_ant_comp_yn',\r\n",
    "    'FETAL1_NY': 'del_ant_comp_fet',\r\n",
    "    'ANOMALY_NY': 'del_ant_fet_anom',\r\n",
    "    'ISO_ALLO_IMMUNIZATION_NY': 'del_ant_fet_allo',\r\n",
    "    'IUGR1_NY': 'del_ant_fet_iugr',\r\n",
    "    'LARGE_GESTN_AGE_NY': 'del_ant_fet_lga',\r\n",
    "    'OLIGOHYDRAMNIOS_NY': 'del_ant_fet_oligo',\r\n",
    "    'POLYHYDRAMNIOS_NY': 'del_ant_fet_poly',\r\n",
    "    'OTHER_FETAL_NY': 'del_ant_fet_oth',\r\n",
    "    'ANOMALY_SPECIFY': 'del_ant_fetanom_spec',\r\n",
    "    'IUGR_PERCENT': 'del_ant_iugr_per',\r\n",
    "    'SPECIFY_OTHER_FETAL_COMPLICATION': 'del_ant_fet_oth_spec',\r\n",
    "    'PLACENTAL1_NY': 'del_ant_plac_yn',\r\n",
    "    'PLACENTAL_ABRUPTION1_NY': 'del_ant_plac_abrpt',\r\n",
    "    'PLACENTA_ACCRETA_NY': 'del_ant_plac_accreta',\r\n",
    "    'PLACENTA_INCRETA_NY': 'del_ant_plac_increta',\r\n",
    "    'PLACENTA_PERCRETA_NY': 'del_ant_plac_percreta',\r\n",
    "    'PLACENTA_PREVIA1_NY': 'del_ant_plac_previa',\r\n",
    "    'OTHERPLACENTALCOMPLN_NY': 'del_ant_plac_oth',\r\n",
    "    'SEVERITY_PLACENT_ABRUPTION': 'del_ant_abrpt_spec',\r\n",
    "    'PLACENTPREVIA_CM': 'del_ant_prev_spec',\r\n",
    "    'SPECIFY_OTHER_PLACEN_COMPLN': 'del_ant_plac_oth_spec',\r\n",
    "    'MATERNAL1_NY': 'del_ant_mat_yn',\r\n",
    "    'ANEMIA_UNRESPON_THERAPY_NY': 'del_ant_mat_anemia',\r\n",
    "    'ANTEPARTUM_BLEED_NY': 'del_ant_mat_aph',\r\n",
    "    'GESTATIONALDIABETES': 'del_ant_mat_gdm',\r\n",
    "    'HYPEREMESIS_GRAVIDARUM_NY': 'del_ant_mat_hyperemesis',\r\n",
    "    'HYPERTENDISORDER_PREG_NY': 'del_ant_mat_htn_gen',\r\n",
    "    'ECLAMPSIA1_NY': 'del_ant_mat_eclampsia',\r\n",
    "    'GESTATN_HYPERTENSION': 'del_ant_mat_ghtn',\r\n",
    "    'HELLP1_NY': 'del_ant_mat_hellp',\r\n",
    "    'PREECLAMPSIA1_NY': 'del_ant_mat_pet',\r\n",
    "    'PREEXIST_HYPERTEN_SUP_PREECAL_NY': 'del_ant_mat_htn_pet',\r\n",
    "    'PRETERMLABOUR1_NY': 'del_ant_mat_ptl',\r\n",
    "    'PRETERMPREMRUPMEMBRAN_NY': 'del_ant_mat_pprom',\r\n",
    "    'OTHER_MATERN_COMPLICATN_NY': 'del_ant_mat_oth',\r\n",
    "    'ANTEPARTUMBLEED_ONSET_DT': 'del_ant_aph_onset',\r\n",
    "    'TRANSFUSION1_NY': 'del_ant_aph_trans',\r\n",
    "    'ESTIMATEDBLOODLOSS1': 'del_ant_aph_ebl',\r\n",
    "    'SPECIFY_OTHER_MATN_COMPLICATN': 'del_ant_mat_oth_spec',\r\n",
    "    # 3. Antenatal Glucocorticoids\r\n",
    "    'ANTENAT_GLUCOCORTICOIDS_NY': 'del_acs_yn',\r\n",
    "    'CELESTONE_DEXAMETHASONE': 'del_acs_type',\r\n",
    "    'CELESTONE_DOSE': 'del_acs_cel_dose',\r\n",
    "    'DEXAMETHASONE_DOSE': 'del_acs_dex_dose',\r\n",
    "    # 4. Admission Data\r\n",
    "    'ADMIT_DT_TM': 'del_lnd_adm_dt_time',\r\n",
    "    'CERV_DILAT_UNK': 'del_lnd_adm_cx_unk',\r\n",
    "    'CERV_DILATN_ADMIT': 'del_lnd_adm_cx',\r\n",
    "    'ONSET_LAB_NR_NA': 'del_lnd_lab_onset_unk',\r\n",
    "    'ONSET_LAB_DTTM': 'del_lnd_lab_onset',\r\n",
    "    'RUP_MEM_DTTM_UNK': 'del_lnd_rom_dttm_unk',\r\n",
    "    'RUP_MEM_DTTM': 'del_lnd_rom_dttm',\r\n",
    "    'RUPT_MEMBRAN_TYPE': 'del_lnd_rom_type',\r\n",
    "    'GRP_B_STREP_RESULTS':'del_lnd_gbs',\r\n",
    "    'FULL_DILATN_TM_NA': 'del_lnd_fully_unk',\r\n",
    "    'FULLDILATN_DTTM': 'del_lnd_fully_dttm',\r\n",
    "    'PUSHSTART_DTTM_NA_UNK': 'del_lnd_push_unk',\r\n",
    "    'PUSHSTART_DTTM':'del_lnd_push_dttm',\r\n",
    "    # 5. Induction of labour \r\n",
    "    'INDUCTN_LAB_NY': 'del_lnd_iol_yn',\r\n",
    "    'INDICAT_FOR_INDUCTN': 'del_lnd_iol_reason',\r\n",
    "    'FETAL_INDUCTN_NY': 'del_iol_fet_yn',\r\n",
    "    'ATYP_ABN_FETAL_SURV': 'del_iol_fet_atypical',\r\n",
    "    'FETAL_ANOM_NY': 'del_iol_fet_anomaly',\r\n",
    "    'IUGR_INDN_NY': 'del_iol_fet_iugr',\r\n",
    "    'MACROSOMNIA1_NY': 'del_iol_fet_macrosomia',\r\n",
    "    'MULT_GESTN_NY': 'del_iol_fet_multiple',\r\n",
    "    'POSTDATES_NY': 'del_iol_fet_post_dat',\r\n",
    "    'OTH_FETAL_COMPLICATN': 'del_iol_fet_oth',\r\n",
    "    'TERMINATN_PREG_NY': 'del_iol_fet_termination',\r\n",
    "    'SPECIFYOTHERFETALCOMPLICN': 'del_iol_fet_oth_spec',\r\n",
    "    'MATERNAL_INDN_NY': 'del_iol_mat_yn',\r\n",
    "    'PRELABOR_RUP_MEM_NY': 'del_iol_mat_prom',\r\n",
    "    'DIABETES_INDIC_NY': 'del_iol_mat_diabetes',\r\n",
    "    'HX_PRECIP_DELIV_NY': 'del_iol_mat_precipitous',\r\n",
    "    'OLIGOHY_DECR_AMNIOT_FLUID': 'del_iol_mat_oligo',\r\n",
    "    'OTH_OBSTET_COMPLICATN': 'del_iol_mat_oth',\r\n",
    "    'PREEXIST_MAT_MEDCONDNS': 'del_iol_mat_pre_med_cond',\r\n",
    "    'HYPERTEN_DISORDER_PREG': 'del_iol_mat_preeclampsia',\r\n",
    "    'SPECIFYOTHEROBSTETCOMP': 'del_iol_mat_oth_spec',\r\n",
    "    'OTHER_INDICATN_INDUCTN': 'del_iol_oth_yn',\r\n",
    "    'MATERN_REQUEST_NY': 'del_iol_oth_mat_req',\r\n",
    "    'HOSP_DISTANCE_NY': 'del_iol_oth_safety',\r\n",
    "    'ACOMODATE_CAREGIVER': 'del_iol_oth_accom',\r\n",
    "    'OTHER_INDICATN_OTHER_NY': 'del_iol_oth_oth',\r\n",
    "    'OTHER_OTH_SPECIFY': 'del_iol_oth_oth_spec',\r\n",
    "    'METHOD_INDUCTION': 'del_iol_method',\r\n",
    "    'AMNIOTOM_NY': 'del_lnd_iol_meth_amni',\r\n",
    "    'OXYTOCIN': 'del_lnd_iol_meth_pit',\r\n",
    "    'PROSTAGLAN1': 'del_lnd_iol_meth_prost',\r\n",
    "    'BALOON_MECH_DEVIC_NY': 'del_lnd_iol_meth_foley',\r\n",
    "    'LAMINAR_ARTIFIC_TENT': 'del_lnd_iol_meth_tent',\r\n",
    "    'SWEEP_MEMBRAN_NY': 'del_lnd_iol_meth_sweep',\r\n",
    "    'BISHOPSCOR_UNK': 'del_lnd_iol_bishop_unk',\r\n",
    "    'BISHOPSCOR': 'del_lnd_iol_bishop',\r\n",
    "    # 6. Augmentation of labour\r\n",
    "    'AUGMENTATN_LABOR': 'del_lnd_aug_yn', \r\n",
    "    'AMNIOTOM2_NY': 'del_lnd_aug_rom', \r\n",
    "    'OXYTOCIN2': 'del_lnd_aug_pit', \r\n",
    "    'PROSTAGLAN2_NY': 'del_lnd_aug_prost',\r\n",
    "    # 7. Type of birth\r\n",
    "    'TYPEOFBIRTH3': 'del_mod', \r\n",
    "    'TYPEVAGINALBIRTH': 'del_mod_svd_avd', \r\n",
    "    'FORCEPS': 'del_mod_avd_forcep', \r\n",
    "    'VACUUM': 'del_mod_avd_vacuum', \r\n",
    "    'CERVDILAT_CSECT_UNK': 'del_mod_cs_dil_unk', \r\n",
    "    'CERVDILAT_CSECTN': 'del_mod_cs_dil', \r\n",
    "    'TYPE_CSECTN': 'del_mod_cs_type', \r\n",
    "    'INDICATN_FOR_C_SECTN_KUNK': 'del_mod_cs_ind', \r\n",
    "    'FETAL_INDICAT_NY': 'del_mod_cs_fet', \r\n",
    "    'FETAL_ANOMAL_CSECTN': 'del_mod_cs_fet_anom', \r\n",
    "    'CORD_PROLAPS_CSECTN': 'del_mod_cs_fet_cord', \r\n",
    "    'IUGR_CSECTN': 'del_mod_cs_fet_iugr', \r\n",
    "    'MACROSOM_CSECTN': 'del_mod_cs_fet_lga', \r\n",
    "    'MALPOSITN_CSECTN': 'del_mod_cs_fet_pos', \r\n",
    "    'WELLBEINCONCERN': 'del_mod_cs_fet_nrfh', \r\n",
    "    'OTHERFETAL_INDICATN': 'del_mod_cs_fet_oth', \r\n",
    "    'SPECFY_OTH_FET_IDICAT': 'del_mod_cs_fet_oth_spec', \r\n",
    "    'MATERN_INDICATN': 'del_mod_cs_mat', \r\n",
    "    'FAIL_FORCEP_VAC': 'del_mod_cs_mat_fail_avd', \r\n",
    "    'HYPER_DIS_PREG': 'del_mod_cs_mat_htn', \r\n",
    "    'MULTI_GESTN': 'del_mod_cs_mat_multi', \r\n",
    "    'NON_PROGRES_1STSTAGE': 'del_mod_cs_mat_np_1st', \r\n",
    "    'NON_PROGRES_2NDSTAGE': 'del_mod_cs_mat_np_2st', \r\n",
    "    'PLACENT_PREVIA': 'del_mod_cs_mat_previa', \r\n",
    "    'PLACENT_ABRUPTN': 'del_mod_cs_mat_abrupt', \r\n",
    "    'PREEXIST_HEALTH_PROBM': 'del_mod_cs_mat_cond', \r\n",
    "    'PREV_CSECTN': 'del_mod_cs_mat_prev_cs', \r\n",
    "    'PREV_UTERIN_INCISN': 'del_mod_cs_mat_myo', \r\n",
    "    'SUSPECT_CHORIOAMNION': 'del_mod_cs_mat_chorio', \r\n",
    "    'UNSUCCESS_VBAC1': 'del_mod_cs_mat_vbac', \r\n",
    "    'UTERIN_RUPT': 'del_mod_cs_mat_rupture', \r\n",
    "    'OTH_OBSTET_COMPLICAT': 'del_mod_cs_mat_other', \r\n",
    "    'SPECFY_OTH_OBSTET_COMP': 'del_mod_cs_mat_oth_spec', \r\n",
    "    'OTHER_INDICATN_FORCSECTN': 'del_mod_cs_oth', \r\n",
    "    'ACCOMODATE_CAREPROVID': 'del_mod_cs_oth_accom', \r\n",
    "    'MAT_REQUEST': 'del_mod_cs_oth_mat_req', \r\n",
    "    'OTH_INDICAT_UNK': 'del_mod_cs_oth_unk', \r\n",
    "    'OTHER_OTHER_INDICATNFOR_CSECTN': 'del_mod_cs_oth_oth', \r\n",
    "    'SPECFY_OTH_OTH_INDI_CSECTN': 'del_mod_cs_oth_oth_spec',\r\n",
    "    # 8. Presentation at delivery\r\n",
    "    'PRESENTATN_ATDELIVRY': 'del_presentation', \r\n",
    "    'TYPEOFBREECH': 'del_breech_spec', \r\n",
    "    'TYPEOFCEPHALIC': 'del_cephalic_spec',\r\n",
    "    # 9. Birth location\r\n",
    "    'BIRTHLOCATION1': 'del_birth_location',\r\n",
    "    'NAMEOFHOSPITAL1': 'del_hospital_spec',\r\n",
    "    'NAMEOFHOSPITAL1_SPEC': 'del_hospital_oth_spec',\r\n",
    "    # 10. During labour and delivery, did any complications occur?\r\n",
    "    'COMPLICATN_LAB_DEL': 'del_lnd_comp_yn', \r\n",
    "    'ATYPICAL_ABN_FETAL_SURVELNCE_NY': 'del_lnd_comp_fetal_surv', \r\n",
    "    'CLINICAL_INFECTION_NY': 'del_lnd_comp_infxn', \r\n",
    "    'MATERNAL_FEVER_NY': 'del_lnd_comp_mat_fever', \r\n",
    "    'FETAL_TACHYCARDIA1_NY': 'del_lnd_comp_fet_tachy', \r\n",
    "    'CLIN_CHORIOAMNION_NY': 'del_lnd_comp_chorio', \r\n",
    "    'POSITIV_BLOOD_CULT_NY': 'del_lnd_comp_culture', \r\n",
    "    'CORD_PROLAPSE1_NY': 'del_lnd_comp_prolapse', \r\n",
    "    'HYPERTEN_DISORDER_PREG1_NY': 'del_lnd_comp_htn', \r\n",
    "    'ECLAMPSIA2_NY': 'del_lnd_comp_eclampsia', \r\n",
    "    'GESTATIONAL_HYPERTEN2_NY': 'del_lnd_comp_ghtn', \r\n",
    "    'HELLP2_NY': 'del_lnd_comp_hellp', \r\n",
    "    'PREECLAMPSIA2_NY': 'del_lnd_comp_pet', \r\n",
    "    'PRE_HYPERTEN_IMPOS_PREECLAMP_NY': 'del_lnd_comp_htn_pet', \r\n",
    "    'HYSTERECTOMY2_NY': 'del_lnd_comp_hyst', \r\n",
    "    'MECONIUM2_NY': 'del_lnd_comp_mec', \r\n",
    "    'NON_PROGRESS_1STSTAGE_LABOUR_NY': 'del_lnd_comp_np_1st', \r\n",
    "    'NON_PROGRESS_2NDSTAGE_LABOR': 'del_lnd_comp_np_2st', \r\n",
    "    'NON_PROGRESIV_LABOR_DESC_DYS_NY': 'del_lnd_comp_np_gen', \r\n",
    "    'PERINEAL_HEMATOMA2_NY': 'del_lnd_comp_hematoma', \r\n",
    "    'PLACENTAL_ABRUPTION3_NY': 'del_lnd_comp_abruption', \r\n",
    "    'POSTPARTUM_HEMORHAGE2_NY': 'del_lnd_comp_pph', \r\n",
    "    'TRANSFUSION2_NY': 'del_lnd_comp_pph_trans', \r\n",
    "    'PULMONARY_EMBOLISM2_NY': 'del_lnd_comp_pe', \r\n",
    "    'RETAINED_PLACENTA_MAN_REMOV2_NY': 'del_lnd_comp_plac_man', \r\n",
    "    'RETAIN_PLACENTA_SURG_REMOV2_NY': 'del_lnd_comp_plac_sx', \r\n",
    "    'SHOULDER_DYSTOCIA1_NY': 'del_lnd_comp_shoulder', \r\n",
    "    'UTERINE_ATONY2_NY': 'del_lnd_comp_atony', \r\n",
    "    'UTERINE_DEHISCENCE2_NY': 'del_lnd_comp_dehis', \r\n",
    "    'UTERINE_RUPTURE2_NY': 'del_lnd_comp_rupture', \r\n",
    "    'OTHER_COMPLICATIONS_NY': 'del_lnd_comp_other', \r\n",
    "    'ESTIMAT_BLOOD_LOSS2': 'del_lnd_comp_blood_loss', \r\n",
    "    'SPECIFY_OTHER_COMPLICATIONS': 'del_lnd_comp_oth_spec',\r\n",
    "    # 12. Pain Management for labour and/or vaginal delivery\r\n",
    "    'PAIN_MGMT_NY': 'del_pain_mgmt_yn',\r\n",
    "    'NITROUS_OXIDE_NY': 'del_pain_nitrous', \r\n",
    "    'OPIOIDS_NY': 'del_pain_opiod', \r\n",
    "    'EPIDURAL_NY': 'del_pain_epi', \r\n",
    "    'COMBN_SPINAL_EPIDURAL_NY': 'del_pain_cse', \r\n",
    "    'STER_WATER_SALINE_INJECTN_NY': 'del_pain_sterile_h2o', \r\n",
    "    'TENS': 'del_pain_tens', 'TUB_SHOWER_NY': 'del_pain_tub', \r\n",
    "    'LOCAL_NY': 'del_pain_local', \r\n",
    "    'PUDENTAL_NY': 'del_pain_pudendal', \r\n",
    "    'OTHER_PAIN_MGNT': 'del_pain_oth', \r\n",
    "    'UNKNOWN_PAIN_NY': 'del_pain_unk', \r\n",
    "    'SPECIFY_OTHER_PAIN_MGMT': 'del_pain_oth_spc', \r\n",
    "    # 13. Anesthesia for Cesarian Section\r\n",
    "    'ANESTHESIA_CSECTION_NY': 'del_pain_cs_yn', \r\n",
    "    'EPIDURAL_CS_NY': 'del_pain_cs_epi', \r\n",
    "    'SPINAL_NY': 'del_pain_cs_spinal', \r\n",
    "    'GENERAL_NY': 'del_pain_cs_general', \r\n",
    "    'ANATHESIA_UNK': 'del_pain_cs_unk',\r\n",
    "    # 14. Was the placenta:\r\n",
    "    'PLACENTA_SENT_PATHOLOG_NY': 'del_pp_pathology', \r\n",
    "    'PLACENTA_PICKUP_BIOBANK_NY': 'del_pp_biobank', \r\n",
    "    'DISCHARGED_HOME_NY': 'del_pp_home', \r\n",
    "    'TRANSFER_TO_OTH_HOSP_NY': 'del_pp_oth_hospital', \r\n",
    "    'TRANSFER_TO_ICU_NY': 'del_pp_icu', \r\n",
    "    'MATERNAL_DEATH_UNREL_PREG_BIRTH': 'del_pp_death', \r\n",
    "    'MAT_DEATH_RELAT_PREG_BIRTH_NY': 'del_pp_death_preg', \r\n",
    "    # 15. Maternal outcome:\r\n",
    "    'DISCHARG_HOME_DT': 'del_pp_home_date', \r\n",
    "    'HOSP_TRANSFER_DT': 'del_pp_oth_hospital_date', \r\n",
    "    'TRANSFER_ICU_DT': 'del_pp_icu_date', \r\n",
    "    'DATE_MATERNAL_DEATH_UNREL_PREG': 'del_pp_death_date', \r\n",
    "    'MATERNAL_DEATH_RELAT_PREG_DT': 'del_pp_death_preg_date'      \r\n",
    "}\r\n",
    "del_ant = obs_clinic_migration.RedcapConv(\r\n",
    "    del_ant_dict, 0, master_df = obs_data_sets.rave_clinic\r\n",
    ")"
   ],
   "outputs": [
    {
     "output_type": "stream",
     "name": "stdout",
     "text": [
      "Column 'del_num_fetus', variable 'Singleton' has an issue.\n",
      "Column 'del_num_fetus', variable 'Twins' has an issue.\n",
      "Column 'del_baby_obsid', variable 'B0' has an issue.\n",
      "Column 'del_baby_obsid', variable '91600122B-01' has an issue.\n",
      "Column 'del_baby_obsid', variable '91201767-BOI' has an issue.\n",
      "Column 'del_ant_iugr_per', variable '= 3 or < 10 Percentile' has an issue.\n",
      "Column 'del_ant_aph_ebl', variable '<500 cc' has an issue.\n",
      "Column 'del_breech_spec', variable 'Breech Type Unknown' has an issue.\n",
      "Column 'del_cephalic_spec', variable 'Cephalic Type Unknown' has an issue.\n",
      "Column 'del_hospital_spec', variable 'St. Michael’s Hospital' has an issue.\n"
     ]
    }
   ],
   "metadata": {}
  },
  {
   "cell_type": "markdown",
   "source": [
    "## Delivery Data: Antepartum (1) - Post-processing<a name=\"del-ant-post\"></a>"
   ],
   "metadata": {}
  },
  {
   "cell_type": "code",
   "execution_count": 77,
   "source": [
    "del_ant.change_str(\r\n",
    "    {\r\n",
    "        'del_num_fetus': {\r\n",
    "            'Singleton': 'Singleton (1)',\r\n",
    "            'Twins' : 'Twins (2)'\r\n",
    "        }, \r\n",
    "        'del_ant_iugr_per': {\r\n",
    "            '= 3 or < 10 Percentile': '≥3 or < 10 Percentile'\r\n",
    "        }, \r\n",
    "        'del_ant_aph_ebl': {'<500 cc': '< 500 cc'},\r\n",
    "        'del_breech_spec': {'Breech Type Unknown': 'Unknown'},\r\n",
    "        'del_cephalic_spec': {'Cephalic Type Unknown': 'Unknown'},\r\n",
    "        'del_hospital_spec': {\r\n",
    "            \"St. Michael’s Hospital\": \"St. Michael's Hospital\"\r\n",
    "        },\r\n",
    "        'del_baby_obsid': {\r\n",
    "            '91201767-BOI': 'B01',\r\n",
    "            'B0': 'B01', \r\n",
    "            '91600122B-01': 'B01'\r\n",
    "        }\r\n",
    "    }\r\n",
    ")\r\n",
    "del_ant.remove_na()"
   ],
   "outputs": [
    {
     "output_type": "stream",
     "name": "stdout",
     "text": [
      "1    2259\n",
      "2      57\n",
      "Name: del_num_fetus, dtype: int64\n",
      "2    44\n",
      "1     6\n",
      "Name: del_ant_iugr_per, dtype: int64\n",
      "1    13\n",
      "4    11\n",
      "3     1\n",
      "Name: del_ant_aph_ebl, dtype: int64\n",
      "5    102\n",
      "4     23\n",
      "3     11\n",
      "1      6\n",
      "Name: del_breech_spec, dtype: int64\n",
      "4    2092\n",
      "5       9\n",
      "2       3\n",
      "3       1\n",
      "1       1\n",
      "Name: del_cephalic_spec, dtype: int64\n",
      "1    2196\n",
      "2      96\n",
      "3      15\n",
      "Name: del_hospital_spec, dtype: int64\n",
      "1    2316\n",
      "Name: del_baby_obsid, dtype: int64\n"
     ]
    }
   ],
   "metadata": {}
  },
  {
   "cell_type": "markdown",
   "source": [
    "## Delivery Data: Antepartum (1) - Data Verification<a name=\"del-ant-comp\"></a>"
   ],
   "metadata": {}
  },
  {
   "cell_type": "code",
   "execution_count": 78,
   "source": [
    "del_ant.compare_conv_dde(obs_data_sets.redcap_clinic)"
   ],
   "outputs": [
    {
     "output_type": "execute_result",
     "data": {
      "text/plain": [
       "Empty DataFrame\n",
       "Columns: [obs_id, del_num_fetus, del_chor_amnio, del_baby_obsid, del_ant_comp_yn, del_ant_comp_fet, del_ant_fet_anom, del_ant_fet_allo, del_ant_fet_iugr, del_ant_fet_lga, del_ant_fet_oligo, del_ant_fet_poly, del_ant_fet_oth, del_ant_fetanom_spec, del_ant_iugr_per, del_ant_fet_oth_spec, del_ant_plac_yn, del_ant_plac_abrpt, del_ant_plac_accreta, del_ant_plac_increta, del_ant_plac_percreta, del_ant_plac_previa, del_ant_plac_oth, del_ant_abrpt_spec, del_ant_prev_spec, del_ant_plac_oth_spec, del_ant_mat_yn, del_ant_mat_anemia, del_ant_mat_aph, del_ant_mat_gdm, del_ant_mat_hyperemesis, del_ant_mat_htn_gen, del_ant_mat_eclampsia, del_ant_mat_ghtn, del_ant_mat_hellp, del_ant_mat_pet, del_ant_mat_htn_pet, del_ant_mat_ptl, del_ant_mat_pprom, del_ant_mat_oth, del_ant_aph_onset, del_ant_aph_trans, del_ant_aph_ebl, del_ant_mat_oth_spec, del_acs_yn, del_acs_type, del_acs_cel_dose, del_acs_dex_dose, del_lnd_adm_dt_time, del_lnd_adm_cx_unk, del_lnd_adm_cx, del_lnd_lab_onset_unk, del_lnd_lab_onset, del_lnd_rom_dttm_unk, del_lnd_rom_dttm, del_lnd_rom_type, del_lnd_gbs, del_lnd_fully_unk, del_lnd_fully_dttm, del_lnd_push_unk, del_lnd_push_dttm, del_lnd_iol_yn, del_lnd_iol_reason, del_iol_fet_yn, del_iol_fet_atypical, del_iol_fet_anomaly, del_iol_fet_iugr, del_iol_fet_macrosomia, del_iol_fet_multiple, del_iol_fet_post_dat, del_iol_fet_oth, del_iol_fet_termination, del_iol_fet_oth_spec, del_iol_mat_yn, del_iol_mat_prom, del_iol_mat_diabetes, del_iol_mat_precipitous, del_iol_mat_oligo, del_iol_mat_oth, del_iol_mat_pre_med_cond, del_iol_mat_preeclampsia, del_iol_mat_oth_spec, del_iol_oth_yn, del_iol_oth_mat_req, del_iol_oth_safety, del_iol_oth_accom, del_iol_oth_oth, del_iol_oth_oth_spec, del_iol_method, del_lnd_iol_meth_amni, del_lnd_iol_meth_pit, del_lnd_iol_meth_prost, del_lnd_iol_meth_foley, del_lnd_iol_meth_tent, del_lnd_iol_meth_sweep, del_lnd_iol_bishop_unk, del_lnd_iol_bishop, del_lnd_aug_yn, del_lnd_aug_rom, del_lnd_aug_pit, ...]\n",
       "Index: []\n",
       "\n",
       "[0 rows x 210 columns]"
      ],
      "text/html": [
       "<div>\n",
       "<style scoped>\n",
       "    .dataframe tbody tr th:only-of-type {\n",
       "        vertical-align: middle;\n",
       "    }\n",
       "\n",
       "    .dataframe tbody tr th {\n",
       "        vertical-align: top;\n",
       "    }\n",
       "\n",
       "    .dataframe thead th {\n",
       "        text-align: right;\n",
       "    }\n",
       "</style>\n",
       "<table border=\"1\" class=\"dataframe\">\n",
       "  <thead>\n",
       "    <tr style=\"text-align: right;\">\n",
       "      <th></th>\n",
       "      <th>obs_id</th>\n",
       "      <th>del_num_fetus</th>\n",
       "      <th>del_chor_amnio</th>\n",
       "      <th>del_baby_obsid</th>\n",
       "      <th>del_ant_comp_yn</th>\n",
       "      <th>...</th>\n",
       "      <th>del_pp_oth_hospital_date</th>\n",
       "      <th>del_pp_icu_date</th>\n",
       "      <th>del_pp_death_date</th>\n",
       "      <th>del_pp_death_preg_date</th>\n",
       "      <th>Source</th>\n",
       "    </tr>\n",
       "  </thead>\n",
       "  <tbody>\n",
       "  </tbody>\n",
       "</table>\n",
       "<p>0 rows × 210 columns</p>\n",
       "</div>"
      ]
     },
     "metadata": {},
     "execution_count": 78
    }
   ],
   "metadata": {}
  },
  {
   "cell_type": "markdown",
   "source": [
    "## Delivery Data: Antepartum (1) - Prepare and Save<a name=\"del-ant-save\"></a>"
   ],
   "metadata": {}
  },
  {
   "cell_type": "code",
   "execution_count": 79,
   "source": [
    "del_ant.prep_imp('delivery_data_arm_1', 'delivery_data_complete')\r\n",
    "del_ant.data.to_csv('../data/processed/del_ant.csv', index = False)"
   ],
   "outputs": [],
   "metadata": {}
  },
  {
   "cell_type": "markdown",
   "source": [
    "# Delivery Data: Antepartum (2)<a name=\"del-lnd-comp\"></a>"
   ],
   "metadata": {}
  },
  {
   "cell_type": "markdown",
   "source": [
    "## Delivery Data: Antepartum (2) - Processing<a name=\"del-lnd-comp-pro\"></a>"
   ],
   "metadata": {}
  },
  {
   "cell_type": "code",
   "execution_count": 80,
   "source": [
    "del_lnd_comp_dict = {\r\n",
    "    'CERVDILAT_CSECT_UNK': 'del_mod_cs_dil_unk', \r\n",
    "    'CERVDILAT_CSECTN': 'del_mod_cs_dil', \r\n",
    "}\r\n",
    "del_lnd_comp = obs_clinic_migration.RedcapConv(\r\n",
    "    del_lnd_comp_dict, 0, master_df = obs_data_sets.rave_clinic\r\n",
    ")"
   ],
   "outputs": [],
   "metadata": {}
  },
  {
   "cell_type": "markdown",
   "source": [
    "## Delivery Data: Antepartum (2) - Post-processing<a name=\"del-lnd-comp-post\"></a>"
   ],
   "metadata": {}
  },
  {
   "cell_type": "code",
   "execution_count": 81,
   "source": [
    "del_lnd_comp.remove_na()"
   ],
   "outputs": [],
   "metadata": {}
  },
  {
   "cell_type": "markdown",
   "source": [
    "## Delivery Data: Antepartum (2) - Data Verification<a name=\"del-lnd-comp-comp\"></a>"
   ],
   "metadata": {}
  },
  {
   "cell_type": "code",
   "execution_count": 82,
   "source": [
    "del_lnd_comp.compare_conv_dde(obs_data_sets.redcap_clinic)"
   ],
   "outputs": [
    {
     "output_type": "execute_result",
     "data": {
      "text/plain": [
       "Empty DataFrame\n",
       "Columns: [obs_id, del_mod_cs_dil_unk, del_mod_cs_dil, Source]\n",
       "Index: []"
      ],
      "text/html": [
       "<div>\n",
       "<style scoped>\n",
       "    .dataframe tbody tr th:only-of-type {\n",
       "        vertical-align: middle;\n",
       "    }\n",
       "\n",
       "    .dataframe tbody tr th {\n",
       "        vertical-align: top;\n",
       "    }\n",
       "\n",
       "    .dataframe thead th {\n",
       "        text-align: right;\n",
       "    }\n",
       "</style>\n",
       "<table border=\"1\" class=\"dataframe\">\n",
       "  <thead>\n",
       "    <tr style=\"text-align: right;\">\n",
       "      <th></th>\n",
       "      <th>obs_id</th>\n",
       "      <th>del_mod_cs_dil_unk</th>\n",
       "      <th>del_mod_cs_dil</th>\n",
       "      <th>Source</th>\n",
       "    </tr>\n",
       "  </thead>\n",
       "  <tbody>\n",
       "  </tbody>\n",
       "</table>\n",
       "</div>"
      ]
     },
     "metadata": {},
     "execution_count": 82
    }
   ],
   "metadata": {}
  },
  {
   "cell_type": "markdown",
   "source": [
    "## Delivery Data: Antepartum (2) - Prepare and Save<a name=\"del-lnd-comp-save\"></a>"
   ],
   "metadata": {}
  },
  {
   "cell_type": "code",
   "execution_count": 83,
   "source": [
    "del_lnd_comp.prep_imp('delivery_data_arm_1', 'delivery_data_complete')\r\n",
    "del_lnd_comp.data.to_csv('../data/processed/del_lnd_comp.csv', index = False)"
   ],
   "outputs": [],
   "metadata": {}
  },
  {
   "cell_type": "markdown",
   "source": [
    "# Delivery Data: Antibiotics during Labour and Delivery<a name=\"abx-labr\"></a>"
   ],
   "metadata": {}
  },
  {
   "cell_type": "markdown",
   "source": [
    "## Delivery Data: Antibiotics during Labour and Delivery - Preprocessing<a name=\"abx-labr-pre\"></a>"
   ],
   "metadata": {}
  },
  {
   "cell_type": "code",
   "execution_count": 84,
   "source": [
    "for i in range(1, 18):\r\n",
    "    # Add 'Other antibiotic, please specify' column \r\n",
    "    # In Rave, 'Other antibiotic, please specify' data is intermingled with\r\n",
    "    # associated labelled data\r\n",
    "    obs_data_sets.rave_clinic = (\r\n",
    "        obs_clinic_migration_preprocessing.create_specify_col(\r\n",
    "            create_col = 'ANTIBIOTIC_SPEC_' + str(i), \r\n",
    "            coded_col = 'ANTIBIOTIC_STD_' + str(i), \r\n",
    "            label_col = 'ANTIBIOTIC_' + str(i), \r\n",
    "            label_code = '12', \r\n",
    "            label_ans = 'Other',\r\n",
    "            df = obs_data_sets.rave_clinic\r\n",
    "        )\r\n",
    "    )\r\n",
    "    obs_data_sets.rave_clinic = (\r\n",
    "        obs_clinic_migration_preprocessing.create_specify_col(\r\n",
    "            create_col = 'INDICATION_ANTIBIOT_SPEC_' + str(i), \r\n",
    "            coded_col = 'INDICATION_ANTIBIOT_STD_' + str(i), \r\n",
    "            label_col = 'INDICATION_ANTIBIOT_' + str(i), \r\n",
    "            label_code = '9', \r\n",
    "            label_ans = 'Other',\r\n",
    "            df = obs_data_sets.rave_clinic\r\n",
    "        )\r\n",
    "    )\r\n",
    "   \r\n",
    "    # format relevant columns\r\n",
    "    obs_data_sets.rave_clinic['ANTI_BIOT_ONSET_DT_TM_' + str(i)] = (\r\n",
    "        pd.to_datetime(\r\n",
    "            obs_data_sets.rave_clinic['ANTI_BIOT_ONSET_DT_TM_' + str(i)], \r\n",
    "            format = '%d/%m/%Y %I:%M %p'\r\n",
    "        ).dt.strftime('%Y-%m-%d %H:%M')\r\n",
    "    )"
   ],
   "outputs": [],
   "metadata": {}
  },
  {
   "cell_type": "markdown",
   "source": [
    "## Delivery Data: Antibiotics during Labour and Delivery - Processing<a name=\"abx-labr-pro\"></a>"
   ],
   "metadata": {}
  },
  {
   "cell_type": "code",
   "execution_count": 85,
   "source": [
    "abx_labr_dict = {\r\n",
    "    'ANTIBIOTICS_LAB_DEL_NY_': 'abx_yn', \r\n",
    "    'ANTIBIOTIC_' : 'abx_med_spec',\r\n",
    "    'ANTIBIOTIC_SPEC_': 'abx_med_oth_spec',\r\n",
    "    'INDICATION_ANTIBIOT_': 'abx_indc',\r\n",
    "    'INDICATION_ANTIBIOT_SPEC_': 'abx_indc_oth_spec',\r\n",
    "    'ANTI_BIOT_ONSET_DT_TM_': 'abx_dt_time',    \r\n",
    "}\r\n",
    "abx_labr = obs_clinic_migration.RedcapConv(\r\n",
    "    abx_labr_dict, 17, master_df = obs_data_sets.rave_clinic\r\n",
    ")"
   ],
   "outputs": [],
   "metadata": {}
  },
  {
   "cell_type": "markdown",
   "source": [
    "## Delivery Data: Antibiotics during Labour and Delivery - Data Verification<a name=\"abx-labr-comp\"></a>"
   ],
   "metadata": {}
  },
  {
   "cell_type": "code",
   "execution_count": 86,
   "source": [
    "abx_labr.compare_conv_dde(obs_data_sets.redcap_clinic)"
   ],
   "outputs": [
    {
     "output_type": "execute_result",
     "data": {
      "text/plain": [
       "Empty DataFrame\n",
       "Columns: [obs_id, redcap_repeat_instance, abx_yn, abx_med_spec, abx_med_oth_spec, abx_indc, abx_indc_oth_spec, abx_dt_time, Source]\n",
       "Index: []"
      ],
      "text/html": [
       "<div>\n",
       "<style scoped>\n",
       "    .dataframe tbody tr th:only-of-type {\n",
       "        vertical-align: middle;\n",
       "    }\n",
       "\n",
       "    .dataframe tbody tr th {\n",
       "        vertical-align: top;\n",
       "    }\n",
       "\n",
       "    .dataframe thead th {\n",
       "        text-align: right;\n",
       "    }\n",
       "</style>\n",
       "<table border=\"1\" class=\"dataframe\">\n",
       "  <thead>\n",
       "    <tr style=\"text-align: right;\">\n",
       "      <th></th>\n",
       "      <th>obs_id</th>\n",
       "      <th>redcap_repeat_instance</th>\n",
       "      <th>abx_yn</th>\n",
       "      <th>abx_med_spec</th>\n",
       "      <th>abx_med_oth_spec</th>\n",
       "      <th>abx_indc</th>\n",
       "      <th>abx_indc_oth_spec</th>\n",
       "      <th>abx_dt_time</th>\n",
       "      <th>Source</th>\n",
       "    </tr>\n",
       "  </thead>\n",
       "  <tbody>\n",
       "  </tbody>\n",
       "</table>\n",
       "</div>"
      ]
     },
     "metadata": {},
     "execution_count": 86
    }
   ],
   "metadata": {}
  },
  {
   "cell_type": "markdown",
   "source": [
    "## Delivery Data: Antibiotics during Labour and Delivery - Prepare and Save<a name=\"abx-labr-save\"></a>"
   ],
   "metadata": {}
  },
  {
   "cell_type": "code",
   "execution_count": 87,
   "source": [
    "abx_labr.prep_imp(\r\n",
    "    'delivery_data_arm_1', 'antibiotics_during_labour_delivery_complete', \r\n",
    "    'antibiotics_during_labour_delivery'\r\n",
    ")\r\n",
    "abx_labr.data.to_csv('../data/processed/abx_labr.csv', index = False)"
   ],
   "outputs": [],
   "metadata": {}
  },
  {
   "cell_type": "markdown",
   "source": [
    "# Neonatal Form: Delivery Data<a name=\"ante-temp\"></a>"
   ],
   "metadata": {}
  },
  {
   "cell_type": "markdown",
   "source": [
    "## Neonatal Form: Delivery Data - Preprocessing<a name=\"ante-temp-pre\"></a>"
   ],
   "metadata": {}
  },
  {
   "cell_type": "code",
   "execution_count": 88,
   "source": [
    "\r\n",
    "for i in range(1, 3):\r\n",
    "    # Rave has date and time in one column; separate columns in REDCap\r\n",
    "    date_time = (\r\n",
    "        obs_data_sets.rave_clinic['DELIVERY_DT_TM_' + str(i)].str.split(\r\n",
    "            ' ', n = 1, expand = True\r\n",
    "        )\r\n",
    "    )\r\n",
    "    obs_data_sets.rave_clinic['DELIVERY_DATE_' + str(i)] = (\r\n",
    "        pd.to_datetime(date_time[0], format = '%d%b%Y').dt.strftime('%Y-%m-%d')\r\n",
    "    )\r\n",
    "    obs_data_sets.rave_clinic['DELIVERY_TIME_' + str(i)] = (\r\n",
    "        pd.to_datetime(date_time[1], format = '%H:%M:%S').dt.strftime('%H:%M')\r\n",
    "    )\r\n",
    "    \r\n",
    "    # some columns don't have an associated 'STD' column and needed to be coded\r\n",
    "    for neonatal_nr in [\r\n",
    "        'BIRTHWT_NR_', 'HEADCIRCUM_NR_', 'LENGTH_NR_',  'APGAR_SCORE1_NA_', \r\n",
    "        'APGAR_SCORE5_NA_', 'APGAR_SCORE10_NA_'\r\n",
    "    ]:\r\n",
    "        obs_data_sets.rave_clinic[neonatal_nr + str(i)].replace(\r\n",
    "            {'1': 'Not recorded', '0': 'Yes'}, inplace = True\r\n",
    "        )"
   ],
   "outputs": [],
   "metadata": {}
  },
  {
   "cell_type": "markdown",
   "source": [
    "## Neonatal Form: Delivery Data - Processing<a name=\"ante-temp-pro\"></a>"
   ],
   "metadata": {}
  },
  {
   "cell_type": "code",
   "execution_count": 89,
   "source": [
    "ante_temp_dict = {\r\n",
    "    'DELIVERY_DATE_': 'neo_del_date', \r\n",
    "    'DELIVERY_TIME_': 'neo_del_time', \r\n",
    "    'PREGNANCY_OUTCOME_': 'neo_del_preg_outcome', \r\n",
    "    'PREGNANCY_LOSS_': 'neo_del_loss_20wk', \r\n",
    "    'STILLBIRTH_': 'neo_del_stillbirth', \r\n",
    "    'INFANTSEX_': 'neo_del_fet_sex', \r\n",
    "    'BIRTHWT_NR_': 'neo_del_birthwt_yn', \r\n",
    "    'BIRTHWT_': 'neo_del_birthwt', \r\n",
    "    'HEADCIRCUM_NR_': 'neo_del_head_circ_yn', \r\n",
    "    'HEADCIRCUM_': 'neo_del_head_circ', \r\n",
    "    'LENGTH_NR_': 'neo_del_length_yn', \r\n",
    "    'LENGTH_': 'neo_del_length', \r\n",
    "    'APGAR_SCORE1_NA_': 'neo_del_apgar_1_yn', \r\n",
    "    'APGAR_SCORE1_': 'neo_del_apgar_1', \r\n",
    "    'APGAR_SCORE5_NA_': 'neo_del_apgar_5_yn', \r\n",
    "    'APGAR_SCORE5_': 'neo_del_apgar_5', \r\n",
    "    'APGAR_SCORE10_NA_': 'neo_del_apgar_10_yn', \r\n",
    "    'APGAR_SCORE10_': 'neo_del_apgar_10'\r\n",
    "}\r\n",
    "ante_temp = obs_clinic_migration.RedcapConv(\r\n",
    "    ante_temp_dict, 2, obs_data_sets.rave_clinic\r\n",
    ")"
   ],
   "outputs": [
    {
     "output_type": "stream",
     "name": "stdout",
     "text": [
      "Column 'neo_del_preg_outcome', variable 'Stillbirth at >=20wks or >=500g' has an issue.\n",
      "Column 'neo_del_stillbirth', variable 'Spontaneous - occurred during antepartum period' has an issue.\n",
      "Column 'neo_del_stillbirth', variable 'Spontaneous - occurred during intrapartum period' has an issue.\n"
     ]
    }
   ],
   "metadata": {}
  },
  {
   "cell_type": "markdown",
   "source": [
    "## Neonatal Form: Delivery Data - Post-processing<a name=\"ante-temp-post\"></a>"
   ],
   "metadata": {}
  },
  {
   "cell_type": "code",
   "execution_count": 90,
   "source": [
    "ante_temp.change_str(\r\n",
    "    {\r\n",
    "        'neo_del_preg_outcome': {\r\n",
    "            'Stillbirth at >=20wks or >=500g' : 'Stillbirth at >20wks or >500g'\r\n",
    "        },\r\n",
    "        'neo_del_stillbirth': {\r\n",
    "            'Spontaneous - occurred during antepartum period': \r\n",
    "                'Spontaneous - Occurred during antepartum period',\r\n",
    "            'Spontaneous - occurred during intrapartum period': \r\n",
    "                'Spontaneous - Occurred during intrapartum period'\r\n",
    "        }\r\n",
    "    }\r\n",
    ")"
   ],
   "outputs": [
    {
     "output_type": "stream",
     "name": "stdout",
     "text": [
      "1    2337\n",
      "3      19\n",
      "2      12\n",
      "Name: neo_del_preg_outcome, dtype: int64\n",
      "1    9\n",
      "2    6\n",
      "3    2\n",
      "Name: neo_del_stillbirth, dtype: int64\n"
     ]
    }
   ],
   "metadata": {}
  },
  {
   "cell_type": "markdown",
   "source": [
    "## Neonatal Form: Delivery Data - Data Verification<a name=\"ante-temp-comp\"></a>"
   ],
   "metadata": {}
  },
  {
   "cell_type": "code",
   "execution_count": 91,
   "source": [
    "ante_temp.compare_conv_dde(obs_data_sets.redcap_clinic)"
   ],
   "outputs": [
    {
     "output_type": "execute_result",
     "data": {
      "text/plain": [
       "Empty DataFrame\n",
       "Columns: [obs_id, redcap_repeat_instance, neo_del_date, neo_del_time, neo_del_preg_outcome, neo_del_loss_20wk, neo_del_stillbirth, neo_del_fet_sex, neo_del_birthwt_yn, neo_del_birthwt, neo_del_head_circ_yn, neo_del_head_circ, neo_del_length_yn, neo_del_length, neo_del_apgar_1_yn, neo_del_apgar_1, neo_del_apgar_5_yn, neo_del_apgar_5, neo_del_apgar_10_yn, neo_del_apgar_10, Source]\n",
       "Index: []\n",
       "\n",
       "[0 rows x 21 columns]"
      ],
      "text/html": [
       "<div>\n",
       "<style scoped>\n",
       "    .dataframe tbody tr th:only-of-type {\n",
       "        vertical-align: middle;\n",
       "    }\n",
       "\n",
       "    .dataframe tbody tr th {\n",
       "        vertical-align: top;\n",
       "    }\n",
       "\n",
       "    .dataframe thead th {\n",
       "        text-align: right;\n",
       "    }\n",
       "</style>\n",
       "<table border=\"1\" class=\"dataframe\">\n",
       "  <thead>\n",
       "    <tr style=\"text-align: right;\">\n",
       "      <th></th>\n",
       "      <th>obs_id</th>\n",
       "      <th>redcap_repeat_instance</th>\n",
       "      <th>neo_del_date</th>\n",
       "      <th>neo_del_time</th>\n",
       "      <th>neo_del_preg_outcome</th>\n",
       "      <th>...</th>\n",
       "      <th>neo_del_apgar_5_yn</th>\n",
       "      <th>neo_del_apgar_5</th>\n",
       "      <th>neo_del_apgar_10_yn</th>\n",
       "      <th>neo_del_apgar_10</th>\n",
       "      <th>Source</th>\n",
       "    </tr>\n",
       "  </thead>\n",
       "  <tbody>\n",
       "  </tbody>\n",
       "</table>\n",
       "<p>0 rows × 21 columns</p>\n",
       "</div>"
      ]
     },
     "metadata": {},
     "execution_count": 91
    }
   ],
   "metadata": {}
  },
  {
   "cell_type": "markdown",
   "source": [
    "## Neonatal Form: Delivery Data - Prepare and Save<a name=\"ante-temp-save\"></a>"
   ],
   "metadata": {}
  },
  {
   "cell_type": "code",
   "execution_count": 92,
   "source": [
    "ante_temp.prep_imp(\r\n",
    "    'neonatal_data_arm_1', 'neonatal_form_complete', 'neonatal_form'\r\n",
    ")\r\n",
    "ante_temp.data.to_csv('../data/processed/ante_temp.csv', index = False)"
   ],
   "outputs": [],
   "metadata": {}
  },
  {
   "cell_type": "markdown",
   "source": [
    "# Neonatal Form: Cord Blood<a name=\"neo-cbg\"></a>"
   ],
   "metadata": {}
  },
  {
   "cell_type": "markdown",
   "source": [
    "## Neonatal Form: Cord Blood - Preprocessing<a name=\"neo-cbg-pre\"></a>"
   ],
   "metadata": {}
  },
  {
   "cell_type": "code",
   "execution_count": 93,
   "source": [
    "# check that 'BABY_NUM3_1' goes with 'BABY_NUM3_2' and\r\n",
    "# 'BABY_NUM3_3' goes with 'BABY_NUM3_4'\r\n",
    "obs_data_sets.rave_clinic['BABY_NUM3_1'].equals(\r\n",
    "    obs_data_sets.rave_clinic['BABY_NUM3_2']\r\n",
    ")\r\n",
    "obs_data_sets.rave_clinic['BABY_NUM3_3'].equals(\r\n",
    "    obs_data_sets.rave_clinic['BABY_NUM3_4']\r\n",
    ")\r\n",
    "obs_data_sets.rave_clinic.loc[\r\n",
    "    obs_data_sets.rave_clinic[\r\n",
    "        'ARTERIAL_VENOUS_1'\r\n",
    "    ] == obs_data_sets.rave_clinic[\r\n",
    "        'ARTERIAL_VENOUS_2'\r\n",
    "    ], 'Subject'\r\n",
    "]\r\n",
    "obs_data_sets.rave_clinic.loc[\r\n",
    "    obs_data_sets.rave_clinic[\r\n",
    "        'ARTERIAL_VENOUS_3'\r\n",
    "    ] == obs_data_sets.rave_clinic[\r\n",
    "        'ARTERIAL_VENOUS_4'\r\n",
    "    ], 'Subject'\r\n",
    "]\r\n",
    "\r\n",
    "for var_w_unknown in [\r\n",
    "    'PH_UNKNOWN_', 'HCO3_UNKNOWN_', 'PCO2_UNKNOWN_', \r\n",
    "    'PO2_UNKNOWN_', 'BASE_EXCESS_UNKNOWN_'\r\n",
    "]:\r\n",
    "    for i in range(1, 5):\r\n",
    "        # some columns don't have an associated 'STD' column and needed to be\r\n",
    "        #  coded\r\n",
    "        obs_data_sets.rave_clinic[var_w_unknown + str(i)].replace(\r\n",
    "            {'1': 'Unknown', '0': 'Known'}, inplace = True\r\n",
    "        )\r\n",
    "\r\n",
    "        # value should be empty if not collected\r\n",
    "        obs_data_sets.rave_clinic.loc[\r\n",
    "            obs_data_sets.rave_clinic['COLLECTED_NY_' + str(i)] == 'No',\r\n",
    "            var_w_unknown + str(i)\r\n",
    "        ] = np.NaN\r\n",
    "        \r\n",
    "# rename columns because there are 4 iterations which correspond to 2 instances\r\n",
    "# of venous and arterial\r\n",
    "obs_data_sets.rave_clinic.rename(\r\n",
    "    columns = {\r\n",
    "        'BABY_NUM3_1': 'ART_BABY_NUM3_1',\r\n",
    "        'COLLECTED_NY_1': 'ART_COLLECTED_NY_1',\r\n",
    "        'PH_1': 'ART_PH_1',\r\n",
    "        'PH_UNKNOWN_1': 'ART_PH_UNKNOWN_1',\r\n",
    "        'HCO3_1': 'ART_HCO3_1',\r\n",
    "        'HCO3_UNKNOWN_1': 'ART_HCO3_UNKNOWN_1',\r\n",
    "        'PCO2_1': 'ART_PCO2_1',\r\n",
    "        'PCO2_UNKNOWN_1': 'ART_PCO2_UNKNOWN_1', \r\n",
    "        'PO2_1': 'ART_PO2_1',\r\n",
    "        'PO2_UNKNOWN_1': 'ART_PO2_UNKNOWN_1',\r\n",
    "        'BASE_EXCESS_1': 'ART_BASE_EXCESS_1',\r\n",
    "        'BASE_EXCESS_UNKNOWN_1': 'ART_BASE_EXCESS_UNKNOWN_1',\r\n",
    "        \r\n",
    "        'BABY_NUM3_2': 'VEN_BABY_NUM3_1',\r\n",
    "        'COLLECTED_NY_2': 'VEN_COLLECTED_NY_1',\r\n",
    "        'PH_2': 'VEN_PH_1',\r\n",
    "        'PH_UNKNOWN_2': 'VEN_PH_UNKNOWN_1',\r\n",
    "        'HCO3_2': 'VEN_HCO3_1',\r\n",
    "        'HCO3_UNKNOWN_2': 'VEN_HCO3_UNKNOWN_1',\r\n",
    "        'PCO2_2': 'VEN_PCO2_1',\r\n",
    "        'PCO2_UNKNOWN_2': 'VEN_PCO2_UNKNOWN_1', \r\n",
    "        'PO2_2': 'VEN_PO2_1',\r\n",
    "        'PO2_UNKNOWN_2': 'VEN_PO2_UNKNOWN_1',\r\n",
    "        'BASE_EXCESS_2': 'VEN_BASE_EXCESS_1',\r\n",
    "        'BASE_EXCESS_UNKNOWN_2': 'VEN_BASE_EXCESS_UNKNOWN_1',\r\n",
    "        \r\n",
    "        'BABY_NUM3_3': 'ART_BABY_NUM3_2',\r\n",
    "        'COLLECTED_NY_3': 'ART_COLLECTED_NY_2',\r\n",
    "        'PH_3': 'ART_PH_2',\r\n",
    "        'PH_UNKNOWN_3': 'ART_PH_UNKNOWN_2',\r\n",
    "        'HCO3_3': 'ART_HCO3_2',\r\n",
    "        'HCO3_UNKNOWN_3': 'ART_HCO3_UNKNOWN_2',\r\n",
    "        'PCO2_3': 'ART_PCO2_2',\r\n",
    "        'PCO2_UNKNOWN_3': 'ART_PCO2_UNKNOWN_2', \r\n",
    "        'PO2_3': 'ART_PO2_2',\r\n",
    "        'PO2_UNKNOWN_3': 'ART_PO2_UNKNOWN_2',\r\n",
    "        'BASE_EXCESS_3': 'ART_BASE_EXCESS_2',\r\n",
    "        'BASE_EXCESS_UNKNOWN_3': 'ART_BASE_EXCESS_UNKNOWN_2',\r\n",
    "        \r\n",
    "        'BABY_NUM3_4': 'VEN_BABY_NUM3_2',\r\n",
    "        'COLLECTED_NY_4': 'VEN_COLLECTED_NY_2',\r\n",
    "        'PH_4': 'VEN_PH_2',\r\n",
    "        'PH_UNKNOWN_4': 'VEN_PH_UNKNOWN_2',\r\n",
    "        'HCO3_4': 'VEN_HCO3_2',\r\n",
    "        'HCO3_UNKNOWN_4': 'VEN_HCO3_UNKNOWN_2',\r\n",
    "        'PCO2_4': 'VEN_PCO2_2',\r\n",
    "        'PCO2_UNKNOWN_4': 'VEN_PCO2_UNKNOWN_2', \r\n",
    "        'PO2_4': 'VEN_PO2_2',\r\n",
    "        'PO2_UNKNOWN_4': 'VEN_PO2_UNKNOWN_2',\r\n",
    "        'BASE_EXCESS_4': 'VEN_BASE_EXCESS_2',\r\n",
    "        'BASE_EXCESS_UNKNOWN_4': 'VEN_BASE_EXCESS_UNKNOWN_2',\r\n",
    "    }, inplace=True\r\n",
    ")  "
   ],
   "outputs": [],
   "metadata": {}
  },
  {
   "cell_type": "markdown",
   "source": [
    "## Neonatal Form: Cord Blood - Processing<a name=\"neo-cbg-pro\"></a>"
   ],
   "metadata": {}
  },
  {
   "cell_type": "code",
   "execution_count": 94,
   "source": [
    "neo_cbg_dict = {\r\n",
    "    'ART_BABY_NUM3_': 'neo_baby_num',\r\n",
    "    'ART_COLLECTED_NY_': 'neo_cbg_art_yn',\r\n",
    "    'ART_PH_': 'neo_cbg_art_ph',\r\n",
    "    'ART_PH_UNKNOWN_': 'neo_cbg_art_ph_unk',\r\n",
    "    'ART_HCO3_': 'neo_cbg_art_hco3',\r\n",
    "    'ART_HCO3_UNKNOWN_': 'neo_cbg_art_hco3_unk',\r\n",
    "    'ART_PCO2_': 'neo_cbg_art_pco2',\r\n",
    "    'ART_PCO2_UNKNOWN_': 'neo_cbg_art_pco2_unk', \r\n",
    "    'ART_PO2_': 'neo_cbg_art_po2',\r\n",
    "    'ART_PO2_UNKNOWN_': 'neo_cbg_art_po2_unk',\r\n",
    "    'ART_BASE_EXCESS_': 'neo_cbg_art_base',\r\n",
    "    'ART_BASE_EXCESS_UNKNOWN_': 'neo_cbg_art_base_unk',\r\n",
    "    'VEN_COLLECTED_NY_': 'neo_cbg_ven_yn',\r\n",
    "    'VEN_PH_': 'neo_cbg_ven_ph',\r\n",
    "    'VEN_PH_UNKNOWN_': 'neo_cbg_ven_ph_unk',\r\n",
    "    'VEN_HCO3_': 'neo_cbg_ven_hco3',\r\n",
    "    'VEN_HCO3_UNKNOWN_': 'neo_cbg_ven_hco3_unk',\r\n",
    "    'VEN_PCO2_': 'neo_cbg_ven_pco2',\r\n",
    "    'VEN_PCO2_UNKNOWN_': 'neo_cbg_ven_pco2_unk',\r\n",
    "    'VEN_PO2_': 'neo_cbg_ven_po2',\r\n",
    "    'VEN_PO2_UNKNOWN_': 'neo_cbg_ven_po2_unk',\r\n",
    "    'VEN_BASE_EXCESS_': 'neo_cbg_ven_base',\r\n",
    "    'VEN_BASE_EXCESS_UNKNOWN_': 'neo_cbg_ven_base_unk',\r\n",
    "}\r\n",
    "neo_cbg = obs_clinic_migration.RedcapConv(\r\n",
    "    neo_cbg_dict, 2, obs_data_sets.rave_clinic\r\n",
    ")"
   ],
   "outputs": [],
   "metadata": {}
  },
  {
   "cell_type": "markdown",
   "source": [
    "## Neonatal Form: Cord Blood - Post-processing<a name=\"neo-cbg-post\"></a>"
   ],
   "metadata": {}
  },
  {
   "cell_type": "code",
   "execution_count": 95,
   "source": [
    "neo_cbg.change_str(\r\n",
    "    {\r\n",
    "        'neo_baby_num': {'001' : '1'},\r\n",
    "    }\r\n",
    ")"
   ],
   "outputs": [
    {
     "output_type": "stream",
     "name": "stdout",
     "text": [
      "1    2304\n",
      "2      54\n",
      "Name: neo_baby_num, dtype: int64\n"
     ]
    }
   ],
   "metadata": {}
  },
  {
   "cell_type": "markdown",
   "source": [
    "## Neonatal Form: Cord Blood - Data Verification<a name=\"neo-cbg-comp\"></a>"
   ],
   "metadata": {}
  },
  {
   "cell_type": "code",
   "execution_count": 96,
   "source": [
    "neo_cbg.compare_conv_dde(obs_data_sets.redcap_clinic)"
   ],
   "outputs": [
    {
     "output_type": "execute_result",
     "data": {
      "text/plain": [
       "Empty DataFrame\n",
       "Columns: [obs_id, redcap_repeat_instance, neo_baby_num, neo_cbg_art_yn, neo_cbg_art_ph_unk, neo_cbg_art_hco3_unk, neo_cbg_art_pco2_unk, neo_cbg_art_po2_unk, neo_cbg_art_base_unk, neo_cbg_art_ph, neo_cbg_art_hco3, neo_cbg_art_pco2, neo_cbg_art_po2, neo_cbg_art_base, neo_cbg_ven_yn, neo_cbg_ven_ph_unk, neo_cbg_ven_hco3_unk, neo_cbg_ven_pco2_unk, neo_cbg_ven_po2_unk, neo_cbg_ven_base_unk, neo_cbg_ven_ph, neo_cbg_ven_hco3, neo_cbg_ven_pco2, neo_cbg_ven_po2, neo_cbg_ven_base, Source]\n",
       "Index: []\n",
       "\n",
       "[0 rows x 26 columns]"
      ],
      "text/html": [
       "<div>\n",
       "<style scoped>\n",
       "    .dataframe tbody tr th:only-of-type {\n",
       "        vertical-align: middle;\n",
       "    }\n",
       "\n",
       "    .dataframe tbody tr th {\n",
       "        vertical-align: top;\n",
       "    }\n",
       "\n",
       "    .dataframe thead th {\n",
       "        text-align: right;\n",
       "    }\n",
       "</style>\n",
       "<table border=\"1\" class=\"dataframe\">\n",
       "  <thead>\n",
       "    <tr style=\"text-align: right;\">\n",
       "      <th></th>\n",
       "      <th>obs_id</th>\n",
       "      <th>redcap_repeat_instance</th>\n",
       "      <th>neo_baby_num</th>\n",
       "      <th>neo_cbg_art_yn</th>\n",
       "      <th>neo_cbg_art_ph_unk</th>\n",
       "      <th>...</th>\n",
       "      <th>neo_cbg_ven_hco3</th>\n",
       "      <th>neo_cbg_ven_pco2</th>\n",
       "      <th>neo_cbg_ven_po2</th>\n",
       "      <th>neo_cbg_ven_base</th>\n",
       "      <th>Source</th>\n",
       "    </tr>\n",
       "  </thead>\n",
       "  <tbody>\n",
       "  </tbody>\n",
       "</table>\n",
       "<p>0 rows × 26 columns</p>\n",
       "</div>"
      ]
     },
     "metadata": {},
     "execution_count": 96
    }
   ],
   "metadata": {}
  },
  {
   "cell_type": "markdown",
   "source": [
    "## Neonatal Form: Cord Blood - Prepare and Save<a name=\"neo-cbg-save\"></a>"
   ],
   "metadata": {}
  },
  {
   "cell_type": "code",
   "execution_count": 97,
   "source": [
    "neo_cbg.prep_imp(\r\n",
    "    'neonatal_data_arm_1', 'neonatal_form_complete', 'neonatal_form'\r\n",
    ")\r\n",
    "neo_cbg.data.to_csv('../data/processed/neo_cbg.csv', index = False)"
   ],
   "outputs": [],
   "metadata": {}
  },
  {
   "cell_type": "markdown",
   "source": [
    "# Neonatal Form: Neonatal Resuscitation (1)<a name=\"neo-resus-lvl\"></a>"
   ],
   "metadata": {}
  },
  {
   "cell_type": "markdown",
   "source": [
    "## Neonatal Form: Neonatal Resuscitation (1) - Preprocessing<a name=\"neo-resus-lvl-pre\"></a>"
   ],
   "metadata": {}
  },
  {
   "cell_type": "code",
   "execution_count": 98,
   "source": [
    "\r\n",
    "for i in range(1, 3):\r\n",
    "    # some columns don't have an associated 'STD' column and needed to be coded\r\n",
    "    obs_data_sets.rave_clinic['LEVEL2_NY_STD_' + str(i)].replace(\r\n",
    "        {'2': '1', '1': '0'}, inplace = True\r\n",
    "    )\r\n",
    "    obs_data_sets.rave_clinic['LEVEL3_NY_STD_' + str(i)].replace(\r\n",
    "        {'2': '1', '1': '0'}, inplace = True\r\n",
    "    )\r\n",
    "for i in range(1, 3):\r\n",
    "    obs_data_sets.rave_clinic['LEVEL2_NY_CB_' + str(i)] = np.where(\r\n",
    "        ((obs_data_sets.rave_clinic['LEVEL2_NY_' + str(i)] == 'Yes')), '1', '0'\r\n",
    "    )\r\n",
    "    obs_data_sets.rave_clinic.loc[\r\n",
    "        obs_data_sets.rave_clinic['BABY_NUM4_' + str(i)].isna(), \r\n",
    "        'LEVEL2_NY_CB_' + str(i)\r\n",
    "    ] = np.NaN\r\n",
    "    obs_data_sets.rave_clinic['LEVEL3_NY_CB_' + str(i)] = np.where(\r\n",
    "        ((obs_data_sets.rave_clinic['LEVEL3_NY_' + str(i)] == 'Yes')), '1', '0'\r\n",
    "    )\r\n",
    "    obs_data_sets.rave_clinic.loc[\r\n",
    "        obs_data_sets.rave_clinic['BABY_NUM4_' + str(i)].isna(), \r\n",
    "        'LEVEL3_NY_CB_' + str(i)\r\n",
    "    ] = np.NaN\r\n",
    "    "
   ],
   "outputs": [],
   "metadata": {}
  },
  {
   "cell_type": "markdown",
   "source": [
    "## Neonatal Form: Neonatal Resuscitation (1) - Processing<a name=\"neo-resus-lvl-pro\"></a>"
   ],
   "metadata": {}
  },
  {
   "cell_type": "code",
   "execution_count": 99,
   "source": [
    "neo_resus_lvl_dict = {\r\n",
    "    'BABY_NUM4_': 'neo_baby_num',\r\n",
    "    'LEVEL2_NY_CB_' : 'neo_care_levels___2',\r\n",
    "    'LEVEL3_NY_CB_' : 'neo_care_levels___3',\r\n",
    "}\r\n",
    "neo_resus_lvl = obs_clinic_migration.RedcapConv(\r\n",
    "    neo_resus_lvl_dict, 2, obs_data_sets.rave_clinic, recode_long = False\r\n",
    ")"
   ],
   "outputs": [],
   "metadata": {}
  },
  {
   "cell_type": "markdown",
   "source": [
    "## Neonatal Form: Neonatal Resuscitation (1) - Post-processing<a name=\"neo-resus-lvl-post\"></a>"
   ],
   "metadata": {}
  },
  {
   "cell_type": "code",
   "execution_count": 100,
   "source": [
    "neo_resus_lvl.change_str(\r\n",
    "    {\r\n",
    "        'neo_baby_num': {\r\n",
    "            '001': 'B01',\r\n",
    "            'BO1': 'B01',\r\n",
    "            ' B0' : 'B01' # manually checked subject only had a singleton\r\n",
    "        } \r\n",
    "    }\r\n",
    ")"
   ],
   "outputs": [
    {
     "output_type": "stream",
     "name": "stdout",
     "text": [
      "1    2309\n",
      "2      54\n",
      "Name: neo_baby_num, dtype: int64\n"
     ]
    }
   ],
   "metadata": {}
  },
  {
   "cell_type": "markdown",
   "source": [
    "## Neonatal Form: Neonatal Resuscitation (1) - Data Verification<a name=\"neo-resus-lvl-comp\"></a>"
   ],
   "metadata": {}
  },
  {
   "cell_type": "code",
   "execution_count": 101,
   "source": [
    "neo_resus_lvl.compare_conv_dde(obs_data_sets.redcap_clinic)"
   ],
   "outputs": [
    {
     "output_type": "execute_result",
     "data": {
      "text/plain": [
       "      obs_id redcap_repeat_instance neo_baby_num neo_care_levels___2  \\\n",
       "13  91200444                      2            2                   0   \n",
       "\n",
       "   neo_care_levels___3     Source  \n",
       "13                   0  REDCapDDE  "
      ],
      "text/html": [
       "<div>\n",
       "<style scoped>\n",
       "    .dataframe tbody tr th:only-of-type {\n",
       "        vertical-align: middle;\n",
       "    }\n",
       "\n",
       "    .dataframe tbody tr th {\n",
       "        vertical-align: top;\n",
       "    }\n",
       "\n",
       "    .dataframe thead th {\n",
       "        text-align: right;\n",
       "    }\n",
       "</style>\n",
       "<table border=\"1\" class=\"dataframe\">\n",
       "  <thead>\n",
       "    <tr style=\"text-align: right;\">\n",
       "      <th></th>\n",
       "      <th>obs_id</th>\n",
       "      <th>redcap_repeat_instance</th>\n",
       "      <th>neo_baby_num</th>\n",
       "      <th>neo_care_levels___2</th>\n",
       "      <th>neo_care_levels___3</th>\n",
       "      <th>Source</th>\n",
       "    </tr>\n",
       "  </thead>\n",
       "  <tbody>\n",
       "    <tr>\n",
       "      <th>13</th>\n",
       "      <td>91200444</td>\n",
       "      <td>2</td>\n",
       "      <td>2</td>\n",
       "      <td>0</td>\n",
       "      <td>0</td>\n",
       "      <td>REDCapDDE</td>\n",
       "    </tr>\n",
       "  </tbody>\n",
       "</table>\n",
       "</div>"
      ]
     },
     "metadata": {},
     "execution_count": 101
    }
   ],
   "metadata": {}
  },
  {
   "cell_type": "markdown",
   "source": [
    "## Neonatal Form: Neonatal Resuscitation (1) - Prepare and Save<a name=\"neo-resus-lvl-save\"></a>"
   ],
   "metadata": {}
  },
  {
   "cell_type": "code",
   "execution_count": 102,
   "source": [
    "neo_resus_lvl.prep_imp(\r\n",
    "    'neonatal_data_arm_1', 'neonatal_form_complete', 'neonatal_form'\r\n",
    ")\r\n",
    "neo_resus_lvl.data.to_csv('../data/processed/neo_resus_lvl.csv', index = False)"
   ],
   "outputs": [],
   "metadata": {}
  },
  {
   "cell_type": "markdown",
   "source": [
    "# Neonatal Form: Neonatal Resuscitation (2)<a name=\"neo-resus\"></a>"
   ],
   "metadata": {}
  },
  {
   "cell_type": "markdown",
   "source": [
    "## Neonatal Form: Neonatal Resuscitation (2) - Processing<a name=\"neo-resus-pro\"></a>"
   ],
   "metadata": {}
  },
  {
   "cell_type": "code",
   "execution_count": 103,
   "source": [
    "neo_resus_dict = {\r\n",
    "    'BABY_NUM4_': 'neo_baby_num',\r\n",
    "    'NEONAT_RESUSCITATION_NY_': 'neo_resus_initial_yn',\r\n",
    "    'CHEST_COMPRESN_': 'neo_resus_init_cpr',\r\n",
    "    'CPAP_AIR_': 'neo_resus_init_cpap_air',\r\n",
    "    'CPAP_OXYGEN_': 'neo_resus_init_cpap_o2',\r\n",
    "    'EPINEPHRINE_NY_': 'neo_resus_init_epi',\r\n",
    "    'FFO2_NY_': 'neo_resus_init_ffo2',\r\n",
    "    'INTUBATION_PPV_NY_': 'neo_resus_init_ppv',\r\n",
    "    'INTUBATN_TRACH_SUCTION_NY_': 'neo_resus_init_suction',\r\n",
    "    'LARYN_MASK_AIRWAY_NY_': 'neo_resus_init_lma',\r\n",
    "    'NARCAN_NY_': 'neo_resus_init_narcan',\r\n",
    "    'PPV_AIR_': 'neo_resus_init_ppv_air',\r\n",
    "    'PPV_OXYGEN_': 'neo_resus_init_ppv_o2',\r\n",
    "    'VOLUM_EXPAND_': 'neo_resus_init_vol_exp',\r\n",
    "    'UNKNOWN_': 'neo_resus_init_unk',\r\n",
    "    'OTHER_': 'neo_resus_init_oth',\r\n",
    "    'OTHER_SPECIFY_': 'neo_resus_init_oth_spec',\r\n",
    "    'RECV_HIGH_LEVEL_CARE_': 'neo_care_yn',\r\n",
    "    'LEVEL2_NUM_DYS_': 'neo_care_level2',\r\n",
    "    'LEVEL3_NUM_DYS_': 'neo_care_level3',\r\n",
    "    'RESPIRATORY_PROB_AFT_RESUS_NY_': 'neo_resp_yn'\r\n",
    "}\r\n",
    "neo_resus = obs_clinic_migration.RedcapConv(\r\n",
    "    neo_resus_dict, 2, obs_data_sets.rave_clinic\r\n",
    ")"
   ],
   "outputs": [
    {
     "output_type": "stream",
     "name": "stdout",
     "text": [
      "Column 'neo_baby_num', variable 'BO1' has an issue.\n",
      "Column 'neo_baby_num', variable ' B0' has an issue.\n"
     ]
    }
   ],
   "metadata": {}
  },
  {
   "cell_type": "markdown",
   "source": [
    "## Neonatal Form: Neonatal Resuscitation (2) - Post-processing<a name=\"neo-resus-post\"></a>"
   ],
   "metadata": {}
  },
  {
   "cell_type": "code",
   "execution_count": 104,
   "source": [
    "neo_resus.change_str(\r\n",
    "    {\r\n",
    "        'neo_baby_num': {\r\n",
    "            '001': 'B01',\r\n",
    "            'BO1': 'B01',\r\n",
    "            ' B0' : 'B01' # manually checked subject below only had a singleton\r\n",
    "        } \r\n",
    "    }\r\n",
    ")"
   ],
   "outputs": [
    {
     "output_type": "stream",
     "name": "stdout",
     "text": [
      "1    2309\n",
      "2      54\n",
      "Name: neo_baby_num, dtype: int64\n"
     ]
    }
   ],
   "metadata": {}
  },
  {
   "cell_type": "markdown",
   "source": [
    "## Neonatal Form: Neonatal Resuscitation (2) - Data Verification<a name=\"neo-resus-comp\"></a>"
   ],
   "metadata": {}
  },
  {
   "cell_type": "code",
   "execution_count": 105,
   "source": [
    "neo_resus.compare_conv_dde(obs_data_sets.redcap_clinic)\r\n",
    "# REDCap has longer forms than Rave (i.e. more data is compartmentalized) for \r\n",
    "# 'neonatal_form'; therefore, will indicate issue with 'compare_conv_dde' \r\n",
    "# method"
   ],
   "outputs": [
    {
     "output_type": "execute_result",
     "data": {
      "text/plain": [
       "      obs_id redcap_repeat_instance neo_baby_num neo_resus_initial_yn  \\\n",
       "13  91200444                      2            2                  nan   \n",
       "\n",
       "   neo_resus_init_cpr  ... neo_care_yn neo_care_level2 neo_care_level3  \\\n",
       "13                nan  ...         nan             nan             nan   \n",
       "\n",
       "   neo_resp_yn     Source  \n",
       "13         nan  REDCapDDE  \n",
       "\n",
       "[1 rows x 24 columns]"
      ],
      "text/html": [
       "<div>\n",
       "<style scoped>\n",
       "    .dataframe tbody tr th:only-of-type {\n",
       "        vertical-align: middle;\n",
       "    }\n",
       "\n",
       "    .dataframe tbody tr th {\n",
       "        vertical-align: top;\n",
       "    }\n",
       "\n",
       "    .dataframe thead th {\n",
       "        text-align: right;\n",
       "    }\n",
       "</style>\n",
       "<table border=\"1\" class=\"dataframe\">\n",
       "  <thead>\n",
       "    <tr style=\"text-align: right;\">\n",
       "      <th></th>\n",
       "      <th>obs_id</th>\n",
       "      <th>redcap_repeat_instance</th>\n",
       "      <th>neo_baby_num</th>\n",
       "      <th>neo_resus_initial_yn</th>\n",
       "      <th>neo_resus_init_cpr</th>\n",
       "      <th>...</th>\n",
       "      <th>neo_care_yn</th>\n",
       "      <th>neo_care_level2</th>\n",
       "      <th>neo_care_level3</th>\n",
       "      <th>neo_resp_yn</th>\n",
       "      <th>Source</th>\n",
       "    </tr>\n",
       "  </thead>\n",
       "  <tbody>\n",
       "    <tr>\n",
       "      <th>13</th>\n",
       "      <td>91200444</td>\n",
       "      <td>2</td>\n",
       "      <td>2</td>\n",
       "      <td>nan</td>\n",
       "      <td>nan</td>\n",
       "      <td>...</td>\n",
       "      <td>nan</td>\n",
       "      <td>nan</td>\n",
       "      <td>nan</td>\n",
       "      <td>nan</td>\n",
       "      <td>REDCapDDE</td>\n",
       "    </tr>\n",
       "  </tbody>\n",
       "</table>\n",
       "<p>1 rows × 24 columns</p>\n",
       "</div>"
      ]
     },
     "metadata": {},
     "execution_count": 105
    }
   ],
   "metadata": {}
  },
  {
   "cell_type": "markdown",
   "source": [
    "## Neonatal Form: Neonatal Resuscitation (2) - Prepare and Save<a name=\"neo-resus-save\"></a>"
   ],
   "metadata": {}
  },
  {
   "cell_type": "code",
   "execution_count": 106,
   "source": [
    "neo_resus.prep_imp(\r\n",
    "    'neonatal_data_arm_1', 'neonatal_form_complete', 'neonatal_form'\r\n",
    ")\r\n",
    "neo_resus.data.to_csv('../data/processed/neo_resus.csv', index = False)"
   ],
   "outputs": [],
   "metadata": {}
  },
  {
   "cell_type": "markdown",
   "source": [
    "# Neonatal Form: Neonatal Resuscitation (3)<a name=\"neo-resp\"></a>"
   ],
   "metadata": {}
  },
  {
   "cell_type": "markdown",
   "source": [
    "## Neonatal Form: Neonatal Resuscitation (3) - Processing<a name=\"neo-resp-pro\"></a>"
   ],
   "metadata": {}
  },
  {
   "cell_type": "code",
   "execution_count": 107,
   "source": [
    "neo_resp_dict = {\r\n",
    "    'BABY_NUM5_': 'neo_baby_num',\r\n",
    "    'RESP_DISTRESS_SYNDROME_': 'neo_resp_dx_rds',\r\n",
    "    'MECON_ASPIR_SYNDROM_': 'neo_resp_dx_mec',\r\n",
    "    'PNEUMONIA_': 'neo_resp_dx_pneu',\r\n",
    "    'PNEUM_THORX_MEDIASTM_': 'neo_resp_dx_pnthorax',\r\n",
    "    'TRANS_TACHYPNOEA_': 'neo_resp_dx_tachypnoea',\r\n",
    "    'PULMON_HYPERTEN_': 'neo_resp_dx_pul_htn',\r\n",
    "    'OTHER_CLIN_DX_': 'neo_resp_dx_oth',\r\n",
    "    'SPECIFY_OTHER_DX_': 'neo_resp_dx_oth_spec',\r\n",
    "    'ADDN_VENT_SUPPORT_': 'neo_resp_vent_sup_yn',\r\n",
    "    'SUPPLEMENT_OXYGEN_': 'neo_resp_vent_o2',\r\n",
    "    'INTUBN_VENTN_ETT_': 'neo_resp_vent_ett',\r\n",
    "    'CPAP_': 'neo_resp_vent_cpap',\r\n",
    "    'OTHER_VENT_SUPPORT_': 'neo_resp_vent_oth',\r\n",
    "    'SPECIFY_OTH_VENT_SUPPORT_': 'neo_resp_vent_oth_spec',\r\n",
    "}\r\n",
    "\r\n",
    "neo_resp = obs_clinic_migration.RedcapConv(neo_resp_dict, 2)"
   ],
   "outputs": [],
   "metadata": {}
  },
  {
   "cell_type": "markdown",
   "source": [
    "## Neonatal Form: Neonatal Resuscitation (3) - Data Verification<a name=\"neo-resp-comp\"></a>"
   ],
   "metadata": {}
  },
  {
   "cell_type": "code",
   "execution_count": 108,
   "source": [
    "neo_resp.compare_conv_dde(obs_data_sets.redcap_clinic)"
   ],
   "outputs": [
    {
     "output_type": "execute_result",
     "data": {
      "text/plain": [
       "Empty DataFrame\n",
       "Columns: [obs_id, redcap_repeat_instance, neo_baby_num, neo_resp_dx_rds, neo_resp_dx_mec, neo_resp_dx_pneu, neo_resp_dx_pnthorax, neo_resp_dx_tachypnoea, neo_resp_dx_pul_htn, neo_resp_dx_oth, neo_resp_dx_oth_spec, neo_resp_vent_sup_yn, neo_resp_vent_o2, neo_resp_vent_ett, neo_resp_vent_cpap, neo_resp_vent_oth, neo_resp_vent_oth_spec, Source]\n",
       "Index: []\n",
       "\n",
       "[0 rows x 18 columns]"
      ],
      "text/html": [
       "<div>\n",
       "<style scoped>\n",
       "    .dataframe tbody tr th:only-of-type {\n",
       "        vertical-align: middle;\n",
       "    }\n",
       "\n",
       "    .dataframe tbody tr th {\n",
       "        vertical-align: top;\n",
       "    }\n",
       "\n",
       "    .dataframe thead th {\n",
       "        text-align: right;\n",
       "    }\n",
       "</style>\n",
       "<table border=\"1\" class=\"dataframe\">\n",
       "  <thead>\n",
       "    <tr style=\"text-align: right;\">\n",
       "      <th></th>\n",
       "      <th>obs_id</th>\n",
       "      <th>redcap_repeat_instance</th>\n",
       "      <th>neo_baby_num</th>\n",
       "      <th>neo_resp_dx_rds</th>\n",
       "      <th>neo_resp_dx_mec</th>\n",
       "      <th>...</th>\n",
       "      <th>neo_resp_vent_ett</th>\n",
       "      <th>neo_resp_vent_cpap</th>\n",
       "      <th>neo_resp_vent_oth</th>\n",
       "      <th>neo_resp_vent_oth_spec</th>\n",
       "      <th>Source</th>\n",
       "    </tr>\n",
       "  </thead>\n",
       "  <tbody>\n",
       "  </tbody>\n",
       "</table>\n",
       "<p>0 rows × 18 columns</p>\n",
       "</div>"
      ]
     },
     "metadata": {},
     "execution_count": 108
    }
   ],
   "metadata": {}
  },
  {
   "cell_type": "markdown",
   "source": [
    "## Neonatal Form: Neonatal Resuscitation (3) - Prepare and Save<a name=\"neo-resp-save\"></a>"
   ],
   "metadata": {}
  },
  {
   "cell_type": "code",
   "execution_count": 109,
   "source": [
    "neo_resp.prep_imp(\r\n",
    "    'neonatal_data_arm_1', 'neonatal_form_complete', 'neonatal_form'\r\n",
    ")\r\n",
    "neo_resp.data.to_csv('../data/processed/neo_resp.csv', index = False)"
   ],
   "outputs": [],
   "metadata": {}
  },
  {
   "cell_type": "markdown",
   "source": [
    "# Neonatal Form: Labwork<a name=\"neo-lab\"></a>"
   ],
   "metadata": {}
  },
  {
   "cell_type": "markdown",
   "source": [
    "## Neonatal Form: Labwork - Preprocessing<a name=\"neo-lab-pre\"></a>"
   ],
   "metadata": {}
  },
  {
   "cell_type": "code",
   "execution_count": 110,
   "source": [
    "for i in range(1, 3):\r\n",
    "    # some columns don't have an associated 'STD' column and needed to be coded \r\n",
    "    obs_data_sets.rave_clinic['ORGANISM_IDENTIFIED_STD_' + str(i)].replace(\r\n",
    "        {\r\n",
    "            '1': 'Group B strep', \r\n",
    "            '2': 'Other Gram positive', \r\n",
    "            '3': 'Gram negative'\r\n",
    "        }, inplace = True\r\n",
    "    )\r\n",
    "    \r\n",
    "    # separate intermingled columns\r\n",
    "    obs_data_sets.rave_clinic[\r\n",
    "        'ORGANISM_IDENTIFIED_GRAM_POS_' + str(i)\r\n",
    "    ] = np.NaN\r\n",
    "    obs_data_sets.rave_clinic.loc[\r\n",
    "        obs_data_sets.rave_clinic[\r\n",
    "            'ORGANISM_IDENTIFIED_STD_'+ str(i)\r\n",
    "        ] == 'Other Gram positive',\r\n",
    "        'ORGANISM_IDENTIFIED_GRAM_POS_'+ str(i)\r\n",
    "    ] = obs_data_sets.rave_clinic.loc[\r\n",
    "        obs_data_sets.rave_clinic[\r\n",
    "            'ORGANISM_IDENTIFIED_STD_'+ str(i)\r\n",
    "        ] == 'Other Gram positive',\r\n",
    "        'ORGANISM_IDENTIFIED_'+ str(i)\r\n",
    "    ]\r\n",
    "    obs_data_sets.rave_clinic[\r\n",
    "        'ORGANISM_IDENTIFIED_GRAM_NEG_' + str(i)\r\n",
    "    ] = np.NaN\r\n",
    "    obs_data_sets.rave_clinic.loc[\r\n",
    "        obs_data_sets.rave_clinic[\r\n",
    "            'ORGANISM_IDENTIFIED_STD_'+ str(i)\r\n",
    "        ] == 'Gram negative',\r\n",
    "        'ORGANISM_IDENTIFIED_GRAM_NEG_'+ str(i)\r\n",
    "    ] = obs_data_sets.rave_clinic.loc[\r\n",
    "        obs_data_sets.rave_clinic[\r\n",
    "            'ORGANISM_IDENTIFIED_STD_'+ str(i)\r\n",
    "        ] == 'Gram negative',\r\n",
    "        'ORGANISM_IDENTIFIED_'+ str(i)\r\n",
    "    ]\r\n",
    "    \r\n",
    "    # some columns don't have an associated 'STD' column and needed to be coded\r\n",
    "    obs_data_sets.rave_clinic['BANDS_UNK_' + str(i)].replace(\r\n",
    "        {'0': 'Available', '1': 'Not available'}, inplace = True\r\n",
    "    )\r\n",
    "    obs_data_sets.rave_clinic['NEUTROPHILS_UNK_' + str(i)].replace(\r\n",
    "        {'0': 'Available', '1': 'Not available'}, inplace = True\r\n",
    "    )"
   ],
   "outputs": [
    {
     "output_type": "stream",
     "name": "stderr",
     "text": [
      "C:\\Users\\Ryan Seeto\\anaconda3\\lib\\site-packages\\pandas\\core\\ops\\array_ops.py:253: FutureWarning: elementwise comparison failed; returning scalar instead, but in the future will perform elementwise comparison\n",
      "  res_values = method(rvalues)\n"
     ]
    }
   ],
   "metadata": {}
  },
  {
   "cell_type": "markdown",
   "source": [
    "## Neonatal Form: Labwork - Processing<a name=\"neo-lab-pro\"></a>"
   ],
   "metadata": {}
  },
  {
   "cell_type": "code",
   "execution_count": 111,
   "source": [
    "neo_lab_dict = {\r\n",
    "    'BABY_NUM6_': 'neo_baby_num',\r\n",
    "    'CBC_24HRS_': 'neo_lab_cbc_yn',\r\n",
    "    'HGB_': 'neo_lab_cbc_hgb',\r\n",
    "    'PLATELETS_': 'neo_lab_cbc_plat',\r\n",
    "    'BANDS_24HRS_': 'neo_lab_cbc_band',\r\n",
    "    'BANDS_UNK_': 'neo_lab_cbc_band_na',\r\n",
    "    'LEUK_WBC_24HRS_': 'neo_lab_cbc_wbc',\r\n",
    "    'NEUTROPHIL_POLYCYT_': 'neo_lab_cbc_neut',\r\n",
    "    'NEUTROPHILS_UNK_': 'neo_lab_cbc_neut_na',\r\n",
    "    'CULTURE_SEPSIS_': 'neo_lab_sepsis_yn',\r\n",
    "    'WHEN_SEPSIS_PROVEN_': 'neo_lab_sepsis_dx_time',\r\n",
    "    'ORGANISM_IDENTIFIED_STD_': 'neo_lab_sepsis_path',\r\n",
    "    'ORGANISM_IDENTIFIED_GRAM_POS_': 'neo_lab_sepsis_gram_pos',\r\n",
    "    'ORGANISM_IDENTIFIED_GRAM_NEG_': 'neo_lab_sepsis_gram_neg', \r\n",
    "    'CULT_NEG_SEPSIS_RECV_ANBIOTICS_': 'neo_lab_sepsis_cult_neg_yn',\r\n",
    "    'NUM_NEG_CULTURES_': 'neo_lab_sepsis_cult_neg',\r\n",
    "}\r\n",
    "neo_lab = obs_clinic_migration.RedcapConv(\r\n",
    "    neo_lab_dict, 2, obs_data_sets.rave_clinic\r\n",
    ")"
   ],
   "outputs": [
    {
     "output_type": "stream",
     "name": "stdout",
     "text": [
      "Column 'neo_lab_sepsis_dx_time', variable '= 48 hours after birth' has an issue.\n"
     ]
    }
   ],
   "metadata": {}
  },
  {
   "cell_type": "markdown",
   "source": [
    "## Neonatal Form: Labwork - Post-processing<a name=\"neo-lab-post\"></a>"
   ],
   "metadata": {}
  },
  {
   "cell_type": "code",
   "execution_count": 112,
   "source": [
    "neo_lab.change_str(\r\n",
    "    {\r\n",
    "        'neo_lab_sepsis_dx_time': {\r\n",
    "            '= 48 hours after birth': '≤48 hours after birth'\r\n",
    "        },\r\n",
    "        'neo_baby_num': {'001': 'B01','01': 'B01'} \r\n",
    "    }\r\n",
    ")"
   ],
   "outputs": [
    {
     "output_type": "stream",
     "name": "stdout",
     "text": [
      "2    6\n",
      "1    3\n",
      "Name: neo_lab_sepsis_dx_time, dtype: int64\n",
      "1    2308\n",
      "2      55\n",
      "Name: neo_baby_num, dtype: int64\n"
     ]
    }
   ],
   "metadata": {}
  },
  {
   "cell_type": "markdown",
   "source": [
    "## Neonatal Form: Labwork - Data Verification<a name=\"neo-lab-comp\"></a>"
   ],
   "metadata": {}
  },
  {
   "cell_type": "code",
   "execution_count": 113,
   "source": [
    "neo_lab.compare_conv_dde(obs_data_sets.redcap_clinic)\r\n",
    "# REDCap has longer forms than Rave (i.e. more data is compartmentalized) for \r\n",
    "# 'neonatal_form'; therefore, will indicate issue with 'compare_conv_dde' \r\n",
    "# method"
   ],
   "outputs": [
    {
     "output_type": "execute_result",
     "data": {
      "text/plain": [
       "      obs_id redcap_repeat_instance neo_baby_num neo_lab_cbc_yn  \\\n",
       "13  91200444                      2            2            nan   \n",
       "\n",
       "   neo_lab_cbc_hgb  ... neo_lab_sepsis_gram_pos neo_lab_sepsis_gram_neg  \\\n",
       "13             nan  ...                     nan                     nan   \n",
       "\n",
       "   neo_lab_sepsis_cult_neg_yn neo_lab_sepsis_cult_neg     Source  \n",
       "13                        nan                     nan  REDCapDDE  \n",
       "\n",
       "[1 rows x 19 columns]"
      ],
      "text/html": [
       "<div>\n",
       "<style scoped>\n",
       "    .dataframe tbody tr th:only-of-type {\n",
       "        vertical-align: middle;\n",
       "    }\n",
       "\n",
       "    .dataframe tbody tr th {\n",
       "        vertical-align: top;\n",
       "    }\n",
       "\n",
       "    .dataframe thead th {\n",
       "        text-align: right;\n",
       "    }\n",
       "</style>\n",
       "<table border=\"1\" class=\"dataframe\">\n",
       "  <thead>\n",
       "    <tr style=\"text-align: right;\">\n",
       "      <th></th>\n",
       "      <th>obs_id</th>\n",
       "      <th>redcap_repeat_instance</th>\n",
       "      <th>neo_baby_num</th>\n",
       "      <th>neo_lab_cbc_yn</th>\n",
       "      <th>neo_lab_cbc_hgb</th>\n",
       "      <th>...</th>\n",
       "      <th>neo_lab_sepsis_gram_pos</th>\n",
       "      <th>neo_lab_sepsis_gram_neg</th>\n",
       "      <th>neo_lab_sepsis_cult_neg_yn</th>\n",
       "      <th>neo_lab_sepsis_cult_neg</th>\n",
       "      <th>Source</th>\n",
       "    </tr>\n",
       "  </thead>\n",
       "  <tbody>\n",
       "    <tr>\n",
       "      <th>13</th>\n",
       "      <td>91200444</td>\n",
       "      <td>2</td>\n",
       "      <td>2</td>\n",
       "      <td>nan</td>\n",
       "      <td>nan</td>\n",
       "      <td>...</td>\n",
       "      <td>nan</td>\n",
       "      <td>nan</td>\n",
       "      <td>nan</td>\n",
       "      <td>nan</td>\n",
       "      <td>REDCapDDE</td>\n",
       "    </tr>\n",
       "  </tbody>\n",
       "</table>\n",
       "<p>1 rows × 19 columns</p>\n",
       "</div>"
      ]
     },
     "metadata": {},
     "execution_count": 113
    }
   ],
   "metadata": {}
  },
  {
   "cell_type": "markdown",
   "source": [
    "## Neonatal Form: Labwork - Prepare and Save<a name=\"neo-lab-save\"></a>"
   ],
   "metadata": {}
  },
  {
   "cell_type": "code",
   "execution_count": 114,
   "source": [
    "neo_lab.prep_imp(\r\n",
    "    'neonatal_data_arm_1', 'neonatal_form_complete', 'neonatal_form'\r\n",
    ")\r\n",
    "neo_lab.data.to_csv('../data/processed/neo_lab.csv', index = False)"
   ],
   "outputs": [],
   "metadata": {}
  },
  {
   "cell_type": "markdown",
   "source": [
    "# Neonatal Form: Discharge Data<a name=\"neo-dc\"></a>"
   ],
   "metadata": {}
  },
  {
   "cell_type": "markdown",
   "source": [
    "## Neonatal Form: Discharge Data - Preprocessing<a name=\"neo-dc-pre\"></a>"
   ],
   "metadata": {}
  },
  {
   "cell_type": "code",
   "execution_count": 115,
   "source": [
    "for i in range(1, 3):\r\n",
    "    for date_time in [\r\n",
    "        'FIRST_DISCHARGE_HOME_DT_TM_', 'BABY_HOSP_READMIT_DTTM_',\r\n",
    "        'FINAL_DISCHARGE_DT_TM_','BABY_DEATH_DT_TM_'\r\n",
    "    ]:\r\n",
    "        # format relevant columns\r\n",
    "        obs_data_sets.rave_clinic[date_time + 'DATE_' + str(i)] = (\r\n",
    "            pd.to_datetime(\r\n",
    "                obs_data_sets.rave_clinic[date_time + str(i)], \r\n",
    "                format = '%d%b%Y %H:%M:%S'\r\n",
    "            ).dt.strftime('%Y-%m-%d')\r\n",
    "        )\r\n",
    "        obs_data_sets.rave_clinic[date_time + 'TIME_' + str(i)] = (\r\n",
    "            pd.to_datetime(\r\n",
    "                obs_data_sets.rave_clinic[date_time + str(i)], \r\n",
    "                format = '%d%b%Y %H:%M:%S'\r\n",
    "            ).dt.strftime('%H:%M')\r\n",
    "        )\r\n",
    "\r\n",
    "    # create 'not applicable'/'yes' discharge columns for date and time\r\n",
    "    obs_data_sets.rave_clinic[\r\n",
    "        'FIRST_DISCHARGE_HOME_DT_TM_yn_' + str(i)\r\n",
    "    ] = np.NaN\r\n",
    "    obs_data_sets.rave_clinic.loc[\r\n",
    "        (   \r\n",
    "            (obs_data_sets.rave_clinic['BABYOBSID_' + str(i)].notna())\r\n",
    "            & (obs_data_sets.rave_clinic['FIRST_DIS_HOME_NA_' + str(i)] == '1')\r\n",
    "        ), 'FIRST_DISCHARGE_HOME_DT_TM_yn_' + str(i)\r\n",
    "    ] = 'Not applicable'\r\n",
    "    obs_data_sets.rave_clinic.loc[\r\n",
    "        (   \r\n",
    "            (obs_data_sets.rave_clinic['BABYOBSID_' + str(i)].notna())\r\n",
    "            & (\r\n",
    "                obs_data_sets.rave_clinic[\r\n",
    "                    'FIRST_DISCHARGE_HOME_DT_TM_' + str(i)\r\n",
    "                ].notna()\r\n",
    "            )\r\n",
    "            & (obs_data_sets.rave_clinic['FIRST_DIS_HOME_NA_' + str(i)] == '0')\r\n",
    "        ), 'FIRST_DISCHARGE_HOME_DT_TM_yn_' + str(i)\r\n",
    "    ] = 'Yes'\r\n",
    "    \r\n",
    "    # create 'yes'/'no' discharge columns for date and time\r\n",
    "    obs_data_sets.rave_clinic[\r\n",
    "        'FIRST_DISCHARGE_HOME_DT_TM_yn_date_' + str(i)\r\n",
    "    ] = np.NaN\r\n",
    "    obs_data_sets.rave_clinic.loc[\r\n",
    "        (   \r\n",
    "            (obs_data_sets.rave_clinic['BABYOBSID_' + str(i)].notna())\r\n",
    "            & (\r\n",
    "                obs_data_sets.rave_clinic[\r\n",
    "                    'FIRST_DISCHARGE_HOME_DT_TM_' + str(i)\r\n",
    "                ].isna()\r\n",
    "            )\r\n",
    "            & (obs_data_sets.rave_clinic['FIRST_DIS_HOME_NA_' + str(i)] == '0')\r\n",
    "        ), 'FIRST_DISCHARGE_HOME_DT_TM_yn_date_' + str(i)\r\n",
    "    ] = 'No'\r\n",
    "    obs_data_sets.rave_clinic.loc[\r\n",
    "        (   \r\n",
    "            (obs_data_sets.rave_clinic['BABYOBSID_' + str(i)].notna())\r\n",
    "            & (\r\n",
    "                obs_data_sets.rave_clinic[\r\n",
    "                    'FIRST_DISCHARGE_HOME_DT_TM_' + str(i)\r\n",
    "                ].notna()\r\n",
    "            )\r\n",
    "            & (obs_data_sets.rave_clinic['FIRST_DIS_HOME_NA_' + str(i)] == '0')\r\n",
    "        ), 'FIRST_DISCHARGE_HOME_DT_TM_yn_date_' + str(i)\r\n",
    "    ] = 'Yes'\r\n",
    "    obs_data_sets.rave_clinic[\r\n",
    "        'FIRST_DISCHARGE_HOME_DT_TM_yn_time_' + str(i)\r\n",
    "    ] = obs_data_sets.rave_clinic[\r\n",
    "        'FIRST_DISCHARGE_HOME_DT_TM_yn_date_' + str(i)\r\n",
    "    ]\r\n",
    "    \r\n",
    "    # create column indicating date availability for final discharge\r\n",
    "    obs_data_sets.rave_clinic['FINAL_DISCHARGE_DT_TM_yn_' + str(i)] = np.NaN\r\n",
    "    obs_data_sets.rave_clinic.loc[\r\n",
    "        (\r\n",
    "            (obs_data_sets.rave_clinic['BABY_READMIT_HOSP_' + str(i)] == 'Yes')\r\n",
    "            & (\r\n",
    "                obs_data_sets.rave_clinic[\r\n",
    "                    'FINAL_DISCHARGE_DT_TM_' + str(i)\r\n",
    "                ].notna()\r\n",
    "                | (\r\n",
    "                    obs_data_sets.rave_clinic[\r\n",
    "                        'FINAL_DISCHARGE_DT_TM_YYYY_' + str(i)\r\n",
    "                    ].notna()\r\n",
    "                )\r\n",
    "            )\r\n",
    "        ), 'FINAL_DISCHARGE_DT_TM_yn_' + str(i)\r\n",
    "    ] = 'Yes'\r\n",
    "    obs_data_sets.rave_clinic[\r\n",
    "        'FINAL_DISCHARGE_DT_TM_yn_date_' + str(i)\r\n",
    "    ] = np.NaN\r\n",
    "    obs_data_sets.rave_clinic.loc[\r\n",
    "        (   \r\n",
    "            (\r\n",
    "                obs_data_sets.rave_clinic[\r\n",
    "                    'FINAL_DISCHARGE_DT_TM_yn_' + str(i)\r\n",
    "                ] == 'Yes'\r\n",
    "            )\r\n",
    "            & (\r\n",
    "                obs_data_sets.rave_clinic[\r\n",
    "                    'FINAL_DISCHARGE_DT_TM_' + str(i)\r\n",
    "                ].notna()\r\n",
    "            )\r\n",
    "        ), 'FINAL_DISCHARGE_DT_TM_yn_date_' + str(i)\r\n",
    "    ] = 'Yes'\r\n",
    "    obs_data_sets.rave_clinic.loc[\r\n",
    "        (   \r\n",
    "            (\r\n",
    "                obs_data_sets.rave_clinic[\r\n",
    "                    'FINAL_DISCHARGE_DT_TM_yn_' + str(i)\r\n",
    "                ] == 'Yes'\r\n",
    "            )\r\n",
    "            & (\r\n",
    "                obs_data_sets.rave_clinic[\r\n",
    "                    'FINAL_DISCHARGE_DT_TM_' + str(i)\r\n",
    "                ].isna()\r\n",
    "            )\r\n",
    "        ), 'FINAL_DISCHARGE_DT_TM_yn_date_' + str(i)\r\n",
    "    ] = 'No'\r\n",
    "    obs_data_sets.rave_clinic['FINAL_DISCHARGE_DT_TM_yn_time_' + str(i)] = (\r\n",
    "        obs_data_sets.rave_clinic['FINAL_DISCHARGE_DT_TM_yn_date_' + str(i)]\r\n",
    "    )\r\n",
    "\r\n",
    "    # create column indicating date availability for readmission and death\r\n",
    "    for key, val in {\r\n",
    "        'BABY_HOSP_READMIT_DTTM_' : 'BABY_READMIT_HOSP_',\r\n",
    "        'BABY_DEATH_DT_TM_': 'BABY_DIE_FIRST28DYS_'\r\n",
    "    }.items():\r\n",
    "        obs_data_sets.rave_clinic[key + 'yn_date_' + str(i)] = np.NaN\r\n",
    "        obs_data_sets.rave_clinic.loc[\r\n",
    "            (\r\n",
    "                (obs_data_sets.rave_clinic[val + str(i)] == 'Yes')\r\n",
    "                & (obs_data_sets.rave_clinic[key + str(i)].isna())\r\n",
    "            ),\r\n",
    "            key + 'yn_date_' + str(i)\r\n",
    "        ] = 'No'\r\n",
    "        obs_data_sets.rave_clinic.loc[\r\n",
    "            (\r\n",
    "                (obs_data_sets.rave_clinic[val + str(i)] == 'Yes')\r\n",
    "                & (obs_data_sets.rave_clinic[key + str(i)].notna())\r\n",
    "            ),\r\n",
    "            key + 'yn_date_' + str(i)\r\n",
    "        ] = 'Yes'\r\n",
    "        obs_data_sets.rave_clinic[key + 'yn_time_' + str(i)] = (\r\n",
    "            obs_data_sets.rave_clinic[key + 'yn_date_' + str(i)]\r\n",
    "        )"
   ],
   "outputs": [],
   "metadata": {}
  },
  {
   "cell_type": "markdown",
   "source": [
    "## Neonatal Form: Discharge Data - Processing<a name=\"neo-dc-pro\"></a>"
   ],
   "metadata": {}
  },
  {
   "cell_type": "code",
   "execution_count": 116,
   "source": [
    "neo_dc_dict = {\r\n",
    "    'BABY_NUM8_': 'neo_baby_num', \r\n",
    "    'OTHER_DX_PRIOR_DISCHARGE_NY_': 'neo_dc_dx_oth_yn', \r\n",
    "    'NOENATAL_ENCEPHAL_': 'neo_dc_dx_enceph', \r\n",
    "    'INTRACRAN_HEM_': 'neo_dc_dx_ich', \r\n",
    "    'HYPOGLYCEMIA_': 'neo_dc_dx_hypogly', \r\n",
    "    'HYPERBILIRUB_REQ_TX_': 'neo_dc_dx_bili', \r\n",
    "    'NEONATAL_ABSTIN_SYND_': 'neo_dc_dx_nas', \r\n",
    "    'INTESTINAL_OBSTRUCTN_': 'neo_dc_dx_int_obst', \r\n",
    "    'NECROTIZ_ENTEROCOLITIS_': 'neo_dc_dx_nec', \r\n",
    "    'INTESTINAL_PERFORN_': 'neo_dc_dx_int_perf', \r\n",
    "    'RENAL_FAILURE_': 'neo_dc_dx_renal_fail', \r\n",
    "    'DEHYDRATION_': 'neo_dc_dx_deh2o',\r\n",
    "    'SHOCK_': 'neo_dc_dx_shock',\r\n",
    "    'HEMATOL_ABNORM_': 'neo_dc_dx_hemat_ab',\r\n",
    "    'ELECTROLYTE_ABNORM_': 'neo_dc_dx_elec_abn', \r\n",
    "    'METABOLIC_DISORDER_': 'neo_dc_dx_metabolic', \r\n",
    "    'WEIGHT_LOSS_GT10PC_NY_': 'neo_dc_dx_wt_loss', \r\n",
    "    'BRACHIAL_PLEXUS_INJURY_NY_': 'neo_dc_dx_brachia', \r\n",
    "    'CAPUT_SUCCEDANEUM_NY_': 'neo_dc_dx_caput', \r\n",
    "    'CEPHALOHEMATOMA_NY_': 'neo_dc_dx_cepha_hema', \r\n",
    "    'CLAVICULAR_FRACTURE_NY_': 'neo_dc_dx_fracture', \r\n",
    "    'FACIAL_NERVE_INJURY_NY_': 'neo_dc_dx_face_nerve', \r\n",
    "    'OTHER_DX_DISCHARGE_': 'neo_dc_dx_oth', \r\n",
    "    'SPECIFY_DX_DISCHARGE_': 'neo_dc_dx_oth_oth_spec', \r\n",
    "    'FIRST_DISCHARGE_HOME_DT_TM_yn_date_': 'neo_dc_1st_date_yn',\r\n",
    "    'FIRST_DISCHARGE_HOME_DT_TM_yn_time_': 'neo_dc_1st_time_yn',\r\n",
    "    'FIRST_DISCHARGE_HOME_DT_TM_DATE_': 'neo_dc_1st_date', \r\n",
    "    'FIRST_DISCHARGE_HOME_DT_TM_TIME_': 'neo_dc_1st_time', \r\n",
    "    'BABY_READMIT_HOSP_': 'neo_dc_readmit_yn', \r\n",
    "    'BABY_HOSP_READMIT_DTTM_yn_date_': 'neo_dc_readmit_date_yn',\r\n",
    "    'BABY_HOSP_READMIT_DTTM_yn_time_': 'neo_dc_readmit_time_yn',\r\n",
    "    'BABY_HOSP_READMIT_DTTM_DATE_': 'neo_dc_readmit_date', \r\n",
    "    'BABY_HOSP_READMIT_DTTM_TIME_': 'neo_dc_readmit_time', \r\n",
    "    'REASON_ADMIT_HOSP_': 'neo_dc_readmit_reason', \r\n",
    "    'FINAL_DISCHARGE_DT_TM_yn_': 'neo_dc_final_yn',\r\n",
    "    'FINAL_DISCHARGE_DT_TM_yn_date_': 'neo_dc_final_date_yn',\r\n",
    "    'FINAL_DISCHARGE_DT_TM_yn_time_': 'neo_dc_final_time_yn',\r\n",
    "    'FINAL_DISCHARGE_DT_TM_DATE_': 'neo_dc_final_date', \r\n",
    "    'FINAL_DISCHARGE_DT_TM_TIME_': 'neo_dc_final_time', \r\n",
    "    'BABY_DIE_FIRST28DYS_': 'neo_dc_death_yn', \r\n",
    "    'BABY_DEATH_DT_TM_yn_date_': 'neo_dc_death_date_yn',\r\n",
    "    'BABY_DEATH_DT_TM_yn_time_': 'neo_dc_death_time_yn',\r\n",
    "    'BABY_DEATH_DT_TM_DATE_': 'neo_dc_death_date', \r\n",
    "    'BABY_DEATH_DT_TM_TIME_': 'neo_dc_death_time', \r\n",
    "    'AUTOPSY_PERFORMED_NYU_': 'neo_dc_autopsy'\r\n",
    "}\r\n",
    "neo_dc = obs_clinic_migration.RedcapConv(\r\n",
    "    neo_dc_dict, 2, obs_data_sets.rave_clinic\r\n",
    ")"
   ],
   "outputs": [],
   "metadata": {}
  },
  {
   "cell_type": "markdown",
   "source": [
    "## Neonatal Form: Discharge Data - Post-processing<a name=\"neo-dc-post\"></a>"
   ],
   "metadata": {}
  },
  {
   "cell_type": "code",
   "execution_count": 117,
   "source": [
    "neo_dc.change_str(\r\n",
    "    {\r\n",
    "        'neo_baby_num': {\r\n",
    "            '001': 'B01',\r\n",
    "            'BO1': 'B01',\r\n",
    "            ' B0' : 'B01' # manually checked subject only had a singleton\r\n",
    "        } \r\n",
    "    }\r\n",
    ")"
   ],
   "outputs": [
    {
     "output_type": "stream",
     "name": "stdout",
     "text": [
      "1    2308\n",
      "2      56\n",
      "Name: neo_baby_num, dtype: int64\n"
     ]
    }
   ],
   "metadata": {}
  },
  {
   "cell_type": "markdown",
   "source": [
    "## Neonatal Form: Discharge Data - Data Verification<a name=\"neo-dc-comp\"></a>"
   ],
   "metadata": {}
  },
  {
   "cell_type": "code",
   "execution_count": 118,
   "source": [
    "neo_dc.compare_conv_dde(obs_data_sets.redcap_clinic)\r\n",
    "# REDCap has longer forms than Rave (i.e. more data is compartmentalized) for \r\n",
    "# 'neonatal_form'; therefore, will indicate issue with 'compare_conv_dde' \r\n",
    "# method"
   ],
   "outputs": [
    {
     "output_type": "execute_result",
     "data": {
      "text/plain": [
       "      obs_id redcap_repeat_instance neo_baby_num neo_dc_dx_oth_yn  \\\n",
       "13  91200444                      2            2              nan   \n",
       "\n",
       "   neo_dc_dx_enceph  ... neo_dc_death_date neo_dc_death_time_yn  \\\n",
       "13              nan  ...               nan                  nan   \n",
       "\n",
       "   neo_dc_death_time neo_dc_autopsy     Source  \n",
       "13               nan            nan  REDCapDDE  \n",
       "\n",
       "[1 rows x 48 columns]"
      ],
      "text/html": [
       "<div>\n",
       "<style scoped>\n",
       "    .dataframe tbody tr th:only-of-type {\n",
       "        vertical-align: middle;\n",
       "    }\n",
       "\n",
       "    .dataframe tbody tr th {\n",
       "        vertical-align: top;\n",
       "    }\n",
       "\n",
       "    .dataframe thead th {\n",
       "        text-align: right;\n",
       "    }\n",
       "</style>\n",
       "<table border=\"1\" class=\"dataframe\">\n",
       "  <thead>\n",
       "    <tr style=\"text-align: right;\">\n",
       "      <th></th>\n",
       "      <th>obs_id</th>\n",
       "      <th>redcap_repeat_instance</th>\n",
       "      <th>neo_baby_num</th>\n",
       "      <th>neo_dc_dx_oth_yn</th>\n",
       "      <th>neo_dc_dx_enceph</th>\n",
       "      <th>...</th>\n",
       "      <th>neo_dc_death_date</th>\n",
       "      <th>neo_dc_death_time_yn</th>\n",
       "      <th>neo_dc_death_time</th>\n",
       "      <th>neo_dc_autopsy</th>\n",
       "      <th>Source</th>\n",
       "    </tr>\n",
       "  </thead>\n",
       "  <tbody>\n",
       "    <tr>\n",
       "      <th>13</th>\n",
       "      <td>91200444</td>\n",
       "      <td>2</td>\n",
       "      <td>2</td>\n",
       "      <td>nan</td>\n",
       "      <td>nan</td>\n",
       "      <td>...</td>\n",
       "      <td>nan</td>\n",
       "      <td>nan</td>\n",
       "      <td>nan</td>\n",
       "      <td>nan</td>\n",
       "      <td>REDCapDDE</td>\n",
       "    </tr>\n",
       "  </tbody>\n",
       "</table>\n",
       "<p>1 rows × 48 columns</p>\n",
       "</div>"
      ]
     },
     "metadata": {},
     "execution_count": 118
    }
   ],
   "metadata": {}
  },
  {
   "cell_type": "markdown",
   "source": [
    "## Neonatal Form: Discharge Data - Prepare and Save<a name=\"neo-dc-save\"></a>"
   ],
   "metadata": {}
  },
  {
   "cell_type": "code",
   "execution_count": 119,
   "source": [
    "neo_dc.prep_imp(\r\n",
    "    'neonatal_data_arm_1', 'neonatal_form_complete', 'neonatal_form'\r\n",
    ")\r\n",
    "neo_dc.data.to_csv('../data/processed/neo_dc.csv', index = False)"
   ],
   "outputs": [],
   "metadata": {}
  },
  {
   "cell_type": "markdown",
   "source": [
    "# Neonatal Form: Anomally dx<a name=\"anom-dx\"></a>"
   ],
   "metadata": {}
  },
  {
   "cell_type": "markdown",
   "source": [
    "## Neonatal Form: Anomally dx - Processing<a name=\"anom-dx-pro\"></a>"
   ],
   "metadata": {}
  },
  {
   "cell_type": "code",
   "execution_count": 120,
   "source": [
    "anom_dx_dict = {\r\n",
    "    'BABY_NUM7_': 'anom_baby_num',\r\n",
    "    'DX_CONGENITAL_ANOMALY_NY_': 'anom_dx_yn',\r\n",
    "    'ANOMALY_CATEGORY_': 'anom_dx_cat',\r\n",
    "    'SPECIFY_ANOMALY2_': 'anom_dx_spec',\r\n",
    "    'DIAGNOSIS_': 'anom_dx_prepost'\r\n",
    "}\r\n",
    "anom_dx = obs_clinic_migration.RedcapConv(\r\n",
    "    anom_dx_dict, 6, master_df = obs_data_sets.rave_clinic\r\n",
    ")"
   ],
   "outputs": [
    {
     "output_type": "stream",
     "name": "stdout",
     "text": [
      "Column 'anom_baby_num', variable 'BOI' has an issue.\n",
      "Column 'anom_baby_num', variable 'B)!' has an issue.\n",
      "Column 'anom_dx_cat', variable 'Genitourinary Tract' has an issue.\n",
      "Column 'anom_dx_cat', variable 'Extremities – Skeletal' has an issue.\n",
      "Column 'anom_dx_cat', variable 'Head – Cranium & Brain' has an issue.\n",
      "Column 'anom_dx_cat', variable 'Spine – Back' has an issue.\n",
      "Column 'anom_dx_cat', variable 'Structural – Other' has an issue.\n",
      "Column 'anom_dx_cat', variable 'Abdominal Wall' has an issue.\n"
     ]
    }
   ],
   "metadata": {}
  },
  {
   "cell_type": "markdown",
   "source": [
    "## Neonatal Form: Anomally dx - Post-processing<a name=\"anom-dx-post\"></a>"
   ],
   "metadata": {}
  },
  {
   "cell_type": "code",
   "execution_count": 121,
   "source": [
    "anom_dx.change_str(\r\n",
    "    {\r\n",
    "        'anom_dx_cat': {\r\n",
    "            'Head – Cranium & Brain': 'Head - Cranium & brain',\r\n",
    "            'Genitourinary Tract' : 'Genitourinary tract',\r\n",
    "            'Extremities – Skeletal': 'Extremities - Skeletal', \r\n",
    "            'Spine – Back': 'Spine - Back', \r\n",
    "            'Structural – Other': 'Structural - Other', \r\n",
    "            'Abdominal Wall': 'Abdominal wall'\r\n",
    "        },\r\n",
    "        'anom_baby_num':{\r\n",
    "            '001': 'B01',\r\n",
    "            'B)!': 'B01',\r\n",
    "            'BOI': 'B01'\r\n",
    "        }\r\n",
    "    }\r\n",
    ")"
   ],
   "outputs": [
    {
     "output_type": "stream",
     "name": "stdout",
     "text": [
      "8     57\n",
      "2     46\n",
      "6     43\n",
      "5     18\n",
      "9     17\n",
      "11    16\n",
      "12    13\n",
      "7      9\n",
      "17     9\n",
      "3      5\n",
      "15     4\n",
      "13     3\n",
      "10     2\n",
      "1      2\n",
      "Name: anom_dx_cat, dtype: int64\n",
      "1    2354\n",
      "2      58\n",
      "Name: anom_baby_num, dtype: int64\n"
     ]
    }
   ],
   "metadata": {}
  },
  {
   "cell_type": "markdown",
   "source": [
    "## Neonatal Form: Anomally dx - Data Verification<a name=\"anom-dx-comp\"></a>"
   ],
   "metadata": {}
  },
  {
   "cell_type": "code",
   "execution_count": 122,
   "source": [
    "anom_dx.compare_conv_dde(obs_data_sets.redcap_clinic)"
   ],
   "outputs": [
    {
     "output_type": "execute_result",
     "data": {
      "text/plain": [
       "Empty DataFrame\n",
       "Columns: [obs_id, redcap_repeat_instance, anom_baby_num, anom_dx_yn, anom_dx_cat, anom_dx_spec, anom_dx_prepost, Source]\n",
       "Index: []"
      ],
      "text/html": [
       "<div>\n",
       "<style scoped>\n",
       "    .dataframe tbody tr th:only-of-type {\n",
       "        vertical-align: middle;\n",
       "    }\n",
       "\n",
       "    .dataframe tbody tr th {\n",
       "        vertical-align: top;\n",
       "    }\n",
       "\n",
       "    .dataframe thead th {\n",
       "        text-align: right;\n",
       "    }\n",
       "</style>\n",
       "<table border=\"1\" class=\"dataframe\">\n",
       "  <thead>\n",
       "    <tr style=\"text-align: right;\">\n",
       "      <th></th>\n",
       "      <th>obs_id</th>\n",
       "      <th>redcap_repeat_instance</th>\n",
       "      <th>anom_baby_num</th>\n",
       "      <th>anom_dx_yn</th>\n",
       "      <th>anom_dx_cat</th>\n",
       "      <th>anom_dx_spec</th>\n",
       "      <th>anom_dx_prepost</th>\n",
       "      <th>Source</th>\n",
       "    </tr>\n",
       "  </thead>\n",
       "  <tbody>\n",
       "  </tbody>\n",
       "</table>\n",
       "</div>"
      ]
     },
     "metadata": {},
     "execution_count": 122
    }
   ],
   "metadata": {}
  },
  {
   "cell_type": "markdown",
   "source": [
    "## Neonatal Form: Anomally dx - Prepare and Save<a name=\"anom-dx-save\"></a>"
   ],
   "metadata": {}
  },
  {
   "cell_type": "code",
   "execution_count": 123,
   "source": [
    "anom_dx.prep_imp(\r\n",
    "    'neonatal_data_arm_1', \r\n",
    "    'neonatal_congenital_anomaly_complete', \r\n",
    "    'neonatal_congenital_anomaly'\r\n",
    ")\r\n",
    "anom_dx.data.to_csv('../data/processed/anom_dx.csv', index = False)"
   ],
   "outputs": [],
   "metadata": {}
  },
  {
   "cell_type": "markdown",
   "source": [
    "# Supplemental Delivery Data: Antepartum<a name=\"supp-del-ant\"></a>"
   ],
   "metadata": {}
  },
  {
   "cell_type": "markdown",
   "source": [
    "## Supplemental Delivery Data: Antepartum - Processing<a name=\"supp-del-ant-pro\"></a>"
   ],
   "metadata": {}
  },
  {
   "cell_type": "code",
   "execution_count": 124,
   "source": [
    "supp_del_ant_dict = {\r\n",
    "    'BABY_SSD': 'supp_baby_obs_id',\r\n",
    "    'COMPLICATIONS_SSD_NY': 'supp_ant_comp_yn', \r\n",
    "    'FETAL_COMPLICATION_NY': 'supp_ant_fet_yn', \r\n",
    "    'FETAL_ANOMALY_NY': 'supp_ant_fet_anom', \r\n",
    "    'ISOIMMUN_ALLOIMMUN_NY': 'supp_ant_fet_isoimm', \r\n",
    "    'INTRAUTERIN_GROWTH_RESTRICTN_NY': 'supp_ant_fet_iugr', \r\n",
    "    'LARGE_GESTN_AGE': 'supp_ant_fet_lga', \r\n",
    "    'OLIGOHYDRAMNIOS2_NY': 'supp_ant_fet_oligo', \r\n",
    "    'POLYHYDRAMNIOS2_NY': 'supp_ant_fet_poly', \r\n",
    "    'OTHER_FETAL_COMPLICATN2_NY': 'supp_ant_fet_oth', \r\n",
    "    'SPECIFY_ANOMALY3': 'supp_ant_fet_anom_spec', \r\n",
    "    'IUGR_PERCENTILE2': 'supp_ant_fet_iugr_spec', \r\n",
    "    'SPECIFY_OTH_FETAL_COMPLICATN': 'supp_ant_fet_oth_spec', \r\n",
    "    'PLACENTAL_COMPLICATION_NY': 'supp_ant_plac_yn', \r\n",
    "    'PLACENTAL_ABRUPTION4_NY': 'supp_ant_plac_abrptn', \r\n",
    "    'SEVERITY_PLACEN_ABRUPTN': 'supp_ant_plac_abrptn_sev', \r\n",
    "    'MATERNAL_COMPLICATION_NY': 'supp_ant_mat_yn', \r\n",
    "    'PRETERM_PREMAT_RUPTUE_MEMBRAN': 'supp_ant_mat_pprom', \r\n",
    "    'OTHER_MATERNAL_COMPLICATN': 'supp_ant_mat_oth', \r\n",
    "    'SPECIFY_OTH_MAT_COMPLICATN': 'supp_ant_mat_oth_spec'\r\n",
    "}\r\n",
    "supp_del_ant = obs_clinic_migration.RedcapConv(supp_del_ant_dict, 0)"
   ],
   "outputs": [
    {
     "output_type": "stream",
     "name": "stdout",
     "text": [
      "Column 'supp_ant_fet_iugr_spec', variable '= 3 or < 10 Percentile' has an issue.\n"
     ]
    }
   ],
   "metadata": {}
  },
  {
   "cell_type": "markdown",
   "source": [
    "## Supplemental Delivery Data: Antepartum - Post-processing<a name=\"supp-del-ant-post\"></a>"
   ],
   "metadata": {}
  },
  {
   "cell_type": "code",
   "execution_count": 125,
   "source": [
    "supp_del_ant.change_str(\r\n",
    "    {\r\n",
    "        'supp_ant_fet_iugr_spec': {\r\n",
    "            \"= 3 or < 10 Percentile\": \"≥3 or < 10 Percentile\" # ≥ not read\r\n",
    "        }, \r\n",
    "    }\r\n",
    ")\r\n",
    "supp_del_ant.remove_na()\r\n",
    "supp_del_ant.data['redcap_repeat_instance'] = 1   "
   ],
   "outputs": [
    {
     "output_type": "stream",
     "name": "stdout",
     "text": [
      "2    1\n",
      "1    1\n",
      "Name: supp_ant_fet_iugr_spec, dtype: int64\n"
     ]
    }
   ],
   "metadata": {}
  },
  {
   "cell_type": "markdown",
   "source": [
    "## Supplemental Delivery Data: Antepartum - Data Verification<a name=\"supp-del-ant-comp\"></a>"
   ],
   "metadata": {}
  },
  {
   "cell_type": "code",
   "execution_count": 126,
   "source": [
    "supp_del_ant.compare_conv_dde(obs_data_sets.redcap_clinic)"
   ],
   "outputs": [
    {
     "output_type": "execute_result",
     "data": {
      "text/plain": [
       "Empty DataFrame\n",
       "Columns: [obs_id, redcap_repeat_instance, supp_baby_obs_id, supp_ant_comp_yn, supp_ant_fet_yn, supp_ant_fet_anom, supp_ant_fet_isoimm, supp_ant_fet_iugr, supp_ant_fet_lga, supp_ant_fet_oligo, supp_ant_fet_poly, supp_ant_fet_oth, supp_ant_fet_anom_spec, supp_ant_fet_iugr_spec, supp_ant_fet_oth_spec, supp_ant_plac_yn, supp_ant_plac_abrptn, supp_ant_plac_abrptn_sev, supp_ant_mat_yn, supp_ant_mat_pprom, supp_ant_mat_oth, supp_ant_mat_oth_spec, Source]\n",
       "Index: []\n",
       "\n",
       "[0 rows x 23 columns]"
      ],
      "text/html": [
       "<div>\n",
       "<style scoped>\n",
       "    .dataframe tbody tr th:only-of-type {\n",
       "        vertical-align: middle;\n",
       "    }\n",
       "\n",
       "    .dataframe tbody tr th {\n",
       "        vertical-align: top;\n",
       "    }\n",
       "\n",
       "    .dataframe thead th {\n",
       "        text-align: right;\n",
       "    }\n",
       "</style>\n",
       "<table border=\"1\" class=\"dataframe\">\n",
       "  <thead>\n",
       "    <tr style=\"text-align: right;\">\n",
       "      <th></th>\n",
       "      <th>obs_id</th>\n",
       "      <th>redcap_repeat_instance</th>\n",
       "      <th>supp_baby_obs_id</th>\n",
       "      <th>supp_ant_comp_yn</th>\n",
       "      <th>supp_ant_fet_yn</th>\n",
       "      <th>...</th>\n",
       "      <th>supp_ant_mat_yn</th>\n",
       "      <th>supp_ant_mat_pprom</th>\n",
       "      <th>supp_ant_mat_oth</th>\n",
       "      <th>supp_ant_mat_oth_spec</th>\n",
       "      <th>Source</th>\n",
       "    </tr>\n",
       "  </thead>\n",
       "  <tbody>\n",
       "  </tbody>\n",
       "</table>\n",
       "<p>0 rows × 23 columns</p>\n",
       "</div>"
      ]
     },
     "metadata": {},
     "execution_count": 126
    }
   ],
   "metadata": {}
  },
  {
   "cell_type": "markdown",
   "source": [
    "## Supplemental Delivery Data: Antepartum - Prepare and Save<a name=\"supp-del-ant-save\"></a>"
   ],
   "metadata": {}
  },
  {
   "cell_type": "code",
   "execution_count": 127,
   "source": [
    "supp_del_ant.prep_imp(\r\n",
    "    'supplementary_deli_arm_1', \r\n",
    "    'supplemental_delivery_data_complete', \r\n",
    "    'supplemental_delivery_data'\r\n",
    ")\r\n",
    "\r\n",
    "supp_del_ant.data.to_csv('../data/processed/supp_del_ant.csv', index = False)"
   ],
   "outputs": [],
   "metadata": {}
  },
  {
   "cell_type": "markdown",
   "source": [
    "# Supplemental Delivery Data: Labour and Delivery<a name=\"supp-del-lnd\"></a>"
   ],
   "metadata": {}
  },
  {
   "cell_type": "markdown",
   "source": [
    "## Supplemental Delivery Data: Labour and Delivery - Preprocessing<a name=\"supp-del-lnd-pre\"></a>"
   ],
   "metadata": {}
  },
  {
   "cell_type": "code",
   "execution_count": 128,
   "source": [
    "# format relevant columns\r\n",
    "obs_data_sets.rave_clinic.loc[:, 'RUPTUR_MEMBRANE_DTTM'] = pd.to_datetime(\r\n",
    "    obs_data_sets.rave_clinic['RUPTUR_MEMBRANE_DTTM']\r\n",
    ").dt.strftime('%Y-%m-%d %H:%M')\r\n",
    "\r\n",
    "# some columns don't have an associated 'STD' column and needed to be coded \r\n",
    "obs_data_sets.rave_clinic['RUP_MEMBRANE_DTTM_UNK'].replace(\r\n",
    "    {'0': 'Known', '1': 'Unknown'}, inplace = True\r\n",
    ")"
   ],
   "outputs": [],
   "metadata": {}
  },
  {
   "cell_type": "markdown",
   "source": [
    "## Supplemental Delivery Data: Labour and Delivery - Processing<a name=\"supp-del-lnd-pro\"></a>"
   ],
   "metadata": {}
  },
  {
   "cell_type": "code",
   "execution_count": 129,
   "source": [
    "supp_del_lnd_dict = {\r\n",
    "    'BABY_NUM9': 'supp_baby_obs_id',\r\n",
    "    'RUP_MEMBRANE_DTTM_UNK': 'supp_lnd_rom_dttm_unk', \r\n",
    "    'RUPTUR_MEMBRANE_DTTM': 'supp_lnd_rom_dttm', \r\n",
    "    'RUPTURE_MEMBRANE_NY': 'supp_lnd_rom_meth', \r\n",
    "    'TYPE_BIRTH': 'supp_lnd_mod', \r\n",
    "    'SUPP_TYPE_VAGIN_BIRTH': 'supp_lnd_vag_type', \r\n",
    "    'FORCEPS_ASSIST': 'supp_lnd_avd_forcep', \r\n",
    "    'VACUUM_ASSIST': 'supp_lnd_avd_vacuum', \r\n",
    "    'TYPE_C_SECTION': 'supp_lnd_cs_type', \r\n",
    "    'INDICATN_C_SECTION': 'supp_lnd_cs_ind', \r\n",
    "    'FETAL_INDICATN': 'supp_lnd_cs_fet_yn', \r\n",
    "    'FETALANOMALY': 'supp_lnd_cs_fet_anom', \r\n",
    "    'CORDPROLAPSE': 'supp_lnd_cs_fet_cord', \r\n",
    "    'IUGR3': 'supp_lnd_cs_fet_iugr', \r\n",
    "    'MACROSOMNIA1': 'supp_lnd_cs_fet_lga', \r\n",
    "    'MALPOSITION1': 'supp_lnd_cs_fet_pos', \r\n",
    "    'WELL_BEING_CONCERNS1': 'supp_lnd_cs_fet_wellbeing', \r\n",
    "    'OTHER_FETAL_INDICATN': 'supp_lnd_cs_fet_oth', \r\n",
    "    'SPECIFY_OTHER_INDICATN1': 'supp_lnd_cs_fet_oth_spec', \r\n",
    "    'MATERNAL_INDICATN_C_SECTN': 'supp_lnd_cs_mat_yn', \r\n",
    "    'FAILEDFORCEPS_VACUM': 'supp_lnd_cs_mat_avd', \r\n",
    "    'HYPERTENSIVE_DISORD_PREG': 'supp_lnd_cs_mat_htn', \r\n",
    "    'MULTIPLE_GESTATION': 'supp_lnd_cs_mat_mg', \r\n",
    "    'NON_PROGRESIV_1ST_STAGE': 'supp_lnd_cs_mat_npfs', \r\n",
    "    'NON_PROGRESIV_2ND_STAGE': 'supp_lnd_cs_mat_npss', \r\n",
    "    'PLACENTAPREVIA': 'supp_lnd_cs_mat_prev', \r\n",
    "    'PLACENTAL_ABRUPTN': 'supp_lnd_cs_mat_abrpt', \r\n",
    "    'PRE_EXISTHEALTH_PROBMS': 'supp_lnd_cs_mat_hea', \r\n",
    "    'PREV_C_SECTION': 'supp_lnd_cs_mat_pvcs', \r\n",
    "    'PREV_UTERINE_INCISION': 'supp_lnd_cs_mat_myo', \r\n",
    "    'SUSPECTED_CHORIOAMNIONITIS': 'supp_lnd_cs_mat_chro', \r\n",
    "    'UNSUCCESS_VBAC': 'supp_lnd_cs_mat_vbac', \r\n",
    "    'UTERINE_RUPTUR': 'supp_lnd_cs_mat_rup', \r\n",
    "    'OTHER_OBSTET_COMPLICATN': 'supp_lnd_cs_mat_oth', \r\n",
    "    'SPECIFY_OTH_MAT_INDICATN': 'supp_lnd_cs_mat_oth_spec', \r\n",
    "    'OTHER_INDICATN_C_SECTION': 'supp_lnd_cs_oth_yn', \r\n",
    "    'ACCOMDATE_CAREPROVID_ORG': 'supp_lnd_cs_oth_accom', \r\n",
    "    'MATERNALREQUEST': 'supp_lnd_cs_oth_mat_req', \r\n",
    "    'OTHER_UNKNOWN': 'supp_lnd_cs_oth_unk', \r\n",
    "    'OTHER_OTHER2': 'supp_lnd_cs_oth_oth', \r\n",
    "    'SPECIFY_OTH_INDICATION': 'supp_lnd_cs_oth_spec', \r\n",
    "    'PRESENTATION_DELIVERY': 'supplnd_present', \r\n",
    "    'TYPE_BREECH': 'supplnd_breech', \r\n",
    "    'CEPHALIC_TYPE': 'supplnd_pres_vtx', \r\n",
    "    'LABOR_DELIVERY_COMPLICATIONS_NY': 'supp_lnd_complications_yn', \r\n",
    "    'ATYPICAL_ABNORM_FETAL_SURVEIL': 'supplnd_nrfhr', \r\n",
    "    'CLIN_INFECTION_NY': 'supplnd_infxn', \r\n",
    "    'FETAL_TACHYCARDIA2_NY': 'supplnd_fet_tachy', \r\n",
    "    'CLIN_CHORIOAMNIONITIS_NY': 'supplnd_chorio', \r\n",
    "    'CORD_PROLAPSE2_NY': 'supplnd_prolapse', \r\n",
    "    'MECONIUM3_NY': 'supplnd_mec', \r\n",
    "    'PLACENTAL_ABRUPTION5_NY': 'supplnd_abrpt', \r\n",
    "    'SHOULDER_DYSTOCIA3_NY': 'supplnd_shoulder', \r\n",
    "    'PLACENTA_SENT_PATHOLOGY_NYUNK': 'supplnd_plac_path_yn', \r\n",
    "    'PLACENTA_PICKEDUP_BIOBANK': 'supplnd_biobank_yn'\r\n",
    "}\r\n",
    "supp_del_lnd = obs_clinic_migration.RedcapConv(\r\n",
    "    supp_del_lnd_dict, 0, obs_data_sets.rave_clinic\r\n",
    ")"
   ],
   "outputs": [
    {
     "output_type": "stream",
     "name": "stdout",
     "text": [
      "Column 'supp_lnd_mod', variable 'C-Section' has an issue.\n",
      "Column 'supplnd_breech', variable 'Breech Type Unknown' has an issue.\n"
     ]
    }
   ],
   "metadata": {}
  },
  {
   "cell_type": "markdown",
   "source": [
    "## Supplemental Delivery Data: Labour and Delivery - Post-processing<a name=\"supp-del-lnd-post\"></a>"
   ],
   "metadata": {}
  },
  {
   "cell_type": "code",
   "execution_count": 130,
   "source": [
    "supp_del_lnd.change_str(\r\n",
    "    {   \r\n",
    "        'supp_lnd_mod': {'C-Section': 'C-section'},\r\n",
    "        'supplnd_breech': {'Breech Type Unknown': 'Unknown'},\r\n",
    "    }\r\n",
    ")\r\n",
    "supp_del_lnd.remove_na()\r\n",
    "supp_del_lnd.data['redcap_repeat_instance'] = 1"
   ],
   "outputs": [
    {
     "output_type": "stream",
     "name": "stdout",
     "text": [
      "2    40\n",
      "1    18\n",
      "Name: supp_lnd_mod, dtype: int64\n",
      "5    19\n",
      "3     4\n",
      "Name: supplnd_breech, dtype: int64\n"
     ]
    }
   ],
   "metadata": {}
  },
  {
   "cell_type": "markdown",
   "source": [
    "## Supplemental Delivery Data: Labour and Delivery - Data Verification<a name=\"supp-del-lnd-comp\"></a>"
   ],
   "metadata": {}
  },
  {
   "cell_type": "code",
   "execution_count": 131,
   "source": [
    "supp_del_lnd.compare_conv_dde(obs_data_sets.redcap_clinic)"
   ],
   "outputs": [
    {
     "output_type": "execute_result",
     "data": {
      "text/plain": [
       "Empty DataFrame\n",
       "Columns: [obs_id, redcap_repeat_instance, supp_baby_obs_id, supp_lnd_rom_dttm_unk, supp_lnd_rom_dttm, supp_lnd_rom_meth, supp_lnd_mod, supp_lnd_vag_type, supp_lnd_avd_forcep, supp_lnd_avd_vacuum, supp_lnd_cs_type, supp_lnd_cs_ind, supp_lnd_cs_fet_yn, supp_lnd_cs_fet_anom, supp_lnd_cs_fet_cord, supp_lnd_cs_fet_iugr, supp_lnd_cs_fet_lga, supp_lnd_cs_fet_pos, supp_lnd_cs_fet_wellbeing, supp_lnd_cs_fet_oth, supp_lnd_cs_fet_oth_spec, supp_lnd_cs_mat_yn, supp_lnd_cs_mat_avd, supp_lnd_cs_mat_htn, supp_lnd_cs_mat_mg, supp_lnd_cs_mat_npfs, supp_lnd_cs_mat_npss, supp_lnd_cs_mat_prev, supp_lnd_cs_mat_abrpt, supp_lnd_cs_mat_hea, supp_lnd_cs_mat_pvcs, supp_lnd_cs_mat_myo, supp_lnd_cs_mat_chro, supp_lnd_cs_mat_vbac, supp_lnd_cs_mat_rup, supp_lnd_cs_mat_oth, supp_lnd_cs_mat_oth_spec, supp_lnd_cs_oth_yn, supp_lnd_cs_oth_accom, supp_lnd_cs_oth_mat_req, supp_lnd_cs_oth_unk, supp_lnd_cs_oth_oth, supp_lnd_cs_oth_spec, supplnd_present, supplnd_breech, supplnd_pres_vtx, supp_lnd_complications_yn, supplnd_nrfhr, supplnd_infxn, supplnd_fet_tachy, supplnd_chorio, supplnd_prolapse, supplnd_mec, supplnd_abrpt, supplnd_shoulder, supplnd_plac_path_yn, supplnd_biobank_yn, Source]\n",
       "Index: []\n",
       "\n",
       "[0 rows x 58 columns]"
      ],
      "text/html": [
       "<div>\n",
       "<style scoped>\n",
       "    .dataframe tbody tr th:only-of-type {\n",
       "        vertical-align: middle;\n",
       "    }\n",
       "\n",
       "    .dataframe tbody tr th {\n",
       "        vertical-align: top;\n",
       "    }\n",
       "\n",
       "    .dataframe thead th {\n",
       "        text-align: right;\n",
       "    }\n",
       "</style>\n",
       "<table border=\"1\" class=\"dataframe\">\n",
       "  <thead>\n",
       "    <tr style=\"text-align: right;\">\n",
       "      <th></th>\n",
       "      <th>obs_id</th>\n",
       "      <th>redcap_repeat_instance</th>\n",
       "      <th>supp_baby_obs_id</th>\n",
       "      <th>supp_lnd_rom_dttm_unk</th>\n",
       "      <th>supp_lnd_rom_dttm</th>\n",
       "      <th>...</th>\n",
       "      <th>supplnd_abrpt</th>\n",
       "      <th>supplnd_shoulder</th>\n",
       "      <th>supplnd_plac_path_yn</th>\n",
       "      <th>supplnd_biobank_yn</th>\n",
       "      <th>Source</th>\n",
       "    </tr>\n",
       "  </thead>\n",
       "  <tbody>\n",
       "  </tbody>\n",
       "</table>\n",
       "<p>0 rows × 58 columns</p>\n",
       "</div>"
      ]
     },
     "metadata": {},
     "execution_count": 131
    }
   ],
   "metadata": {}
  },
  {
   "cell_type": "markdown",
   "source": [
    "## Supplemental Delivery Data: Labour and Delivery - Prepare and Save<a name=\"supp-del-lnd-save\"></a>"
   ],
   "metadata": {}
  },
  {
   "cell_type": "code",
   "execution_count": 132,
   "source": [
    "supp_del_lnd.prep_imp(\r\n",
    "    'supplementary_deli_arm_1', \r\n",
    "    'supplemental_delivery_data_complete', \r\n",
    "    'supplemental_delivery_data'\r\n",
    ")\r\n",
    "supp_del_lnd.data.to_csv('../data/processed/supp_del_lnd.csv', index = False)"
   ],
   "outputs": [],
   "metadata": {}
  },
  {
   "cell_type": "markdown",
   "source": [
    "# Withdrawal<a name=\"withdrawal\"></a>"
   ],
   "metadata": {}
  },
  {
   "cell_type": "markdown",
   "source": [
    "## Withdrawal - Preprocessing<a name=\"withdrawal-pre\"></a>"
   ],
   "metadata": {}
  },
  {
   "cell_type": "code",
   "execution_count": 133,
   "source": [
    "# format relevant columns\r\n",
    "obs_data_sets.rave_clinic.loc[:, 'WITHDRAWAL_DT'] = pd.to_datetime(\r\n",
    "    obs_data_sets.rave_clinic['WITHDRAWAL_DT'], format = '%d%b%Y %H:%M:%S.%f'\r\n",
    ").dt.strftime('%Y-%m-%d')"
   ],
   "outputs": [],
   "metadata": {}
  },
  {
   "cell_type": "markdown",
   "source": [
    "## Withdrawal - Processing<a name=\"withdrawal-pro\"></a>"
   ],
   "metadata": {}
  },
  {
   "cell_type": "code",
   "execution_count": 134,
   "source": [
    "withdrawal_dict = {\r\n",
    "    'WITHDRAW_NY': 'wd_yn',\r\n",
    "    'WITHDRAWAL_DT': 'wd_dt',\r\n",
    "    'TYPEWITHDRAWAL': 'wd_type'    \r\n",
    "}\r\n",
    "withdrawal = obs_clinic_migration.RedcapConv(\r\n",
    "    withdrawal_dict, 0, master_df = obs_data_sets.rave_clinic\r\n",
    ")"
   ],
   "outputs": [
    {
     "output_type": "stream",
     "name": "stdout",
     "text": [
      "Column 'wd_type', variable 'No Contact' has an issue.\n",
      "Column 'wd_type', variable 'No Access' has an issue.\n",
      "Column 'wd_type', variable 'No Use' has an issue.\n"
     ]
    }
   ],
   "metadata": {}
  },
  {
   "cell_type": "markdown",
   "source": [
    "## Withdrawal - Post-processing<a name=\"withdrawal-post\"></a>"
   ],
   "metadata": {}
  },
  {
   "cell_type": "code",
   "execution_count": 135,
   "source": [
    "withdrawal.change_str(\r\n",
    "    {\r\n",
    "        'wd_type': {\r\n",
    "            'No Access': 'No access',\r\n",
    "            'No Contact': 'No contact',\r\n",
    "            'No Use': 'No use'\r\n",
    "        }\r\n",
    "    }\r\n",
    ")\r\n",
    "withdrawal.remove_na()"
   ],
   "outputs": [
    {
     "output_type": "stream",
     "name": "stdout",
     "text": [
      "3    66\n",
      "2    19\n",
      "1    19\n",
      "4     9\n",
      "Name: wd_type, dtype: int64\n"
     ]
    }
   ],
   "metadata": {}
  },
  {
   "cell_type": "markdown",
   "source": [
    "## Withdrawal - Data Verification<a name=\"withdrawal-comp\"></a>"
   ],
   "metadata": {}
  },
  {
   "cell_type": "code",
   "execution_count": 136,
   "source": [
    "withdrawal.compare_conv_dde(obs_data_sets.redcap_clinic)"
   ],
   "outputs": [
    {
     "output_type": "execute_result",
     "data": {
      "text/plain": [
       "Empty DataFrame\n",
       "Columns: [obs_id, wd_yn, wd_dt, wd_type, Source]\n",
       "Index: []"
      ],
      "text/html": [
       "<div>\n",
       "<style scoped>\n",
       "    .dataframe tbody tr th:only-of-type {\n",
       "        vertical-align: middle;\n",
       "    }\n",
       "\n",
       "    .dataframe tbody tr th {\n",
       "        vertical-align: top;\n",
       "    }\n",
       "\n",
       "    .dataframe thead th {\n",
       "        text-align: right;\n",
       "    }\n",
       "</style>\n",
       "<table border=\"1\" class=\"dataframe\">\n",
       "  <thead>\n",
       "    <tr style=\"text-align: right;\">\n",
       "      <th></th>\n",
       "      <th>obs_id</th>\n",
       "      <th>wd_yn</th>\n",
       "      <th>wd_dt</th>\n",
       "      <th>wd_type</th>\n",
       "      <th>Source</th>\n",
       "    </tr>\n",
       "  </thead>\n",
       "  <tbody>\n",
       "  </tbody>\n",
       "</table>\n",
       "</div>"
      ]
     },
     "metadata": {},
     "execution_count": 136
    }
   ],
   "metadata": {}
  },
  {
   "cell_type": "markdown",
   "source": [
    "## Withdrawal - Prepare and Save<a name=\"withdrawal-save\"></a>"
   ],
   "metadata": {}
  },
  {
   "cell_type": "code",
   "execution_count": 137,
   "source": [
    "withdrawal.prep_imp('withdrawal_arm_1', 'withdrawal_complete')\r\n",
    "withdrawal.data.to_csv('../data/processed/withdrawal.csv', index = False)"
   ],
   "outputs": [],
   "metadata": {}
  },
  {
   "cell_type": "markdown",
   "source": [
    "# Overall check for missing columns<a name=\"all-col\"></a>"
   ],
   "metadata": {}
  },
  {
   "cell_type": "code",
   "execution_count": 138,
   "source": [
    "# determine captured columns from dictionaries created during migration process\r\n",
    "present_columns = []\r\n",
    "for included_redcap_col in [\r\n",
    "    inc_excl_dict ,base_dem_dict, base_curr_dict, obhx_dict, medhx_dict,\r\n",
    "    surhx_dict, rxhx_preg_dict, supp_ant_dict,  supp_ant_spec_dict, \r\n",
    "    base_all_dict, supp_ant_yn_dict, ante_visit_dict, ante_hcp_dict, \r\n",
    "    ante_cond_dict, ante_sur_dict, ante_meds_dict, del_ant_dict, \r\n",
    "    del_lnd_comp_dict, abx_labr_dict, ante_temp_dict, neo_cbg_dict, \r\n",
    "    neo_resus_lvl_dict, neo_resus_dict, neo_resp_dict, neo_lab_dict, \r\n",
    "    neo_dc_dict, supp_del_ant_dict, supp_del_lnd_dict, anom_dx_dict, \r\n",
    "    withdrawal_dict,\r\n",
    "]:\r\n",
    "    present_columns.extend(list(included_redcap_col.values()))\r\n",
    "\r\n",
    "# get columns from the REDCap double data entry file\r\n",
    "# remove the columns accounted for (present_columns) to determine missing \r\n",
    "# columns \r\n",
    "missing_columns = [\r\n",
    "    redcap_column \r\n",
    "    for redcap_column in list(obs_data_sets.redcap_clinic.columns.values) \r\n",
    "    if redcap_column not in present_columns\r\n",
    "]\r\n",
    "\r\n",
    "# from missing_columns, ignore columns that have a valid reason to be ignored\r\n",
    "missing_columns = [\r\n",
    "    redcap_column \r\n",
    "    for redcap_column in missing_columns \r\n",
    "    if (\r\n",
    "        # created in post-processing phase so not in \r\n",
    "        # included_redcap_col/associated dictionaries\r\n",
    "        (not bool(re.search('^redcap_event_name$', redcap_column)))\r\n",
    "        & (not bool(re.search('^redcap_repeat_instrument$', redcap_column)))    \r\n",
    "        & (not bool(re.search('_complete$', redcap_column)))\r\n",
    "        # created during processing so not in \r\n",
    "        # included_redcap_col/associated dictionaries\r\n",
    "        & (not bool(re.search('^redcap_repeat_instance$', redcap_column)))\r\n",
    "        # represents who has access to the data; no impact on data completeness\r\n",
    "        & (not bool(re.search('^redcap_data_access_group$', redcap_column)))\r\n",
    "        # inclusion/exclusion for Diabetes in Pregnancy subgroup not captured\r\n",
    "        # in Rave\r\n",
    "        & (not bool(re.search('^incl_dip_', redcap_column)))\r\n",
    "        & (not bool(re.search('^excl_dip_', redcap_column)))\r\n",
    "        & (not bool(re.search('^dip_', redcap_column)))\r\n",
    "        # inclusion/exclusion for late entry subgroup not captured in Rave\r\n",
    "        & (not bool(re.search('^incl_le_', redcap_column)))\r\n",
    "        & (not bool(re.search('^excl_le_', redcap_column)))\r\n",
    "        & (not bool(re.search('^le_prev_', redcap_column)))\r\n",
    "        # pertains to OBS subgroups not captured in Rave\r\n",
    "        & (not bool(re.search('^incl_excl_entry_type$', redcap_column)))\r\n",
    "        # metric values imported so no need to import imperial\r\n",
    "        & (not bool(re.search('^base_dem_ht_imp$', redcap_column)))\r\n",
    "        & (not bool(re.search('^base_dem_prepreg_wt_imp$', redcap_column)))\r\n",
    "        # no equivalent column in Rave\r\n",
    "        & (not bool(re.search('^neo_dc_1st_yn$', redcap_column)))\r\n",
    "        # no equivalent column in Rave\r\n",
    "        & (not bool(re.search('^obhx_preg_yn$', redcap_column)))\r\n",
    "        # hypertensive disorders subgroup not captured in Rave\r\n",
    "        & (not bool(re.search('^hdp_', redcap_column)))\r\n",
    "        # preterm labour subgroup not captured in Rave\r\n",
    "        & (not bool(re.search('^thptl_', redcap_column)))\r\n",
    "        # questionnaire data not caputred in Rave\r\n",
    "        & (not bool(re.search('^quest_', redcap_column)))\r\n",
    "        # abbreviated baseline questionnaire data not caputred in Rave\r\n",
    "        & (not bool(re.search('^abq_', redcap_column)))\r\n",
    "        # ultrasound data not captured in Rave\r\n",
    "        &(not bool(re.search('^us_', redcap_column)))\r\n",
    "    )\r\n",
    "]\r\n",
    "\r\n",
    "# from missing_columns, ignore columns that will be produced/calculated\r\n",
    "# by REDCap\r\n",
    "calc_columns = list(obs_data_sets.redcap_data_dict.loc[\r\n",
    "    (obs_data_sets.redcap_data_dict['Field Type'] == 'calc'),\r\n",
    "    'Variable / Field Name'    \r\n",
    "])\r\n",
    "missing_columns = [\r\n",
    "    redcap_column \r\n",
    "    for redcap_column in missing_columns \r\n",
    "    if redcap_column not in calc_columns\r\n",
    "]\r\n",
    "\r\n",
    "# print the missing_columns that still need to be accounted for\r\n",
    "# expecting empty list when complete\r\n",
    "print(missing_columns)\r\n",
    "# []"
   ],
   "outputs": [
    {
     "output_type": "stream",
     "name": "stdout",
     "text": [
      "[]\n"
     ]
    }
   ],
   "metadata": {}
  }
 ],
 "metadata": {
  "interpreter": {
   "hash": "9342c2e715601ee7d69df8a755bd808fe01148d99e2b8eb23d76eb9a3fd9f478"
  },
  "kernelspec": {
   "display_name": "Python 3.7.6 64-bit ('base': conda)",
   "name": "python3"
  },
  "language_info": {
   "name": "python",
   "version": ""
  }
 },
 "nbformat": 4,
 "nbformat_minor": 4
}