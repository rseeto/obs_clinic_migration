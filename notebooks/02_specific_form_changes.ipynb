{
 "metadata": {
  "language_info": {
   "codemirror_mode": {
    "name": "ipython",
    "version": 3
   },
   "file_extension": ".py",
   "mimetype": "text/x-python",
   "name": "python",
   "nbconvert_exporter": "python",
   "pygments_lexer": "ipython3",
   "version": "3.7.6-final"
  },
  "orig_nbformat": 2,
  "kernelspec": {
   "name": "python3",
   "display_name": "Python 3",
   "language": "python"
  }
 },
 "nbformat": 4,
 "nbformat_minor": 2,
 "cells": [
  {
   "cell_type": "code",
   "execution_count": 1,
   "metadata": {},
   "outputs": [],
   "source": [
    "import obs_data_sets\n",
    "import obs_clinic_migration_preprocessing\n",
    "import obs_clinic_migration"
   ]
  },
  {
   "cell_type": "code",
   "execution_count": null,
   "metadata": {},
   "outputs": [],
   "source": [
    "# Inclusion Exclusion Criteria"
   ]
  },
  {
   "cell_type": "code",
   "execution_count": null,
   "metadata": {},
   "outputs": [],
   "source": [
    "## Inclusion Exclusion Criteria - Preprocessing"
   ]
  },
  {
   "cell_type": "code",
   "execution_count": null,
   "metadata": {},
   "outputs": [],
   "source": [
    "rave_clinic.loc[:, 'INFORMED_CONSENT_DT'] = pd.to_datetime(\n",
    "    rave_clinic['INFORMED_CONSENT_DT']\n",
    ").dt.strftime('%Y-%m-%d')\n",
    "rave_clinic['PREV_OBS_ID_COMBINED'] = (\n",
    "    rave_clinic['PREV_OBS_ID_1'].astype(str)\n",
    "    + \", \" \n",
    "    + rave_clinic['PREV_OBS_ID_2'].astype(str)\n",
    ")\n",
    "rave_clinic['PREV_OBS_ID_COMBINED'].replace(\n",
    "    ', nan','', regex = True, inplace = True\n",
    ")\n",
    "rave_clinic['PREV_OBS_ID_COMBINED'].replace(\n",
    "    'nan, nan', 'nan', regex = True, inplace = True\n",
    ")"
   ]
  },
  {
   "cell_type": "code",
   "execution_count": null,
   "metadata": {},
   "outputs": [],
   "source": [
    "## Inclusion Exclusion Criteria - Processing"
   ]
  },
  {
   "cell_type": "code",
   "execution_count": null,
   "metadata": {},
   "outputs": [],
   "source": [
    "inc_excl_dict = {\n",
    "    'INFORMED_CONSENT_DT': 'main_icf_date', \n",
    "    'INC1': 'incl_main_ga', \n",
    "    'INC2': 'incl_main_eng', \n",
    "    'INC3' : 'incl_main_age', \n",
    "    'INC4':'incl_main_icf', \n",
    "    'INC5': 'incl_main_del', \n",
    "    'INC6' : 'incl_main_ante', \n",
    "    'EXC1': 'excl_main_nvf', \n",
    "    'EXC2': 'excl_main_noif',\n",
    "    'EX3': 'excl_main_abn',\n",
    "    'ENROL_OBS_PREV_PREG_NY': 'main_prev_obs_yn',\n",
    "    'PREV_OBS_ID_COMBINED': 'main_prev_obs_id'\n",
    " }\n",
    "inc_excl = RedcapConv(inc_excl_dict, 0)"
   ]
  },
  {
   "source": [
    "## Inclusion Exclusion Criteria - Post-processing"
   ],
   "cell_type": "code",
   "metadata": {},
   "execution_count": null,
   "outputs": []
  },
  {
   "cell_type": "code",
   "execution_count": null,
   "metadata": {},
   "outputs": [],
   "source": [
    "inc_excl.data['incl_excl_entry_type'] = 1\n",
    "inc_excl.data['subject_id_complete'] = 2"
   ]
  },
  {
   "cell_type": "code",
   "execution_count": null,
   "metadata": {},
   "outputs": [],
   "source": [
    "## Inclusion Exclusion Criteria - Compare Data"
   ]
  },
  {
   "cell_type": "code",
   "execution_count": null,
   "metadata": {},
   "outputs": [],
   "source": [
    "inc_excl.compare_conv_dde(redcap_clinic)\n"
   ]
  },
  {
   "cell_type": "code",
   "execution_count": null,
   "metadata": {},
   "outputs": [],
   "source": [
    "## Inclusion Exclusion Criteria - Save Data"
   ]
  },
  {
   "cell_type": "code",
   "execution_count": null,
   "metadata": {},
   "outputs": [],
   "source": [
    "inc_excl.prep_imp('baseline_arm_1', 'inclusion_exclusion_criteria_complete')\n",
    "inc_excl.data.to_csv('D:/Downloads/WorkFromHome/obs_data_migration/clinic/data/processed/inc_excl.csv', index = False)"
   ]
  },
  {
   "source": [
    "# Baseline Assessment: Demographics"
   ],
   "cell_type": "code",
   "metadata": {},
   "execution_count": null,
   "outputs": []
  },
  {
   "cell_type": "code",
   "execution_count": null,
   "metadata": {},
   "outputs": [],
   "source": [
    "## Baseline Assessment: Demographics - Preprocessing"
   ]
  },
  {
   "cell_type": "code",
   "execution_count": null,
   "metadata": {},
   "outputs": [],
   "source": [
    "## Baseline Assessment: Demographics - Processing"
   ]
  },
  {
   "cell_type": "code",
   "execution_count": null,
   "metadata": {},
   "outputs": [],
   "source": [
    "## Baseline Assessment: Demographics - Post-processing"
   ]
  },
  {
   "cell_type": "code",
   "execution_count": null,
   "metadata": {},
   "outputs": [],
   "source": [
    "## Baseline Assessment: Demographics - Compare Data"
   ]
  },
  {
   "cell_type": "code",
   "execution_count": null,
   "metadata": {},
   "outputs": [],
   "source": [
    "## Baseline Assessment: Demographics - Add Columns and Save Data"
   ]
  },
  {
   "source": [
    "# Baseline Assessment: Current Pregnancy"
   ],
   "cell_type": "code",
   "metadata": {},
   "execution_count": null,
   "outputs": []
  },
  {
   "source": [
    "## Baseline Assessment: Current Pregnancy - Preprocessing"
   ],
   "cell_type": "code",
   "metadata": {},
   "execution_count": null,
   "outputs": []
  },
  {
   "source": [
    "## Baseline Assessment: Current Pregnancy - Processing"
   ],
   "cell_type": "code",
   "metadata": {},
   "execution_count": null,
   "outputs": []
  },
  {
   "source": [
    "## Baseline Assessment: Current Pregnancy - Post-processing"
   ],
   "cell_type": "code",
   "metadata": {},
   "execution_count": null,
   "outputs": []
  },
  {
   "source": [
    "## Baseline Assessment: Current Pregnancy - Compare Data"
   ],
   "cell_type": "code",
   "metadata": {},
   "execution_count": null,
   "outputs": []
  },
  {
   "source": [
    "## Baseline Assessment: Current Pregnancy - Add Columns and Save Data"
   ],
   "cell_type": "code",
   "metadata": {},
   "execution_count": null,
   "outputs": []
  },
  {
   "cell_type": "code",
   "execution_count": null,
   "metadata": {},
   "outputs": [],
   "source": [
    "# Baseline Assessment: Obstetrical History"
   ]
  },
  {
   "cell_type": "code",
   "execution_count": null,
   "metadata": {},
   "outputs": [],
   "source": [
    "## Baseline Assessment: Obstetrical History - Preprocessing"
   ]
  },
  {
   "cell_type": "code",
   "execution_count": null,
   "metadata": {},
   "outputs": [],
   "source": [
    "## Baseline Assessment: Obstetrical History - Processing"
   ]
  },
  {
   "cell_type": "code",
   "execution_count": null,
   "metadata": {},
   "outputs": [],
   "source": [
    "## Baseline Assessment: Obstetrical History - Post-processing"
   ]
  },
  {
   "cell_type": "code",
   "execution_count": null,
   "metadata": {},
   "outputs": [],
   "source": [
    "## Baseline Assessment: Obstetrical History - Compare Data"
   ]
  },
  {
   "cell_type": "code",
   "execution_count": null,
   "metadata": {},
   "outputs": [],
   "source": [
    "## Baseline Assessment: Obstetrical History - Add Columns and Save Data"
   ]
  },
  {
   "cell_type": "code",
   "execution_count": null,
   "metadata": {},
   "outputs": [],
   "source": [
    "# Baseline Assessment: Pre-existing Medical Conditions"
   ]
  },
  {
   "cell_type": "code",
   "execution_count": null,
   "metadata": {},
   "outputs": [],
   "source": [
    "## Baseline Assessment: Pre-existing Medical Conditions - Preprocessing"
   ]
  },
  {
   "cell_type": "code",
   "execution_count": null,
   "metadata": {},
   "outputs": [],
   "source": [
    "## Baseline Assessment: Pre-existing Medical Conditions - Processing"
   ]
  },
  {
   "cell_type": "code",
   "execution_count": null,
   "metadata": {},
   "outputs": [],
   "source": [
    "## Baseline Assessment: Pre-existing Medical Conditions - Post-processing"
   ]
  },
  {
   "cell_type": "code",
   "execution_count": null,
   "metadata": {},
   "outputs": [],
   "source": [
    "## Baseline Assessment: Pre-existing Medical Conditions - Compare Data"
   ]
  },
  {
   "cell_type": "code",
   "execution_count": null,
   "metadata": {},
   "outputs": [],
   "source": [
    "## Baseline Assessment: Pre-existing Medical Conditions - Add Columns and Save Data"
   ]
  },
  {
   "cell_type": "code",
   "execution_count": null,
   "metadata": {},
   "outputs": [],
   "source": [
    "# Baseline Assessment: Allergies"
   ]
  },
  {
   "cell_type": "code",
   "execution_count": null,
   "metadata": {},
   "outputs": [],
   "source": [
    "## Baseline Assessment: Allergies - Preprocessing"
   ]
  },
  {
   "cell_type": "code",
   "execution_count": null,
   "metadata": {},
   "outputs": [],
   "source": [
    "## Baseline Assessment: Allergies - Processing"
   ]
  },
  {
   "cell_type": "code",
   "execution_count": null,
   "metadata": {},
   "outputs": [],
   "source": [
    "## Baseline Assessment: Allergies - Post-processing"
   ]
  },
  {
   "cell_type": "code",
   "execution_count": null,
   "metadata": {},
   "outputs": [],
   "source": [
    "## Baseline Assessment: Allergies - Compare Data"
   ]
  },
  {
   "cell_type": "code",
   "execution_count": null,
   "metadata": {},
   "outputs": [],
   "source": [
    "## Baseline Assessment: Allergies - Add Columns and Save Data"
   ]
  },
  {
   "cell_type": "code",
   "execution_count": null,
   "metadata": {},
   "outputs": [],
   "source": [
    "# Surgical History"
   ]
  },
  {
   "cell_type": "code",
   "execution_count": null,
   "metadata": {},
   "outputs": [],
   "source": [
    "## Surgical History - Preprocessing"
   ]
  },
  {
   "cell_type": "code",
   "execution_count": null,
   "metadata": {},
   "outputs": [],
   "source": [
    "## Surgical History - Processing"
   ]
  },
  {
   "cell_type": "code",
   "execution_count": null,
   "metadata": {},
   "outputs": [],
   "source": [
    "## Surgical History - Post-processing"
   ]
  },
  {
   "cell_type": "code",
   "execution_count": null,
   "metadata": {},
   "outputs": [],
   "source": [
    "## Surgical History - Compare Data"
   ]
  },
  {
   "cell_type": "code",
   "execution_count": null,
   "metadata": {},
   "outputs": [],
   "source": [
    "## Surgical History - Add Columns and Save Data"
   ]
  },
  {
   "cell_type": "code",
   "execution_count": null,
   "metadata": {},
   "outputs": [],
   "source": [
    "# Medications Taken Since Beginning of Pregnancy"
   ]
  },
  {
   "cell_type": "code",
   "execution_count": null,
   "metadata": {},
   "outputs": [],
   "source": [
    "## Medications Taken Since Beginning of Pregnancy - Preprocessing"
   ]
  },
  {
   "cell_type": "code",
   "execution_count": null,
   "metadata": {},
   "outputs": [],
   "source": [
    "## Medications Taken Since Beginning of Pregnancy - Processing"
   ]
  },
  {
   "cell_type": "code",
   "execution_count": null,
   "metadata": {},
   "outputs": [],
   "source": [
    "## Medications Taken Since Beginning of Pregnancy - Post-processing"
   ]
  },
  {
   "cell_type": "code",
   "execution_count": null,
   "metadata": {},
   "outputs": [],
   "source": [
    "## Medications Taken Since Beginning of Pregnancy - Compare Data"
   ]
  },
  {
   "cell_type": "code",
   "execution_count": null,
   "metadata": {},
   "outputs": [],
   "source": [
    "## Medications Taken Since Beginning of Pregnancy - Add Columns and Save Data"
   ]
  },
  {
   "cell_type": "code",
   "execution_count": null,
   "metadata": {},
   "outputs": [],
   "source": [
    "# Supplements Taken Since Beginning of Pregnancy"
   ]
  },
  {
   "cell_type": "code",
   "execution_count": null,
   "metadata": {},
   "outputs": [],
   "source": [
    "## Supplements Taken Since Beginning of Pregnancy - Preprocessing"
   ]
  },
  {
   "cell_type": "code",
   "execution_count": null,
   "metadata": {},
   "outputs": [],
   "source": [
    "## Supplements Taken Since Beginning of Pregnancy - Processing"
   ]
  },
  {
   "cell_type": "code",
   "execution_count": null,
   "metadata": {},
   "outputs": [],
   "source": [
    "## Supplements Taken Since Beginning of Pregnancy - Post-processing"
   ]
  },
  {
   "cell_type": "code",
   "execution_count": null,
   "metadata": {},
   "outputs": [],
   "source": [
    "## Supplements Taken Since Beginning of Pregnancy - Compare Data"
   ]
  },
  {
   "cell_type": "code",
   "execution_count": null,
   "metadata": {},
   "outputs": [],
   "source": [
    "## Supplements Taken Since Beginning of Pregnancy - Add Columns and Save Data"
   ]
  },
  {
   "cell_type": "code",
   "execution_count": null,
   "metadata": {},
   "outputs": [],
   "source": [
    "# Antenatal Visits: Visit Data"
   ]
  },
  {
   "cell_type": "code",
   "execution_count": null,
   "metadata": {},
   "outputs": [],
   "source": [
    "## Antenatal Visits: Visit Data - Preprocessing"
   ]
  },
  {
   "cell_type": "code",
   "execution_count": null,
   "metadata": {},
   "outputs": [],
   "source": [
    "## Antenatal Visits: Visit Data - Processing"
   ]
  },
  {
   "cell_type": "code",
   "execution_count": null,
   "metadata": {},
   "outputs": [],
   "source": [
    "## Antenatal Visits: Visit Data - Post-processing"
   ]
  },
  {
   "cell_type": "code",
   "execution_count": null,
   "metadata": {},
   "outputs": [],
   "source": [
    "## Antenatal Visits: Visit Data - Compare Data"
   ]
  },
  {
   "cell_type": "code",
   "execution_count": null,
   "metadata": {},
   "outputs": [],
   "source": [
    "## Antenatal Visits: Visit Data - Add Columns and Save Data"
   ]
  },
  {
   "cell_type": "code",
   "execution_count": null,
   "metadata": {},
   "outputs": [],
   "source": [
    "# Antenatal Visits: Antenatal Health Care Provider"
   ]
  },
  {
   "cell_type": "code",
   "execution_count": null,
   "metadata": {},
   "outputs": [],
   "source": [
    "## Antenatal Visits: Antenatal Health Care Provider - Preprocessing"
   ]
  },
  {
   "cell_type": "code",
   "execution_count": null,
   "metadata": {},
   "outputs": [],
   "source": [
    "## Antenatal Visits: Antenatal Health Care Provider - Processing"
   ]
  },
  {
   "cell_type": "code",
   "execution_count": null,
   "metadata": {},
   "outputs": [],
   "source": [
    "## Antenatal Visits: Antenatal Health Care Provider - Post-processing"
   ]
  },
  {
   "cell_type": "code",
   "execution_count": null,
   "metadata": {},
   "outputs": [],
   "source": [
    "## Antenatal Visits: Antenatal Health Care Provider - Compare Data"
   ]
  },
  {
   "cell_type": "code",
   "execution_count": null,
   "metadata": {},
   "outputs": [],
   "source": [
    "## Antenatal Visits: Antenatal Health Care Provider - Add Columns and Save Data"
   ]
  },
  {
   "cell_type": "code",
   "execution_count": null,
   "metadata": {},
   "outputs": [],
   "source": [
    "Baseline Assessment: Current Pregnancy\n",
    "Baseline Assessment: Current Pregnancy - Preprocessing\n",
    "Baseline Assessment: Current Pregnancy - Processing\n",
    "Baseline Assessment: Current Pregnancy - Post-processing\n",
    "Baseline Assessment: Current Pregnancy - Compare Data\n",
    "Baseline Assessment: Current Pregnancy - Add Columns and Save Data"
   ]
  }
 ]
}