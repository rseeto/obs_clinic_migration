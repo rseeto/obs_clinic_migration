{
 "metadata": {
  "language_info": {
   "codemirror_mode": {
    "name": "ipython",
    "version": 3
   },
   "file_extension": ".py",
   "mimetype": "text/x-python",
   "name": "python",
   "nbconvert_exporter": "python",
   "pygments_lexer": "ipython3",
   "version": "3.7.6-final"
  },
  "orig_nbformat": 2,
  "kernelspec": {
   "name": "python3",
   "display_name": "Python 3",
   "language": "python"
  }
 },
 "nbformat": 4,
 "nbformat_minor": 2,
 "cells": [
  {
   "cell_type": "code",
   "execution_count": null,
   "metadata": {},
   "outputs": [],
   "source": [
    "## Inclusion Exclusion Criteria - Preprocessing"
   ]
  },
  {
   "cell_type": "code",
   "execution_count": null,
   "metadata": {},
   "outputs": [],
   "source": [
    "rave_clinic.loc[:, 'INFORMED_CONSENT_DT'] = pd.to_datetime(\n",
    "    rave_clinic['INFORMED_CONSENT_DT']\n",
    ").dt.strftime('%Y-%m-%d')\n",
    "rave_clinic['PREV_OBS_ID_COMBINED'] = (\n",
    "    rave_clinic['PREV_OBS_ID_1'].astype(str)\n",
    "    + \", \" \n",
    "    + rave_clinic['PREV_OBS_ID_2'].astype(str)\n",
    ")\n",
    "rave_clinic['PREV_OBS_ID_COMBINED'].replace(\n",
    "    ', nan','', regex = True, inplace = True\n",
    ")\n",
    "rave_clinic['PREV_OBS_ID_COMBINED'].replace(\n",
    "    'nan, nan', 'nan', regex = True, inplace = True\n",
    ")"
   ]
  },
  {
   "cell_type": "code",
   "execution_count": null,
   "metadata": {},
   "outputs": [],
   "source": [
    "inc_excl_dict = {\n",
    "    'INFORMED_CONSENT_DT': 'main_icf_date', \n",
    "    'INC1': 'incl_main_ga', \n",
    "    'INC2': 'incl_main_eng', \n",
    "    'INC3' : 'incl_main_age', \n",
    "    'INC4':'incl_main_icf', \n",
    "    'INC5': 'incl_main_del', \n",
    "    'INC6' : 'incl_main_ante', \n",
    "    'EXC1': 'excl_main_nvf', \n",
    "    'EXC2': 'excl_main_noif',\n",
    "    'EX3': 'excl_main_abn',\n",
    "    'ENROL_OBS_PREV_PREG_NY': 'main_prev_obs_yn',\n",
    "    'PREV_OBS_ID_COMBINED': 'main_prev_obs_id'\n",
    " }\n",
    "inc_excl = RedcapConv(inc_excl_dict, 0)"
   ]
  },
  {
   "source": [
    "## Inclusion Exclusion Criteria - Post-processing"
   ],
   "cell_type": "code",
   "metadata": {},
   "execution_count": null,
   "outputs": []
  },
  {
   "cell_type": "code",
   "execution_count": null,
   "metadata": {},
   "outputs": [],
   "source": [
    "inc_excl.data['incl_excl_entry_type'] = 1\n",
    "inc_excl.data['subject_id_complete'] = 2"
   ]
  },
  {
   "cell_type": "code",
   "execution_count": null,
   "metadata": {},
   "outputs": [],
   "source": [
    "## Inclusion Exclusion Criteria - Compare Data"
   ]
  },
  {
   "cell_type": "code",
   "execution_count": null,
   "metadata": {},
   "outputs": [],
   "source": [
    "inc_excl.compare_conv_dde(redcap_clinic)\n"
   ]
  },
  {
   "cell_type": "code",
   "execution_count": null,
   "metadata": {},
   "outputs": [],
   "source": [
    "## Inclusion Exclusion Criteria - Save Data"
   ]
  },
  {
   "cell_type": "code",
   "execution_count": null,
   "metadata": {},
   "outputs": [],
   "source": [
    "inc_excl.prep_imp('baseline_arm_1', 'inclusion_exclusion_criteria_complete')\n",
    "inc_excl.data.to_csv('D:/Downloads/WorkFromHome/obs_data_migration/clinic/data/processed/inc_excl.csv', index = False)"
   ]
  },
  {
   "cell_type": "code",
   "execution_count": null,
   "metadata": {},
   "outputs": [],
   "source": [
    "# Baseline Assessment: Current Pregnancy"
   ]
  },
  {
   "cell_type": "code",
   "execution_count": null,
   "metadata": {},
   "outputs": [],
   "source": [
    "## Baseline Assessment: Current Pregnancy - Preprocessing"
   ]
  }
 ]
}