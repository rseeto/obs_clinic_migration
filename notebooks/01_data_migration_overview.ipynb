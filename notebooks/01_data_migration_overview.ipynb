{
 "metadata": {
  "language_info": {
   "codemirror_mode": {
    "name": "ipython",
    "version": 3
   },
   "file_extension": ".py",
   "mimetype": "text/x-python",
   "name": "python",
   "nbconvert_exporter": "python",
   "pygments_lexer": "ipython3",
   "version": 3
  },
  "orig_nbformat": 2
 },
 "nbformat": 4,
 "nbformat_minor": 2,
 "cells": [
  {
   "cell_type": "code",
   "execution_count": null,
   "metadata": {},
   "outputs": [],
   "source": [
    "Data was not given on a monthly basis\n",
    "\n",
    "Scope\n",
    "This notebook outlines the data migration process from Medidata Rave to REDCap. Data fidelity with minimal data cleaning – it was anticpated that this would be done at a later date.\n",
    "\n",
    "No access to Medidata Rave’s backend\n",
    "\n",
    "For the data migration purpose, it was assumed that It was assumed that the all Medidata RAVE data received from AHRC was correct (i.e. no checking between label and coded data)\n",
    "SECTION 1.1: Scope of Problem\n",
    "SECTION 1.1: Problem Description\n",
    "\n",
    "SECTION 2: METHODOLOGY\n",
    "SECTION 3: EXAMPLE\n"
   ]
  }
 ]
}